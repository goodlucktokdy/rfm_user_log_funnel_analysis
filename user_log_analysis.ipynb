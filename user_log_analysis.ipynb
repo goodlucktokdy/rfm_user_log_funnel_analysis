{
 "cells": [
  {
   "cell_type": "markdown",
   "metadata": {},
   "source": [
    "## **유저 로그데이터를 활용한 퍼널 분석**\n",
    "by **김동윤**\n",
    "***"
   ]
  },
  {
   "cell_type": "code",
   "execution_count": 1,
   "metadata": {},
   "outputs": [
    {
     "data": {
      "text/html": [
       "<div>\n",
       "<style scoped>\n",
       "    .dataframe tbody tr th:only-of-type {\n",
       "        vertical-align: middle;\n",
       "    }\n",
       "\n",
       "    .dataframe tbody tr th {\n",
       "        vertical-align: top;\n",
       "    }\n",
       "\n",
       "    .dataframe thead th {\n",
       "        text-align: right;\n",
       "    }\n",
       "</style>\n",
       "<table border=\"1\" class=\"dataframe\">\n",
       "  <thead>\n",
       "    <tr style=\"text-align: right;\">\n",
       "      <th></th>\n",
       "      <th>Unnamed: 0</th>\n",
       "      <th>event_time</th>\n",
       "      <th>event_type</th>\n",
       "      <th>product_id</th>\n",
       "      <th>category_id</th>\n",
       "      <th>category_code</th>\n",
       "      <th>brand</th>\n",
       "      <th>price</th>\n",
       "      <th>user_id</th>\n",
       "      <th>user_session</th>\n",
       "    </tr>\n",
       "  </thead>\n",
       "  <tbody>\n",
       "    <tr>\n",
       "      <th>0</th>\n",
       "      <td>0</td>\n",
       "      <td>2020-01-01 00:00:00 UTC</td>\n",
       "      <td>view</td>\n",
       "      <td>5809910</td>\n",
       "      <td>1602943681873052386</td>\n",
       "      <td>NaN</td>\n",
       "      <td>grattol</td>\n",
       "      <td>5.24</td>\n",
       "      <td>595414620</td>\n",
       "      <td>4adb70bb-edbd-4981-b60f-a05bfd32683a</td>\n",
       "    </tr>\n",
       "    <tr>\n",
       "      <th>1</th>\n",
       "      <td>1</td>\n",
       "      <td>2020-01-01 00:00:09 UTC</td>\n",
       "      <td>view</td>\n",
       "      <td>5812943</td>\n",
       "      <td>1487580012121948301</td>\n",
       "      <td>NaN</td>\n",
       "      <td>kinetics</td>\n",
       "      <td>3.97</td>\n",
       "      <td>595414640</td>\n",
       "      <td>c8c5205d-be43-4f1d-aa56-4828b8151c8a</td>\n",
       "    </tr>\n",
       "    <tr>\n",
       "      <th>2</th>\n",
       "      <td>2</td>\n",
       "      <td>2020-01-01 00:00:19 UTC</td>\n",
       "      <td>view</td>\n",
       "      <td>5798924</td>\n",
       "      <td>1783999068867920626</td>\n",
       "      <td>NaN</td>\n",
       "      <td>zinger</td>\n",
       "      <td>3.97</td>\n",
       "      <td>595412617</td>\n",
       "      <td>46a5010f-bd69-4fbe-a00d-bb17aa7b46f3</td>\n",
       "    </tr>\n",
       "    <tr>\n",
       "      <th>3</th>\n",
       "      <td>3</td>\n",
       "      <td>2020-01-01 00:00:24 UTC</td>\n",
       "      <td>view</td>\n",
       "      <td>5793052</td>\n",
       "      <td>1487580005754995573</td>\n",
       "      <td>NaN</td>\n",
       "      <td>NaN</td>\n",
       "      <td>4.92</td>\n",
       "      <td>420652863</td>\n",
       "      <td>546f6af3-a517-4752-a98b-80c4c5860711</td>\n",
       "    </tr>\n",
       "    <tr>\n",
       "      <th>4</th>\n",
       "      <td>4</td>\n",
       "      <td>2020-01-01 00:00:25 UTC</td>\n",
       "      <td>view</td>\n",
       "      <td>5899926</td>\n",
       "      <td>2115334439910245200</td>\n",
       "      <td>NaN</td>\n",
       "      <td>NaN</td>\n",
       "      <td>3.92</td>\n",
       "      <td>484071203</td>\n",
       "      <td>cff70ddf-529e-4b0c-a4fc-f43a749c0acb</td>\n",
       "    </tr>\n",
       "    <tr>\n",
       "      <th>...</th>\n",
       "      <td>...</td>\n",
       "      <td>...</td>\n",
       "      <td>...</td>\n",
       "      <td>...</td>\n",
       "      <td>...</td>\n",
       "      <td>...</td>\n",
       "      <td>...</td>\n",
       "      <td>...</td>\n",
       "      <td>...</td>\n",
       "      <td>...</td>\n",
       "    </tr>\n",
       "    <tr>\n",
       "      <th>3851288</th>\n",
       "      <td>4264743</td>\n",
       "      <td>2020-01-31 23:59:44 UTC</td>\n",
       "      <td>view</td>\n",
       "      <td>5877031</td>\n",
       "      <td>1487580010100293687</td>\n",
       "      <td>NaN</td>\n",
       "      <td>milv</td>\n",
       "      <td>3.49</td>\n",
       "      <td>564814969</td>\n",
       "      <td>fc7063a6-b45e-4863-babb-da4934b83388</td>\n",
       "    </tr>\n",
       "    <tr>\n",
       "      <th>3851289</th>\n",
       "      <td>4264744</td>\n",
       "      <td>2020-01-31 23:59:47 UTC</td>\n",
       "      <td>view</td>\n",
       "      <td>5870076</td>\n",
       "      <td>1783999064136745198</td>\n",
       "      <td>NaN</td>\n",
       "      <td>grattol</td>\n",
       "      <td>5.71</td>\n",
       "      <td>583267679</td>\n",
       "      <td>2806ff10-08bc-4811-9ab7-af074fe22a88</td>\n",
       "    </tr>\n",
       "    <tr>\n",
       "      <th>3851290</th>\n",
       "      <td>4264745</td>\n",
       "      <td>2020-01-31 23:59:50 UTC</td>\n",
       "      <td>view</td>\n",
       "      <td>5813496</td>\n",
       "      <td>1487580005553668971</td>\n",
       "      <td>NaN</td>\n",
       "      <td>NaN</td>\n",
       "      <td>11.03</td>\n",
       "      <td>583267679</td>\n",
       "      <td>2806ff10-08bc-4811-9ab7-af074fe22a88</td>\n",
       "    </tr>\n",
       "    <tr>\n",
       "      <th>3851291</th>\n",
       "      <td>4264746</td>\n",
       "      <td>2020-01-31 23:59:52 UTC</td>\n",
       "      <td>view</td>\n",
       "      <td>5796984</td>\n",
       "      <td>1487580005671109489</td>\n",
       "      <td>NaN</td>\n",
       "      <td>masura</td>\n",
       "      <td>1.73</td>\n",
       "      <td>417102560</td>\n",
       "      <td>dcf90ff3-a246-4b00-b39a-83e6444a0769</td>\n",
       "    </tr>\n",
       "    <tr>\n",
       "      <th>3851292</th>\n",
       "      <td>4264749</td>\n",
       "      <td>2020-01-31 23:59:53 UTC</td>\n",
       "      <td>view</td>\n",
       "      <td>5875432</td>\n",
       "      <td>2084144451428549153</td>\n",
       "      <td>NaN</td>\n",
       "      <td>NaN</td>\n",
       "      <td>2.05</td>\n",
       "      <td>423651741</td>\n",
       "      <td>fb42a963-abef-4c4f-b1ba-f5812dd54e80</td>\n",
       "    </tr>\n",
       "  </tbody>\n",
       "</table>\n",
       "<p>3851293 rows × 10 columns</p>\n",
       "</div>"
      ],
      "text/plain": [
       "         Unnamed: 0               event_time event_type  product_id  \\\n",
       "0                 0  2020-01-01 00:00:00 UTC       view     5809910   \n",
       "1                 1  2020-01-01 00:00:09 UTC       view     5812943   \n",
       "2                 2  2020-01-01 00:00:19 UTC       view     5798924   \n",
       "3                 3  2020-01-01 00:00:24 UTC       view     5793052   \n",
       "4                 4  2020-01-01 00:00:25 UTC       view     5899926   \n",
       "...             ...                      ...        ...         ...   \n",
       "3851288     4264743  2020-01-31 23:59:44 UTC       view     5877031   \n",
       "3851289     4264744  2020-01-31 23:59:47 UTC       view     5870076   \n",
       "3851290     4264745  2020-01-31 23:59:50 UTC       view     5813496   \n",
       "3851291     4264746  2020-01-31 23:59:52 UTC       view     5796984   \n",
       "3851292     4264749  2020-01-31 23:59:53 UTC       view     5875432   \n",
       "\n",
       "                 category_id category_code     brand  price    user_id  \\\n",
       "0        1602943681873052386           NaN   grattol   5.24  595414620   \n",
       "1        1487580012121948301           NaN  kinetics   3.97  595414640   \n",
       "2        1783999068867920626           NaN    zinger   3.97  595412617   \n",
       "3        1487580005754995573           NaN       NaN   4.92  420652863   \n",
       "4        2115334439910245200           NaN       NaN   3.92  484071203   \n",
       "...                      ...           ...       ...    ...        ...   \n",
       "3851288  1487580010100293687           NaN      milv   3.49  564814969   \n",
       "3851289  1783999064136745198           NaN   grattol   5.71  583267679   \n",
       "3851290  1487580005553668971           NaN       NaN  11.03  583267679   \n",
       "3851291  1487580005671109489           NaN    masura   1.73  417102560   \n",
       "3851292  2084144451428549153           NaN       NaN   2.05  423651741   \n",
       "\n",
       "                                 user_session  \n",
       "0        4adb70bb-edbd-4981-b60f-a05bfd32683a  \n",
       "1        c8c5205d-be43-4f1d-aa56-4828b8151c8a  \n",
       "2        46a5010f-bd69-4fbe-a00d-bb17aa7b46f3  \n",
       "3        546f6af3-a517-4752-a98b-80c4c5860711  \n",
       "4        cff70ddf-529e-4b0c-a4fc-f43a749c0acb  \n",
       "...                                       ...  \n",
       "3851288  fc7063a6-b45e-4863-babb-da4934b83388  \n",
       "3851289  2806ff10-08bc-4811-9ab7-af074fe22a88  \n",
       "3851290  2806ff10-08bc-4811-9ab7-af074fe22a88  \n",
       "3851291  dcf90ff3-a246-4b00-b39a-83e6444a0769  \n",
       "3851292  fb42a963-abef-4c4f-b1ba-f5812dd54e80  \n",
       "\n",
       "[3851293 rows x 10 columns]"
      ]
     },
     "execution_count": 1,
     "metadata": {},
     "output_type": "execute_result"
    }
   ],
   "source": [
    "import pandas as pd\n",
    "import numpy as np\n",
    "import plotly.express as px\n",
    "df = pd.read_csv(r'실습4_ 사용자 행동 로그 데이터를 활용한 퍼널 분석\\ecommerce_behavior.csv',encoding='utf8')\n",
    "df"
   ]
  },
  {
   "cell_type": "code",
   "execution_count": 2,
   "metadata": {},
   "outputs": [
    {
     "name": "stdout",
     "output_type": "stream",
     "text": [
      "<class 'pandas.core.frame.DataFrame'>\n",
      "RangeIndex: 3851293 entries, 0 to 3851292\n",
      "Data columns (total 10 columns):\n",
      " #   Column         Non-Null Count    Dtype  \n",
      "---  ------         --------------    -----  \n",
      " 0   Unnamed: 0     3851293 non-null  int64  \n",
      " 1   event_time     3851293 non-null  object \n",
      " 2   event_type     3851293 non-null  object \n",
      " 3   product_id     3851293 non-null  int64  \n",
      " 4   category_id    3851293 non-null  int64  \n",
      " 5   category_code  69532 non-null    object \n",
      " 6   brand          2249454 non-null  object \n",
      " 7   price          3851293 non-null  float64\n",
      " 8   user_id        3851293 non-null  int64  \n",
      " 9   user_session   3851293 non-null  object \n",
      "dtypes: float64(1), int64(4), object(5)\n",
      "memory usage: 293.8+ MB\n"
     ]
    }
   ],
   "source": [
    "df.info(show_counts=True)"
   ]
  },
  {
   "cell_type": "code",
   "execution_count": 3,
   "metadata": {},
   "outputs": [
    {
     "data": {
      "text/html": [
       "<div>\n",
       "<style scoped>\n",
       "    .dataframe tbody tr th:only-of-type {\n",
       "        vertical-align: middle;\n",
       "    }\n",
       "\n",
       "    .dataframe tbody tr th {\n",
       "        vertical-align: top;\n",
       "    }\n",
       "\n",
       "    .dataframe thead th {\n",
       "        text-align: right;\n",
       "    }\n",
       "</style>\n",
       "<table border=\"1\" class=\"dataframe\">\n",
       "  <thead>\n",
       "    <tr style=\"text-align: right;\">\n",
       "      <th></th>\n",
       "      <th>event_time</th>\n",
       "      <th>event_type</th>\n",
       "      <th>product_id</th>\n",
       "      <th>category_id</th>\n",
       "      <th>brand</th>\n",
       "      <th>price</th>\n",
       "      <th>user_id</th>\n",
       "      <th>user_session</th>\n",
       "    </tr>\n",
       "  </thead>\n",
       "  <tbody>\n",
       "    <tr>\n",
       "      <th>0</th>\n",
       "      <td>2020-01-01 00:00:00 UTC</td>\n",
       "      <td>view</td>\n",
       "      <td>5809910</td>\n",
       "      <td>1602943681873052386</td>\n",
       "      <td>grattol</td>\n",
       "      <td>5.24</td>\n",
       "      <td>595414620</td>\n",
       "      <td>4adb70bb-edbd-4981-b60f-a05bfd32683a</td>\n",
       "    </tr>\n",
       "    <tr>\n",
       "      <th>1</th>\n",
       "      <td>2020-01-01 00:00:09 UTC</td>\n",
       "      <td>view</td>\n",
       "      <td>5812943</td>\n",
       "      <td>1487580012121948301</td>\n",
       "      <td>kinetics</td>\n",
       "      <td>3.97</td>\n",
       "      <td>595414640</td>\n",
       "      <td>c8c5205d-be43-4f1d-aa56-4828b8151c8a</td>\n",
       "    </tr>\n",
       "    <tr>\n",
       "      <th>2</th>\n",
       "      <td>2020-01-01 00:00:19 UTC</td>\n",
       "      <td>view</td>\n",
       "      <td>5798924</td>\n",
       "      <td>1783999068867920626</td>\n",
       "      <td>zinger</td>\n",
       "      <td>3.97</td>\n",
       "      <td>595412617</td>\n",
       "      <td>46a5010f-bd69-4fbe-a00d-bb17aa7b46f3</td>\n",
       "    </tr>\n",
       "    <tr>\n",
       "      <th>3</th>\n",
       "      <td>2020-01-01 00:00:24 UTC</td>\n",
       "      <td>view</td>\n",
       "      <td>5793052</td>\n",
       "      <td>1487580005754995573</td>\n",
       "      <td>NaN</td>\n",
       "      <td>4.92</td>\n",
       "      <td>420652863</td>\n",
       "      <td>546f6af3-a517-4752-a98b-80c4c5860711</td>\n",
       "    </tr>\n",
       "    <tr>\n",
       "      <th>4</th>\n",
       "      <td>2020-01-01 00:00:25 UTC</td>\n",
       "      <td>view</td>\n",
       "      <td>5899926</td>\n",
       "      <td>2115334439910245200</td>\n",
       "      <td>NaN</td>\n",
       "      <td>3.92</td>\n",
       "      <td>484071203</td>\n",
       "      <td>cff70ddf-529e-4b0c-a4fc-f43a749c0acb</td>\n",
       "    </tr>\n",
       "  </tbody>\n",
       "</table>\n",
       "</div>"
      ],
      "text/plain": [
       "                event_time event_type  product_id          category_id  \\\n",
       "0  2020-01-01 00:00:00 UTC       view     5809910  1602943681873052386   \n",
       "1  2020-01-01 00:00:09 UTC       view     5812943  1487580012121948301   \n",
       "2  2020-01-01 00:00:19 UTC       view     5798924  1783999068867920626   \n",
       "3  2020-01-01 00:00:24 UTC       view     5793052  1487580005754995573   \n",
       "4  2020-01-01 00:00:25 UTC       view     5899926  2115334439910245200   \n",
       "\n",
       "      brand  price    user_id                          user_session  \n",
       "0   grattol   5.24  595414620  4adb70bb-edbd-4981-b60f-a05bfd32683a  \n",
       "1  kinetics   3.97  595414640  c8c5205d-be43-4f1d-aa56-4828b8151c8a  \n",
       "2    zinger   3.97  595412617  46a5010f-bd69-4fbe-a00d-bb17aa7b46f3  \n",
       "3       NaN   4.92  420652863  546f6af3-a517-4752-a98b-80c4c5860711  \n",
       "4       NaN   3.92  484071203  cff70ddf-529e-4b0c-a4fc-f43a749c0acb  "
      ]
     },
     "execution_count": 3,
     "metadata": {},
     "output_type": "execute_result"
    }
   ],
   "source": [
    "df = df.drop(columns=['Unnamed: 0','category_code'],axis=1)\n",
    "df.head()"
   ]
  },
  {
   "cell_type": "markdown",
   "metadata": {},
   "source": [
    "### **칼럼분석**\n",
    "***\n",
    "- **user_session**: 고객이 앱에 접속한 후 종료될 때까지를 한 세션으로 보고 한 세션의 시간이 너무 길어지면 자동으로 그 세션이 종료되기도 함\n",
    "- **user_id**: 고객아이디\n",
    "- **event_time**: 이벤트 발생 시각\n",
    "- **event_type**: 이벤트 타입\n",
    "    - view: 상품조회\n",
    "    - cart: 장바구니 담기\n",
    "    - remove_from_cart: 장바구니에서 제거\n",
    "    - purchase: 상품구매\n",
    "- **product_id**: 상품아이디\n",
    "- **category_id**: 카테고리아이디\n",
    "- **price**: 가격\n",
    "- **brand**: 브랜드"
   ]
  },
  {
   "cell_type": "markdown",
   "metadata": {},
   "source": [
    "## **질문만들기**\n",
    "***\n",
    "- DAU(일간 활성 사용자수)는 얼마일까?\n",
    "    - 어느 요일에 가장 많이 방문하는가?\n",
    "- 사이트 체류시간의 평균은?\n",
    "    - 이벤트 타입별로 비교하기\n",
    "- 퍼널분석\n",
    "    - 어느 단계에서 유저의 이탈이 가장 많은가?"
   ]
  },
  {
   "cell_type": "code",
   "execution_count": 4,
   "metadata": {},
   "outputs": [
    {
     "data": {
      "text/html": [
       "<div>\n",
       "<style scoped>\n",
       "    .dataframe tbody tr th:only-of-type {\n",
       "        vertical-align: middle;\n",
       "    }\n",
       "\n",
       "    .dataframe tbody tr th {\n",
       "        vertical-align: top;\n",
       "    }\n",
       "\n",
       "    .dataframe thead th {\n",
       "        text-align: right;\n",
       "    }\n",
       "</style>\n",
       "<table border=\"1\" class=\"dataframe\">\n",
       "  <thead>\n",
       "    <tr style=\"text-align: right;\">\n",
       "      <th></th>\n",
       "      <th>event_time</th>\n",
       "      <th>event_type</th>\n",
       "      <th>product_id</th>\n",
       "      <th>category_id</th>\n",
       "      <th>brand</th>\n",
       "      <th>price</th>\n",
       "      <th>user_id</th>\n",
       "      <th>user_session</th>\n",
       "      <th>date_ymd</th>\n",
       "      <th>dayofweek</th>\n",
       "    </tr>\n",
       "  </thead>\n",
       "  <tbody>\n",
       "    <tr>\n",
       "      <th>0</th>\n",
       "      <td>2020-01-01 00:00:00+00:00</td>\n",
       "      <td>view</td>\n",
       "      <td>5809910</td>\n",
       "      <td>1602943681873052386</td>\n",
       "      <td>grattol</td>\n",
       "      <td>5.24</td>\n",
       "      <td>595414620</td>\n",
       "      <td>4adb70bb-edbd-4981-b60f-a05bfd32683a</td>\n",
       "      <td>2020-01-01</td>\n",
       "      <td>2</td>\n",
       "    </tr>\n",
       "    <tr>\n",
       "      <th>1</th>\n",
       "      <td>2020-01-01 00:00:09+00:00</td>\n",
       "      <td>view</td>\n",
       "      <td>5812943</td>\n",
       "      <td>1487580012121948301</td>\n",
       "      <td>kinetics</td>\n",
       "      <td>3.97</td>\n",
       "      <td>595414640</td>\n",
       "      <td>c8c5205d-be43-4f1d-aa56-4828b8151c8a</td>\n",
       "      <td>2020-01-01</td>\n",
       "      <td>2</td>\n",
       "    </tr>\n",
       "    <tr>\n",
       "      <th>2</th>\n",
       "      <td>2020-01-01 00:00:19+00:00</td>\n",
       "      <td>view</td>\n",
       "      <td>5798924</td>\n",
       "      <td>1783999068867920626</td>\n",
       "      <td>zinger</td>\n",
       "      <td>3.97</td>\n",
       "      <td>595412617</td>\n",
       "      <td>46a5010f-bd69-4fbe-a00d-bb17aa7b46f3</td>\n",
       "      <td>2020-01-01</td>\n",
       "      <td>2</td>\n",
       "    </tr>\n",
       "    <tr>\n",
       "      <th>3</th>\n",
       "      <td>2020-01-01 00:00:24+00:00</td>\n",
       "      <td>view</td>\n",
       "      <td>5793052</td>\n",
       "      <td>1487580005754995573</td>\n",
       "      <td>NaN</td>\n",
       "      <td>4.92</td>\n",
       "      <td>420652863</td>\n",
       "      <td>546f6af3-a517-4752-a98b-80c4c5860711</td>\n",
       "      <td>2020-01-01</td>\n",
       "      <td>2</td>\n",
       "    </tr>\n",
       "    <tr>\n",
       "      <th>4</th>\n",
       "      <td>2020-01-01 00:00:25+00:00</td>\n",
       "      <td>view</td>\n",
       "      <td>5899926</td>\n",
       "      <td>2115334439910245200</td>\n",
       "      <td>NaN</td>\n",
       "      <td>3.92</td>\n",
       "      <td>484071203</td>\n",
       "      <td>cff70ddf-529e-4b0c-a4fc-f43a749c0acb</td>\n",
       "      <td>2020-01-01</td>\n",
       "      <td>2</td>\n",
       "    </tr>\n",
       "  </tbody>\n",
       "</table>\n",
       "</div>"
      ],
      "text/plain": [
       "                 event_time event_type  product_id          category_id  \\\n",
       "0 2020-01-01 00:00:00+00:00       view     5809910  1602943681873052386   \n",
       "1 2020-01-01 00:00:09+00:00       view     5812943  1487580012121948301   \n",
       "2 2020-01-01 00:00:19+00:00       view     5798924  1783999068867920626   \n",
       "3 2020-01-01 00:00:24+00:00       view     5793052  1487580005754995573   \n",
       "4 2020-01-01 00:00:25+00:00       view     5899926  2115334439910245200   \n",
       "\n",
       "      brand  price    user_id                          user_session  \\\n",
       "0   grattol   5.24  595414620  4adb70bb-edbd-4981-b60f-a05bfd32683a   \n",
       "1  kinetics   3.97  595414640  c8c5205d-be43-4f1d-aa56-4828b8151c8a   \n",
       "2    zinger   3.97  595412617  46a5010f-bd69-4fbe-a00d-bb17aa7b46f3   \n",
       "3       NaN   4.92  420652863  546f6af3-a517-4752-a98b-80c4c5860711   \n",
       "4       NaN   3.92  484071203  cff70ddf-529e-4b0c-a4fc-f43a749c0acb   \n",
       "\n",
       "    date_ymd  dayofweek  \n",
       "0 2020-01-01          2  \n",
       "1 2020-01-01          2  \n",
       "2 2020-01-01          2  \n",
       "3 2020-01-01          2  \n",
       "4 2020-01-01          2  "
      ]
     },
     "execution_count": 4,
     "metadata": {},
     "output_type": "execute_result"
    }
   ],
   "source": [
    "df['event_time'] = pd.to_datetime(df['event_time'])\n",
    "df['date_ymd'] = df['event_time'].dt.date\n",
    "df['date_ymd'] = df['date_ymd'].astype('datetime64[ns]')\n",
    "df['dayofweek'] = df['date_ymd'].dt.dayofweek\n",
    "\n",
    "df.head()"
   ]
  },
  {
   "cell_type": "markdown",
   "metadata": {},
   "source": [
    "### 일간 활성사용자수 구하기"
   ]
  },
  {
   "cell_type": "code",
   "execution_count": 5,
   "metadata": {},
   "outputs": [
    {
     "data": {
      "text/html": [
       "<div>\n",
       "<style scoped>\n",
       "    .dataframe tbody tr th:only-of-type {\n",
       "        vertical-align: middle;\n",
       "    }\n",
       "\n",
       "    .dataframe tbody tr th {\n",
       "        vertical-align: top;\n",
       "    }\n",
       "\n",
       "    .dataframe thead th {\n",
       "        text-align: right;\n",
       "    }\n",
       "</style>\n",
       "<table border=\"1\" class=\"dataframe\">\n",
       "  <thead>\n",
       "    <tr style=\"text-align: right;\">\n",
       "      <th></th>\n",
       "      <th>날짜</th>\n",
       "      <th>DAU</th>\n",
       "    </tr>\n",
       "  </thead>\n",
       "  <tbody>\n",
       "    <tr>\n",
       "      <th>0</th>\n",
       "      <td>2020-01-01</td>\n",
       "      <td>11765</td>\n",
       "    </tr>\n",
       "    <tr>\n",
       "      <th>1</th>\n",
       "      <td>2020-01-02</td>\n",
       "      <td>14039</td>\n",
       "    </tr>\n",
       "    <tr>\n",
       "      <th>2</th>\n",
       "      <td>2020-01-03</td>\n",
       "      <td>15396</td>\n",
       "    </tr>\n",
       "    <tr>\n",
       "      <th>3</th>\n",
       "      <td>2020-01-04</td>\n",
       "      <td>16044</td>\n",
       "    </tr>\n",
       "    <tr>\n",
       "      <th>4</th>\n",
       "      <td>2020-01-05</td>\n",
       "      <td>16511</td>\n",
       "    </tr>\n",
       "    <tr>\n",
       "      <th>5</th>\n",
       "      <td>2020-01-06</td>\n",
       "      <td>15707</td>\n",
       "    </tr>\n",
       "    <tr>\n",
       "      <th>6</th>\n",
       "      <td>2020-01-07</td>\n",
       "      <td>17099</td>\n",
       "    </tr>\n",
       "    <tr>\n",
       "      <th>7</th>\n",
       "      <td>2020-01-08</td>\n",
       "      <td>18580</td>\n",
       "    </tr>\n",
       "    <tr>\n",
       "      <th>8</th>\n",
       "      <td>2020-01-09</td>\n",
       "      <td>19879</td>\n",
       "    </tr>\n",
       "    <tr>\n",
       "      <th>9</th>\n",
       "      <td>2020-01-10</td>\n",
       "      <td>18878</td>\n",
       "    </tr>\n",
       "    <tr>\n",
       "      <th>10</th>\n",
       "      <td>2020-01-11</td>\n",
       "      <td>19344</td>\n",
       "    </tr>\n",
       "    <tr>\n",
       "      <th>11</th>\n",
       "      <td>2020-01-12</td>\n",
       "      <td>20542</td>\n",
       "    </tr>\n",
       "    <tr>\n",
       "      <th>12</th>\n",
       "      <td>2020-01-13</td>\n",
       "      <td>21252</td>\n",
       "    </tr>\n",
       "    <tr>\n",
       "      <th>13</th>\n",
       "      <td>2020-01-14</td>\n",
       "      <td>22417</td>\n",
       "    </tr>\n",
       "    <tr>\n",
       "      <th>14</th>\n",
       "      <td>2020-01-15</td>\n",
       "      <td>22131</td>\n",
       "    </tr>\n",
       "    <tr>\n",
       "      <th>15</th>\n",
       "      <td>2020-01-16</td>\n",
       "      <td>18859</td>\n",
       "    </tr>\n",
       "    <tr>\n",
       "      <th>16</th>\n",
       "      <td>2020-01-17</td>\n",
       "      <td>17770</td>\n",
       "    </tr>\n",
       "    <tr>\n",
       "      <th>17</th>\n",
       "      <td>2020-01-18</td>\n",
       "      <td>15897</td>\n",
       "    </tr>\n",
       "    <tr>\n",
       "      <th>18</th>\n",
       "      <td>2020-01-19</td>\n",
       "      <td>17311</td>\n",
       "    </tr>\n",
       "    <tr>\n",
       "      <th>19</th>\n",
       "      <td>2020-01-20</td>\n",
       "      <td>19359</td>\n",
       "    </tr>\n",
       "    <tr>\n",
       "      <th>20</th>\n",
       "      <td>2020-01-21</td>\n",
       "      <td>19805</td>\n",
       "    </tr>\n",
       "    <tr>\n",
       "      <th>21</th>\n",
       "      <td>2020-01-22</td>\n",
       "      <td>18837</td>\n",
       "    </tr>\n",
       "    <tr>\n",
       "      <th>22</th>\n",
       "      <td>2020-01-23</td>\n",
       "      <td>19120</td>\n",
       "    </tr>\n",
       "    <tr>\n",
       "      <th>23</th>\n",
       "      <td>2020-01-24</td>\n",
       "      <td>18184</td>\n",
       "    </tr>\n",
       "    <tr>\n",
       "      <th>24</th>\n",
       "      <td>2020-01-25</td>\n",
       "      <td>16879</td>\n",
       "    </tr>\n",
       "    <tr>\n",
       "      <th>25</th>\n",
       "      <td>2020-01-26</td>\n",
       "      <td>18221</td>\n",
       "    </tr>\n",
       "    <tr>\n",
       "      <th>26</th>\n",
       "      <td>2020-01-27</td>\n",
       "      <td>20821</td>\n",
       "    </tr>\n",
       "    <tr>\n",
       "      <th>27</th>\n",
       "      <td>2020-01-28</td>\n",
       "      <td>20101</td>\n",
       "    </tr>\n",
       "    <tr>\n",
       "      <th>28</th>\n",
       "      <td>2020-01-29</td>\n",
       "      <td>20813</td>\n",
       "    </tr>\n",
       "    <tr>\n",
       "      <th>29</th>\n",
       "      <td>2020-01-30</td>\n",
       "      <td>20492</td>\n",
       "    </tr>\n",
       "    <tr>\n",
       "      <th>30</th>\n",
       "      <td>2020-01-31</td>\n",
       "      <td>20751</td>\n",
       "    </tr>\n",
       "  </tbody>\n",
       "</table>\n",
       "</div>"
      ],
      "text/plain": [
       "           날짜    DAU\n",
       "0  2020-01-01  11765\n",
       "1  2020-01-02  14039\n",
       "2  2020-01-03  15396\n",
       "3  2020-01-04  16044\n",
       "4  2020-01-05  16511\n",
       "5  2020-01-06  15707\n",
       "6  2020-01-07  17099\n",
       "7  2020-01-08  18580\n",
       "8  2020-01-09  19879\n",
       "9  2020-01-10  18878\n",
       "10 2020-01-11  19344\n",
       "11 2020-01-12  20542\n",
       "12 2020-01-13  21252\n",
       "13 2020-01-14  22417\n",
       "14 2020-01-15  22131\n",
       "15 2020-01-16  18859\n",
       "16 2020-01-17  17770\n",
       "17 2020-01-18  15897\n",
       "18 2020-01-19  17311\n",
       "19 2020-01-20  19359\n",
       "20 2020-01-21  19805\n",
       "21 2020-01-22  18837\n",
       "22 2020-01-23  19120\n",
       "23 2020-01-24  18184\n",
       "24 2020-01-25  16879\n",
       "25 2020-01-26  18221\n",
       "26 2020-01-27  20821\n",
       "27 2020-01-28  20101\n",
       "28 2020-01-29  20813\n",
       "29 2020-01-30  20492\n",
       "30 2020-01-31  20751"
      ]
     },
     "execution_count": 5,
     "metadata": {},
     "output_type": "execute_result"
    }
   ],
   "source": [
    "dau_january_by_date = df.groupby('date_ymd',as_index=False)[['user_id']].nunique().rename(columns={'date_ymd':'날짜',\n",
    "                                                                                           'user_id':'DAU'})\n",
    "dau_january_by_date"
   ]
  },
  {
   "cell_type": "code",
   "execution_count": 6,
   "metadata": {},
   "outputs": [
    {
     "name": "stderr",
     "output_type": "stream",
     "text": [
      "c:\\Users\\kd010\\miniconda3\\envs\\rapids\\Lib\\site-packages\\_plotly_utils\\basevalidators.py:106: FutureWarning: The behavior of DatetimeProperties.to_pydatetime is deprecated, in a future version this will return a Series containing python datetime objects instead of an ndarray. To retain the old behavior, call `np.array` on the result\n",
      "  v = v.dt.to_pydatetime()\n"
     ]
    },
    {
     "data": {
      "application/vnd.plotly.v1+json": {
       "config": {
        "plotlyServerURL": "https://plot.ly"
       },
       "data": [
        {
         "hovertemplate": "날짜=%{x}<br>DAU=%{y}<extra></extra>",
         "legendgroup": "",
         "line": {
          "color": "#636efa",
          "dash": "solid"
         },
         "marker": {
          "symbol": "circle"
         },
         "mode": "lines",
         "name": "",
         "orientation": "v",
         "showlegend": false,
         "type": "scatter",
         "x": [
          "2020-01-01T00:00:00",
          "2020-01-02T00:00:00",
          "2020-01-03T00:00:00",
          "2020-01-04T00:00:00",
          "2020-01-05T00:00:00",
          "2020-01-06T00:00:00",
          "2020-01-07T00:00:00",
          "2020-01-08T00:00:00",
          "2020-01-09T00:00:00",
          "2020-01-10T00:00:00",
          "2020-01-11T00:00:00",
          "2020-01-12T00:00:00",
          "2020-01-13T00:00:00",
          "2020-01-14T00:00:00",
          "2020-01-15T00:00:00",
          "2020-01-16T00:00:00",
          "2020-01-17T00:00:00",
          "2020-01-18T00:00:00",
          "2020-01-19T00:00:00",
          "2020-01-20T00:00:00",
          "2020-01-21T00:00:00",
          "2020-01-22T00:00:00",
          "2020-01-23T00:00:00",
          "2020-01-24T00:00:00",
          "2020-01-25T00:00:00",
          "2020-01-26T00:00:00",
          "2020-01-27T00:00:00",
          "2020-01-28T00:00:00",
          "2020-01-29T00:00:00",
          "2020-01-30T00:00:00",
          "2020-01-31T00:00:00"
         ],
         "xaxis": "x",
         "y": [
          11765,
          14039,
          15396,
          16044,
          16511,
          15707,
          17099,
          18580,
          19879,
          18878,
          19344,
          20542,
          21252,
          22417,
          22131,
          18859,
          17770,
          15897,
          17311,
          19359,
          19805,
          18837,
          19120,
          18184,
          16879,
          18221,
          20821,
          20101,
          20813,
          20492,
          20751
         ],
         "yaxis": "y"
        }
       ],
       "layout": {
        "legend": {
         "tracegroupgap": 0
        },
        "template": {
         "data": {
          "bar": [
           {
            "error_x": {
             "color": "#2a3f5f"
            },
            "error_y": {
             "color": "#2a3f5f"
            },
            "marker": {
             "line": {
              "color": "#E5ECF6",
              "width": 0.5
             },
             "pattern": {
              "fillmode": "overlay",
              "size": 10,
              "solidity": 0.2
             }
            },
            "type": "bar"
           }
          ],
          "barpolar": [
           {
            "marker": {
             "line": {
              "color": "#E5ECF6",
              "width": 0.5
             },
             "pattern": {
              "fillmode": "overlay",
              "size": 10,
              "solidity": 0.2
             }
            },
            "type": "barpolar"
           }
          ],
          "carpet": [
           {
            "aaxis": {
             "endlinecolor": "#2a3f5f",
             "gridcolor": "white",
             "linecolor": "white",
             "minorgridcolor": "white",
             "startlinecolor": "#2a3f5f"
            },
            "baxis": {
             "endlinecolor": "#2a3f5f",
             "gridcolor": "white",
             "linecolor": "white",
             "minorgridcolor": "white",
             "startlinecolor": "#2a3f5f"
            },
            "type": "carpet"
           }
          ],
          "choropleth": [
           {
            "colorbar": {
             "outlinewidth": 0,
             "ticks": ""
            },
            "type": "choropleth"
           }
          ],
          "contour": [
           {
            "colorbar": {
             "outlinewidth": 0,
             "ticks": ""
            },
            "colorscale": [
             [
              0,
              "#0d0887"
             ],
             [
              0.1111111111111111,
              "#46039f"
             ],
             [
              0.2222222222222222,
              "#7201a8"
             ],
             [
              0.3333333333333333,
              "#9c179e"
             ],
             [
              0.4444444444444444,
              "#bd3786"
             ],
             [
              0.5555555555555556,
              "#d8576b"
             ],
             [
              0.6666666666666666,
              "#ed7953"
             ],
             [
              0.7777777777777778,
              "#fb9f3a"
             ],
             [
              0.8888888888888888,
              "#fdca26"
             ],
             [
              1,
              "#f0f921"
             ]
            ],
            "type": "contour"
           }
          ],
          "contourcarpet": [
           {
            "colorbar": {
             "outlinewidth": 0,
             "ticks": ""
            },
            "type": "contourcarpet"
           }
          ],
          "heatmap": [
           {
            "colorbar": {
             "outlinewidth": 0,
             "ticks": ""
            },
            "colorscale": [
             [
              0,
              "#0d0887"
             ],
             [
              0.1111111111111111,
              "#46039f"
             ],
             [
              0.2222222222222222,
              "#7201a8"
             ],
             [
              0.3333333333333333,
              "#9c179e"
             ],
             [
              0.4444444444444444,
              "#bd3786"
             ],
             [
              0.5555555555555556,
              "#d8576b"
             ],
             [
              0.6666666666666666,
              "#ed7953"
             ],
             [
              0.7777777777777778,
              "#fb9f3a"
             ],
             [
              0.8888888888888888,
              "#fdca26"
             ],
             [
              1,
              "#f0f921"
             ]
            ],
            "type": "heatmap"
           }
          ],
          "heatmapgl": [
           {
            "colorbar": {
             "outlinewidth": 0,
             "ticks": ""
            },
            "colorscale": [
             [
              0,
              "#0d0887"
             ],
             [
              0.1111111111111111,
              "#46039f"
             ],
             [
              0.2222222222222222,
              "#7201a8"
             ],
             [
              0.3333333333333333,
              "#9c179e"
             ],
             [
              0.4444444444444444,
              "#bd3786"
             ],
             [
              0.5555555555555556,
              "#d8576b"
             ],
             [
              0.6666666666666666,
              "#ed7953"
             ],
             [
              0.7777777777777778,
              "#fb9f3a"
             ],
             [
              0.8888888888888888,
              "#fdca26"
             ],
             [
              1,
              "#f0f921"
             ]
            ],
            "type": "heatmapgl"
           }
          ],
          "histogram": [
           {
            "marker": {
             "pattern": {
              "fillmode": "overlay",
              "size": 10,
              "solidity": 0.2
             }
            },
            "type": "histogram"
           }
          ],
          "histogram2d": [
           {
            "colorbar": {
             "outlinewidth": 0,
             "ticks": ""
            },
            "colorscale": [
             [
              0,
              "#0d0887"
             ],
             [
              0.1111111111111111,
              "#46039f"
             ],
             [
              0.2222222222222222,
              "#7201a8"
             ],
             [
              0.3333333333333333,
              "#9c179e"
             ],
             [
              0.4444444444444444,
              "#bd3786"
             ],
             [
              0.5555555555555556,
              "#d8576b"
             ],
             [
              0.6666666666666666,
              "#ed7953"
             ],
             [
              0.7777777777777778,
              "#fb9f3a"
             ],
             [
              0.8888888888888888,
              "#fdca26"
             ],
             [
              1,
              "#f0f921"
             ]
            ],
            "type": "histogram2d"
           }
          ],
          "histogram2dcontour": [
           {
            "colorbar": {
             "outlinewidth": 0,
             "ticks": ""
            },
            "colorscale": [
             [
              0,
              "#0d0887"
             ],
             [
              0.1111111111111111,
              "#46039f"
             ],
             [
              0.2222222222222222,
              "#7201a8"
             ],
             [
              0.3333333333333333,
              "#9c179e"
             ],
             [
              0.4444444444444444,
              "#bd3786"
             ],
             [
              0.5555555555555556,
              "#d8576b"
             ],
             [
              0.6666666666666666,
              "#ed7953"
             ],
             [
              0.7777777777777778,
              "#fb9f3a"
             ],
             [
              0.8888888888888888,
              "#fdca26"
             ],
             [
              1,
              "#f0f921"
             ]
            ],
            "type": "histogram2dcontour"
           }
          ],
          "mesh3d": [
           {
            "colorbar": {
             "outlinewidth": 0,
             "ticks": ""
            },
            "type": "mesh3d"
           }
          ],
          "parcoords": [
           {
            "line": {
             "colorbar": {
              "outlinewidth": 0,
              "ticks": ""
             }
            },
            "type": "parcoords"
           }
          ],
          "pie": [
           {
            "automargin": true,
            "type": "pie"
           }
          ],
          "scatter": [
           {
            "fillpattern": {
             "fillmode": "overlay",
             "size": 10,
             "solidity": 0.2
            },
            "type": "scatter"
           }
          ],
          "scatter3d": [
           {
            "line": {
             "colorbar": {
              "outlinewidth": 0,
              "ticks": ""
             }
            },
            "marker": {
             "colorbar": {
              "outlinewidth": 0,
              "ticks": ""
             }
            },
            "type": "scatter3d"
           }
          ],
          "scattercarpet": [
           {
            "marker": {
             "colorbar": {
              "outlinewidth": 0,
              "ticks": ""
             }
            },
            "type": "scattercarpet"
           }
          ],
          "scattergeo": [
           {
            "marker": {
             "colorbar": {
              "outlinewidth": 0,
              "ticks": ""
             }
            },
            "type": "scattergeo"
           }
          ],
          "scattergl": [
           {
            "marker": {
             "colorbar": {
              "outlinewidth": 0,
              "ticks": ""
             }
            },
            "type": "scattergl"
           }
          ],
          "scattermapbox": [
           {
            "marker": {
             "colorbar": {
              "outlinewidth": 0,
              "ticks": ""
             }
            },
            "type": "scattermapbox"
           }
          ],
          "scatterpolar": [
           {
            "marker": {
             "colorbar": {
              "outlinewidth": 0,
              "ticks": ""
             }
            },
            "type": "scatterpolar"
           }
          ],
          "scatterpolargl": [
           {
            "marker": {
             "colorbar": {
              "outlinewidth": 0,
              "ticks": ""
             }
            },
            "type": "scatterpolargl"
           }
          ],
          "scatterternary": [
           {
            "marker": {
             "colorbar": {
              "outlinewidth": 0,
              "ticks": ""
             }
            },
            "type": "scatterternary"
           }
          ],
          "surface": [
           {
            "colorbar": {
             "outlinewidth": 0,
             "ticks": ""
            },
            "colorscale": [
             [
              0,
              "#0d0887"
             ],
             [
              0.1111111111111111,
              "#46039f"
             ],
             [
              0.2222222222222222,
              "#7201a8"
             ],
             [
              0.3333333333333333,
              "#9c179e"
             ],
             [
              0.4444444444444444,
              "#bd3786"
             ],
             [
              0.5555555555555556,
              "#d8576b"
             ],
             [
              0.6666666666666666,
              "#ed7953"
             ],
             [
              0.7777777777777778,
              "#fb9f3a"
             ],
             [
              0.8888888888888888,
              "#fdca26"
             ],
             [
              1,
              "#f0f921"
             ]
            ],
            "type": "surface"
           }
          ],
          "table": [
           {
            "cells": {
             "fill": {
              "color": "#EBF0F8"
             },
             "line": {
              "color": "white"
             }
            },
            "header": {
             "fill": {
              "color": "#C8D4E3"
             },
             "line": {
              "color": "white"
             }
            },
            "type": "table"
           }
          ]
         },
         "layout": {
          "annotationdefaults": {
           "arrowcolor": "#2a3f5f",
           "arrowhead": 0,
           "arrowwidth": 1
          },
          "autotypenumbers": "strict",
          "coloraxis": {
           "colorbar": {
            "outlinewidth": 0,
            "ticks": ""
           }
          },
          "colorscale": {
           "diverging": [
            [
             0,
             "#8e0152"
            ],
            [
             0.1,
             "#c51b7d"
            ],
            [
             0.2,
             "#de77ae"
            ],
            [
             0.3,
             "#f1b6da"
            ],
            [
             0.4,
             "#fde0ef"
            ],
            [
             0.5,
             "#f7f7f7"
            ],
            [
             0.6,
             "#e6f5d0"
            ],
            [
             0.7,
             "#b8e186"
            ],
            [
             0.8,
             "#7fbc41"
            ],
            [
             0.9,
             "#4d9221"
            ],
            [
             1,
             "#276419"
            ]
           ],
           "sequential": [
            [
             0,
             "#0d0887"
            ],
            [
             0.1111111111111111,
             "#46039f"
            ],
            [
             0.2222222222222222,
             "#7201a8"
            ],
            [
             0.3333333333333333,
             "#9c179e"
            ],
            [
             0.4444444444444444,
             "#bd3786"
            ],
            [
             0.5555555555555556,
             "#d8576b"
            ],
            [
             0.6666666666666666,
             "#ed7953"
            ],
            [
             0.7777777777777778,
             "#fb9f3a"
            ],
            [
             0.8888888888888888,
             "#fdca26"
            ],
            [
             1,
             "#f0f921"
            ]
           ],
           "sequentialminus": [
            [
             0,
             "#0d0887"
            ],
            [
             0.1111111111111111,
             "#46039f"
            ],
            [
             0.2222222222222222,
             "#7201a8"
            ],
            [
             0.3333333333333333,
             "#9c179e"
            ],
            [
             0.4444444444444444,
             "#bd3786"
            ],
            [
             0.5555555555555556,
             "#d8576b"
            ],
            [
             0.6666666666666666,
             "#ed7953"
            ],
            [
             0.7777777777777778,
             "#fb9f3a"
            ],
            [
             0.8888888888888888,
             "#fdca26"
            ],
            [
             1,
             "#f0f921"
            ]
           ]
          },
          "colorway": [
           "#636efa",
           "#EF553B",
           "#00cc96",
           "#ab63fa",
           "#FFA15A",
           "#19d3f3",
           "#FF6692",
           "#B6E880",
           "#FF97FF",
           "#FECB52"
          ],
          "font": {
           "color": "#2a3f5f"
          },
          "geo": {
           "bgcolor": "white",
           "lakecolor": "white",
           "landcolor": "#E5ECF6",
           "showlakes": true,
           "showland": true,
           "subunitcolor": "white"
          },
          "hoverlabel": {
           "align": "left"
          },
          "hovermode": "closest",
          "mapbox": {
           "style": "light"
          },
          "paper_bgcolor": "white",
          "plot_bgcolor": "#E5ECF6",
          "polar": {
           "angularaxis": {
            "gridcolor": "white",
            "linecolor": "white",
            "ticks": ""
           },
           "bgcolor": "#E5ECF6",
           "radialaxis": {
            "gridcolor": "white",
            "linecolor": "white",
            "ticks": ""
           }
          },
          "scene": {
           "xaxis": {
            "backgroundcolor": "#E5ECF6",
            "gridcolor": "white",
            "gridwidth": 2,
            "linecolor": "white",
            "showbackground": true,
            "ticks": "",
            "zerolinecolor": "white"
           },
           "yaxis": {
            "backgroundcolor": "#E5ECF6",
            "gridcolor": "white",
            "gridwidth": 2,
            "linecolor": "white",
            "showbackground": true,
            "ticks": "",
            "zerolinecolor": "white"
           },
           "zaxis": {
            "backgroundcolor": "#E5ECF6",
            "gridcolor": "white",
            "gridwidth": 2,
            "linecolor": "white",
            "showbackground": true,
            "ticks": "",
            "zerolinecolor": "white"
           }
          },
          "shapedefaults": {
           "line": {
            "color": "#2a3f5f"
           }
          },
          "ternary": {
           "aaxis": {
            "gridcolor": "white",
            "linecolor": "white",
            "ticks": ""
           },
           "baxis": {
            "gridcolor": "white",
            "linecolor": "white",
            "ticks": ""
           },
           "bgcolor": "#E5ECF6",
           "caxis": {
            "gridcolor": "white",
            "linecolor": "white",
            "ticks": ""
           }
          },
          "title": {
           "x": 0.05
          },
          "xaxis": {
           "automargin": true,
           "gridcolor": "white",
           "linecolor": "white",
           "ticks": "",
           "title": {
            "standoff": 15
           },
           "zerolinecolor": "white",
           "zerolinewidth": 2
          },
          "yaxis": {
           "automargin": true,
           "gridcolor": "white",
           "linecolor": "white",
           "ticks": "",
           "title": {
            "standoff": 15
           },
           "zerolinecolor": "white",
           "zerolinewidth": 2
          }
         }
        },
        "title": {
         "text": "1월 일별 DAU 추이"
        },
        "xaxis": {
         "anchor": "y",
         "domain": [
          0,
          1
         ],
         "title": {
          "text": "날짜"
         }
        },
        "yaxis": {
         "anchor": "x",
         "domain": [
          0,
          1
         ],
         "title": {
          "text": "DAU"
         }
        }
       }
      }
     },
     "metadata": {},
     "output_type": "display_data"
    }
   ],
   "source": [
    "fig = px.line(dau_january_by_date,x='날짜',y='DAU',\n",
    "        title='1월 일별 DAU 추이')\n",
    "fig"
   ]
  },
  {
   "cell_type": "markdown",
   "metadata": {},
   "source": [
    "### **요일별 DAU추이**\n",
    "***"
   ]
  },
  {
   "cell_type": "markdown",
   "metadata": {},
   "source": [
    "### **DAU 칼럼을 df에 추가하여 데이터 manipulation 쉽도록 하기**\n",
    "***"
   ]
  },
  {
   "cell_type": "code",
   "execution_count": 7,
   "metadata": {},
   "outputs": [
    {
     "data": {
      "text/html": [
       "<div>\n",
       "<style scoped>\n",
       "    .dataframe tbody tr th:only-of-type {\n",
       "        vertical-align: middle;\n",
       "    }\n",
       "\n",
       "    .dataframe tbody tr th {\n",
       "        vertical-align: top;\n",
       "    }\n",
       "\n",
       "    .dataframe thead th {\n",
       "        text-align: right;\n",
       "    }\n",
       "</style>\n",
       "<table border=\"1\" class=\"dataframe\">\n",
       "  <thead>\n",
       "    <tr style=\"text-align: right;\">\n",
       "      <th></th>\n",
       "      <th>날짜</th>\n",
       "      <th>DAU</th>\n",
       "      <th>요일</th>\n",
       "    </tr>\n",
       "  </thead>\n",
       "  <tbody>\n",
       "    <tr>\n",
       "      <th>0</th>\n",
       "      <td>2020-01-01</td>\n",
       "      <td>11765</td>\n",
       "      <td>2</td>\n",
       "    </tr>\n",
       "    <tr>\n",
       "      <th>1</th>\n",
       "      <td>2020-01-02</td>\n",
       "      <td>14039</td>\n",
       "      <td>3</td>\n",
       "    </tr>\n",
       "    <tr>\n",
       "      <th>2</th>\n",
       "      <td>2020-01-03</td>\n",
       "      <td>15396</td>\n",
       "      <td>4</td>\n",
       "    </tr>\n",
       "    <tr>\n",
       "      <th>3</th>\n",
       "      <td>2020-01-04</td>\n",
       "      <td>16044</td>\n",
       "      <td>5</td>\n",
       "    </tr>\n",
       "    <tr>\n",
       "      <th>4</th>\n",
       "      <td>2020-01-05</td>\n",
       "      <td>16511</td>\n",
       "      <td>6</td>\n",
       "    </tr>\n",
       "    <tr>\n",
       "      <th>5</th>\n",
       "      <td>2020-01-06</td>\n",
       "      <td>15707</td>\n",
       "      <td>0</td>\n",
       "    </tr>\n",
       "    <tr>\n",
       "      <th>6</th>\n",
       "      <td>2020-01-07</td>\n",
       "      <td>17099</td>\n",
       "      <td>1</td>\n",
       "    </tr>\n",
       "    <tr>\n",
       "      <th>7</th>\n",
       "      <td>2020-01-08</td>\n",
       "      <td>18580</td>\n",
       "      <td>2</td>\n",
       "    </tr>\n",
       "    <tr>\n",
       "      <th>8</th>\n",
       "      <td>2020-01-09</td>\n",
       "      <td>19879</td>\n",
       "      <td>3</td>\n",
       "    </tr>\n",
       "    <tr>\n",
       "      <th>9</th>\n",
       "      <td>2020-01-10</td>\n",
       "      <td>18878</td>\n",
       "      <td>4</td>\n",
       "    </tr>\n",
       "    <tr>\n",
       "      <th>10</th>\n",
       "      <td>2020-01-11</td>\n",
       "      <td>19344</td>\n",
       "      <td>5</td>\n",
       "    </tr>\n",
       "    <tr>\n",
       "      <th>11</th>\n",
       "      <td>2020-01-12</td>\n",
       "      <td>20542</td>\n",
       "      <td>6</td>\n",
       "    </tr>\n",
       "    <tr>\n",
       "      <th>12</th>\n",
       "      <td>2020-01-13</td>\n",
       "      <td>21252</td>\n",
       "      <td>0</td>\n",
       "    </tr>\n",
       "    <tr>\n",
       "      <th>13</th>\n",
       "      <td>2020-01-14</td>\n",
       "      <td>22417</td>\n",
       "      <td>1</td>\n",
       "    </tr>\n",
       "    <tr>\n",
       "      <th>14</th>\n",
       "      <td>2020-01-15</td>\n",
       "      <td>22131</td>\n",
       "      <td>2</td>\n",
       "    </tr>\n",
       "    <tr>\n",
       "      <th>15</th>\n",
       "      <td>2020-01-16</td>\n",
       "      <td>18859</td>\n",
       "      <td>3</td>\n",
       "    </tr>\n",
       "    <tr>\n",
       "      <th>16</th>\n",
       "      <td>2020-01-17</td>\n",
       "      <td>17770</td>\n",
       "      <td>4</td>\n",
       "    </tr>\n",
       "    <tr>\n",
       "      <th>17</th>\n",
       "      <td>2020-01-18</td>\n",
       "      <td>15897</td>\n",
       "      <td>5</td>\n",
       "    </tr>\n",
       "    <tr>\n",
       "      <th>18</th>\n",
       "      <td>2020-01-19</td>\n",
       "      <td>17311</td>\n",
       "      <td>6</td>\n",
       "    </tr>\n",
       "    <tr>\n",
       "      <th>19</th>\n",
       "      <td>2020-01-20</td>\n",
       "      <td>19359</td>\n",
       "      <td>0</td>\n",
       "    </tr>\n",
       "    <tr>\n",
       "      <th>20</th>\n",
       "      <td>2020-01-21</td>\n",
       "      <td>19805</td>\n",
       "      <td>1</td>\n",
       "    </tr>\n",
       "    <tr>\n",
       "      <th>21</th>\n",
       "      <td>2020-01-22</td>\n",
       "      <td>18837</td>\n",
       "      <td>2</td>\n",
       "    </tr>\n",
       "    <tr>\n",
       "      <th>22</th>\n",
       "      <td>2020-01-23</td>\n",
       "      <td>19120</td>\n",
       "      <td>3</td>\n",
       "    </tr>\n",
       "    <tr>\n",
       "      <th>23</th>\n",
       "      <td>2020-01-24</td>\n",
       "      <td>18184</td>\n",
       "      <td>4</td>\n",
       "    </tr>\n",
       "    <tr>\n",
       "      <th>24</th>\n",
       "      <td>2020-01-25</td>\n",
       "      <td>16879</td>\n",
       "      <td>5</td>\n",
       "    </tr>\n",
       "    <tr>\n",
       "      <th>25</th>\n",
       "      <td>2020-01-26</td>\n",
       "      <td>18221</td>\n",
       "      <td>6</td>\n",
       "    </tr>\n",
       "    <tr>\n",
       "      <th>26</th>\n",
       "      <td>2020-01-27</td>\n",
       "      <td>20821</td>\n",
       "      <td>0</td>\n",
       "    </tr>\n",
       "    <tr>\n",
       "      <th>27</th>\n",
       "      <td>2020-01-28</td>\n",
       "      <td>20101</td>\n",
       "      <td>1</td>\n",
       "    </tr>\n",
       "    <tr>\n",
       "      <th>28</th>\n",
       "      <td>2020-01-29</td>\n",
       "      <td>20813</td>\n",
       "      <td>2</td>\n",
       "    </tr>\n",
       "    <tr>\n",
       "      <th>29</th>\n",
       "      <td>2020-01-30</td>\n",
       "      <td>20492</td>\n",
       "      <td>3</td>\n",
       "    </tr>\n",
       "    <tr>\n",
       "      <th>30</th>\n",
       "      <td>2020-01-31</td>\n",
       "      <td>20751</td>\n",
       "      <td>4</td>\n",
       "    </tr>\n",
       "  </tbody>\n",
       "</table>\n",
       "</div>"
      ],
      "text/plain": [
       "           날짜    DAU  요일\n",
       "0  2020-01-01  11765   2\n",
       "1  2020-01-02  14039   3\n",
       "2  2020-01-03  15396   4\n",
       "3  2020-01-04  16044   5\n",
       "4  2020-01-05  16511   6\n",
       "5  2020-01-06  15707   0\n",
       "6  2020-01-07  17099   1\n",
       "7  2020-01-08  18580   2\n",
       "8  2020-01-09  19879   3\n",
       "9  2020-01-10  18878   4\n",
       "10 2020-01-11  19344   5\n",
       "11 2020-01-12  20542   6\n",
       "12 2020-01-13  21252   0\n",
       "13 2020-01-14  22417   1\n",
       "14 2020-01-15  22131   2\n",
       "15 2020-01-16  18859   3\n",
       "16 2020-01-17  17770   4\n",
       "17 2020-01-18  15897   5\n",
       "18 2020-01-19  17311   6\n",
       "19 2020-01-20  19359   0\n",
       "20 2020-01-21  19805   1\n",
       "21 2020-01-22  18837   2\n",
       "22 2020-01-23  19120   3\n",
       "23 2020-01-24  18184   4\n",
       "24 2020-01-25  16879   5\n",
       "25 2020-01-26  18221   6\n",
       "26 2020-01-27  20821   0\n",
       "27 2020-01-28  20101   1\n",
       "28 2020-01-29  20813   2\n",
       "29 2020-01-30  20492   3\n",
       "30 2020-01-31  20751   4"
      ]
     },
     "execution_count": 7,
     "metadata": {},
     "output_type": "execute_result"
    }
   ],
   "source": [
    "dau_january_by_date['요일'] = dau_january_by_date['날짜'].dt.dayofweek\n",
    "dau_january_by_date"
   ]
  },
  {
   "cell_type": "code",
   "execution_count": 8,
   "metadata": {},
   "outputs": [
    {
     "data": {
      "text/html": [
       "<div>\n",
       "<style scoped>\n",
       "    .dataframe tbody tr th:only-of-type {\n",
       "        vertical-align: middle;\n",
       "    }\n",
       "\n",
       "    .dataframe tbody tr th {\n",
       "        vertical-align: top;\n",
       "    }\n",
       "\n",
       "    .dataframe thead th {\n",
       "        text-align: right;\n",
       "    }\n",
       "</style>\n",
       "<table border=\"1\" class=\"dataframe\">\n",
       "  <thead>\n",
       "    <tr style=\"text-align: right;\">\n",
       "      <th></th>\n",
       "      <th>요일</th>\n",
       "      <th>DAU</th>\n",
       "    </tr>\n",
       "  </thead>\n",
       "  <tbody>\n",
       "    <tr>\n",
       "      <th>0</th>\n",
       "      <td>월요일</td>\n",
       "      <td>19284.75</td>\n",
       "    </tr>\n",
       "    <tr>\n",
       "      <th>1</th>\n",
       "      <td>화요일</td>\n",
       "      <td>19855.50</td>\n",
       "    </tr>\n",
       "    <tr>\n",
       "      <th>2</th>\n",
       "      <td>수요일</td>\n",
       "      <td>18425.20</td>\n",
       "    </tr>\n",
       "    <tr>\n",
       "      <th>3</th>\n",
       "      <td>목요일</td>\n",
       "      <td>18477.80</td>\n",
       "    </tr>\n",
       "    <tr>\n",
       "      <th>4</th>\n",
       "      <td>금요일</td>\n",
       "      <td>18195.80</td>\n",
       "    </tr>\n",
       "    <tr>\n",
       "      <th>5</th>\n",
       "      <td>토요일</td>\n",
       "      <td>17041.00</td>\n",
       "    </tr>\n",
       "    <tr>\n",
       "      <th>6</th>\n",
       "      <td>일요일</td>\n",
       "      <td>18146.25</td>\n",
       "    </tr>\n",
       "  </tbody>\n",
       "</table>\n",
       "</div>"
      ],
      "text/plain": [
       "    요일       DAU\n",
       "0  월요일  19284.75\n",
       "1  화요일  19855.50\n",
       "2  수요일  18425.20\n",
       "3  목요일  18477.80\n",
       "4  금요일  18195.80\n",
       "5  토요일  17041.00\n",
       "6  일요일  18146.25"
      ]
     },
     "execution_count": 8,
     "metadata": {},
     "output_type": "execute_result"
    }
   ],
   "source": [
    "dau_by_day = dau_january_by_date.groupby('요일',as_index=False)[['DAU']].mean().round(2).replace({0:'월요일',1:'화요일',2:'수요일',3:'목요일',\n",
    "                                                                           4:'금요일',5:'토요일',6:'일요일'})\n",
    "dau_by_day"
   ]
  },
  {
   "cell_type": "markdown",
   "metadata": {},
   "source": [
    "### **요일별 DAU평균의 변화를 시각화하기**\n",
    "***"
   ]
  },
  {
   "cell_type": "code",
   "execution_count": 9,
   "metadata": {},
   "outputs": [
    {
     "data": {
      "application/vnd.plotly.v1+json": {
       "config": {
        "plotlyServerURL": "https://plot.ly"
       },
       "data": [
        {
         "hovertemplate": "요일=%{x}<br>DAU=%{y}<extra></extra>",
         "legendgroup": "",
         "line": {
          "color": "#636efa",
          "dash": "solid"
         },
         "marker": {
          "symbol": "circle"
         },
         "mode": "lines",
         "name": "",
         "orientation": "v",
         "showlegend": false,
         "type": "scatter",
         "x": [
          "월요일",
          "화요일",
          "수요일",
          "목요일",
          "금요일",
          "토요일",
          "일요일"
         ],
         "xaxis": "x",
         "y": [
          19284.75,
          19855.5,
          18425.2,
          18477.8,
          18195.8,
          17041,
          18146.25
         ],
         "yaxis": "y"
        }
       ],
       "layout": {
        "legend": {
         "tracegroupgap": 0
        },
        "template": {
         "data": {
          "bar": [
           {
            "error_x": {
             "color": "#2a3f5f"
            },
            "error_y": {
             "color": "#2a3f5f"
            },
            "marker": {
             "line": {
              "color": "#E5ECF6",
              "width": 0.5
             },
             "pattern": {
              "fillmode": "overlay",
              "size": 10,
              "solidity": 0.2
             }
            },
            "type": "bar"
           }
          ],
          "barpolar": [
           {
            "marker": {
             "line": {
              "color": "#E5ECF6",
              "width": 0.5
             },
             "pattern": {
              "fillmode": "overlay",
              "size": 10,
              "solidity": 0.2
             }
            },
            "type": "barpolar"
           }
          ],
          "carpet": [
           {
            "aaxis": {
             "endlinecolor": "#2a3f5f",
             "gridcolor": "white",
             "linecolor": "white",
             "minorgridcolor": "white",
             "startlinecolor": "#2a3f5f"
            },
            "baxis": {
             "endlinecolor": "#2a3f5f",
             "gridcolor": "white",
             "linecolor": "white",
             "minorgridcolor": "white",
             "startlinecolor": "#2a3f5f"
            },
            "type": "carpet"
           }
          ],
          "choropleth": [
           {
            "colorbar": {
             "outlinewidth": 0,
             "ticks": ""
            },
            "type": "choropleth"
           }
          ],
          "contour": [
           {
            "colorbar": {
             "outlinewidth": 0,
             "ticks": ""
            },
            "colorscale": [
             [
              0,
              "#0d0887"
             ],
             [
              0.1111111111111111,
              "#46039f"
             ],
             [
              0.2222222222222222,
              "#7201a8"
             ],
             [
              0.3333333333333333,
              "#9c179e"
             ],
             [
              0.4444444444444444,
              "#bd3786"
             ],
             [
              0.5555555555555556,
              "#d8576b"
             ],
             [
              0.6666666666666666,
              "#ed7953"
             ],
             [
              0.7777777777777778,
              "#fb9f3a"
             ],
             [
              0.8888888888888888,
              "#fdca26"
             ],
             [
              1,
              "#f0f921"
             ]
            ],
            "type": "contour"
           }
          ],
          "contourcarpet": [
           {
            "colorbar": {
             "outlinewidth": 0,
             "ticks": ""
            },
            "type": "contourcarpet"
           }
          ],
          "heatmap": [
           {
            "colorbar": {
             "outlinewidth": 0,
             "ticks": ""
            },
            "colorscale": [
             [
              0,
              "#0d0887"
             ],
             [
              0.1111111111111111,
              "#46039f"
             ],
             [
              0.2222222222222222,
              "#7201a8"
             ],
             [
              0.3333333333333333,
              "#9c179e"
             ],
             [
              0.4444444444444444,
              "#bd3786"
             ],
             [
              0.5555555555555556,
              "#d8576b"
             ],
             [
              0.6666666666666666,
              "#ed7953"
             ],
             [
              0.7777777777777778,
              "#fb9f3a"
             ],
             [
              0.8888888888888888,
              "#fdca26"
             ],
             [
              1,
              "#f0f921"
             ]
            ],
            "type": "heatmap"
           }
          ],
          "heatmapgl": [
           {
            "colorbar": {
             "outlinewidth": 0,
             "ticks": ""
            },
            "colorscale": [
             [
              0,
              "#0d0887"
             ],
             [
              0.1111111111111111,
              "#46039f"
             ],
             [
              0.2222222222222222,
              "#7201a8"
             ],
             [
              0.3333333333333333,
              "#9c179e"
             ],
             [
              0.4444444444444444,
              "#bd3786"
             ],
             [
              0.5555555555555556,
              "#d8576b"
             ],
             [
              0.6666666666666666,
              "#ed7953"
             ],
             [
              0.7777777777777778,
              "#fb9f3a"
             ],
             [
              0.8888888888888888,
              "#fdca26"
             ],
             [
              1,
              "#f0f921"
             ]
            ],
            "type": "heatmapgl"
           }
          ],
          "histogram": [
           {
            "marker": {
             "pattern": {
              "fillmode": "overlay",
              "size": 10,
              "solidity": 0.2
             }
            },
            "type": "histogram"
           }
          ],
          "histogram2d": [
           {
            "colorbar": {
             "outlinewidth": 0,
             "ticks": ""
            },
            "colorscale": [
             [
              0,
              "#0d0887"
             ],
             [
              0.1111111111111111,
              "#46039f"
             ],
             [
              0.2222222222222222,
              "#7201a8"
             ],
             [
              0.3333333333333333,
              "#9c179e"
             ],
             [
              0.4444444444444444,
              "#bd3786"
             ],
             [
              0.5555555555555556,
              "#d8576b"
             ],
             [
              0.6666666666666666,
              "#ed7953"
             ],
             [
              0.7777777777777778,
              "#fb9f3a"
             ],
             [
              0.8888888888888888,
              "#fdca26"
             ],
             [
              1,
              "#f0f921"
             ]
            ],
            "type": "histogram2d"
           }
          ],
          "histogram2dcontour": [
           {
            "colorbar": {
             "outlinewidth": 0,
             "ticks": ""
            },
            "colorscale": [
             [
              0,
              "#0d0887"
             ],
             [
              0.1111111111111111,
              "#46039f"
             ],
             [
              0.2222222222222222,
              "#7201a8"
             ],
             [
              0.3333333333333333,
              "#9c179e"
             ],
             [
              0.4444444444444444,
              "#bd3786"
             ],
             [
              0.5555555555555556,
              "#d8576b"
             ],
             [
              0.6666666666666666,
              "#ed7953"
             ],
             [
              0.7777777777777778,
              "#fb9f3a"
             ],
             [
              0.8888888888888888,
              "#fdca26"
             ],
             [
              1,
              "#f0f921"
             ]
            ],
            "type": "histogram2dcontour"
           }
          ],
          "mesh3d": [
           {
            "colorbar": {
             "outlinewidth": 0,
             "ticks": ""
            },
            "type": "mesh3d"
           }
          ],
          "parcoords": [
           {
            "line": {
             "colorbar": {
              "outlinewidth": 0,
              "ticks": ""
             }
            },
            "type": "parcoords"
           }
          ],
          "pie": [
           {
            "automargin": true,
            "type": "pie"
           }
          ],
          "scatter": [
           {
            "fillpattern": {
             "fillmode": "overlay",
             "size": 10,
             "solidity": 0.2
            },
            "type": "scatter"
           }
          ],
          "scatter3d": [
           {
            "line": {
             "colorbar": {
              "outlinewidth": 0,
              "ticks": ""
             }
            },
            "marker": {
             "colorbar": {
              "outlinewidth": 0,
              "ticks": ""
             }
            },
            "type": "scatter3d"
           }
          ],
          "scattercarpet": [
           {
            "marker": {
             "colorbar": {
              "outlinewidth": 0,
              "ticks": ""
             }
            },
            "type": "scattercarpet"
           }
          ],
          "scattergeo": [
           {
            "marker": {
             "colorbar": {
              "outlinewidth": 0,
              "ticks": ""
             }
            },
            "type": "scattergeo"
           }
          ],
          "scattergl": [
           {
            "marker": {
             "colorbar": {
              "outlinewidth": 0,
              "ticks": ""
             }
            },
            "type": "scattergl"
           }
          ],
          "scattermapbox": [
           {
            "marker": {
             "colorbar": {
              "outlinewidth": 0,
              "ticks": ""
             }
            },
            "type": "scattermapbox"
           }
          ],
          "scatterpolar": [
           {
            "marker": {
             "colorbar": {
              "outlinewidth": 0,
              "ticks": ""
             }
            },
            "type": "scatterpolar"
           }
          ],
          "scatterpolargl": [
           {
            "marker": {
             "colorbar": {
              "outlinewidth": 0,
              "ticks": ""
             }
            },
            "type": "scatterpolargl"
           }
          ],
          "scatterternary": [
           {
            "marker": {
             "colorbar": {
              "outlinewidth": 0,
              "ticks": ""
             }
            },
            "type": "scatterternary"
           }
          ],
          "surface": [
           {
            "colorbar": {
             "outlinewidth": 0,
             "ticks": ""
            },
            "colorscale": [
             [
              0,
              "#0d0887"
             ],
             [
              0.1111111111111111,
              "#46039f"
             ],
             [
              0.2222222222222222,
              "#7201a8"
             ],
             [
              0.3333333333333333,
              "#9c179e"
             ],
             [
              0.4444444444444444,
              "#bd3786"
             ],
             [
              0.5555555555555556,
              "#d8576b"
             ],
             [
              0.6666666666666666,
              "#ed7953"
             ],
             [
              0.7777777777777778,
              "#fb9f3a"
             ],
             [
              0.8888888888888888,
              "#fdca26"
             ],
             [
              1,
              "#f0f921"
             ]
            ],
            "type": "surface"
           }
          ],
          "table": [
           {
            "cells": {
             "fill": {
              "color": "#EBF0F8"
             },
             "line": {
              "color": "white"
             }
            },
            "header": {
             "fill": {
              "color": "#C8D4E3"
             },
             "line": {
              "color": "white"
             }
            },
            "type": "table"
           }
          ]
         },
         "layout": {
          "annotationdefaults": {
           "arrowcolor": "#2a3f5f",
           "arrowhead": 0,
           "arrowwidth": 1
          },
          "autotypenumbers": "strict",
          "coloraxis": {
           "colorbar": {
            "outlinewidth": 0,
            "ticks": ""
           }
          },
          "colorscale": {
           "diverging": [
            [
             0,
             "#8e0152"
            ],
            [
             0.1,
             "#c51b7d"
            ],
            [
             0.2,
             "#de77ae"
            ],
            [
             0.3,
             "#f1b6da"
            ],
            [
             0.4,
             "#fde0ef"
            ],
            [
             0.5,
             "#f7f7f7"
            ],
            [
             0.6,
             "#e6f5d0"
            ],
            [
             0.7,
             "#b8e186"
            ],
            [
             0.8,
             "#7fbc41"
            ],
            [
             0.9,
             "#4d9221"
            ],
            [
             1,
             "#276419"
            ]
           ],
           "sequential": [
            [
             0,
             "#0d0887"
            ],
            [
             0.1111111111111111,
             "#46039f"
            ],
            [
             0.2222222222222222,
             "#7201a8"
            ],
            [
             0.3333333333333333,
             "#9c179e"
            ],
            [
             0.4444444444444444,
             "#bd3786"
            ],
            [
             0.5555555555555556,
             "#d8576b"
            ],
            [
             0.6666666666666666,
             "#ed7953"
            ],
            [
             0.7777777777777778,
             "#fb9f3a"
            ],
            [
             0.8888888888888888,
             "#fdca26"
            ],
            [
             1,
             "#f0f921"
            ]
           ],
           "sequentialminus": [
            [
             0,
             "#0d0887"
            ],
            [
             0.1111111111111111,
             "#46039f"
            ],
            [
             0.2222222222222222,
             "#7201a8"
            ],
            [
             0.3333333333333333,
             "#9c179e"
            ],
            [
             0.4444444444444444,
             "#bd3786"
            ],
            [
             0.5555555555555556,
             "#d8576b"
            ],
            [
             0.6666666666666666,
             "#ed7953"
            ],
            [
             0.7777777777777778,
             "#fb9f3a"
            ],
            [
             0.8888888888888888,
             "#fdca26"
            ],
            [
             1,
             "#f0f921"
            ]
           ]
          },
          "colorway": [
           "#636efa",
           "#EF553B",
           "#00cc96",
           "#ab63fa",
           "#FFA15A",
           "#19d3f3",
           "#FF6692",
           "#B6E880",
           "#FF97FF",
           "#FECB52"
          ],
          "font": {
           "color": "#2a3f5f"
          },
          "geo": {
           "bgcolor": "white",
           "lakecolor": "white",
           "landcolor": "#E5ECF6",
           "showlakes": true,
           "showland": true,
           "subunitcolor": "white"
          },
          "hoverlabel": {
           "align": "left"
          },
          "hovermode": "closest",
          "mapbox": {
           "style": "light"
          },
          "paper_bgcolor": "white",
          "plot_bgcolor": "#E5ECF6",
          "polar": {
           "angularaxis": {
            "gridcolor": "white",
            "linecolor": "white",
            "ticks": ""
           },
           "bgcolor": "#E5ECF6",
           "radialaxis": {
            "gridcolor": "white",
            "linecolor": "white",
            "ticks": ""
           }
          },
          "scene": {
           "xaxis": {
            "backgroundcolor": "#E5ECF6",
            "gridcolor": "white",
            "gridwidth": 2,
            "linecolor": "white",
            "showbackground": true,
            "ticks": "",
            "zerolinecolor": "white"
           },
           "yaxis": {
            "backgroundcolor": "#E5ECF6",
            "gridcolor": "white",
            "gridwidth": 2,
            "linecolor": "white",
            "showbackground": true,
            "ticks": "",
            "zerolinecolor": "white"
           },
           "zaxis": {
            "backgroundcolor": "#E5ECF6",
            "gridcolor": "white",
            "gridwidth": 2,
            "linecolor": "white",
            "showbackground": true,
            "ticks": "",
            "zerolinecolor": "white"
           }
          },
          "shapedefaults": {
           "line": {
            "color": "#2a3f5f"
           }
          },
          "ternary": {
           "aaxis": {
            "gridcolor": "white",
            "linecolor": "white",
            "ticks": ""
           },
           "baxis": {
            "gridcolor": "white",
            "linecolor": "white",
            "ticks": ""
           },
           "bgcolor": "#E5ECF6",
           "caxis": {
            "gridcolor": "white",
            "linecolor": "white",
            "ticks": ""
           }
          },
          "title": {
           "x": 0.05
          },
          "xaxis": {
           "automargin": true,
           "gridcolor": "white",
           "linecolor": "white",
           "ticks": "",
           "title": {
            "standoff": 15
           },
           "zerolinecolor": "white",
           "zerolinewidth": 2
          },
          "yaxis": {
           "automargin": true,
           "gridcolor": "white",
           "linecolor": "white",
           "ticks": "",
           "title": {
            "standoff": 15
           },
           "zerolinecolor": "white",
           "zerolinewidth": 2
          }
         }
        },
        "title": {
         "text": "1월 요일별 DAU평균"
        },
        "xaxis": {
         "anchor": "y",
         "domain": [
          0,
          1
         ],
         "title": {
          "text": "요일"
         }
        },
        "yaxis": {
         "anchor": "x",
         "domain": [
          0,
          1
         ],
         "title": {
          "text": "DAU"
         }
        }
       }
      }
     },
     "metadata": {},
     "output_type": "display_data"
    }
   ],
   "source": [
    "fig = px.line(dau_by_day,x='요일',y='DAU',title='1월 요일별 DAU평균')\n",
    "fig"
   ]
  },
  {
   "cell_type": "markdown",
   "metadata": {},
   "source": [
    "### **[2] 사이트 체류시간 평균은?**\n",
    "***\n",
    "- **한세션의 마지막시간 - 시작시간을 체류시간으로 정의함**\n",
    "- 구매한 사람,장바구니 담은 사람, 조회만 한 사람, 장바구니에서 제외한 사람 별로 분석 "
   ]
  },
  {
   "cell_type": "code",
   "execution_count": 10,
   "metadata": {},
   "outputs": [
    {
     "data": {
      "text/html": [
       "<div>\n",
       "<style scoped>\n",
       "    .dataframe tbody tr th:only-of-type {\n",
       "        vertical-align: middle;\n",
       "    }\n",
       "\n",
       "    .dataframe tbody tr th {\n",
       "        vertical-align: top;\n",
       "    }\n",
       "\n",
       "    .dataframe thead th {\n",
       "        text-align: right;\n",
       "    }\n",
       "</style>\n",
       "<table border=\"1\" class=\"dataframe\">\n",
       "  <thead>\n",
       "    <tr style=\"text-align: right;\">\n",
       "      <th></th>\n",
       "      <th>event_time</th>\n",
       "      <th>event_type</th>\n",
       "      <th>product_id</th>\n",
       "      <th>category_id</th>\n",
       "      <th>brand</th>\n",
       "      <th>price</th>\n",
       "      <th>user_id</th>\n",
       "      <th>user_session</th>\n",
       "      <th>date_ymd</th>\n",
       "      <th>dayofweek</th>\n",
       "    </tr>\n",
       "  </thead>\n",
       "  <tbody>\n",
       "    <tr>\n",
       "      <th>0</th>\n",
       "      <td>2020-01-01 00:00:00+00:00</td>\n",
       "      <td>view</td>\n",
       "      <td>5809910</td>\n",
       "      <td>1602943681873052386</td>\n",
       "      <td>grattol</td>\n",
       "      <td>5.24</td>\n",
       "      <td>595414620</td>\n",
       "      <td>4adb70bb-edbd-4981-b60f-a05bfd32683a</td>\n",
       "      <td>2020-01-01</td>\n",
       "      <td>2</td>\n",
       "    </tr>\n",
       "    <tr>\n",
       "      <th>1</th>\n",
       "      <td>2020-01-01 00:00:09+00:00</td>\n",
       "      <td>view</td>\n",
       "      <td>5812943</td>\n",
       "      <td>1487580012121948301</td>\n",
       "      <td>kinetics</td>\n",
       "      <td>3.97</td>\n",
       "      <td>595414640</td>\n",
       "      <td>c8c5205d-be43-4f1d-aa56-4828b8151c8a</td>\n",
       "      <td>2020-01-01</td>\n",
       "      <td>2</td>\n",
       "    </tr>\n",
       "    <tr>\n",
       "      <th>2</th>\n",
       "      <td>2020-01-01 00:00:19+00:00</td>\n",
       "      <td>view</td>\n",
       "      <td>5798924</td>\n",
       "      <td>1783999068867920626</td>\n",
       "      <td>zinger</td>\n",
       "      <td>3.97</td>\n",
       "      <td>595412617</td>\n",
       "      <td>46a5010f-bd69-4fbe-a00d-bb17aa7b46f3</td>\n",
       "      <td>2020-01-01</td>\n",
       "      <td>2</td>\n",
       "    </tr>\n",
       "    <tr>\n",
       "      <th>3</th>\n",
       "      <td>2020-01-01 00:00:24+00:00</td>\n",
       "      <td>view</td>\n",
       "      <td>5793052</td>\n",
       "      <td>1487580005754995573</td>\n",
       "      <td>NaN</td>\n",
       "      <td>4.92</td>\n",
       "      <td>420652863</td>\n",
       "      <td>546f6af3-a517-4752-a98b-80c4c5860711</td>\n",
       "      <td>2020-01-01</td>\n",
       "      <td>2</td>\n",
       "    </tr>\n",
       "    <tr>\n",
       "      <th>4</th>\n",
       "      <td>2020-01-01 00:00:25+00:00</td>\n",
       "      <td>view</td>\n",
       "      <td>5899926</td>\n",
       "      <td>2115334439910245200</td>\n",
       "      <td>NaN</td>\n",
       "      <td>3.92</td>\n",
       "      <td>484071203</td>\n",
       "      <td>cff70ddf-529e-4b0c-a4fc-f43a749c0acb</td>\n",
       "      <td>2020-01-01</td>\n",
       "      <td>2</td>\n",
       "    </tr>\n",
       "    <tr>\n",
       "      <th>...</th>\n",
       "      <td>...</td>\n",
       "      <td>...</td>\n",
       "      <td>...</td>\n",
       "      <td>...</td>\n",
       "      <td>...</td>\n",
       "      <td>...</td>\n",
       "      <td>...</td>\n",
       "      <td>...</td>\n",
       "      <td>...</td>\n",
       "      <td>...</td>\n",
       "    </tr>\n",
       "    <tr>\n",
       "      <th>3851288</th>\n",
       "      <td>2020-01-31 23:59:44+00:00</td>\n",
       "      <td>view</td>\n",
       "      <td>5877031</td>\n",
       "      <td>1487580010100293687</td>\n",
       "      <td>milv</td>\n",
       "      <td>3.49</td>\n",
       "      <td>564814969</td>\n",
       "      <td>fc7063a6-b45e-4863-babb-da4934b83388</td>\n",
       "      <td>2020-01-31</td>\n",
       "      <td>4</td>\n",
       "    </tr>\n",
       "    <tr>\n",
       "      <th>3851289</th>\n",
       "      <td>2020-01-31 23:59:47+00:00</td>\n",
       "      <td>view</td>\n",
       "      <td>5870076</td>\n",
       "      <td>1783999064136745198</td>\n",
       "      <td>grattol</td>\n",
       "      <td>5.71</td>\n",
       "      <td>583267679</td>\n",
       "      <td>2806ff10-08bc-4811-9ab7-af074fe22a88</td>\n",
       "      <td>2020-01-31</td>\n",
       "      <td>4</td>\n",
       "    </tr>\n",
       "    <tr>\n",
       "      <th>3851290</th>\n",
       "      <td>2020-01-31 23:59:50+00:00</td>\n",
       "      <td>view</td>\n",
       "      <td>5813496</td>\n",
       "      <td>1487580005553668971</td>\n",
       "      <td>NaN</td>\n",
       "      <td>11.03</td>\n",
       "      <td>583267679</td>\n",
       "      <td>2806ff10-08bc-4811-9ab7-af074fe22a88</td>\n",
       "      <td>2020-01-31</td>\n",
       "      <td>4</td>\n",
       "    </tr>\n",
       "    <tr>\n",
       "      <th>3851291</th>\n",
       "      <td>2020-01-31 23:59:52+00:00</td>\n",
       "      <td>view</td>\n",
       "      <td>5796984</td>\n",
       "      <td>1487580005671109489</td>\n",
       "      <td>masura</td>\n",
       "      <td>1.73</td>\n",
       "      <td>417102560</td>\n",
       "      <td>dcf90ff3-a246-4b00-b39a-83e6444a0769</td>\n",
       "      <td>2020-01-31</td>\n",
       "      <td>4</td>\n",
       "    </tr>\n",
       "    <tr>\n",
       "      <th>3851292</th>\n",
       "      <td>2020-01-31 23:59:53+00:00</td>\n",
       "      <td>view</td>\n",
       "      <td>5875432</td>\n",
       "      <td>2084144451428549153</td>\n",
       "      <td>NaN</td>\n",
       "      <td>2.05</td>\n",
       "      <td>423651741</td>\n",
       "      <td>fb42a963-abef-4c4f-b1ba-f5812dd54e80</td>\n",
       "      <td>2020-01-31</td>\n",
       "      <td>4</td>\n",
       "    </tr>\n",
       "  </tbody>\n",
       "</table>\n",
       "<p>3851293 rows × 10 columns</p>\n",
       "</div>"
      ],
      "text/plain": [
       "                       event_time event_type  product_id          category_id  \\\n",
       "0       2020-01-01 00:00:00+00:00       view     5809910  1602943681873052386   \n",
       "1       2020-01-01 00:00:09+00:00       view     5812943  1487580012121948301   \n",
       "2       2020-01-01 00:00:19+00:00       view     5798924  1783999068867920626   \n",
       "3       2020-01-01 00:00:24+00:00       view     5793052  1487580005754995573   \n",
       "4       2020-01-01 00:00:25+00:00       view     5899926  2115334439910245200   \n",
       "...                           ...        ...         ...                  ...   \n",
       "3851288 2020-01-31 23:59:44+00:00       view     5877031  1487580010100293687   \n",
       "3851289 2020-01-31 23:59:47+00:00       view     5870076  1783999064136745198   \n",
       "3851290 2020-01-31 23:59:50+00:00       view     5813496  1487580005553668971   \n",
       "3851291 2020-01-31 23:59:52+00:00       view     5796984  1487580005671109489   \n",
       "3851292 2020-01-31 23:59:53+00:00       view     5875432  2084144451428549153   \n",
       "\n",
       "            brand  price    user_id                          user_session  \\\n",
       "0         grattol   5.24  595414620  4adb70bb-edbd-4981-b60f-a05bfd32683a   \n",
       "1        kinetics   3.97  595414640  c8c5205d-be43-4f1d-aa56-4828b8151c8a   \n",
       "2          zinger   3.97  595412617  46a5010f-bd69-4fbe-a00d-bb17aa7b46f3   \n",
       "3             NaN   4.92  420652863  546f6af3-a517-4752-a98b-80c4c5860711   \n",
       "4             NaN   3.92  484071203  cff70ddf-529e-4b0c-a4fc-f43a749c0acb   \n",
       "...           ...    ...        ...                                   ...   \n",
       "3851288      milv   3.49  564814969  fc7063a6-b45e-4863-babb-da4934b83388   \n",
       "3851289   grattol   5.71  583267679  2806ff10-08bc-4811-9ab7-af074fe22a88   \n",
       "3851290       NaN  11.03  583267679  2806ff10-08bc-4811-9ab7-af074fe22a88   \n",
       "3851291    masura   1.73  417102560  dcf90ff3-a246-4b00-b39a-83e6444a0769   \n",
       "3851292       NaN   2.05  423651741  fb42a963-abef-4c4f-b1ba-f5812dd54e80   \n",
       "\n",
       "          date_ymd  dayofweek  \n",
       "0       2020-01-01          2  \n",
       "1       2020-01-01          2  \n",
       "2       2020-01-01          2  \n",
       "3       2020-01-01          2  \n",
       "4       2020-01-01          2  \n",
       "...            ...        ...  \n",
       "3851288 2020-01-31          4  \n",
       "3851289 2020-01-31          4  \n",
       "3851290 2020-01-31          4  \n",
       "3851291 2020-01-31          4  \n",
       "3851292 2020-01-31          4  \n",
       "\n",
       "[3851293 rows x 10 columns]"
      ]
     },
     "execution_count": 10,
     "metadata": {},
     "output_type": "execute_result"
    }
   ],
   "source": [
    "df"
   ]
  },
  {
   "cell_type": "code",
   "execution_count": 11,
   "metadata": {},
   "outputs": [
    {
     "data": {
      "text/html": [
       "<div>\n",
       "<style scoped>\n",
       "    .dataframe tbody tr th:only-of-type {\n",
       "        vertical-align: middle;\n",
       "    }\n",
       "\n",
       "    .dataframe tbody tr th {\n",
       "        vertical-align: top;\n",
       "    }\n",
       "\n",
       "    .dataframe thead th {\n",
       "        text-align: right;\n",
       "    }\n",
       "</style>\n",
       "<table border=\"1\" class=\"dataframe\">\n",
       "  <thead>\n",
       "    <tr style=\"text-align: right;\">\n",
       "      <th></th>\n",
       "      <th>event_time</th>\n",
       "      <th>event_type</th>\n",
       "      <th>product_id</th>\n",
       "      <th>category_id</th>\n",
       "      <th>brand</th>\n",
       "      <th>price</th>\n",
       "      <th>user_id</th>\n",
       "      <th>user_session</th>\n",
       "      <th>date_ymd</th>\n",
       "      <th>dayofweek</th>\n",
       "    </tr>\n",
       "  </thead>\n",
       "  <tbody>\n",
       "    <tr>\n",
       "      <th>3851137</th>\n",
       "      <td>2020-01-31 23:50:32+00:00</td>\n",
       "      <td>view</td>\n",
       "      <td>5809912</td>\n",
       "      <td>1602943681873052386</td>\n",
       "      <td>grattol</td>\n",
       "      <td>5.24</td>\n",
       "      <td>417102560</td>\n",
       "      <td>dcf90ff3-a246-4b00-b39a-83e6444a0769</td>\n",
       "      <td>2020-01-31</td>\n",
       "      <td>4</td>\n",
       "    </tr>\n",
       "    <tr>\n",
       "      <th>3851152</th>\n",
       "      <td>2020-01-31 23:50:58+00:00</td>\n",
       "      <td>cart</td>\n",
       "      <td>5809910</td>\n",
       "      <td>1602943681873052386</td>\n",
       "      <td>grattol</td>\n",
       "      <td>5.24</td>\n",
       "      <td>417102560</td>\n",
       "      <td>dcf90ff3-a246-4b00-b39a-83e6444a0769</td>\n",
       "      <td>2020-01-31</td>\n",
       "      <td>4</td>\n",
       "    </tr>\n",
       "    <tr>\n",
       "      <th>3851161</th>\n",
       "      <td>2020-01-31 23:51:51+00:00</td>\n",
       "      <td>view</td>\n",
       "      <td>5854812</td>\n",
       "      <td>1602943681873052386</td>\n",
       "      <td>grattol</td>\n",
       "      <td>5.24</td>\n",
       "      <td>417102560</td>\n",
       "      <td>dcf90ff3-a246-4b00-b39a-83e6444a0769</td>\n",
       "      <td>2020-01-31</td>\n",
       "      <td>4</td>\n",
       "    </tr>\n",
       "    <tr>\n",
       "      <th>3851169</th>\n",
       "      <td>2020-01-31 23:52:19+00:00</td>\n",
       "      <td>cart</td>\n",
       "      <td>5854812</td>\n",
       "      <td>1602943681873052386</td>\n",
       "      <td>grattol</td>\n",
       "      <td>5.24</td>\n",
       "      <td>417102560</td>\n",
       "      <td>dcf90ff3-a246-4b00-b39a-83e6444a0769</td>\n",
       "      <td>2020-01-31</td>\n",
       "      <td>4</td>\n",
       "    </tr>\n",
       "    <tr>\n",
       "      <th>3851200</th>\n",
       "      <td>2020-01-31 23:53:54+00:00</td>\n",
       "      <td>view</td>\n",
       "      <td>5899926</td>\n",
       "      <td>2115334439910245200</td>\n",
       "      <td>NaN</td>\n",
       "      <td>3.92</td>\n",
       "      <td>417102560</td>\n",
       "      <td>dcf90ff3-a246-4b00-b39a-83e6444a0769</td>\n",
       "      <td>2020-01-31</td>\n",
       "      <td>4</td>\n",
       "    </tr>\n",
       "    <tr>\n",
       "      <th>3851218</th>\n",
       "      <td>2020-01-31 23:54:50+00:00</td>\n",
       "      <td>view</td>\n",
       "      <td>5789668</td>\n",
       "      <td>1487580005595612013</td>\n",
       "      <td>NaN</td>\n",
       "      <td>2.68</td>\n",
       "      <td>417102560</td>\n",
       "      <td>dcf90ff3-a246-4b00-b39a-83e6444a0769</td>\n",
       "      <td>2020-01-31</td>\n",
       "      <td>4</td>\n",
       "    </tr>\n",
       "    <tr>\n",
       "      <th>3851235</th>\n",
       "      <td>2020-01-31 23:55:44+00:00</td>\n",
       "      <td>view</td>\n",
       "      <td>5859421</td>\n",
       "      <td>1487580005671109489</td>\n",
       "      <td>masura</td>\n",
       "      <td>2.37</td>\n",
       "      <td>417102560</td>\n",
       "      <td>dcf90ff3-a246-4b00-b39a-83e6444a0769</td>\n",
       "      <td>2020-01-31</td>\n",
       "      <td>4</td>\n",
       "    </tr>\n",
       "    <tr>\n",
       "      <th>3851241</th>\n",
       "      <td>2020-01-31 23:56:19+00:00</td>\n",
       "      <td>cart</td>\n",
       "      <td>5859421</td>\n",
       "      <td>1487580005671109489</td>\n",
       "      <td>masura</td>\n",
       "      <td>2.37</td>\n",
       "      <td>417102560</td>\n",
       "      <td>dcf90ff3-a246-4b00-b39a-83e6444a0769</td>\n",
       "      <td>2020-01-31</td>\n",
       "      <td>4</td>\n",
       "    </tr>\n",
       "    <tr>\n",
       "      <th>3851261</th>\n",
       "      <td>2020-01-31 23:58:22+00:00</td>\n",
       "      <td>view</td>\n",
       "      <td>5708979</td>\n",
       "      <td>1487580005671109489</td>\n",
       "      <td>masura</td>\n",
       "      <td>3.16</td>\n",
       "      <td>417102560</td>\n",
       "      <td>dcf90ff3-a246-4b00-b39a-83e6444a0769</td>\n",
       "      <td>2020-01-31</td>\n",
       "      <td>4</td>\n",
       "    </tr>\n",
       "    <tr>\n",
       "      <th>3851272</th>\n",
       "      <td>2020-01-31 23:58:43+00:00</td>\n",
       "      <td>cart</td>\n",
       "      <td>5708979</td>\n",
       "      <td>1487580005671109489</td>\n",
       "      <td>masura</td>\n",
       "      <td>3.16</td>\n",
       "      <td>417102560</td>\n",
       "      <td>dcf90ff3-a246-4b00-b39a-83e6444a0769</td>\n",
       "      <td>2020-01-31</td>\n",
       "      <td>4</td>\n",
       "    </tr>\n",
       "    <tr>\n",
       "      <th>3851277</th>\n",
       "      <td>2020-01-31 23:58:53+00:00</td>\n",
       "      <td>view</td>\n",
       "      <td>5830557</td>\n",
       "      <td>1487580005671109489</td>\n",
       "      <td>masura</td>\n",
       "      <td>1.73</td>\n",
       "      <td>417102560</td>\n",
       "      <td>dcf90ff3-a246-4b00-b39a-83e6444a0769</td>\n",
       "      <td>2020-01-31</td>\n",
       "      <td>4</td>\n",
       "    </tr>\n",
       "    <tr>\n",
       "      <th>3851279</th>\n",
       "      <td>2020-01-31 23:59:10+00:00</td>\n",
       "      <td>view</td>\n",
       "      <td>5813486</td>\n",
       "      <td>1487580005671109489</td>\n",
       "      <td>masura</td>\n",
       "      <td>1.73</td>\n",
       "      <td>417102560</td>\n",
       "      <td>dcf90ff3-a246-4b00-b39a-83e6444a0769</td>\n",
       "      <td>2020-01-31</td>\n",
       "      <td>4</td>\n",
       "    </tr>\n",
       "    <tr>\n",
       "      <th>3851291</th>\n",
       "      <td>2020-01-31 23:59:52+00:00</td>\n",
       "      <td>view</td>\n",
       "      <td>5796984</td>\n",
       "      <td>1487580005671109489</td>\n",
       "      <td>masura</td>\n",
       "      <td>1.73</td>\n",
       "      <td>417102560</td>\n",
       "      <td>dcf90ff3-a246-4b00-b39a-83e6444a0769</td>\n",
       "      <td>2020-01-31</td>\n",
       "      <td>4</td>\n",
       "    </tr>\n",
       "  </tbody>\n",
       "</table>\n",
       "</div>"
      ],
      "text/plain": [
       "                       event_time event_type  product_id          category_id  \\\n",
       "3851137 2020-01-31 23:50:32+00:00       view     5809912  1602943681873052386   \n",
       "3851152 2020-01-31 23:50:58+00:00       cart     5809910  1602943681873052386   \n",
       "3851161 2020-01-31 23:51:51+00:00       view     5854812  1602943681873052386   \n",
       "3851169 2020-01-31 23:52:19+00:00       cart     5854812  1602943681873052386   \n",
       "3851200 2020-01-31 23:53:54+00:00       view     5899926  2115334439910245200   \n",
       "3851218 2020-01-31 23:54:50+00:00       view     5789668  1487580005595612013   \n",
       "3851235 2020-01-31 23:55:44+00:00       view     5859421  1487580005671109489   \n",
       "3851241 2020-01-31 23:56:19+00:00       cart     5859421  1487580005671109489   \n",
       "3851261 2020-01-31 23:58:22+00:00       view     5708979  1487580005671109489   \n",
       "3851272 2020-01-31 23:58:43+00:00       cart     5708979  1487580005671109489   \n",
       "3851277 2020-01-31 23:58:53+00:00       view     5830557  1487580005671109489   \n",
       "3851279 2020-01-31 23:59:10+00:00       view     5813486  1487580005671109489   \n",
       "3851291 2020-01-31 23:59:52+00:00       view     5796984  1487580005671109489   \n",
       "\n",
       "           brand  price    user_id                          user_session  \\\n",
       "3851137  grattol   5.24  417102560  dcf90ff3-a246-4b00-b39a-83e6444a0769   \n",
       "3851152  grattol   5.24  417102560  dcf90ff3-a246-4b00-b39a-83e6444a0769   \n",
       "3851161  grattol   5.24  417102560  dcf90ff3-a246-4b00-b39a-83e6444a0769   \n",
       "3851169  grattol   5.24  417102560  dcf90ff3-a246-4b00-b39a-83e6444a0769   \n",
       "3851200      NaN   3.92  417102560  dcf90ff3-a246-4b00-b39a-83e6444a0769   \n",
       "3851218      NaN   2.68  417102560  dcf90ff3-a246-4b00-b39a-83e6444a0769   \n",
       "3851235   masura   2.37  417102560  dcf90ff3-a246-4b00-b39a-83e6444a0769   \n",
       "3851241   masura   2.37  417102560  dcf90ff3-a246-4b00-b39a-83e6444a0769   \n",
       "3851261   masura   3.16  417102560  dcf90ff3-a246-4b00-b39a-83e6444a0769   \n",
       "3851272   masura   3.16  417102560  dcf90ff3-a246-4b00-b39a-83e6444a0769   \n",
       "3851277   masura   1.73  417102560  dcf90ff3-a246-4b00-b39a-83e6444a0769   \n",
       "3851279   masura   1.73  417102560  dcf90ff3-a246-4b00-b39a-83e6444a0769   \n",
       "3851291   masura   1.73  417102560  dcf90ff3-a246-4b00-b39a-83e6444a0769   \n",
       "\n",
       "          date_ymd  dayofweek  \n",
       "3851137 2020-01-31          4  \n",
       "3851152 2020-01-31          4  \n",
       "3851161 2020-01-31          4  \n",
       "3851169 2020-01-31          4  \n",
       "3851200 2020-01-31          4  \n",
       "3851218 2020-01-31          4  \n",
       "3851235 2020-01-31          4  \n",
       "3851241 2020-01-31          4  \n",
       "3851261 2020-01-31          4  \n",
       "3851272 2020-01-31          4  \n",
       "3851277 2020-01-31          4  \n",
       "3851279 2020-01-31          4  \n",
       "3851291 2020-01-31          4  "
      ]
     },
     "execution_count": 11,
     "metadata": {},
     "output_type": "execute_result"
    }
   ],
   "source": [
    "df[df['user_session'] == 'dcf90ff3-a246-4b00-b39a-83e6444a0769']"
   ]
  },
  {
   "cell_type": "code",
   "execution_count": 12,
   "metadata": {},
   "outputs": [
    {
     "data": {
      "text/html": [
       "<div>\n",
       "<style scoped>\n",
       "    .dataframe tbody tr th:only-of-type {\n",
       "        vertical-align: middle;\n",
       "    }\n",
       "\n",
       "    .dataframe tbody tr th {\n",
       "        vertical-align: top;\n",
       "    }\n",
       "\n",
       "    .dataframe thead th {\n",
       "        text-align: right;\n",
       "    }\n",
       "</style>\n",
       "<table border=\"1\" class=\"dataframe\">\n",
       "  <thead>\n",
       "    <tr style=\"text-align: right;\">\n",
       "      <th></th>\n",
       "      <th>user_session</th>\n",
       "      <th>max</th>\n",
       "      <th>min</th>\n",
       "      <th>duration</th>\n",
       "    </tr>\n",
       "  </thead>\n",
       "  <tbody>\n",
       "    <tr>\n",
       "      <th>0</th>\n",
       "      <td>0000061d-f3e9-484b-8c73-e54f355032a3</td>\n",
       "      <td>2020-01-16 03:30:41+00:00</td>\n",
       "      <td>2020-01-16 03:30:41+00:00</td>\n",
       "      <td>0 days 00:00:00</td>\n",
       "    </tr>\n",
       "    <tr>\n",
       "      <th>1</th>\n",
       "      <td>00000ac8-0015-4f12-996a-be2896323738</td>\n",
       "      <td>2020-01-24 22:22:20+00:00</td>\n",
       "      <td>2020-01-24 22:22:20+00:00</td>\n",
       "      <td>0 days 00:00:00</td>\n",
       "    </tr>\n",
       "    <tr>\n",
       "      <th>2</th>\n",
       "      <td>00001ca1-f2df-4572-b0b8-e752e2064aae</td>\n",
       "      <td>2020-01-01 19:09:23+00:00</td>\n",
       "      <td>2020-01-01 19:09:23+00:00</td>\n",
       "      <td>0 days 00:00:00</td>\n",
       "    </tr>\n",
       "    <tr>\n",
       "      <th>3</th>\n",
       "      <td>00002db7-16b6-4db2-bf8b-7a1cb6bd0e7f</td>\n",
       "      <td>2020-01-22 16:51:50+00:00</td>\n",
       "      <td>2020-01-22 16:51:50+00:00</td>\n",
       "      <td>0 days 00:00:00</td>\n",
       "    </tr>\n",
       "    <tr>\n",
       "      <th>4</th>\n",
       "      <td>00002f68-09b8-4db3-a092-aeff45fd13ad</td>\n",
       "      <td>2020-01-25 07:17:58+00:00</td>\n",
       "      <td>2020-01-25 07:17:58+00:00</td>\n",
       "      <td>0 days 00:00:00</td>\n",
       "    </tr>\n",
       "    <tr>\n",
       "      <th>...</th>\n",
       "      <td>...</td>\n",
       "      <td>...</td>\n",
       "      <td>...</td>\n",
       "      <td>...</td>\n",
       "    </tr>\n",
       "    <tr>\n",
       "      <th>911569</th>\n",
       "      <td>ffff7b96-9751-4eaa-806e-fe979cc00dc8</td>\n",
       "      <td>2020-01-25 11:32:02+00:00</td>\n",
       "      <td>2020-01-24 16:57:30+00:00</td>\n",
       "      <td>0 days 18:34:32</td>\n",
       "    </tr>\n",
       "    <tr>\n",
       "      <th>911570</th>\n",
       "      <td>ffff80e2-ad33-4704-9ffe-d6c612e9641f</td>\n",
       "      <td>2020-01-21 18:07:47+00:00</td>\n",
       "      <td>2020-01-21 18:07:47+00:00</td>\n",
       "      <td>0 days 00:00:00</td>\n",
       "    </tr>\n",
       "    <tr>\n",
       "      <th>911571</th>\n",
       "      <td>ffff8da3-b79a-48f2-888c-117f2d1a7793</td>\n",
       "      <td>2020-01-26 10:53:09+00:00</td>\n",
       "      <td>2020-01-26 10:53:09+00:00</td>\n",
       "      <td>0 days 00:00:00</td>\n",
       "    </tr>\n",
       "    <tr>\n",
       "      <th>911572</th>\n",
       "      <td>ffff9422-39ba-4cdf-afd1-a9d87bb3d79b</td>\n",
       "      <td>2020-01-13 09:55:09+00:00</td>\n",
       "      <td>2020-01-13 09:55:09+00:00</td>\n",
       "      <td>0 days 00:00:00</td>\n",
       "    </tr>\n",
       "    <tr>\n",
       "      <th>911573</th>\n",
       "      <td>ffffa1ef-6a9a-45cf-8150-6f781499e6e3</td>\n",
       "      <td>2020-01-16 14:50:22+00:00</td>\n",
       "      <td>2020-01-16 14:50:10+00:00</td>\n",
       "      <td>0 days 00:00:12</td>\n",
       "    </tr>\n",
       "  </tbody>\n",
       "</table>\n",
       "<p>911574 rows × 4 columns</p>\n",
       "</div>"
      ],
      "text/plain": [
       "                                user_session                       max  \\\n",
       "0       0000061d-f3e9-484b-8c73-e54f355032a3 2020-01-16 03:30:41+00:00   \n",
       "1       00000ac8-0015-4f12-996a-be2896323738 2020-01-24 22:22:20+00:00   \n",
       "2       00001ca1-f2df-4572-b0b8-e752e2064aae 2020-01-01 19:09:23+00:00   \n",
       "3       00002db7-16b6-4db2-bf8b-7a1cb6bd0e7f 2020-01-22 16:51:50+00:00   \n",
       "4       00002f68-09b8-4db3-a092-aeff45fd13ad 2020-01-25 07:17:58+00:00   \n",
       "...                                      ...                       ...   \n",
       "911569  ffff7b96-9751-4eaa-806e-fe979cc00dc8 2020-01-25 11:32:02+00:00   \n",
       "911570  ffff80e2-ad33-4704-9ffe-d6c612e9641f 2020-01-21 18:07:47+00:00   \n",
       "911571  ffff8da3-b79a-48f2-888c-117f2d1a7793 2020-01-26 10:53:09+00:00   \n",
       "911572  ffff9422-39ba-4cdf-afd1-a9d87bb3d79b 2020-01-13 09:55:09+00:00   \n",
       "911573  ffffa1ef-6a9a-45cf-8150-6f781499e6e3 2020-01-16 14:50:22+00:00   \n",
       "\n",
       "                             min        duration  \n",
       "0      2020-01-16 03:30:41+00:00 0 days 00:00:00  \n",
       "1      2020-01-24 22:22:20+00:00 0 days 00:00:00  \n",
       "2      2020-01-01 19:09:23+00:00 0 days 00:00:00  \n",
       "3      2020-01-22 16:51:50+00:00 0 days 00:00:00  \n",
       "4      2020-01-25 07:17:58+00:00 0 days 00:00:00  \n",
       "...                          ...             ...  \n",
       "911569 2020-01-24 16:57:30+00:00 0 days 18:34:32  \n",
       "911570 2020-01-21 18:07:47+00:00 0 days 00:00:00  \n",
       "911571 2020-01-26 10:53:09+00:00 0 days 00:00:00  \n",
       "911572 2020-01-13 09:55:09+00:00 0 days 00:00:00  \n",
       "911573 2020-01-16 14:50:10+00:00 0 days 00:00:12  \n",
       "\n",
       "[911574 rows x 4 columns]"
      ]
     },
     "execution_count": 12,
     "metadata": {},
     "output_type": "execute_result"
    }
   ],
   "source": [
    "event_type_session_duration = df.groupby(['user_session'],as_index=False)[['event_time']].agg(['max','min'])\n",
    "event_type_session_duration.columns = ['user_session','max','min']\n",
    "event_type_session_duration['duration'] = event_type_session_duration['max'] - event_type_session_duration['min']\n",
    "event_type_session_duration"
   ]
  },
  {
   "cell_type": "code",
   "execution_count": 18,
   "metadata": {},
   "outputs": [
    {
     "data": {
      "text/html": [
       "<div>\n",
       "<style scoped>\n",
       "    .dataframe tbody tr th:only-of-type {\n",
       "        vertical-align: middle;\n",
       "    }\n",
       "\n",
       "    .dataframe tbody tr th {\n",
       "        vertical-align: top;\n",
       "    }\n",
       "\n",
       "    .dataframe thead th {\n",
       "        text-align: right;\n",
       "    }\n",
       "</style>\n",
       "<table border=\"1\" class=\"dataframe\">\n",
       "  <thead>\n",
       "    <tr style=\"text-align: right;\">\n",
       "      <th></th>\n",
       "      <th>user_session</th>\n",
       "      <th>cart</th>\n",
       "      <th>purchase</th>\n",
       "      <th>remove_from_cart</th>\n",
       "      <th>view</th>\n",
       "    </tr>\n",
       "  </thead>\n",
       "  <tbody>\n",
       "    <tr>\n",
       "      <th>0</th>\n",
       "      <td>0000061d-f3e9-484b-8c73-e54f355032a3</td>\n",
       "      <td>0.0</td>\n",
       "      <td>0.0</td>\n",
       "      <td>0.0</td>\n",
       "      <td>1.0</td>\n",
       "    </tr>\n",
       "    <tr>\n",
       "      <th>1</th>\n",
       "      <td>00000ac8-0015-4f12-996a-be2896323738</td>\n",
       "      <td>0.0</td>\n",
       "      <td>0.0</td>\n",
       "      <td>0.0</td>\n",
       "      <td>1.0</td>\n",
       "    </tr>\n",
       "    <tr>\n",
       "      <th>2</th>\n",
       "      <td>00001ca1-f2df-4572-b0b8-e752e2064aae</td>\n",
       "      <td>0.0</td>\n",
       "      <td>0.0</td>\n",
       "      <td>0.0</td>\n",
       "      <td>1.0</td>\n",
       "    </tr>\n",
       "    <tr>\n",
       "      <th>3</th>\n",
       "      <td>00002db7-16b6-4db2-bf8b-7a1cb6bd0e7f</td>\n",
       "      <td>0.0</td>\n",
       "      <td>0.0</td>\n",
       "      <td>0.0</td>\n",
       "      <td>1.0</td>\n",
       "    </tr>\n",
       "    <tr>\n",
       "      <th>4</th>\n",
       "      <td>00002f68-09b8-4db3-a092-aeff45fd13ad</td>\n",
       "      <td>0.0</td>\n",
       "      <td>0.0</td>\n",
       "      <td>0.0</td>\n",
       "      <td>1.0</td>\n",
       "    </tr>\n",
       "    <tr>\n",
       "      <th>...</th>\n",
       "      <td>...</td>\n",
       "      <td>...</td>\n",
       "      <td>...</td>\n",
       "      <td>...</td>\n",
       "      <td>...</td>\n",
       "    </tr>\n",
       "    <tr>\n",
       "      <th>911569</th>\n",
       "      <td>ffff7b96-9751-4eaa-806e-fe979cc00dc8</td>\n",
       "      <td>1.0</td>\n",
       "      <td>0.0</td>\n",
       "      <td>2.0</td>\n",
       "      <td>10.0</td>\n",
       "    </tr>\n",
       "    <tr>\n",
       "      <th>911570</th>\n",
       "      <td>ffff80e2-ad33-4704-9ffe-d6c612e9641f</td>\n",
       "      <td>0.0</td>\n",
       "      <td>0.0</td>\n",
       "      <td>0.0</td>\n",
       "      <td>1.0</td>\n",
       "    </tr>\n",
       "    <tr>\n",
       "      <th>911571</th>\n",
       "      <td>ffff8da3-b79a-48f2-888c-117f2d1a7793</td>\n",
       "      <td>0.0</td>\n",
       "      <td>0.0</td>\n",
       "      <td>0.0</td>\n",
       "      <td>1.0</td>\n",
       "    </tr>\n",
       "    <tr>\n",
       "      <th>911572</th>\n",
       "      <td>ffff9422-39ba-4cdf-afd1-a9d87bb3d79b</td>\n",
       "      <td>0.0</td>\n",
       "      <td>0.0</td>\n",
       "      <td>0.0</td>\n",
       "      <td>1.0</td>\n",
       "    </tr>\n",
       "    <tr>\n",
       "      <th>911573</th>\n",
       "      <td>ffffa1ef-6a9a-45cf-8150-6f781499e6e3</td>\n",
       "      <td>0.0</td>\n",
       "      <td>0.0</td>\n",
       "      <td>0.0</td>\n",
       "      <td>2.0</td>\n",
       "    </tr>\n",
       "  </tbody>\n",
       "</table>\n",
       "<p>911574 rows × 5 columns</p>\n",
       "</div>"
      ],
      "text/plain": [
       "                                user_session  cart  purchase  \\\n",
       "0       0000061d-f3e9-484b-8c73-e54f355032a3   0.0       0.0   \n",
       "1       00000ac8-0015-4f12-996a-be2896323738   0.0       0.0   \n",
       "2       00001ca1-f2df-4572-b0b8-e752e2064aae   0.0       0.0   \n",
       "3       00002db7-16b6-4db2-bf8b-7a1cb6bd0e7f   0.0       0.0   \n",
       "4       00002f68-09b8-4db3-a092-aeff45fd13ad   0.0       0.0   \n",
       "...                                      ...   ...       ...   \n",
       "911569  ffff7b96-9751-4eaa-806e-fe979cc00dc8   1.0       0.0   \n",
       "911570  ffff80e2-ad33-4704-9ffe-d6c612e9641f   0.0       0.0   \n",
       "911571  ffff8da3-b79a-48f2-888c-117f2d1a7793   0.0       0.0   \n",
       "911572  ffff9422-39ba-4cdf-afd1-a9d87bb3d79b   0.0       0.0   \n",
       "911573  ffffa1ef-6a9a-45cf-8150-6f781499e6e3   0.0       0.0   \n",
       "\n",
       "        remove_from_cart  view  \n",
       "0                    0.0   1.0  \n",
       "1                    0.0   1.0  \n",
       "2                    0.0   1.0  \n",
       "3                    0.0   1.0  \n",
       "4                    0.0   1.0  \n",
       "...                  ...   ...  \n",
       "911569               2.0  10.0  \n",
       "911570               0.0   1.0  \n",
       "911571               0.0   1.0  \n",
       "911572               0.0   1.0  \n",
       "911573               0.0   2.0  \n",
       "\n",
       "[911574 rows x 5 columns]"
      ]
     },
     "execution_count": 18,
     "metadata": {},
     "output_type": "execute_result"
    }
   ],
   "source": [
    "session_duration = pd.pivot_table(df,index=['user_session'],columns=['event_type'],values=['event_time'],aggfunc='count')\n",
    "session_duration.reset_index(drop=False,inplace=True)\n",
    "session_duration.columns = ['user_session','cart','purchase','remove_from_cart','view']\n",
    "session_duration.fillna(0,inplace=True)\n",
    "session_duration"
   ]
  },
  {
   "cell_type": "markdown",
   "metadata": {},
   "source": [
    "### 구매까지 한 세션 구하기"
   ]
  },
  {
   "cell_type": "code",
   "execution_count": 25,
   "metadata": {},
   "outputs": [
    {
     "data": {
      "text/plain": [
       "['0013b593-e8eb-4bcf-b117-441db7cd9c6d',\n",
       " '001955e7-9f9f-4aad-a585-0dc5b988fe2e',\n",
       " '001a3579-4bf6-45d7-b48d-1fbb7ecd40da',\n",
       " '001cfc10-201f-86fd-73b5-2f8fcfcf541d',\n",
       " '001f6463-08b9-4363-a079-21499489a1c1',\n",
       " '0028c9dd-e5f3-456c-a8fe-7dcc73c5e486',\n",
       " '002a3244-0830-4e47-b6c8-9a70b72baee1',\n",
       " '002b11ec-6b6b-4eb4-8609-550e1205491f',\n",
       " '002cc9f7-5056-4590-99a2-0441d5c5366e',\n",
       " '0033400f-3041-48b3-b6fa-9fdcab5521d0',\n",
       " '0037df26-4c23-40d3-98d4-71c4d4f51304',\n",
       " '003b0407-9189-4e02-8c33-08a1b5456df2',\n",
       " '00429d74-9276-41fe-909e-4e4ee687cf7e',\n",
       " '0043c90b-b11a-4fc2-9acf-cb175382822b',\n",
       " '00495446-cbd5-488e-9104-8cf9751211b9',\n",
       " '004a1efd-5206-45cb-b7eb-71dce7432fe3',\n",
       " '0055ecef-7400-ae63-df27-df8a5f959b9a',\n",
       " '00566b2d-63cb-413a-a637-178cebaba81a',\n",
       " '0056f4e1-f842-4366-8bba-2320f0ca8209',\n",
       " '005865c7-4b56-47cb-977b-e807bbab826c',\n",
       " '005fbc5b-7ee4-476c-a9b6-66e109d14663',\n",
       " '00611e99-349b-a14f-8a08-6c4095929d5d',\n",
       " '00612fa2-3bf5-03a0-d179-f2241fa6e8ab',\n",
       " '00621687-669d-4d85-b699-1ef86235e8ed',\n",
       " '006bc9fb-8f16-4ae7-85c4-b3d6223a5b29',\n",
       " '00715560-449e-40a3-aaca-00a6e4ccedc4',\n",
       " '0071fa1f-7690-41c4-8157-8a9a8caa96b3',\n",
       " '0072e954-2c38-4f9c-8965-26ad68476f76',\n",
       " '0073dd76-166c-49e3-a4b0-5f0cc7074627',\n",
       " '0073f2e5-c7d5-4858-a9bf-4be2794cdf70',\n",
       " '0074bee4-03e9-4e5b-8761-9a03ab35721a',\n",
       " '00754a19-d36b-43cc-b3f2-37473954ce56',\n",
       " '0078b78b-f0b0-4644-8f1f-eddb8fe8c749',\n",
       " '00791424-ba4d-431c-933c-c90598565fd8',\n",
       " '007bf584-bd91-45d4-bb2a-efd49d672e53',\n",
       " '007c1dd7-39ba-4a02-8e2a-02fd3d2ca607',\n",
       " '007c2920-9d99-4001-b5db-3ee2df84327c',\n",
       " '007c551b-c406-4949-8642-99dd33137a4b',\n",
       " '007d646e-2820-40f6-bdfd-bcf68a4e24cd',\n",
       " '007db365-d088-4e6d-b5a2-84c02bde99bb',\n",
       " '007e9e3d-e422-4cb3-aada-38607701ffc7',\n",
       " '007f894f-4c29-401a-8faf-985d042a3367',\n",
       " '00803ac9-9b84-4ec7-a340-05b716879e00',\n",
       " '00864a63-78ed-45f6-9258-e5d36877aa41',\n",
       " '0086b638-2531-432b-b2c3-2bd1567a9925',\n",
       " '00875084-5ac0-450b-b102-a2e311c7307a',\n",
       " '00884be1-343d-4604-8a35-98a8fb7259f4',\n",
       " '0091264b-214e-430c-842f-817c883c3d69',\n",
       " '009556d0-ef16-42b1-9f37-5fbb881c01c8',\n",
       " '0095d942-c40c-48dd-93d2-a4a18278f3a5',\n",
       " '009719f5-cab2-4676-bb9d-278eb07a8055',\n",
       " '0098c767-68b1-4a1e-9421-f2cbeba090cf',\n",
       " '0098d717-ca76-43a8-bf26-15e089718c4c',\n",
       " '009acf52-9d79-48b3-ab3d-06bc88721554',\n",
       " '009e0913-4a1c-4162-90d8-7cfea6d7bd27',\n",
       " '00a1dbbe-813d-4834-80fd-d72364dce0e4',\n",
       " '00a20cc9-77e0-4d32-acf4-decc8769646c',\n",
       " '00a83474-67d5-4b35-bd28-0b079be1323b',\n",
       " '00aa49ad-06b1-416a-9e50-6d92cbe9c9fc',\n",
       " '00ab2e6d-f130-1cf6-6225-e1b88481ee21',\n",
       " '00b18369-bae7-4558-b837-4f9c288cdbc8',\n",
       " '00b3a8dd-19b1-4bdf-a55a-74c917adc952',\n",
       " '00b4b092-4308-42b0-a6ee-aca69de93cbd',\n",
       " '00b4fb39-6f56-4532-93bb-d3a875e9e4cb',\n",
       " '00b76fe5-60c7-466d-9481-80ab09b37281',\n",
       " '00ba0fc6-1970-407b-aee5-35ccf01b78a6',\n",
       " '00bab164-604d-485e-9b31-82a4a7cfc66c',\n",
       " '00c4f5da-58c9-4354-a24e-d2ecd6bf2aad',\n",
       " '00c507d4-ace6-4762-8eb6-f42159db9c60',\n",
       " '00c526de-cb66-4e80-917c-e9b49f4bd3c2',\n",
       " '00c664be-05d1-4117-84d6-133753fc4d12',\n",
       " '00c6c3c5-bf8b-4232-8434-bd648ed52b97',\n",
       " '00c93479-12e6-b572-a635-7b32dd7d24f6',\n",
       " '00c9d01c-77a7-4297-bf8b-9696b68f5962',\n",
       " '00ca4cbb-9a22-4425-8102-54a4c0ddcd43',\n",
       " '00da5774-4a8b-4b2c-848f-c44d7b67718e',\n",
       " '00e3fa94-4368-4cbf-8772-06db288f55f6',\n",
       " '00e920ec-1c04-4b96-9ee1-088e2a2861e4',\n",
       " '00e9debc-da41-4967-830b-8cc4eb9cc716',\n",
       " '00ec092e-168f-4f0c-a1fa-fec55f1b7a6d',\n",
       " '00eff4f8-eb00-4e0e-bab2-2bf0b99df4a3',\n",
       " '00fd63ac-78cc-4ed9-833c-c67d95f36ff5',\n",
       " '00ffc62b-0c01-4d46-9c89-a3899e42cdb5',\n",
       " '01001e04-9027-4d17-ac40-ea1b14503b35',\n",
       " '01017c4d-c38b-1767-f850-7e6e44a4060e',\n",
       " '0113ca28-380d-48a3-85ce-5c81b0c7ccbc',\n",
       " '01158b52-78c3-401f-ad21-15b00af440c2',\n",
       " '0119b62d-f209-4acc-8dd7-4eb9f7942dd1',\n",
       " '011c6e91-d9ea-45ff-9997-f893c1bd1458',\n",
       " '0124620f-1fe6-4355-8102-fd1457cc07fd',\n",
       " '0124639a-81ef-4471-b170-d4631a44a12f',\n",
       " '0128b53d-9ecb-4dcf-be90-07010cdc5673',\n",
       " '0128bbfa-b3ab-4037-b99f-d79630248741',\n",
       " '012ccd53-4862-4e78-88f3-e48631681bf0',\n",
       " '01312055-8e7d-4b28-bbf3-c924af5c6936',\n",
       " '0134d007-cccd-46b9-936e-deee11916a07',\n",
       " '013501f7-bdf7-4ae7-a836-00cba70a1e67',\n",
       " '013d9c8e-cbb7-4ac2-a2af-68f6dacf63ea',\n",
       " '01452d72-ce72-405a-81f2-58d2acf57d53',\n",
       " '01462659-2570-44cb-b735-972bef8f2429',\n",
       " '01473657-9610-4502-a9d9-eef0bc9a5c89',\n",
       " '014e7b1a-bc9f-4cb0-a643-53c43014bade',\n",
       " '014fefc9-8e59-4553-bed3-42f5f9c78eed',\n",
       " '015483f3-229a-472a-b1b4-3ded050e7147',\n",
       " '01549589-79da-4a61-9bd0-58902e2810aa',\n",
       " '015b3ed1-43be-431c-b433-85d84ec41999',\n",
       " '015eddf4-1f9f-4b3b-8db0-72d1e3686995',\n",
       " '01634d69-f2c7-42a4-8b9a-a9a0bd60946f',\n",
       " '0167ef1b-4f07-4b60-b227-0291e2a21f98',\n",
       " '016b7d62-8179-46c4-bc84-ed5108c297b5',\n",
       " '016e5ac5-d59c-4515-b734-169120751696',\n",
       " '01739f06-f416-4afa-b0e6-6ae4e7bf3fe1',\n",
       " '017aae09-6429-4ed5-b9f5-f1b615fcbcaa',\n",
       " '0181c05b-82b7-4dde-815c-bf7dd91d21cb',\n",
       " '01877618-b99a-4ac7-9f99-30528a35ecd4',\n",
       " '01877fc4-0af9-41a1-8e54-487d635f5686',\n",
       " '0187bbb5-6e25-9c8d-dcbf-da105dcad3c1',\n",
       " '018b5456-9dc3-405b-9e57-251d1e36d836',\n",
       " '018cb56a-bb6b-4a04-8e33-c400038c6dfa',\n",
       " '018ccc91-11d1-4aa3-a328-c3e16e03cce4',\n",
       " '018f773a-dc1d-47c8-8bfa-bc83b95e4ea9',\n",
       " '0190690c-969c-4bc0-a6e0-97daf5c4614b',\n",
       " '01958d0a-109f-477a-b183-34511bfaa10b',\n",
       " '01977d77-8b66-46cd-9462-13ba727c1181',\n",
       " '019938f7-3c66-4dc6-b9b3-fedf9c936990',\n",
       " '019a9927-1853-4091-aad2-114d002b6e78',\n",
       " '019b7209-3b48-458a-94f8-2045a24ac039',\n",
       " '019c4c13-3c3e-42b0-a7b3-88b70687fbe6',\n",
       " '01a4633f-2a8a-43c5-8c0c-b7e6b1026d56',\n",
       " '01a4fd85-cc59-4ba5-9aa1-4d7d40137c9f',\n",
       " '01a56b01-a9a7-4247-9431-42bb31f8092c',\n",
       " '01a6a5b1-2635-4f2d-be18-658dedd6a568',\n",
       " '01a95761-6b82-4857-b3d0-1dc5d2d1bc7a',\n",
       " '01ae6406-e343-464f-85a8-85570a46571c',\n",
       " '01aefdb3-3280-45d2-b284-e9a5582a39e0',\n",
       " '01b07d1d-0f45-43b7-ac31-541c8a9b41c7',\n",
       " '01b0f5c0-f62c-44fc-9c1b-9dd6d04162d7',\n",
       " '01b1f8c4-56ef-44ec-bb69-49de9e9367a1',\n",
       " '01b6d015-ba4a-490b-9209-42b95eb8d263',\n",
       " '01bada2f-e3c2-468a-bc32-16c7a6e49ec9',\n",
       " '01bc8340-c82f-4c1b-a14b-4fbbda63236f',\n",
       " '01c4fe30-e925-4a7e-b377-834551a589ea',\n",
       " '01c64858-0fee-4ced-96b8-a03e0769257c',\n",
       " '01c74ca0-8610-45d7-833b-1c4df6dfdbef',\n",
       " '01c9e4a9-2e51-45cd-ac88-a318d6afeb4b',\n",
       " '01ce8bc2-90b5-4ff6-9e0f-d13abe96d2f2',\n",
       " '01cf3686-043f-48e3-bafd-5c826c426baf',\n",
       " '01d0abbd-1f1c-45a3-a82a-7aa49aa945b0',\n",
       " '01d64f87-262c-4dfb-98ce-4e5d605f9a93',\n",
       " '01d6eb24-8aae-471a-8bc8-7a84aeeb6f69',\n",
       " '01d80498-c9dc-407f-beae-045d1d393513',\n",
       " '01d8ea5b-f822-47b0-a23a-1eadfff58452',\n",
       " '01d99489-d0a2-44f8-af62-46a03a906856',\n",
       " '01d99ea1-4b9e-4bf4-b280-8e92e0ca0fdf',\n",
       " '01dfb1a5-2dd5-404b-86c2-94f124a50a6d',\n",
       " '01dff55a-f0ca-462e-9dec-df4f88047b50',\n",
       " '01e28f26-ab98-4117-a6f8-1ba0b67a06f0',\n",
       " '01e2e505-a587-4215-9834-734171c027c8',\n",
       " '01eb8541-3b4e-dea7-4af8-5a14521382ad',\n",
       " '01ec400d-2271-4c36-b4bc-a6c0b5578ce5',\n",
       " '01ede1af-114d-22dc-873e-cb8388d3b696',\n",
       " '01eded8e-38ff-454f-b1d0-3050acd7aeb4',\n",
       " '01f05057-76e4-45ef-a166-bf3d40a4b987',\n",
       " '01f0854c-f843-4c4f-84ef-3c2c03e04706',\n",
       " '01f2524a-d694-4069-89c2-065fe6184ed3',\n",
       " '01f2e5db-2bc6-4f69-8ac6-700f865a4e94',\n",
       " '01f66c8c-b457-49f9-9254-3f70b5d8e275',\n",
       " '01f6dc1c-6c22-490c-ad86-8af076f3eea4',\n",
       " '01f81abd-83ea-4bda-88eb-2e0eeac89bec',\n",
       " '01f8f9fc-8eab-4af6-ae0e-5d28321154aa',\n",
       " '01f94f16-e201-48c1-955a-cb2d769d5b47',\n",
       " '01fa4fae-a72a-4379-90c3-c72a939aeb81',\n",
       " '01fa5adb-c3ea-4f57-ab47-c751d17e0f26',\n",
       " '01fcda0e-94dd-46a3-8c97-a056d41c8b3b',\n",
       " '01ff9cf1-6c62-43aa-acca-ebeafe049bd5',\n",
       " '0203860e-03d9-44c6-afa6-319138241151',\n",
       " '0207f599-40ee-454b-90f2-0e129af8bd94',\n",
       " '0208c77a-3bc2-4ce3-8b2c-b16fc240dffa',\n",
       " '020a74b4-1d53-45e3-84ce-fe06169c5783',\n",
       " '020aad6f-9bd2-4455-b747-7e3324bfbcf8',\n",
       " '020cc058-a3ab-477c-b0f4-dd9d3bfad033',\n",
       " '020d9b86-9c55-44f4-a4bd-53d2ae786671',\n",
       " '0211deab-d18c-7397-d855-d09a482703fd',\n",
       " '0216d2b8-c26a-4bfa-b5c8-f5fd776beea3',\n",
       " '0217b639-b885-4f6e-a8e5-aebc5b6afb9b',\n",
       " '021ee63e-4e45-4bcb-9eb4-b9a82b0c6330',\n",
       " '021ee9fd-25da-4ded-97e4-51814d4f3c88',\n",
       " '0220b79e-889b-4d9e-8ade-551c2b4a3662',\n",
       " '0220f81b-c811-46a1-93cb-3d66e7277ab2',\n",
       " '0223d05f-7ff6-4ac8-ba00-28bdedf5288f',\n",
       " '0228c680-a2c4-45c4-bd2a-67d97f7b3940',\n",
       " '022b2939-d40f-4d56-889d-5ce1f7dd756b',\n",
       " '022c674f-7342-4ceb-aa07-90a274bd7ed4',\n",
       " '022dac60-191f-41f9-96e8-edc599fdcbb7',\n",
       " '0232183c-71a8-4c56-b34c-1744696665ef',\n",
       " '02346de3-9de0-4280-a9ef-afa3988b6701',\n",
       " '02348c05-6af3-4810-884d-afb53ee292c4',\n",
       " '0235507b-279c-43f8-9ce5-51b2183a1d2f',\n",
       " '023a3dc1-349b-45d5-b149-acad640c6ba0',\n",
       " '023cb0c2-5edf-4f26-bd4a-08dba3879ec8',\n",
       " '024a3574-fbd8-4b10-bca9-36d38a34383f',\n",
       " '024b021f-4a8a-42ae-b7b3-c42c5e15e4d2',\n",
       " '024bd0c9-4239-4aae-ab0e-c7728ac0b549',\n",
       " '024c4809-9519-4391-8b23-5c1ae0eaaeb9',\n",
       " '025404fc-dfeb-486e-a65b-0079a46747c3',\n",
       " '0255ba96-7229-44f0-b7de-c00fe2e30986',\n",
       " '0255fcca-8875-4a14-81e8-fb30fc0cc336',\n",
       " '025785e8-5a25-4d0f-a7d1-6e3d7ee30e54',\n",
       " '025c76b3-3761-4f7e-a76d-5a8b92150c13',\n",
       " '025c7d65-c9e5-4f70-a28a-4737516b28d7',\n",
       " '025cc673-e3c7-4ea9-8de2-1b730064e5e8',\n",
       " '025e9aae-f516-4b66-8dfb-581b0267cbdd',\n",
       " '025ee32b-c46f-4ad4-8605-50f97e187d13',\n",
       " '02679a9d-39af-412f-8e70-ccd204f7081e',\n",
       " '026be559-2cd4-4a92-bf31-a00cb036e167',\n",
       " '026bf879-28cd-43a1-9a1b-778c96ab6164',\n",
       " '0270a832-6a8b-4ac7-ad47-bbfddd19a016',\n",
       " '02756d21-0e5d-4e93-8bcd-aa9e4671e5ed',\n",
       " '027936a7-b0be-4187-87ca-8fe58e923e0e',\n",
       " '02819103-16ff-437e-90ef-757525055856',\n",
       " '028922ae-6b4e-4d57-8abe-b31f9fe78db0',\n",
       " '028a8af0-2321-4af2-9fdd-a8d4005782c1',\n",
       " '028ac241-8666-48da-a802-eb2cbcde5570',\n",
       " '0292870a-38f7-45a3-a930-53f9db66c4ac',\n",
       " '029308da-705f-4a36-94dc-f0dc3d2ae068',\n",
       " '02939eca-0af5-4f43-b5cd-9f95261b0091',\n",
       " '02946482-9b2f-4968-8e06-d73c394cb2f9',\n",
       " '029c63b4-435d-4349-903f-ad7f3f30b35d',\n",
       " '029ea3e5-cffa-1f86-77a4-2a5fb622a0ca',\n",
       " '02a1f272-76f6-4ea9-b9a0-61530a13ee7b',\n",
       " '02a4a49d-1b50-41c8-aecf-7f8a4d18538e',\n",
       " '02aa66eb-ad05-4424-87a6-46bcfbb6fcb5',\n",
       " '02acf4e8-035d-493b-a4a4-7b536f07f913',\n",
       " '02ae68de-2c2c-4611-9210-64034ba5e575',\n",
       " '02b04b8b-db6b-d08f-af96-358303507453',\n",
       " '02b88783-10f9-4366-a673-4b6ec55fc9bc',\n",
       " '02b927dd-3100-416c-b6f0-ac2f2ed80d53',\n",
       " '02b9f3ba-f71c-4b4f-9bad-a3b951195752',\n",
       " '02bacdc9-1101-cb25-fcfd-efdd7d83e589',\n",
       " '02be1f5e-e05d-4969-ac0c-f9d61584553e',\n",
       " '02bfd503-02b6-4921-b273-6faba1b649f5',\n",
       " '02cc4f83-1c35-4769-b6d7-1723b96d949a',\n",
       " '02cf4b2e-7578-4d7d-9a66-3162d4610703',\n",
       " '02d86b88-3567-4b09-b04d-c4f70d812723',\n",
       " '02dc3642-3214-40cf-b6fa-fd66508a01e0',\n",
       " '02ddd811-d407-4f51-81c4-20d5eca2c9aa',\n",
       " '02ded346-3a64-bd08-536d-5a7b6393a894',\n",
       " '02e93668-905d-43c8-a0ce-f2b24e07eac9',\n",
       " '02e9e2a2-0fe9-4091-aae9-9fb49a1152c1',\n",
       " '02ec79cd-3d53-4db1-a362-28649ca6fc6d',\n",
       " '02ecb2ec-b1e8-40f8-9c4a-72cf8f8767ec',\n",
       " '02edc368-70ce-4f9f-a2b0-3c419bc03bb7',\n",
       " '02ee390f-fc90-43dc-a763-51534ca96d03',\n",
       " '02f0c336-b478-ca82-95ed-ef11253d3b5f',\n",
       " '02f1746d-d635-4639-aa8f-909b4dec68d8',\n",
       " '02f21282-c8e3-4321-bb9b-0b224df04c2c',\n",
       " '02f2f83d-b6a9-4690-887a-fb47fe25a127',\n",
       " '02f6707f-c622-4e8b-b737-96dea3f6e444',\n",
       " '02f6bfc1-e169-4111-ad33-568c61beeab5',\n",
       " '02f6f796-f64d-4eb0-a6e9-31c63564ea62',\n",
       " '02f7e938-ed8b-4795-92c2-ea901d54e5a6',\n",
       " '02f821f3-7169-4ea6-9230-5f52885e2ace',\n",
       " '02fdbbb4-ce2a-4976-be0e-3fbb457fdd5e',\n",
       " '02ff3a6d-a36c-4f3b-ae91-b2a832c541eb',\n",
       " '03022077-2513-4959-a3d3-8ca630fc6014',\n",
       " '03052a82-4fb6-4bf3-923b-7c2ff7cf6310',\n",
       " '030c5c16-1b01-444c-8111-e0f0441bce3b',\n",
       " '0311947c-cf9e-4822-b8c5-f3908613d8a2',\n",
       " '0312ec36-3259-4984-954f-14d735fdfa58',\n",
       " '03160ff2-645f-4c68-aa03-ff4df409a3ab',\n",
       " '0316b6a9-f919-44f6-83ba-1039b95d7ad0',\n",
       " '0319551b-d8fe-4edb-869a-972187e84775',\n",
       " '031adecd-b667-4ecf-973a-dce68a148a29',\n",
       " '031c5189-f64e-4780-adc5-1426388a2e39',\n",
       " '032268fb-bc92-487b-82db-dad6f84466ea',\n",
       " '03245590-1648-4b4f-993c-3f552c0df6a3',\n",
       " '0325130f-03fa-46f8-80e8-87e2a86096f4',\n",
       " '03258b7a-a078-458d-9fd8-e604e234188a',\n",
       " '03259883-c5d0-4323-83d7-0d920657ca50',\n",
       " '03265a3e-a602-4614-97d4-6bb6bbbc9dc7',\n",
       " '0327b5a4-d706-4379-9f11-ec18fe434c53',\n",
       " '032bfc36-a2ef-4ba8-8cf2-061bdfe6b077',\n",
       " '0330cf0c-6a8c-42d0-99c1-77b29568c2f8',\n",
       " '033393d0-020a-4b61-a9e0-4bf5e606cacf',\n",
       " '033435e0-ce21-49c3-82b4-14e09fb60a4e',\n",
       " '03371487-8948-4644-93f5-beb09e7170a8',\n",
       " '03371bcf-40b7-488a-a8fd-1b988e6a0f5b',\n",
       " '033a982d-5b7d-4549-8491-0c1e8749857b',\n",
       " '033cb4d6-68fd-49ad-9110-c5987d0ffa1d',\n",
       " '0341836f-d42a-4e1d-9fca-76cd58c8f2e5',\n",
       " '03429322-f9f5-4803-a187-81455be42678',\n",
       " '03437729-b415-35c7-e606-f3c4e3375e18',\n",
       " '034509c3-2e79-4f9c-9f56-d4250ece711f',\n",
       " '03450b48-cf58-46f3-970e-abc08f9b8603',\n",
       " '03472eab-9ac4-4607-ae2d-a9fef3850041',\n",
       " '03490947-fd90-47a8-bda0-1241ac9b95ea',\n",
       " '0349ca59-220b-4ff0-9a71-3ca5c726f7dc',\n",
       " '0349d84e-a338-403c-a7fb-bd3547d593e3',\n",
       " '034a8c06-4895-4e7c-8328-518afb4edca3',\n",
       " '0350ff7e-4d55-4385-8486-e60a0e56e69f',\n",
       " '0352cc71-8cd8-47dd-a7be-a7c347d78fb8',\n",
       " '03542e95-c102-451d-be72-89d8f57db032',\n",
       " '0359d12b-9a6b-4692-843a-3489ffc06fc6',\n",
       " '0361604d-1af7-42d6-b3f3-0a570c821673',\n",
       " '0362bb46-aed6-4e33-8f20-f294bfd13b42',\n",
       " '0364ec5e-0935-4ecd-9aff-65d8bfad3c06',\n",
       " '03672192-0a29-43b9-ae89-c4ba81d8e014',\n",
       " '03685dbb-2075-40aa-b160-8b3e12cf79ef',\n",
       " '03695188-f590-4d27-9ca4-e8c20c8afc4f',\n",
       " '036c3222-2c0a-4b5f-b65c-da87216cb013',\n",
       " '036d95ca-460d-40f4-9e17-9d69ee82ba38',\n",
       " '0370f763-b088-4898-897c-c2c9c5674dd7',\n",
       " '0375f0dc-b388-43d8-b117-b2f53684b295',\n",
       " '0377e665-9a66-4b99-9c5f-b0da59f494f3',\n",
       " '03792c3e-1c90-4929-9305-ada7e11b82c4',\n",
       " '03804ace-2ec1-4b58-99de-3371e7bda329',\n",
       " '0388bed1-d5b4-4aea-bdda-10e2a9131983',\n",
       " '0389e2e3-2414-44b5-ad4c-cc0ca05c2f71',\n",
       " '038c646b-d87f-4331-b60e-96161c164595',\n",
       " '03900b8a-ae7d-429a-aae9-bd34ec2d025e',\n",
       " '03952739-b544-4481-b5cb-ec3738d2a457',\n",
       " '0395d82c-389e-449c-a094-f475bc721dc8',\n",
       " '0397470b-710e-4f71-b304-f925738f40fe',\n",
       " '039e626e-2e7e-440b-80d1-9d15a66d8865',\n",
       " '03a30e8f-4559-48c3-80a3-8ee66fb71414',\n",
       " '03a34c24-30a6-458d-a99b-0d82aab85ddb',\n",
       " '03a574e8-6d3e-437a-93f0-3abff5c00210',\n",
       " '03a6222f-1cd1-4e7b-837d-10e62935ac5c',\n",
       " '03ae7bde-186c-4fe6-aed8-83a90d9347c2',\n",
       " '03aeaed5-db00-4795-9f58-5624022a9a51',\n",
       " '03aee802-def5-4719-b659-2b8b8f434b93',\n",
       " '03b0fbc3-75a8-4d0d-ae62-091ab1e99eeb',\n",
       " '03b2a7de-2d09-4a33-acfd-5df002a31fe6',\n",
       " '03b93854-0e81-456d-945a-f4db57924630',\n",
       " '03bdb3de-2911-4f71-9d79-8d0af08e8cc4',\n",
       " '03c6a751-ab45-4105-97b2-bc688cdded9e',\n",
       " '03c8f65e-cc97-4bfe-9c02-6ef8f61a0020',\n",
       " '03c95f0c-393a-4e48-908b-1a5f8f0fdb9f',\n",
       " '03ca41ef-83d6-4326-b653-a2fa5e499b1c',\n",
       " '03ce9632-6733-4518-8c83-27e37486638f',\n",
       " '03cf1a9e-21d5-f9d4-a5e5-e6cc28452f5f',\n",
       " '03cfba10-f738-4fb7-8d60-5efbaa13458b',\n",
       " '03d26298-7627-48a5-8f8c-e0d7656c62c5',\n",
       " '03d481e1-4d2e-4a4f-847c-a069290a1d8c',\n",
       " '03d880e9-dfe8-42a6-99a4-6dd1af0cbda6',\n",
       " '03dd9726-fd5c-f6b0-5ea1-5acf052bdcc0',\n",
       " '03dee3fa-890a-435b-880c-d2b3775c5a35',\n",
       " '03dfebb9-8045-4d4e-9fb1-1f57d6abbb43',\n",
       " '03e0275e-e6de-e328-2019-2b63c16495f3',\n",
       " '03e2c9dc-c938-4c1a-940e-c577dda6070e',\n",
       " '03e454a5-de4e-4c21-9217-eb41bd34b7fb',\n",
       " '03e60282-3732-48aa-8153-e085c49fbde5',\n",
       " '03ed44fd-36fb-40a7-928b-329e9e371d52',\n",
       " '03eefc77-fd3d-494a-b708-64a1f778859b',\n",
       " '03efacd2-6b0d-4795-9480-c6c73ed41a84',\n",
       " '03f606ab-f559-476e-a1e5-ed4559a8b932',\n",
       " '03f781b6-f2cb-4643-8e17-6c9414ad45d2',\n",
       " '03fd795b-d13b-4bf9-8fe6-7573e885ce58',\n",
       " '03fda02f-d88c-4b27-858f-ab25f6ef9c48',\n",
       " '03ff431c-bee6-4779-b32b-538e550de47a',\n",
       " '040923fd-2a2b-4498-9ea0-c393f6992867',\n",
       " '04097b65-49a5-4daa-ada8-c16956f580e0',\n",
       " '040b0bec-b37c-4e96-b769-c59ba8335900',\n",
       " '040cbf12-22a8-4a3b-81d4-5859761673a5',\n",
       " '0414e3f4-778d-4ac3-ab78-7d8058292a28',\n",
       " '041ad76f-e82a-b1fe-525d-f2969678a3ae',\n",
       " '041dc388-92ff-4934-b5bb-cd519678b519',\n",
       " '0422e1a6-f427-4d61-9f1e-57ca21270d46',\n",
       " '04230149-fd7b-4884-bec1-5161f91817ef',\n",
       " '04237241-f4a8-414e-9061-0caea3ba8e19',\n",
       " '042391e7-44b2-4ee6-b945-f17af41a2c5e',\n",
       " '0425346e-937b-429e-94d5-d923a4b8dfa2',\n",
       " '04260872-2489-4bfa-a1b8-5d0e2e868610',\n",
       " '042d8b65-b497-d92a-e99d-5568d6a36898',\n",
       " '042f551e-5ea9-4fdd-ab99-8276e3c7a336',\n",
       " '042fc3e4-75c1-4daf-9b14-3cfc1c5c9716',\n",
       " '04382f10-36bf-4d84-ac6d-634cd807a7bb',\n",
       " '043e5598-8744-4b0c-834e-5facba69bd98',\n",
       " '043feb04-ef62-4b83-a8c0-ce2d3613d636',\n",
       " '04400b8e-d7ab-458c-bd82-305573260f4a',\n",
       " '04407b34-a29d-ad0a-6ae4-629551fc9f57',\n",
       " '0441e188-c073-4798-b7b8-fc89d85b08bd',\n",
       " '04428f66-af72-4f9f-aef4-ba1cbefef47c',\n",
       " '0442ac6b-f307-4cdb-824d-15987a5a3d81',\n",
       " '0443bd48-b50f-428e-8fa2-14cfef4efd65',\n",
       " '0448cda7-22f9-4ff4-90bc-7ef5e24a4247',\n",
       " '0448d7dd-84fe-4f63-b1ae-bf5ac5ae7620',\n",
       " '044a0de3-983d-4ec6-a45c-791d11450eaf',\n",
       " '044a488e-3887-4812-8191-cf2425bbb212',\n",
       " '044b5339-a8a9-455b-98d0-7cba7a924a4d',\n",
       " '044c1c68-ae83-439b-a33d-c57198b3cb81',\n",
       " '044c6173-6385-4daa-bd4a-374243b4408c',\n",
       " '044d5253-206d-4a86-8222-6a1ac72ebac1',\n",
       " '044dd332-74a3-4c8f-a62e-a65640cae9cb',\n",
       " '04521f88-9a8e-41eb-b9ea-0e4607fe5dc0',\n",
       " '0454820c-b393-456d-98fe-0973201cdf86',\n",
       " '04567825-8f1e-4ea5-b22d-7c6e3a9f917d',\n",
       " '04592a6c-8187-43d1-9d0e-b0347252759a',\n",
       " '04600be8-72c4-4ddc-a3c2-1e4e1478aa39',\n",
       " '046268a8-4835-56cb-cea7-340cf9ecf517',\n",
       " '0464f75d-3dbb-4829-b2c4-e2ee226e8fb9',\n",
       " '0466bd14-8887-4b9c-8dd4-9f4cb6d4a16a',\n",
       " '0466dff3-adb2-4d14-9ada-72e06935425f',\n",
       " '04680f0e-8054-49bf-8a09-089009f65b56',\n",
       " '046dd402-e895-46a0-8c36-e96c5cd04bc3',\n",
       " '046e3499-2d2b-4eec-a978-5cf00e625f8d',\n",
       " '0472c210-0440-4fc4-b2de-8758d14f91cd',\n",
       " '04799e2f-9ce6-403b-9a86-170e894010a8',\n",
       " '047abe57-3abe-47a1-9577-8bd8f31c89d6',\n",
       " '047e05f1-acc6-4104-96d1-fd0e95b2412c',\n",
       " '047e1c7f-fa7c-40d8-9e7e-6e40bc4a12c8',\n",
       " '0480bdc5-8369-468c-bf6c-83f78f58ee89',\n",
       " '04834a43-0443-413c-8d5d-e34d33d88723',\n",
       " '04850d6a-1fee-481b-97a2-ffbad928e55f',\n",
       " '048773af-dd8c-4922-bb0e-eb87111e086c',\n",
       " '0487a33a-ec6a-4e8c-be59-f213ef6ffcf0',\n",
       " '048c8e4c-04b3-9437-0dc1-91ea9f7101f9',\n",
       " '048d7ee6-def5-47a9-aefe-e102ef33e387',\n",
       " '048e13c6-6293-4b31-bc42-d978a2095bc6',\n",
       " '048f78f0-2e04-473b-95a3-9affc0f319f9',\n",
       " '04905128-d631-4902-8d20-beaaaf5eca19',\n",
       " '0497d073-8bac-4220-b378-440d37f21052',\n",
       " '049b454e-c464-4311-ae9e-c72a5adf2226',\n",
       " '049c0bde-095c-4c15-a492-8ec5e58c521f',\n",
       " '049c6994-fef3-4745-b039-392704571ebb',\n",
       " '049d7955-5d0b-4513-b774-8dd3510937d5',\n",
       " '04a2c1c4-1afb-48b7-a1c8-c85c43da4f57',\n",
       " '04a4e504-b9fb-4321-9ab7-28a8c0ae90f0',\n",
       " '04a6f03a-aae7-47e1-89e7-93afeb5b659c',\n",
       " '04a8cb83-04a0-4b58-a327-ec231af36df4',\n",
       " '04ac2ead-5846-4dd8-b58f-20e083222266',\n",
       " '04ac8531-ba70-40d0-97e2-3d74ab3f2859',\n",
       " '04ad149a-e498-44f9-82d0-dda2c1d3db60',\n",
       " '04aecbb4-ae09-4045-97b9-f32281560aee',\n",
       " '04b05be4-0a8a-487a-add9-b01f93b12972',\n",
       " '04b8bffe-2365-4e55-b082-9479cbc7bae0',\n",
       " '04bbfad0-2c1b-45df-9fc5-311b6e44e126',\n",
       " '04bd81ae-4312-4b9a-9238-f1cdf854068f',\n",
       " '04bfc253-964e-44b7-850a-439a2f239699',\n",
       " '04c17089-aeb6-4aec-9536-136666aa8c15',\n",
       " '04c2e78e-9863-4797-84de-21b864332c18',\n",
       " '04c3b307-54d0-4dfb-919d-431ed5974be8',\n",
       " '04c8a799-ae74-46a8-827f-d878dd429bfd',\n",
       " '04ccf39c-6b53-3a60-46be-ea0cd6dd23bf',\n",
       " '04cdfaed-2098-4afb-8864-6e96e515ef81',\n",
       " '04d11913-abd9-4616-aad9-8191d98eca56',\n",
       " '04d36e0d-2379-4686-aaa7-da5d141a49ad',\n",
       " '04d5b701-bbbb-4eaa-9492-794b350d9c6b',\n",
       " '04d8e302-6943-4a97-bf47-9d8f30c34c4f',\n",
       " '04dd8387-c11a-4150-b38e-aa2561cc106e',\n",
       " '04de2fc4-4a18-48a1-b5c1-9e1ef4371f11',\n",
       " '04e515cb-92c8-41d6-8080-a9970c2b6a3f',\n",
       " '04e9550c-28ef-4e89-9b66-b66de9bac4f7',\n",
       " '04eb6b14-d4da-45a3-99ba-e4d81cf689bf',\n",
       " '04efc452-3d07-4633-a571-5efadfa6dbe7',\n",
       " '04f0cab8-adeb-4b4d-9404-be3f1f9ff53a',\n",
       " '04f12f19-dd94-4626-a33d-99fe710d7869',\n",
       " '04f92393-ad42-47cb-abfe-0dd3f8e4d941',\n",
       " '04fb391d-db3b-47eb-ac6c-e2ca466692eb',\n",
       " '05020b64-97ea-4545-bb6f-26855aec4c2c',\n",
       " '05059029-92a3-4709-8245-8f785c4b2c47',\n",
       " '050727b0-3e45-4932-9fe6-5f655542da81',\n",
       " '0509f812-c99b-40c7-b63d-872ce6fedaba',\n",
       " '0518b89d-853f-49d7-aeda-4914e436803a',\n",
       " '051b306e-5617-4ddc-8f16-a47c3a74d1c3',\n",
       " '051ce3ab-47d5-4417-a57d-ca8c1aa56aff',\n",
       " '051da1df-32c6-4016-afa4-354238cc2d55',\n",
       " '051f06bc-3fbc-48c7-9864-00e81bdada59',\n",
       " '0520c5b7-9f77-4a77-85c1-4c7ea5f79d41',\n",
       " '05226bd8-66e3-4777-805f-2ece8310c2d6',\n",
       " '05238b71-8d78-4807-85de-be304fbdfba4',\n",
       " '0525f6f4-2ce3-4f05-8724-c29862796eca',\n",
       " '05288b4d-55e4-428a-9f95-75fd7142dad7',\n",
       " '05299fa8-2130-49aa-93da-71a40b17cff8',\n",
       " '052b3366-e2fa-4f05-a52f-1df911910fd9',\n",
       " '052d025e-cfe8-42e8-94af-44e400f0a600',\n",
       " '05303cd7-825f-4179-ae1e-c8ba5d314e91',\n",
       " '0531829d-35be-4833-a09f-e0b71b93dc81',\n",
       " '0533194b-cdc0-4ecc-86da-f8991ed1ef53',\n",
       " '0533e92e-239b-4785-80b9-6a5d8819e6a4',\n",
       " '0534806f-07bb-a4c7-b7f8-112d009b3a71',\n",
       " '053587e4-0ce6-4848-abe5-387878872674',\n",
       " '05361cc8-f3eb-4b9f-a84e-e0056dcd26ff',\n",
       " '0538c3f2-ced4-499a-9c03-14b65ef4222e',\n",
       " '053d9dd0-b4d8-499f-a780-117ea1b1e187',\n",
       " '05422b89-dea6-4ec4-80d9-90fb2ead66de',\n",
       " '0542c088-0256-469d-90fd-6b78ded92580',\n",
       " '05455237-7516-49b9-94f6-64f28dfee5ea',\n",
       " '054606f5-b5ee-4946-94b2-b2c20209131d',\n",
       " '054891b3-8d1a-4b40-a4cd-da4c9c7d4214',\n",
       " '054fa5f9-805b-49aa-8dde-218fe75a3bf6',\n",
       " '0552cfc9-1a6c-498a-9d83-c6e032f602e2',\n",
       " '055496f3-58d5-4bee-befc-bc2eb5a175d6',\n",
       " '0557f30d-c631-4300-9b97-c18aeb7aaf84',\n",
       " '055988c1-abd9-4cf3-a56d-e2f0c9dc12f7',\n",
       " '055c0ff9-22ea-437b-a024-c5e5230a3351',\n",
       " '05644515-baaa-4baf-824a-c6814d90f52c',\n",
       " '05655d85-d147-469c-8476-1be8572f9b69',\n",
       " '056879d6-45b9-4e68-ab9a-f93f20ab9a10',\n",
       " '056adc3a-06b5-43a2-85e2-374323a2f83a',\n",
       " '056ba32c-a616-4b57-9862-afd821cd238f',\n",
       " '056f1a4b-c3cc-4b4b-a0d7-d8484b1a9093',\n",
       " '05769123-8ff9-4038-be5e-c5c2327d94e3',\n",
       " '057d7b8f-c461-4eba-8ea8-2e79ab9c9ae4',\n",
       " '057e5dbc-b5fd-4158-8e52-4aa5f296c7e6',\n",
       " '05811358-109a-4787-a8c7-3cdb1733d27b',\n",
       " '05841f2c-9374-410d-a452-7a69a5beb22c',\n",
       " '05892472-3393-481f-b2ec-4bed7e0925cf',\n",
       " '058966b9-73f8-4f70-9123-33d81b9ac23b',\n",
       " '0589d364-7f0e-45a8-a3db-24445a0942f5',\n",
       " '058c0acb-34fa-15b8-5f41-656d57e5af47',\n",
       " '058c10de-d95d-469d-8263-ba0afdf9cc41',\n",
       " '058da416-9ae4-469b-859a-6eb178780ea0',\n",
       " '058f1d7d-0846-4ebb-9dfa-d195430e225b',\n",
       " '05913de5-b26f-480d-9d82-1a29ba5fabc5',\n",
       " '05915fff-d406-4852-9849-0048691d3303',\n",
       " '059651e2-4ae5-45ea-8914-a1251fde561c',\n",
       " '05987a3f-c8a3-48f7-8a43-948f23e829ed',\n",
       " '059f1325-1df1-4a6f-979e-99b172e60a00',\n",
       " '059fbc96-ccf1-4417-90e0-f36600d64833',\n",
       " '05a1177d-30d1-414b-bbf2-adca65b5a38e',\n",
       " '05a19036-686a-4bcd-92eb-7a18f95bc6b2',\n",
       " '05a44128-ccfd-4d98-8a6d-d1eba92dfa12',\n",
       " '05a669d8-b973-4b0b-809b-5fcf94709584',\n",
       " '05a6d341-f8b6-40eb-b4b0-5b1aecc5187a',\n",
       " '05ad6754-8a9a-4d4b-9be0-518b867a33a4',\n",
       " '05b06748-b346-47c5-94c8-9b79b297d416',\n",
       " '05b0caef-9e32-4db6-befe-6e40df47ea4d',\n",
       " '05b2a1ba-b1fa-41b4-ad03-1ae0912ec226',\n",
       " '05bc5f9f-bb4d-4761-ac01-abe1e4f46879',\n",
       " '05c388b5-73a3-4a9a-93c6-700497089ea7',\n",
       " '05c6b62a-a1c1-4a0f-a58e-10855f7991c6',\n",
       " '05c75863-e327-4f26-86eb-bbf07791e998',\n",
       " '05c86e6e-b7a5-4f81-b823-3534bbfea7fd',\n",
       " '05ce9e0b-8eac-499a-b92f-643818b726fb',\n",
       " '05d4767e-3439-42a8-b30b-5aef1b940771',\n",
       " '05d8fe4c-ce2b-4745-bcc8-e9421e2ca68c',\n",
       " '05dbcea9-66e2-4179-b385-cbdc12430f5f',\n",
       " '05de732c-751a-489d-ac4b-0d2dde8b3dde',\n",
       " '05de8d58-cfb2-4081-87d1-934d05c918f8',\n",
       " '05e57ab1-a59a-4a36-b81d-7f59c00eddbe',\n",
       " '05ea00c0-a752-4658-92c3-ced88567d826',\n",
       " '05ec22e1-19be-e656-596d-230fb6569860',\n",
       " '05eec476-f848-4474-ae2c-d6bf15b4e462',\n",
       " '05eef1db-e5be-475f-b1ea-bfc73b4838b2',\n",
       " '05f0758c-0733-48ba-8dab-0e146a407dc2',\n",
       " '05f0b7ca-88b9-f2b0-a19b-476ac162d15e',\n",
       " '05f0e675-922a-433f-a2e2-b4204eee2bd8',\n",
       " '05f137e7-c42a-4ece-81b2-c41d064510c0',\n",
       " '05f24e25-fb9d-45e0-a959-30bbcb8ef84b',\n",
       " '05f37e27-d82f-4456-b035-c9ddbd4fea25',\n",
       " '05f692df-a40a-4428-9f72-649940584b98',\n",
       " '05f9b0c6-6a07-4078-828b-bbf8f4bad259',\n",
       " '05fbe319-9b2b-461e-836f-da62dcc3d1ef',\n",
       " '06050ef5-5f68-43d5-b1ae-5e37f6fab926',\n",
       " '06052aca-5628-656e-57fb-f1808d65a262',\n",
       " '0608e45a-8fa3-4e19-a3ba-43b030276c6d',\n",
       " '060e1a1a-7b4b-4329-abbe-15881090d2e3',\n",
       " '0610bc90-2b01-46a6-b72f-b47a4629108d',\n",
       " '0613a868-3ee8-43a4-a28d-4cc81c7224bd',\n",
       " '0616f61a-a0d3-48cb-b09d-5ffff5f244c4',\n",
       " '061a280e-1ff5-4794-862f-fc3f25957e60',\n",
       " '061abf6c-33ed-479c-9543-5749c260b650',\n",
       " '061cda76-832d-4c73-8c26-73b6d96f66fe',\n",
       " '0620a7d7-3106-45b9-a65d-7268984f4efd',\n",
       " '0623038f-bfdf-4262-b179-e815f9dce336',\n",
       " '0624d9f8-3794-47a0-b5af-fd2ad4f23a13',\n",
       " '062515d5-cefd-4605-a710-4c34c3210787',\n",
       " '06253c4c-f243-442b-bfb3-9321c558dd7b',\n",
       " '06255d8c-4f29-4179-ac5e-b125d09b65f3',\n",
       " '062804e1-0d43-4dc7-8ed5-091a396006ba',\n",
       " '0628d94b-f149-4ea0-986c-9a6346300799',\n",
       " '0629ed03-1709-4a32-9fbe-d8ea0478fb19',\n",
       " '062a283d-c95d-455d-9413-6911b39183f3',\n",
       " '062a76b5-860c-4ca8-9b0f-b3e1da95435d',\n",
       " '062b58d3-ffbd-41ec-836e-15112b503998',\n",
       " '062b954c-5b88-42bb-905e-a47a32e89f5f',\n",
       " '062eb9f5-d46f-4b14-ae0e-2bef3c34df1b',\n",
       " '062fcfd0-0a5b-4386-a9e8-5551a139a93b',\n",
       " '06316f5c-73cc-4833-9ea5-9aca1079b0ad',\n",
       " '0633d39b-3a74-4f51-b6dc-89288f34e7d4',\n",
       " '063a5fb4-3a3a-426d-a91a-eb7ceffdd4de',\n",
       " '063cc7f2-7771-4acd-beb6-f139005088e4',\n",
       " '0641b603-50fb-0123-9355-2b650a35489c',\n",
       " '0642926e-5c36-4b15-bc94-d6208d392a61',\n",
       " '0645305c-0c5a-44bc-8093-f5aeb408bc62',\n",
       " '064bc6f3-0a10-4f95-bbbb-b7b3b1215946',\n",
       " '064bca01-b764-4b0d-afc5-8f028d3452fd',\n",
       " '064ceac6-ac28-45a6-abb7-557a17e4ad13',\n",
       " '064dc99d-2034-4133-870f-a25779256a36',\n",
       " '065471e1-795e-4dec-9cf9-a9aeaea4f779',\n",
       " '0655ca13-8a57-4815-b825-3de20c12c192',\n",
       " '065969c9-5fb5-4a2e-ba89-a5535ad487c7',\n",
       " '065fa071-da12-4f59-b155-e43da16bc5ce',\n",
       " '0663fcc2-6152-43a8-9c3b-10c7a6343165',\n",
       " '0664177c-cedd-4e3a-9092-f48383d943e1',\n",
       " '06653ccf-1ab9-4803-9bb1-bb3d0dcc7d17',\n",
       " '066540fa-0660-458b-8960-855d48e2147c',\n",
       " '06683cab-1bcf-4fdf-85e4-b0e1aecc891f',\n",
       " '0678106d-cd41-4853-a14c-12b5fa80d6ef',\n",
       " '067edf78-efb8-472f-837c-ef6e5f5ed782',\n",
       " '067f523a-4b24-4ec8-b142-4f1b6cd611bd',\n",
       " '0687ddc5-a9e3-4c2c-bf4b-1e32c6f4bea3',\n",
       " '06896fdb-b7d4-4acf-8b1c-b8df7cbb17f8',\n",
       " '0689889b-5f54-4f2a-ba45-4376dc8f2ad9',\n",
       " '0694d55b-9752-4798-9ee7-7081efbee28b',\n",
       " '069de5b3-f276-43a7-835c-1baea87c4488',\n",
       " '06a5736c-81c6-4be0-af72-08aa46926675',\n",
       " '06ab75dc-c7aa-438f-8b0d-22bf46316fbf',\n",
       " '06adef50-4bf2-4134-8732-96537616bc2c',\n",
       " '06aff529-8dfc-49db-afcf-c87ba10f3f4c',\n",
       " '06b698ee-840a-439d-be75-a227db5f337b',\n",
       " '06b6d5f6-7706-4764-b238-dcee5c4f77c7',\n",
       " '06b79642-e78b-4e58-adf9-2ecb066444eb',\n",
       " '06bc5e32-af6c-48d3-9059-df0f61fe4b66',\n",
       " '06bd436f-eb31-492d-8f88-b5972a0d45e9',\n",
       " '06be58ad-1952-47b5-b62d-fcc50a5187f4',\n",
       " '06beb240-6736-428f-bbe0-12c448220bfc',\n",
       " '06c03e4e-d5ec-4a2d-8e2c-882d9484a3d2',\n",
       " '06c09f3f-6e3f-452f-8dda-59e0c2e63178',\n",
       " '06c82477-ccd7-41e0-911d-ab7fe31a4902',\n",
       " '06c9d97f-5f32-4dd2-bcbd-c490616fcdab',\n",
       " '06cabccb-9cb4-4e28-991e-54474c8e35f7',\n",
       " '06cb3088-3d00-4225-bd9a-2aaa55ef2113',\n",
       " '06cfdab5-224e-440a-bb25-0c3bb3344f7d',\n",
       " '06d00631-6d18-4022-959b-5778a160b83e',\n",
       " '06d22619-9008-494e-9fde-d0b67eb19e41',\n",
       " '06d69ad9-04eb-44a4-80c9-f1efb762f8dd',\n",
       " '06d7943d-b836-4276-9a43-40dd5ceea17d',\n",
       " '06d7b9d4-0fab-4e4e-a1bb-b3f589df1429',\n",
       " '06d84715-e762-4bb5-8aea-ec0e151fdc24',\n",
       " '06da7ff5-0bb2-4174-b1e6-dca1fbac6540',\n",
       " '06dbf326-01e4-4d0c-b993-0850382a1525',\n",
       " '06de5cf9-70e9-45c2-923d-5a9150ead6df',\n",
       " '06e091e6-5f74-4c55-93a7-700b80c464b3',\n",
       " '06e439d1-043f-4dcd-b0d3-a47777923386',\n",
       " '06e5e6ec-3081-4909-91a3-1894d629d337',\n",
       " '06e85d01-89e7-47b4-ad40-a48cd8fcd326',\n",
       " '06e97274-699a-48fe-8972-88cd2e29f75d',\n",
       " '06ec41e8-b0e7-43bd-902e-97d9f5a71747',\n",
       " '06ef3da2-0e6a-4921-9769-ef5f05d9c479',\n",
       " '06f9080b-e521-4193-a51c-2d2023be78dc',\n",
       " '06f9a6f3-1dbe-4f2c-937b-357169b9f27f',\n",
       " '06f9e10f-62d1-42a5-8c88-963a4e2b0a86',\n",
       " '06fe3852-dfe0-44ba-969f-dab73ff893f2',\n",
       " '07007d10-b2d5-47e5-9698-3383ce29a766',\n",
       " '0700be58-67e3-4e88-b8fd-98e5db39244f',\n",
       " '070e023e-ea22-44e7-9cde-b9755a135f3a',\n",
       " '070e47be-e8be-92b3-ad0d-534446fe58f0',\n",
       " '071045e7-d210-4ee6-86d9-8594f609468c',\n",
       " '071318ad-331f-4e21-be35-8a236f7e6b9c',\n",
       " '071423fe-4cf0-4402-8c67-245bb52ed39a',\n",
       " '0719166e-5146-44ad-bcbb-425c813ad6fd',\n",
       " '071d31fa-b2c8-4daf-8714-3bd8ebec00e2',\n",
       " '07259fc2-7bf4-4c3f-850a-09df1dff6646',\n",
       " '072ad85f-e71e-4154-aa75-ad0609c90583',\n",
       " '072ec53e-1804-4991-b698-bcbee72361f5',\n",
       " '072f6d63-e279-4c1a-b533-ab4d097df7f9',\n",
       " '0730a86c-b7a4-4d68-88f3-6d54b83fc846',\n",
       " '0733d5e9-0efd-4678-9f4c-7a0700f9be79',\n",
       " '0734a4fd-b323-469a-8ac4-3cb969a6ddbc',\n",
       " '0735c74b-b329-3c6f-13b1-ff6262e4467c',\n",
       " '073760fc-11d3-4447-bd58-4c2a79b36ff2',\n",
       " '07382f99-8845-32d9-a3b8-a295883af450',\n",
       " '07397936-6fa9-42ba-a879-b0dc3d5b40a4',\n",
       " '073d25ba-cf3e-4f3f-a9dd-5ff855a3c220',\n",
       " '073dd4ba-ad00-4800-a200-aea97b589340',\n",
       " '07415539-b5cc-495b-9398-8f26b8586e7e',\n",
       " '0741778a-621d-4d12-a880-2fe07beaf55f',\n",
       " '0741fc7b-fa81-4231-8edf-9cb3249adca4',\n",
       " '0743a24e-49c7-4a27-b888-a937051b1882',\n",
       " '0743e3fd-e356-4c10-8bc8-c2f701399d3b',\n",
       " '07456e10-9b0f-412e-b6b1-caec92f02a01',\n",
       " '07495987-c0db-417d-a366-58b584916eca',\n",
       " '074b4354-b584-4e76-97da-7cc5c3584234',\n",
       " '074fb449-814e-4898-8ff6-5b1e9d4fa315',\n",
       " '074fef6c-bda4-4884-94b1-180840b56353',\n",
       " '075b263f-5a17-4e56-ad4d-d9e35b8c204d',\n",
       " '075c399e-8f72-4526-83b6-3515f4a9e2e0',\n",
       " '075d6522-5241-4daa-96fc-81082f3f0762',\n",
       " '075feaae-684c-4f59-b882-9911eb287a45',\n",
       " '0766c06f-1d58-4d7b-962a-66b476181904',\n",
       " '07684b3a-ca2d-4d8e-86de-16bb930a63be',\n",
       " '076e4ec2-1bed-48ae-afbc-7be6182f6ed3',\n",
       " '077110bf-b6c7-4e73-84d8-fcae61ecb891',\n",
       " '0772777c-8eaf-4e06-a87d-1e7ac1aee856',\n",
       " '0775b3dd-961e-49e3-a254-20c1f742330b',\n",
       " '0779962e-9f7a-4388-b87a-99a28e7b9516',\n",
       " '077ed1ec-8fdf-4ebf-b974-607228cb41d3',\n",
       " '077f2f2d-a7e3-47b2-b7c0-685c4a519ce8',\n",
       " '0786f39e-8ef2-479b-9132-705ed5490b2e',\n",
       " '0787f747-2150-4238-96af-09bb370d2d13',\n",
       " '078bd117-4217-4efb-9864-082a7d9c31bd',\n",
       " '078dc10e-c97e-4235-8d4c-c55f924b13fd',\n",
       " '078e7441-a977-4cd5-b69f-ad902a3f6283',\n",
       " '07966e75-dc84-43cb-a0b8-2ad46151cb11',\n",
       " '0797822b-75d6-4ca2-b6ec-db5ecd5cac26',\n",
       " '0797a759-aa0e-4f23-b116-9d63ed196a9f',\n",
       " '079b0e9a-d263-4ce7-b68d-146b7c635150',\n",
       " '079b5770-b596-4696-8154-128b6a5a4b1a',\n",
       " '079eb4e7-5498-4c69-8c88-8c18a3f7134f',\n",
       " '079ec52c-67b0-41bf-ae2c-29fd7b7f4365',\n",
       " '07a09cfb-8a86-411e-8a85-1b61620c3428',\n",
       " '07a3d460-a3e6-4d31-b999-53cd886977cd',\n",
       " '07a4c209-1c00-4625-b3d5-d4fa41a026d0',\n",
       " '07a963ed-c191-4314-94ee-88bf33718881',\n",
       " '07acc75f-56be-48fe-b51f-1c85bf255c53',\n",
       " '07b36cb8-4666-4583-839d-acd5633118d3',\n",
       " '07b5d839-2cba-47ec-b9f4-90b9430dd49a',\n",
       " '07b7cbdb-cf7f-4113-8ec9-9565c830099e',\n",
       " '07b984e0-db99-42a5-b7ec-cf2d18b63497',\n",
       " '07bc90e7-85cb-4fcf-a39a-7a362bee6ca8',\n",
       " '07bd87a5-8f23-4ebf-9d95-c6e0dbbcc42b',\n",
       " '07c97178-a1dd-404b-a9a2-4af704be330b',\n",
       " '07c97694-854c-4f8a-b1f3-95ff274caa77',\n",
       " '07cd3418-5a83-4d8b-886e-3b34e0afe8b9',\n",
       " '07d0ce56-1a81-4f34-8369-be9ea0df5ff3',\n",
       " '07d21a96-d02e-4a69-8329-4a71a0663bf2',\n",
       " '07d4da8f-a9b0-48f5-99d8-9339d40e8284',\n",
       " '07d52e1c-921c-4838-b11e-26b71585684a',\n",
       " '07d86e30-005f-4073-a65a-a00822b16716',\n",
       " '07d8d526-cda3-4402-afd5-8418cb59f902',\n",
       " '07dc5271-216e-465e-9ad7-e616774e873f',\n",
       " '07dc8d65-83fb-4de2-917f-c4d7545a6286',\n",
       " '07dc9b17-c1fb-4609-aec9-05450a787363',\n",
       " '07dfd358-399b-4a20-8ff2-1d157c232ef0',\n",
       " '07e074bc-288a-48df-9e8a-6a5fd32835f1',\n",
       " '07e35355-31cf-4ff5-952c-25f581be1ceb',\n",
       " '07e58691-14dd-4687-8c10-11141afea58b',\n",
       " '07eeccbf-0000-0742-bdcd-92c6f089bc74',\n",
       " '07f6d576-6ff4-40e1-bd3f-577e61d9491e',\n",
       " '07f808c9-ed3d-41d7-af4c-4f1489c2976b',\n",
       " '07fd7700-1331-46de-9da2-21b13bcc55c1',\n",
       " '08013098-536a-4995-b439-6d6737768fe6',\n",
       " '08050406-53b2-7586-5164-2fe421711b31',\n",
       " '0807aa01-e39a-47fa-99f6-665fcb1f6409',\n",
       " '0809fc6f-63a5-4c2b-92cf-bd0e286a0c96',\n",
       " '080a1531-09a9-4737-a697-0307157ad02b',\n",
       " '080b91d0-a04e-4639-aa0b-720f6fc5770f',\n",
       " '080fbcee-429f-4f76-8451-f2aaafd3a168',\n",
       " '0813c443-f08d-4710-89dd-0db8cab620e9',\n",
       " '08144bbf-75f0-4e58-af49-69ee44285f32',\n",
       " '081715ad-be9e-47c9-bc51-fe86e1486e71',\n",
       " '081ee498-446e-df21-4bcb-3fc4d00f9e23',\n",
       " '0821cc1e-d9bb-4f2a-8fcf-7af3129b3979',\n",
       " '082411c8-c38b-4aa4-8470-b21de3c169ac',\n",
       " '08251551-138f-4617-8a20-56482e31ab47',\n",
       " '0825d783-b017-457c-9a1c-cdf9fd201b93',\n",
       " '08280240-4f42-4c98-83c4-ab6d4fedf250',\n",
       " '082b33f9-e7d3-4407-9b07-23b50f238bbc',\n",
       " '082d8383-a702-452e-8658-f1b384f81085',\n",
       " '082df15f-5faf-430e-a452-c2dd42e3f8ac',\n",
       " '082f2abb-7a7f-4d1b-9d90-c110da5a26af',\n",
       " '083f3541-83fc-48ec-a7d4-b097e94c33b7',\n",
       " '083f9a02-6dfd-48d0-86a6-896a528ad71f',\n",
       " '084cbaba-379d-4471-92f5-5ea1300dbc36',\n",
       " '084ebde3-8602-45b0-93a6-f48e20c8f309',\n",
       " '084fd3e1-ae30-40b8-b2c1-5f0b54786b7d',\n",
       " '08560e76-88e3-45e1-b152-3ec6b4175f43',\n",
       " '0857e0e5-d2da-4003-961d-7cdf7640c7c1',\n",
       " '085dcdb6-2c75-4ebb-a265-6cb406d26f97',\n",
       " '085e87ae-6f0d-490e-b1d7-a42044f9079f',\n",
       " '08670008-be1d-4594-bfb2-ef7e34fea620',\n",
       " '08684131-7259-4b86-9ca0-f8b942b9df2d',\n",
       " '086c8f86-0d06-46a5-8fc0-1ca1b1b64922',\n",
       " '0871142d-e181-4158-b1a6-232f7f1e0288',\n",
       " '08738cc5-ab20-4842-8d22-1016a3c76f0f',\n",
       " '0879ae24-366f-4d7c-869a-7dac06fabab9',\n",
       " '08818b92-4f3b-413f-b843-e3411724ed34',\n",
       " '08832459-d583-4bcb-a322-8f6bc296edb1',\n",
       " '08856b3e-90d5-4c0c-ad63-260fb26602bc',\n",
       " '0885f252-ac94-4a26-96a8-fbcea7063205',\n",
       " '0886a8bc-4deb-4941-8730-6d2f910771df',\n",
       " '08875816-aaf1-4577-bce6-df0113c9ff9f',\n",
       " '088c21a6-7264-69f7-ba36-c7f59707056d',\n",
       " '088e2ad9-1fd2-4f51-a403-d3371a64bb66',\n",
       " '088f7301-e837-4dce-ac99-ac2c4e751b6c',\n",
       " '0896db04-bde8-4ec4-92e7-5f4bd1069791',\n",
       " '089ae2ea-d0b7-4ecb-9ad4-ccd8e957f8b4',\n",
       " '089cc6ab-395d-449c-bdd2-0557e3d9b757',\n",
       " '089e7e93-b06f-44ba-ac04-a9245848c46d',\n",
       " '08a2756a-1c71-43e0-9863-d7f82fdcc00d',\n",
       " '08a3f345-d801-4f7f-b119-5a6ed93bc1fb',\n",
       " '08a504ef-6d86-4eb0-9b22-7f89025d21e4',\n",
       " '08a57fba-13bd-422b-ae01-71c2c8a717ef',\n",
       " '08a6d3db-e936-4b73-a15c-afb6abfdb55d',\n",
       " '08ac85ee-9542-4b25-98b9-c384403230cf',\n",
       " '08af3217-4b33-46d9-8cd9-8caec0cb8910',\n",
       " '08aff228-f6f9-480d-887e-c89f1351eca9',\n",
       " '08b2ea8e-1d84-4747-8040-651e9ca7f62c',\n",
       " '08b6b2ed-a374-444c-91a1-e12446dd5c60',\n",
       " '08c2c8b3-1c38-e329-c63e-21c3b3a39246',\n",
       " '08c34305-54ad-4226-bf5a-8e83a933097b',\n",
       " '08c38f88-002b-438e-aa07-f02ff80e4870',\n",
       " '08cdf961-58a5-4083-86d0-1e43b2085f37',\n",
       " '08ce5555-d5df-4bd6-a455-60539e3322c0',\n",
       " '08cf93b6-303a-4678-8da3-6b390265dffb',\n",
       " '08d13b99-d9ff-4b6f-bd0b-20ebfb44bad5',\n",
       " '08d5a6b3-c86d-4239-98ef-42509325f117',\n",
       " '08d6dfbc-cf76-4ee8-a80c-cae5dd7841db',\n",
       " '08d70f36-afc6-4249-96bc-0aa01d22573b',\n",
       " '08e13693-11d9-4fb2-9011-ff3e6684d019',\n",
       " '08ea3c51-4f62-4f0b-ba83-7c4144f0492d',\n",
       " '08ebd391-2bfe-4a17-9ff7-a2ae6a2883c4',\n",
       " '08efa7b3-d514-4677-bde6-6c71f598c1ba',\n",
       " '09012530-e261-4f66-9fa3-36d69341ef5e',\n",
       " '09042b90-592f-4cfc-8c1e-15604fb299ee',\n",
       " '09072d9e-939b-4bed-ad73-7b81d4741648',\n",
       " '0907d5a2-42b6-474e-861b-0ff18d1b5627',\n",
       " '0909cb81-554f-4fad-8aec-bd794ff72f5d',\n",
       " '090d22d4-03ea-4ea1-8413-1b2667739d4b',\n",
       " '090e9157-aea8-4a89-87ef-9d7e5ece87f0',\n",
       " '090f6895-6d32-45ef-a95d-fa213fdeedc1',\n",
       " '09128148-9497-cd37-a485-8812126b48b0',\n",
       " '0913d4d9-8a95-1dc2-e5da-87cd21b24796',\n",
       " '0914222d-38ed-4b1e-8812-ea1d749cacea',\n",
       " '0916e45d-8c01-4d71-8c1a-5061ffa1a948',\n",
       " '0916fa01-f9f9-4d13-9f7d-42728dda1027',\n",
       " '0918f5be-ad30-4cde-af0d-e74676a829b0',\n",
       " '091b0a8a-a7a7-4b27-86f3-cc1e11439e57',\n",
       " '091ea2b6-ff62-4765-a77f-bd42ebada8a5',\n",
       " '09200d4c-01e2-49fa-ac41-6ca3f42ef4a3',\n",
       " '0924ac75-da27-4045-be67-3d34be49c4a4',\n",
       " '092626a1-11b0-406b-bb6b-36f51e566f59',\n",
       " '0927e800-9269-4a01-a486-422fd8869216',\n",
       " '092835de-cf99-4326-a76b-91d3e4154332',\n",
       " '092b5356-777d-4cc2-88aa-ba63a5c04f03',\n",
       " '092e437b-0261-b0b0-aab5-f84690109c16',\n",
       " '0930d5e8-e83c-454c-a41a-5c685f74aaeb',\n",
       " '09333262-dbd0-47e6-a5f7-ab263e092dfd',\n",
       " '0933685d-c84d-45a9-8bba-9a96f9f1da72',\n",
       " '0937ed46-f81d-410c-ad0d-ac1822662ef2',\n",
       " '093d927c-ebe7-4b21-a07c-fe1ca8124186',\n",
       " '093f932f-326e-4fa7-9c78-f2f9af451765',\n",
       " '0940e2d4-b971-4cf2-ac90-e2c3cb1a970c',\n",
       " '0941c6e2-dfc4-4cd6-a492-73d5d0e6a224',\n",
       " '0944e295-e5bd-4c06-ad13-932ecc8c5569',\n",
       " '0945de9c-c550-46be-ad8f-adbf16a8cfe8',\n",
       " '09486574-a44f-447e-b175-14c05aa020ed',\n",
       " '094a1ddf-3b2a-459f-922c-a77dd5f7bbce',\n",
       " '094da658-7b7f-c132-a889-75b351383b00',\n",
       " '094dae02-5ace-4176-8f0e-e0a647fb80eb',\n",
       " '094e394c-f26d-4bf5-8555-e2dbc66a5a9e',\n",
       " '094f2670-5372-42a4-b4e1-75ac77a67d44',\n",
       " '094f9c67-f86e-4b91-92e0-378455bbb45c',\n",
       " '0951f706-9fd2-44b6-bc0e-65e1cbdb9d4f',\n",
       " '09540358-0a3c-439a-a655-da98920715f3',\n",
       " '09567f52-2c30-4469-a472-5bead05c2da4',\n",
       " '0957baab-93bf-4d4b-8fac-7a80151c7bba',\n",
       " '095d6446-c5f6-4512-b512-f946966b85c2',\n",
       " '09600479-69ef-49a0-ab23-e1a8e0b3b1ea',\n",
       " '09605a44-95b2-4535-a87e-28ca3480fc03',\n",
       " '0962de76-3f94-4432-b5be-42d1638f0996',\n",
       " '0963767e-a0ad-4c16-bfda-93596f4c4e4d',\n",
       " '0966b4c0-c9ba-4ea6-bb84-2761d9b2481b',\n",
       " '096cd1f5-093d-4884-be12-7fbd2abda063',\n",
       " '096daa6e-aab6-49be-94d7-244ba38f7cc1',\n",
       " '0970fc44-e7e9-a418-edc2-a41148980697',\n",
       " '09769a65-10a7-4dd5-8918-cd8f6e6f42a0',\n",
       " '09772f20-4604-4558-adb4-5c9e13426a7f',\n",
       " '0978ca91-a262-4fcc-a8a9-9b5dd7b7647f',\n",
       " '097a08d9-aa24-467a-8834-2d83ceb47e2e',\n",
       " '097b6e63-05cf-61c4-1799-b38be06f1f85',\n",
       " '097db0cf-aca5-d218-a737-c6f643c2e625',\n",
       " '0982b0c3-db27-49c5-8d4b-d4f94395eec8',\n",
       " '098cf782-b1c2-4c17-b421-feae6f77d520',\n",
       " '09923d0c-1978-4244-9512-05947aad0f87',\n",
       " '0993cbf6-3ae9-4c42-93cb-6275eee616fa',\n",
       " '0995af51-8a81-40b0-9131-5a6497c34917',\n",
       " '09978a4c-d222-430c-a7e9-4bdf8f30278b',\n",
       " '099f4981-3de0-400e-a433-ab71faaf692d',\n",
       " '099fefe4-a74c-4dae-b9c2-fe15dea34ff1',\n",
       " '09a03b30-19de-42dd-b4c0-87316d4a04a5',\n",
       " '09a12671-7e09-4305-9df1-ce09adac6ed4',\n",
       " '09a24d63-aeb8-468f-888a-15b010f10ae3',\n",
       " '09a58782-d901-427f-9d05-2fe123216251',\n",
       " '09a97186-13dc-4293-8956-f264edb024b6',\n",
       " '09a9c95d-e223-4f04-8cd6-29b18af461ee',\n",
       " '09b1d722-e059-4dde-8973-3b46217e7492',\n",
       " '09b589ad-3cb3-4432-b76a-6313a02d05c1',\n",
       " '09bee377-e5a4-46d6-8fc7-cab91ef4a0c5',\n",
       " '09c02032-375c-4836-8336-35e9860a65b1',\n",
       " '09c9354f-329b-4af7-8340-3c088329a7a1',\n",
       " '09ccf064-1718-4039-bc79-fed935e02cf0',\n",
       " '09cfa552-898f-4406-be24-5c5766cda313',\n",
       " '09d240b5-8e67-6768-32e7-8cce545223cf',\n",
       " '09d52e28-d0b7-4775-a988-97da678cafb7',\n",
       " '09dce46c-3edb-4985-abfd-975ea8862f48',\n",
       " '09dd6a2d-19a0-4456-87e9-47ae121820d4',\n",
       " '09e05a34-936f-234b-f60b-7f0f21a6715d',\n",
       " '09e159b9-5a15-4891-b4ce-ed8166f918fb',\n",
       " '09e508c0-9bb9-4873-a5a4-d8d92b03eef6',\n",
       " '09e54887-7c0d-46f1-bdee-c0cbef5db197',\n",
       " '09f7073d-6d6d-4075-807c-45f277160f53',\n",
       " '09f8536c-bf16-40af-af5f-ce129d59cad4',\n",
       " '09fbe97c-b517-415b-b421-6bda5496dd00',\n",
       " '09fd8273-b5f2-3202-a882-758b9ab00247',\n",
       " '0a0463e6-e3bb-4c2b-965f-fb562a81b3ec',\n",
       " '0a05c305-f106-89de-d3b1-6da46fc1a838',\n",
       " '0a07bd03-a3e8-47e2-b9cc-2ee515290b01',\n",
       " '0a08fa0e-2a05-41fe-aa40-a21daf11bca8',\n",
       " '0a0c28ef-5ddd-4f43-b3b3-68dedea025c7',\n",
       " '0a0c4126-67aa-44fd-ab9a-b4a67763a501',\n",
       " '0a0d4507-4c12-480d-a0e4-3ba158ed57b6',\n",
       " '0a0d935b-555a-4734-8ae6-d108368e0372',\n",
       " '0a147e31-d108-4306-a996-de1fe94bcc1b',\n",
       " '0a178f91-a305-495d-a022-4dcae1a22e99',\n",
       " '0a1a5ec6-5c1c-4ff6-ab55-79b8c06b739e',\n",
       " '0a1a6803-5889-4c73-9ae4-5bd1d5e59ed0',\n",
       " '0a1be26b-a5d9-43dd-b83a-ef74504bf2ba',\n",
       " '0a1c9320-2bdb-4762-8914-4256c15261a2',\n",
       " '0a1d2221-064f-40e1-9d27-5f4c99c4a575',\n",
       " '0a1dbe6b-4947-4460-b8e0-3faf0eff4706',\n",
       " '0a1e7c6d-ca5d-47ef-a162-83059bec736e',\n",
       " '0a206358-fbb2-4e14-8ff4-7eb6acf2463b',\n",
       " '0a20f5e4-3fb4-46e9-a235-9794e3c4502c',\n",
       " '0a29f010-aa33-4efa-b9f2-d0a0c228dca5',\n",
       " '0a328913-186c-44a7-90b9-5b8a6ef8fee7',\n",
       " '0a3478ea-9b23-4068-bcda-7fc8c55aa619',\n",
       " '0a34a95a-8291-405c-b0e0-f1778bb4387d',\n",
       " '0a35d510-8b84-48c9-82a1-d2eaad7ab6e3',\n",
       " '0a3f12ab-3ffb-423d-9ea9-680bd75e31b6',\n",
       " '0a4226b5-8405-48c5-895e-19a11a1ef49a',\n",
       " '0a4251bb-482e-4719-aa11-4c1fbe609f6d',\n",
       " '0a4256eb-18fa-4b45-872d-b2282d8d48d7',\n",
       " '0a43556c-0829-47fb-898c-798be9cb2472',\n",
       " '0a485fa5-8bca-4252-a468-6a2798f325fc',\n",
       " '0a4b103d-754d-689d-389f-c967bc527a74',\n",
       " '0a4e7b51-0c5b-4543-9938-7b26c92ba76b',\n",
       " '0a503737-c0aa-4948-bd98-44c1e51ccce7',\n",
       " '0a533868-393e-46ca-ab72-8d70e15debd2',\n",
       " '0a551042-7c37-4da5-a9a1-8bba73178fbf',\n",
       " '0a5b6e74-2d47-4ae3-987f-a01b822d20d7',\n",
       " '0a5dde66-ba31-4284-ad01-9c66a9ba7ac1',\n",
       " '0a5f760d-ed14-416f-b099-907304aeec02',\n",
       " '0a5faad1-012f-42bf-907a-453c90716a22',\n",
       " '0a650ba6-f4c7-4fab-bd2f-cbbcc5c1ddda',\n",
       " '0a684eb3-3d30-4315-aaf1-080aa40ecfe1',\n",
       " '0a6a7acd-d9ac-4dee-9596-610542800fb1',\n",
       " '0a6ca37e-6442-4f87-b252-9678d09bb107',\n",
       " '0a723585-3354-4eb6-ad8b-0f865570dd92',\n",
       " '0a77e322-1a67-4f92-b5e0-a4de0ad8a31d',\n",
       " '0a7d47cf-2142-4de6-b8c8-b7139e50a57d',\n",
       " '0a7ec283-c3f0-4f31-b3fe-256361730a92',\n",
       " '0a804b73-87bf-4b46-a60e-522f78ca18fb',\n",
       " '0a849323-9567-44c8-bd25-df03cf992ae0',\n",
       " '0a8571f3-531d-4cae-947c-8c23298f7139',\n",
       " '0a85c3a2-c1a2-4c72-8c8d-79e3005f2289',\n",
       " '0a876bd2-7193-4dbc-bdf2-da99cbbd9aee',\n",
       " '0a89a650-69d0-48ff-9266-d05ce6d07420',\n",
       " '0a8b0d51-31c7-4c1b-b1ac-9a15b4c12750',\n",
       " '0a922123-8b1c-7244-dc78-05f83efe9c80',\n",
       " '0a970fae-6eef-401c-a986-c5b8752c0a5a',\n",
       " '0a997b7d-8cc7-4c05-80a3-53669a182e6c',\n",
       " '0a9b33ed-7bf6-4f0b-a80a-95eed34d8592',\n",
       " '0a9ef441-78ec-4019-aabe-834e0fc81a83',\n",
       " '0aa25867-9533-421c-be79-d59e23366a22',\n",
       " '0aa269f9-2588-4f34-8fe0-b7729c8fe98c',\n",
       " '0aa45e0b-a1f7-44c0-b146-bdf5d988c5bd',\n",
       " '0aa4aecc-f932-4a46-bee1-d6e6921627e2',\n",
       " '0aa4b210-238b-4a8e-89b4-b8ec1d90dbfa',\n",
       " '0aa60742-29c0-431d-9a8a-b086469aff03',\n",
       " '0aa73add-60cf-41e1-bf9a-044e12c8e9b9',\n",
       " '0aa80cc1-7966-41c6-8afc-2e02550c7c46',\n",
       " '0aa8d72d-4ff0-4c62-838b-5a4c2064744f',\n",
       " '0ab1514c-0b4f-469e-9b82-07b4697c47c3',\n",
       " '0ab49022-5152-41bd-beca-153ae87a6056',\n",
       " '0ab6a096-faf4-4d61-b9b8-7d1d12ecd8b2',\n",
       " '0ab6bff6-57fc-42b2-b53d-3a83157bee99',\n",
       " '0ac0d89c-40a2-2646-ea1e-5d70e364a3bf',\n",
       " '0ac5e6f8-451e-4c99-8b7f-2921e5097ad4',\n",
       " '0ac62dc9-631e-4973-b2f7-6e4b4dc85521',\n",
       " '0ac95101-bc34-41ee-a2d6-f650d506f632',\n",
       " '0ac9e757-f278-4876-bfb5-502646c9cf35',\n",
       " '0aca1dae-8edd-47eb-b879-0f44864fdc72',\n",
       " '0acae2e5-574a-4df5-8e1e-c504a6036390',\n",
       " '0acdf37f-e3ef-977b-0faa-d860332fca5c',\n",
       " '0ad5ac5c-c79a-4478-8f8a-8cc90643008c',\n",
       " '0add0399-0858-4408-aaa7-a5229d2b4a61',\n",
       " '0ade80f0-08a4-4247-9308-83fa634bb6e5',\n",
       " '0ae12b1d-af99-4cc3-9cbb-178ffc0f68e1',\n",
       " '0ae35234-1188-425e-878c-b5049b8806a5',\n",
       " '0ae3fdd4-b966-447d-a44a-bcfd453c0c8d',\n",
       " '0ae73f07-c9a5-484a-914c-c8680aadc617',\n",
       " '0ae937eb-7a6d-4465-95f3-dd29436cd55c',\n",
       " '0aeac775-085c-fc99-3717-63caf45ac21a',\n",
       " '0aee9e5d-102d-4de4-9872-79c0eaebbf2c',\n",
       " '0aefed41-d3bd-4a33-822a-40b698c6831c',\n",
       " '0af0cffd-14ed-430e-9d5f-f1bac65b120c',\n",
       " '0af57055-ea1d-45d5-b2dc-0276017a94c3',\n",
       " '0af6aa8f-9026-4875-9e8c-f9f4a2a59f2c',\n",
       " '0afae559-0a28-47a9-9def-eac0bedf4ce5',\n",
       " '0afed9e4-ad40-4647-bd4b-975f37b34a8f',\n",
       " '0b031a7f-31fe-44e0-b509-92acc659a66e',\n",
       " '0b042774-8912-48a6-855c-0cbfbef4a384',\n",
       " '0b08cc38-7411-330d-5356-59beca030b72',\n",
       " '0b1b2933-1ff7-4210-8fcb-fbc5ac4d3e3d',\n",
       " '0b290ad8-4e75-44df-9e0e-88eda9951c86',\n",
       " '0b2983ff-e716-49bd-ad51-f8319794f712',\n",
       " '0b29df33-3de2-4b05-b4fc-05357503e5fc',\n",
       " ...]"
      ]
     },
     "execution_count": 25,
     "metadata": {},
     "output_type": "execute_result"
    }
   ],
   "source": [
    "purchased = session_duration.loc[session_duration['purchase'] > 0,:]\n",
    "purchased_sessions = purchased['user_session'].unique().tolist()\n",
    "purchased_sessions"
   ]
  },
  {
   "cell_type": "markdown",
   "metadata": {},
   "source": [
    "### 구매는 하지 않고 장바구니 담기까지만 한 세션 구하기"
   ]
  },
  {
   "cell_type": "code",
   "execution_count": 26,
   "metadata": {},
   "outputs": [
    {
     "data": {
      "text/plain": [
       "['0000b977-340c-45e1-9588-2bb26fda52eb',\n",
       " '00025691-523f-43b2-897d-e01420c36f4f',\n",
       " '00034f2c-f94b-416f-9d87-08cc02034112',\n",
       " '00035747-f915-42f1-8cef-e480ff0ce583',\n",
       " '00040372-9fc7-4759-b96e-050e7a8f5c99',\n",
       " '00046a07-02c0-4305-9e5f-da4770fcc2a5',\n",
       " '0004eb12-666c-4120-8a98-9130eeb6fba0',\n",
       " '0006073a-430f-416a-b461-824eb95b5f0e',\n",
       " '00067850-0e71-4d4b-919a-4cfba20a2888',\n",
       " '00075975-e6f6-417f-b7b7-257a56a5b941',\n",
       " '0007ce03-a85d-443f-81a4-75d49f63d6d1',\n",
       " '0007f7e4-e3d0-4916-8e6d-90c747e09309',\n",
       " '00087b1b-d032-4038-a18f-1ec97de40d9f',\n",
       " '00094ac0-2ed9-4b37-8caf-8d6ca92a5e3d',\n",
       " '000a74c8-9e30-46d6-9d86-0dbdfcd6e21b',\n",
       " '000af394-f357-4e73-8ba8-90c621a3cf78',\n",
       " '000b9597-9dbc-4dfd-89c2-59ac3be42340',\n",
       " '000c718f-f6e7-4248-8fe1-856a89db995b',\n",
       " '000d7ff7-842c-48d4-8da8-5e03aae04b6e',\n",
       " '000d96c6-3bcc-4d9d-9e45-b434e9ad695f',\n",
       " '000dcb52-dcee-662b-011c-a1e7db939bc1',\n",
       " '000e343a-b9a9-4572-a6f6-bf6259c7a284',\n",
       " '000f874d-5e09-4b10-ad77-1bdd6e16e6a4',\n",
       " '000f908b-cba7-4281-89a3-24fa19b0b0d6',\n",
       " '00104ce3-efd8-4119-884c-3c9da5dd1c71',\n",
       " '00108a5c-509a-46ab-862f-774597c1115b',\n",
       " '0010b767-58c3-47ce-9a26-a7294cf4a0fe',\n",
       " '001151d1-fc18-4d29-8841-0df87440273d',\n",
       " '0011931b-cbd2-4338-882d-3a25574f0dc8',\n",
       " '0011bcbf-115c-4954-a1b6-e419367af937',\n",
       " '0012924f-24c9-420f-9660-a5b0667256f9',\n",
       " '00134849-fc4e-4c63-b762-aed8b27d5147',\n",
       " '00138384-d810-4801-89a7-159a6f451c83',\n",
       " '001394b1-a709-47f5-a764-4e9f3c3febde',\n",
       " '00139cd8-dba6-457e-8eb9-9a3d22b4461a',\n",
       " '0013f76f-8260-423e-a30a-4c3094500d01',\n",
       " '0014049c-9905-408c-b77d-ddac6eae07af',\n",
       " '00142c96-bc7b-42cf-a0d5-31fae7b0fdaa',\n",
       " '00142cb5-be7a-4fc1-b54f-9b1a314331d8',\n",
       " '00144e24-48d5-4a48-9d2e-f46443002630',\n",
       " '001517d7-431d-46d2-a7e5-f10dfc55c20e',\n",
       " '0016803b-1bcb-4755-aca9-d825dd79c1c0',\n",
       " '0016f546-199b-0e28-7faa-bc3113b39791',\n",
       " '00172bac-7478-40a4-81fa-75de47c66c6b',\n",
       " '00173823-0b6b-455c-aa1c-46117c277c80',\n",
       " '0017724b-7022-41c3-984a-d846c9b53949',\n",
       " '0017b4c9-f37a-41a8-a227-0aa23861ef56',\n",
       " '0017c88a-034e-43ca-ad1d-3873ecfd4a09',\n",
       " '00184e99-ecac-4bdd-8940-6b96439e2cff',\n",
       " '001892a5-32cd-4e0c-9874-1e2cacb5be16',\n",
       " '0019fb10-3031-4416-938c-af16b319ff6e',\n",
       " '001a1d57-319b-4caa-b11f-0aaeeb73891d',\n",
       " '001aa1e5-b374-4d31-94e8-af2da6c1d2fe',\n",
       " '001afdcc-b0d0-4928-b27b-627685e51cb2',\n",
       " '001b0067-f7cb-4bbe-ba2d-10f81b933f16',\n",
       " '001b0f44-93d1-4199-a467-7f812022e16b',\n",
       " '001b453d-0bd1-442a-9190-808b0f07c56b',\n",
       " '001bb17f-5e40-4b48-9bf7-ea98e127fdc3',\n",
       " '001c43a2-4049-4738-93cd-3948e5035832',\n",
       " '001c9173-8a08-4062-8fbf-f0cd0b48a473',\n",
       " '001d2e80-9382-4771-9644-d9148abc6dfa',\n",
       " '001d5b31-eb9d-4692-80d5-6082b6204be4',\n",
       " '001e7ea8-ff8e-4df1-b9fe-5fc75bb5d28b',\n",
       " '001eaee0-4600-459a-be44-d03130c1f10b',\n",
       " '001f2c1a-a12d-4d25-9b48-53d3f0a0825f',\n",
       " '001f2ff0-e651-4e34-bf29-447148b2368d',\n",
       " '001f6127-8310-4444-b65a-c270b3705b29',\n",
       " '00200519-0eec-4b8b-b0a3-5e2eeec18cb5',\n",
       " '00200c34-eac8-40f9-b9dc-2daa92abbc4b',\n",
       " '0020d182-c13a-46c8-a36f-75306d0b798e',\n",
       " '0020ef8f-ff3f-40c5-af04-498cf3eaceb5',\n",
       " '0021121a-72af-48e1-9e86-d71dd7db9776',\n",
       " '0021659e-82fd-4577-b508-e31d8f6b47fc',\n",
       " '00216787-4800-44ad-a383-6d8754407fcb',\n",
       " '0021c396-1a71-4e5b-b1fb-283aa21f5745',\n",
       " '00220fe1-a675-46f9-b276-dd49de4509f3',\n",
       " '00227271-5c7b-4feb-bb2c-cdcb87529b6c',\n",
       " '0022793b-018f-4c31-8375-be2c1e865846',\n",
       " '0023c715-8270-47e1-9c09-042dc077d603',\n",
       " '00246ac2-5759-4711-a95d-204201c010e3',\n",
       " '00252f61-172e-412d-bc4f-d20feda0f98c',\n",
       " '00263abf-1f57-4249-b6f1-02bbdd0f682e',\n",
       " '00264cc9-5508-4a96-9150-02390a02848d',\n",
       " '0026739b-fb00-480a-a17b-53806b8c2d18',\n",
       " '0026aaf2-5488-4368-88a3-911daadc0013',\n",
       " '0028e2bb-79c9-457d-bf2e-1781e19dbe36',\n",
       " '0029f205-372a-422f-8ed8-a4b469f0a547',\n",
       " '002ab6f9-d451-4e0e-900f-d577944f213e',\n",
       " '002c31b8-2a5f-4f54-ad98-afc137f1521e',\n",
       " '002c7c09-306d-4211-a7df-3524b33c0b36',\n",
       " '002ca3b7-cca8-4938-be49-74210eefc62b',\n",
       " '002d4c7f-9796-4fa9-8ebb-8aa438f39e3d',\n",
       " '002dd568-bb74-4f6c-a86c-d60c7200d2c9',\n",
       " '002de310-2385-4bad-ac52-d9cff5b0ca3c',\n",
       " '002e29af-c546-376b-e451-11c0f8e41d2e',\n",
       " '002e2a38-e487-49b3-ae93-1646b7d59488',\n",
       " '002e99a1-a29c-402e-b52e-6ced281509fa',\n",
       " '002f5482-efb6-44e3-8242-cc2677e25adf',\n",
       " '002fa144-f19a-44db-bfc4-bd6dd2434f5a',\n",
       " '0031c625-cc56-4b6b-b500-240628250f21',\n",
       " '0032161d-6442-46e5-ae89-0b7c8f798e2a',\n",
       " '0032da87-bff2-41d0-8100-e22ec2d8df92',\n",
       " '00341d17-2d6a-4a9d-8ac3-9e1ae2c813c8',\n",
       " '0034aeab-53c3-41e7-affc-3d31166a7a73',\n",
       " '0035faa5-ae18-448e-b7c7-039f3d08857f',\n",
       " '0038146a-ea85-4dca-808b-22754c232844',\n",
       " '00385f05-2966-856a-eaae-4e7d6cc9d6e0',\n",
       " '00387251-5c5d-40f4-a65f-39516cd902a2',\n",
       " '0038a2c4-9562-4828-97c8-59e5302d27c5',\n",
       " '00399a11-cc44-41c9-8990-767705dfe74d',\n",
       " '003b769d-e778-4d05-8d8f-fda96c439b30',\n",
       " '003b8353-abec-4190-b5a8-5a965582667f',\n",
       " '003c0c8e-999e-47c2-9496-abd32ac1eb98',\n",
       " '003c379c-d2ff-42d9-8ce7-29b319841953',\n",
       " '003c888f-a428-44f0-85e5-1e5c4efbb4ce',\n",
       " '003d3b30-c452-d081-b0ce-52f0aea6712f',\n",
       " '003d4d8a-8327-4cdc-8bb7-6d0e4de3e98e',\n",
       " '003d8562-2fb2-42d9-9951-39362ceced45',\n",
       " '003e6831-c6a7-4297-bb1f-9519cc896a59',\n",
       " '003f3849-78fb-4a9e-bf2e-a0009c28e3db',\n",
       " '00412ebb-e7c6-44f5-95f2-c64cd8a0a48e',\n",
       " '004182dd-df7b-41ed-b637-528076968f8c',\n",
       " '00418aeb-ba98-4fd7-80db-a9fa66f3f3d3',\n",
       " '0042e385-8132-49b7-9bd0-3358c6bf4399',\n",
       " '00430ed5-195d-49b1-95fa-ade9473aff58',\n",
       " '00436700-cd14-4d19-ae5f-dcefa9d36d20',\n",
       " '00437691-61e0-757d-be9d-5e10b70339de',\n",
       " '00439a1a-a2ce-4060-a158-db9dd34c9af0',\n",
       " '00448842-c2cb-4ab3-8401-47225a567b86',\n",
       " '00449796-ea92-4cce-ac9a-d39bfa2ef62a',\n",
       " '0044c83f-c645-4d46-924d-de5e2b032e99',\n",
       " '00450710-f435-43e5-948b-71470a819345',\n",
       " '00452787-86e5-4f1b-8afb-4463a7c01394',\n",
       " '00467575-2634-4321-bf8e-9fe4b750d053',\n",
       " '0047333c-c2e4-4ba8-9af7-fb6021d04c59',\n",
       " '00476a54-bffb-4f30-bb4d-dd74974e28f3',\n",
       " '00479a0c-f957-45a8-8b27-2c7758c7a1b0',\n",
       " '0047b11e-ebd2-4857-b9e4-78447083b723',\n",
       " '0047c3d8-55e4-460c-8429-ec14d0558a5c',\n",
       " '00480039-9ec6-4521-8f38-1de3311b7f11',\n",
       " '0048658d-10e0-4f13-9927-3791b45e8bf2',\n",
       " '004890e1-4bdb-40f3-b28c-9795b1e3c719',\n",
       " '0048cb87-4331-44b7-bf89-6328ae924e78',\n",
       " '00490007-63d2-4b6b-a6ed-04d3c1e69a2e',\n",
       " '0049a258-a619-42ed-83ae-23b19bd9f6e8',\n",
       " '004a4181-2fc2-485e-8ef5-822fce66cc6b',\n",
       " '004a593d-3cdf-4b96-a964-aa8c571472bd',\n",
       " '004b58f3-bd96-4bcd-b6ab-cef3d56a8275',\n",
       " '004ce195-7e8c-4b4e-8d26-d64876e361a3',\n",
       " '004d216d-ca59-446e-b845-0656e838427a',\n",
       " '004d6e63-1a1b-4fd9-8fe7-4cd13fdb72ce',\n",
       " '004d87b9-6efc-4a7a-a7ef-a45b40155078',\n",
       " '004d91c2-991e-40e2-8d1f-95d90ecc0b64',\n",
       " '004da416-520a-4dc9-80ce-bceb5d3e2379',\n",
       " '004e9e28-2c26-445c-a68d-e41aee182b76',\n",
       " '004e9ed6-2ce7-444c-b5a7-f0cf36f493bb',\n",
       " '004f0093-e14e-43bd-86c0-57955e49d32b',\n",
       " '0051bd8d-d0be-41c5-b8f6-c765f8beed71',\n",
       " '0051e7fe-9d88-4294-8fe6-4b62a1d46a48',\n",
       " '00520cf9-40a4-48b0-a43c-d7247f99fd56',\n",
       " '00526f2b-cce4-485d-aaba-7b1bcf98855f',\n",
       " '00528f9c-7476-442b-b283-8e54d6feeea0',\n",
       " '0053725e-c0bd-49a8-825f-cabe99914a02',\n",
       " '005441be-a152-4d72-91a8-e8a010fcf110',\n",
       " '0054a81a-d8aa-43ca-a9e4-1d127cab8bc8',\n",
       " '00554748-9dda-4fde-8112-a7a2ded821c9',\n",
       " '00566efa-005c-4d07-b988-d572e28da307',\n",
       " '00570333-7a40-4eeb-93b7-a1a23cbc1319',\n",
       " '005754fa-acbb-4db1-8c80-e71ee26b7541',\n",
       " '0058b2f8-615d-43cb-b207-694535daeb62',\n",
       " '00592817-7368-4fa5-a710-e2d7071426a9',\n",
       " '0059b79b-54b6-4b5b-ab3b-ac9802d84b55',\n",
       " '0059c061-768c-45de-8f69-254401fd6bfa',\n",
       " '0059df08-27e5-448f-be2b-d1d70a76063c',\n",
       " '005a71f8-7b58-41d7-877e-3a54baccd6fe',\n",
       " '005ad174-e8c4-4228-91ae-2e8c893b8956',\n",
       " '005b3ec6-90e5-4b31-9373-f5ff3ea7af10',\n",
       " '005bc61c-1c43-4461-91ae-f46499e7e8d8',\n",
       " '005c4df3-8284-4c8f-a957-8482ee721fcd',\n",
       " '005fd8f9-a0a1-4a8c-bb02-c2cb6e464401',\n",
       " '005ffb52-61d0-40b8-9d68-5b749142572d',\n",
       " '0060ce49-557f-4a0d-a5ba-8d870d6a910a',\n",
       " '0060ef3a-b255-4259-ad1a-3220029335f3',\n",
       " '00610bdc-6ef6-41b1-bebb-43ec23165321',\n",
       " '006177e1-5101-4ae0-8997-a81894338404',\n",
       " '0061e252-b5c4-1559-8d78-037649d872a5',\n",
       " '0062e3ce-4ae1-4395-bcce-77d1e4678efe',\n",
       " '006332a5-bfd0-4264-8f4f-0bdc98f0d33b',\n",
       " '00633b4d-d29e-4c5a-bbbf-163034862b2f',\n",
       " '00636ef9-a2c6-4c6e-b30c-e400b65e6acc',\n",
       " '006403ea-0852-40f6-b241-00071acd3bf7',\n",
       " '00643612-b391-49db-bf52-f81cdf9eb5b8',\n",
       " '0064b2fb-b7c6-44c7-b30e-e950e0a4a0dc',\n",
       " '0065f2ca-5190-4121-b43b-3e7e552ce1fc',\n",
       " '0065fea4-c510-48b3-9bf3-fc1ca0b8db6f',\n",
       " '006668dd-97c6-491c-9d4c-0bc6e5c2a064',\n",
       " '0066e0a7-2530-439a-a8d6-8b17ee8429e5',\n",
       " '0067b806-4839-409d-86e0-a2806fa07088',\n",
       " '0067da46-9af9-4627-8fca-08998c50e2c9',\n",
       " '0068a1ca-a039-4ac1-999c-beb5765f9a59',\n",
       " '0068e588-a809-4015-961b-cfac75b8533e',\n",
       " '0068f625-00d9-4dc6-8d3a-bcce760456b3',\n",
       " '00694afe-1a79-4aac-9fb2-ef166eafdf67',\n",
       " '0069602d-4a1a-69c8-e079-a1bcfbe8e56b',\n",
       " '006aa27d-ce1f-4d7f-9cf5-d7675c57632c',\n",
       " '006b0fc9-7a36-43c6-b78c-41a834d93827',\n",
       " '006b2bcf-0a82-438b-8c1b-7ed39ebf7280',\n",
       " '006b334f-34f0-4d5b-9d74-89643e5d4700',\n",
       " '006bd539-7c1a-4f54-a216-61727356c620',\n",
       " '006bec48-7bbf-4391-945b-821606e19605',\n",
       " '006c28f6-896a-44db-a626-145788493b21',\n",
       " '006cc8ff-7832-4b7b-95bc-2d1ea9d0bb3b',\n",
       " '006d3e38-4d2c-4730-a062-8532988b3f8d',\n",
       " '006d540d-58c6-4a45-a842-da558805fe04',\n",
       " '006d6f5d-55f5-45e8-9215-51fd0de35d6f',\n",
       " '006ddd55-433f-4197-bd88-2ff3e487008b',\n",
       " '006e1f3d-c058-476d-afe4-4e8f18320a84',\n",
       " '006e73a9-f7dd-40cf-9adf-6f79f5941890',\n",
       " '006e79e1-b843-4498-8529-eccebf9e8d0a',\n",
       " '006f0905-6503-4790-9299-8cc53302f954',\n",
       " '007154b2-011d-4069-8f1e-b8c7725c22d3',\n",
       " '007291e3-067f-4d20-a276-526ff66c2eb3',\n",
       " '0072dd50-bfa9-4774-bc20-f4ea7fbed9da',\n",
       " '00730b8e-a51d-47df-90c9-a87abc81ac5a',\n",
       " '00776c1d-643c-4e87-bac8-9d087f98b937',\n",
       " '00778414-66d5-4f12-ba6c-d3fa0bfdadde',\n",
       " '0077a3d7-051d-4dfd-8f79-7af8ccc2f01c',\n",
       " '0078b819-a187-44a8-b2cc-2d995e141043',\n",
       " '0078dc6c-97a1-478c-99cb-8a7b8de47037',\n",
       " '0078fa3e-6745-4665-ad5f-fcbfef053494',\n",
       " '00792f0b-6a6b-428e-9922-37e0064b335a',\n",
       " '00797377-37c2-4d58-9b0c-114184658f61',\n",
       " '0079944a-ab0c-4493-9bf8-11e58addce46',\n",
       " '007a1026-f097-4436-92c7-3c8b1e26c028',\n",
       " '007a34e8-ae0b-493f-a737-e334731560d7',\n",
       " '007acd8c-7cb3-49ce-a31e-96626f49af34',\n",
       " '007b3985-e2ee-4a82-a715-ad94208b2f51',\n",
       " '007c9876-c044-4816-8464-c1518f1a04a4',\n",
       " '007d63e3-8843-4c35-9b3f-4cf390f3c4e0',\n",
       " '007e7c64-24d4-43aa-8e49-0d7d5c57b3fa',\n",
       " '007eb4ac-402f-4f1a-90ec-1afbc1247de1',\n",
       " '00816ef7-640f-41b7-8106-fc7ddabb4ef0',\n",
       " '00818499-d55e-43f8-a13b-825b3b17c75b',\n",
       " '008192da-f781-460c-a5ec-78988185c9f8',\n",
       " '0082c00f-7b75-4927-be25-4501372c2c2f',\n",
       " '0083448f-4879-4863-bf63-1be5309e22d0',\n",
       " '0084a157-81ae-4f9b-a8ef-bae06e01a60e',\n",
       " '00858c0c-ba6e-4e0a-af02-db2dac67a443',\n",
       " '0085c4ae-a81e-0253-0a6c-b68b93de54d2',\n",
       " '00863d00-6422-4571-b1bf-97a2c12853af',\n",
       " '00869038-ab66-45e5-af4b-09ccbb9236a2',\n",
       " '00874527-63fb-4ea2-b4f2-85a880e29559',\n",
       " '0087c0ea-8ace-4021-ab63-46898587f26f',\n",
       " '00883d01-a851-49ef-9451-339de9566513',\n",
       " '00884ae4-3536-40dd-8fb5-e3c94e582629',\n",
       " '0088fbcc-18b0-4dc5-8aa3-6aa194e20027',\n",
       " '008992ec-6563-4092-9c74-9ac6439069f7',\n",
       " '008aacf5-db0b-4330-98e0-34603dbf47f4',\n",
       " '008b6ed2-40fd-469c-90e5-494dc492aafb',\n",
       " '008cfb53-cd56-4ac6-acec-089c1e94874c',\n",
       " '008d523d-c500-413d-b2c9-7e842196f239',\n",
       " '008d8951-682a-45c7-887e-2de720da2502',\n",
       " '008e0f22-00c8-9470-4de8-335da1712abb',\n",
       " '008fbcc9-a9c7-4cb6-a3bb-623e3008a510',\n",
       " '0090245d-c94e-49f5-b9ff-89b07793f241',\n",
       " '0090fd71-ead4-4bd4-b062-c35f01e789fc',\n",
       " '0091167f-ed24-4d63-9fb6-bcdb1e82cb85',\n",
       " '00918952-dd42-4c73-b88c-a4097e258168',\n",
       " '0091a717-5698-46f4-8406-f39e529222e5',\n",
       " '0091b692-5a03-473b-b042-8b53bdda926c',\n",
       " '0092c653-58b8-4e9d-bdc9-6676ba6e7f0a',\n",
       " '00938cbd-9629-4733-a2f6-f996bb7c3701',\n",
       " '0093982a-9a4f-4540-9b8b-4423c705e59d',\n",
       " '0093babb-4230-4155-86bb-67866ed78ba1',\n",
       " '0093e59f-5315-441b-9d22-0a0b70d95741',\n",
       " '00950614-608b-42fe-ae99-818d8c4a163a',\n",
       " '009510fb-e19b-48ba-9cfd-c23ff7ccc852',\n",
       " '00956812-a440-4b01-acd6-47f4d6745ee8',\n",
       " '00958cc4-d343-4b1f-9a86-adb5194aaf47',\n",
       " '0095a515-b947-443d-901b-090da1db4dd6',\n",
       " '009613fe-7ca2-4f63-8450-f8f33c56e84b',\n",
       " '00963cbf-f72f-48f3-94aa-d59fae83d78f',\n",
       " '00967fb1-1fe8-4437-abc6-fbb200b6457c',\n",
       " '0096eaff-0a4f-4843-9dac-241258759795',\n",
       " '0097c76c-cf28-43bd-a989-dae811dee71e',\n",
       " '0097f08c-fbbf-4136-b201-dedea6f43769',\n",
       " '0098e3e7-ddc8-4130-a8b6-5cafa973a61a',\n",
       " '0099260e-d024-4927-a25b-827c27c2709f',\n",
       " '00993ec6-2697-4039-89b0-b428c8dfcf2a',\n",
       " '0099ba81-5c03-4336-a24d-f81f7d1bb473',\n",
       " '009c8907-eca8-477b-9544-b7d41430d0c4',\n",
       " '009ca14e-e64e-4db2-b277-62d584cb27bb',\n",
       " '009ca4ac-eda4-48b0-9c3a-0ade403af806',\n",
       " '009df862-49d7-481e-a68f-12273e7870e1',\n",
       " '009e0b65-8008-4564-8917-fd5447b1a414',\n",
       " '009ec895-24e0-43c8-8248-4aed6ddc3db9',\n",
       " '009ecd60-4cf4-44ef-924c-2a7235dc69a3',\n",
       " '009f3c65-609d-40c4-9621-7c19664095f3',\n",
       " '009f5db5-4c90-4e23-9d58-3f076ddde803',\n",
       " '00a0289c-7976-44be-bf1a-2cd7303e8ddb',\n",
       " '00a05da4-b568-49de-b933-28c40aa9fbf2',\n",
       " '00a0793c-a5cd-457b-8e77-5301ae23bd49',\n",
       " '00a2f6d4-d6eb-4db2-a129-9e80894b5961',\n",
       " '00a36d37-d45d-4f01-8084-016683b35229',\n",
       " '00a37d95-cc56-453b-b19b-2e56b6202f9b',\n",
       " '00a48a6d-2fd9-4251-a21f-d9110e7682ad',\n",
       " '00a4dd70-cf4d-46b1-9c79-982fb48275d7',\n",
       " '00a510f5-6e89-439b-b970-47f9511ca5bb',\n",
       " '00a51756-d4e5-4e88-bc3a-daee88a2b98f',\n",
       " '00a61e3b-5064-4c62-890f-1c8b77cb7409',\n",
       " '00a6b5de-04e4-43f9-b39a-864aeded9343',\n",
       " '00a6d077-a35a-4612-9184-cd7a204d9a55',\n",
       " '00a793f8-5c0f-43dc-9d30-582d5ad17780',\n",
       " '00aac1ff-768d-4a20-aedd-7a7111cedf6a',\n",
       " '00aadbed-694f-4be0-806c-5c9647fedd3e',\n",
       " '00ab08e5-9b1e-4537-9619-eccd82ab37be',\n",
       " '00abbbd3-4321-4fb5-b4d9-30bf52246699',\n",
       " '00ac3106-f376-4eb6-bc01-53298827addd',\n",
       " '00ac53e6-a8bc-4e6b-8be8-7f915ab13950',\n",
       " '00ad2899-634a-40c3-b99e-7ce3ff141cd3',\n",
       " '00ad3a03-4b1f-495e-a03b-8c6d5caf1d17',\n",
       " '00ad451b-ca26-44ff-a113-9b6ad3feeb74',\n",
       " '00ad79c0-f623-4bd6-9595-6cb4e3f9ea5f',\n",
       " '00ae1a2b-d7c6-4ee2-b9b9-53acd3070c27',\n",
       " '00af9c88-baca-4451-896d-5ab8064b080d',\n",
       " '00afadab-1257-4fe8-99b4-a3657f490785',\n",
       " '00b00b51-a60f-485a-8e6e-948db5652a73',\n",
       " '00b10a38-69a1-41f8-b3f1-a315fdab38a8',\n",
       " '00b1938e-be87-4615-a114-f55443c6b62e',\n",
       " '00b1e518-a751-4beb-aca8-df8881598914',\n",
       " '00b26d1b-2db2-4a49-b956-83ede84ca462',\n",
       " '00b27b9e-25ff-4067-bf69-4aa89638344a',\n",
       " '00b2e81f-0d0f-44b7-b94b-9cb40b17e5f4',\n",
       " '00b33718-2acf-4b05-85c8-51e664023708',\n",
       " '00b36f50-72fa-4927-b2a9-65d5df22a0b5',\n",
       " '00b44259-7e9b-468f-a04d-d60d9141f8ea',\n",
       " '00b4e83b-1b96-4866-ad56-391149404908',\n",
       " '00b60fa2-e0dd-4860-8573-847145d38888',\n",
       " '00b68298-fc43-41c4-8564-96a1ecd6d6d1',\n",
       " '00b6fb7f-d397-197e-36d4-88faef77fb5a',\n",
       " '00b79c87-083d-4b94-8008-653b680c44c0',\n",
       " '00b83fd0-1ce6-4f03-b95f-d36f963f6197',\n",
       " '00b84f6d-be30-473c-be9b-bef1c3522709',\n",
       " '00b93dd1-05b8-4255-9166-6b80a6796a1e',\n",
       " '00b96117-01c5-4ec0-b0f6-c2a9559ffdbd',\n",
       " '00ba07a0-3732-48ef-9a4a-82f77011a9e2',\n",
       " '00ba74b1-f53c-4598-bd10-920a2d5834b6',\n",
       " '00bbb473-167b-4d30-a515-aec7d859bb21',\n",
       " '00bbb641-4e21-48f5-a745-77985fc906d2',\n",
       " '00bc252f-3273-4bd3-a5aa-49debe6da631',\n",
       " '00bcde11-faf9-44be-bc92-2e1f8d982406',\n",
       " '00bd8c88-4bc2-456a-94d5-05bdc5fdab16',\n",
       " '00bd9612-118a-481b-a42c-cb5316adde65',\n",
       " '00be0483-1e3e-4b4d-8c21-6e5dea42502b',\n",
       " '00be2d0d-1ad8-4bff-9d7f-43ae11f95a9b',\n",
       " '00be2d46-eff8-489e-b7d9-c131a638876c',\n",
       " '00be3feb-38c0-4d5d-ad45-21ea254fa437',\n",
       " '00be8ffb-d98e-48fc-b0d8-4048987f4bbe',\n",
       " '00becc4e-2f89-4ad2-96a2-106b690eb9b2',\n",
       " '00bf438f-13ee-42e3-a3a6-061114d35798',\n",
       " '00bfa15f-003f-4e42-87b3-1ad3595ae9bb',\n",
       " '00bfeff8-e5c6-4c60-b064-6595843b0c96',\n",
       " '00c01074-13db-49b7-beea-41eec30fa880',\n",
       " '00c0bdbd-1bf3-4d87-9aeb-7b8ef937e77e',\n",
       " '00c0c4b8-51cf-440b-826e-be8ef06f04a2',\n",
       " '00c1c901-2a15-4136-b43e-558fa5f0143a',\n",
       " '00c1e967-a42d-4093-81a4-61b6fe6799c4',\n",
       " '00c2ac19-0fea-48b0-8685-f12385969eb4',\n",
       " '00c2ed20-0111-4fb4-8147-64b66d8ebe14',\n",
       " '00c32b77-95b5-43de-a766-bddd89654399',\n",
       " '00c35cb7-6abb-926e-37bc-553c66e96209',\n",
       " '00c382c0-0e34-43de-90b3-1dc3521b3c61',\n",
       " '00c3fb7c-e660-474d-8f52-b150a5da5fbb',\n",
       " '00c44adc-6581-460d-a59a-264d3cacf4bb',\n",
       " '00c45144-ab05-4c35-874e-c6195f6f9da4',\n",
       " '00c490d0-7568-17a5-3561-7f33ac84626c',\n",
       " '00c4d5a7-6031-4fa0-9cac-08091c59e275',\n",
       " '00c561f2-0a8d-4bd1-81f8-49d49431ed11',\n",
       " '00c573a1-4dda-4787-8dbb-cf6682f40e96',\n",
       " '00c61939-fb0b-4a39-aaa3-5fbf95bd7db9',\n",
       " '00c6745f-6262-4569-b87b-bf935907798a',\n",
       " '00c69e06-a7e5-494d-9cfb-f0cc92037402',\n",
       " '00c82af6-bf5d-479d-8065-4d0a51640d07',\n",
       " '00c91c91-7803-477b-9a17-02accc8884cc',\n",
       " '00c95148-7765-4d38-a647-af4448d054b7',\n",
       " '00ca0450-c7fe-43a2-afc7-51a2773a9bed',\n",
       " '00ca73a5-27b3-4673-b196-387b3d4f478c',\n",
       " '00caa750-c22a-4805-bc7a-fd7263f293fe',\n",
       " '00cb6d6f-ba97-41cc-9a7a-7b4c921a3df2',\n",
       " '00cb955b-a3d8-41d8-be91-c716a7bec7d4',\n",
       " '00cc302e-bdaa-47e3-a839-7786312b6839',\n",
       " '00cc96c4-1496-4f1d-a326-a0fdbf861bc9',\n",
       " '00cd1ce4-5d11-4802-8d39-4a79474a9c61',\n",
       " '00cd6620-ddab-4895-afef-312996d19152',\n",
       " '00ced2b2-a651-4cec-8b13-b97fdc52dae7',\n",
       " '00cf4bf6-a4ac-4fd4-986b-80f43145be3d',\n",
       " '00cffdb2-a2ec-4cac-b766-fae38dceb51d',\n",
       " '00d00b03-d479-4536-aee4-9413bb8a6223',\n",
       " '00d05974-6072-432f-aad8-3232a55633d1',\n",
       " '00d06a8b-0c58-4348-a7b4-f44125c7bbfa',\n",
       " '00d07681-9880-468e-bfcc-84cf51d6975c',\n",
       " '00d09710-1cff-4a26-ae94-7601ad97a3ed',\n",
       " '00d0dcab-4907-4939-8640-6251920ba845',\n",
       " '00d10236-76cd-4334-95b5-aa0ae8e0c29f',\n",
       " '00d2173d-5570-43d1-bd0e-c32858171d12',\n",
       " '00d225ca-96ce-4697-a4a3-d9cc432f4945',\n",
       " '00d2acd1-9669-4def-b331-0bddd00c571b',\n",
       " '00d2f36f-f0a2-4459-a5a0-b3993751c5bd',\n",
       " '00d372dd-b6a7-7cde-cc74-188d6a5a097d',\n",
       " '00d58c83-083a-40f8-8103-0ef9ce8ffb48',\n",
       " '00d5d458-9a65-4126-8f76-0cca90c3f5d4',\n",
       " '00d62c1a-1c6c-4443-8052-bdcde3800201',\n",
       " '00d63241-3a96-4dc4-a832-80826f6400be',\n",
       " '00d7c673-15e4-4d29-a545-f6d08aa9b590',\n",
       " '00d858fa-5b0f-4c69-9446-6aa11ca26342',\n",
       " '00d927c9-d4c1-4a27-8c02-87782b7cd8da',\n",
       " '00d93580-e4c8-499b-bde0-af2223dd0688',\n",
       " '00da413f-4c22-40ef-9761-f9e5175e4831',\n",
       " '00da7e4b-67a3-44d2-9a8d-dd7f7767fedf',\n",
       " '00db05db-a3d6-4409-9ceb-b2846146d1f2',\n",
       " '00db0c5a-6421-446a-bf16-04a757bffd32',\n",
       " '00dd1a00-874b-47f5-9a1a-fc10cf959c22',\n",
       " '00ddc9b6-68a8-4ad0-a5f5-ad7d08eddb16',\n",
       " '00de0638-848d-4614-86db-cfabc92ae3ca',\n",
       " '00dfb1d3-9172-4adb-9376-25faf8706790',\n",
       " '00e003ca-bcb6-435f-9435-cd7d161b1a9d',\n",
       " '00e0e280-3854-4730-978d-e4195d71835b',\n",
       " '00e15f8c-8f3d-4a17-9857-4a800e8942b1',\n",
       " '00e1a338-bd1f-4bfb-a3f6-408952f4f9f1',\n",
       " '00e1a701-5e3c-40aa-8f6c-1dbfb4727dbb',\n",
       " '00e2e9de-0623-4201-9612-17ea1cc4bfb0',\n",
       " '00e3cf5b-51f6-42df-9cf7-179144b9f72c',\n",
       " '00e3e7d8-a325-4877-98a0-8e799bafa9e6',\n",
       " '00e40a3b-52dc-4391-8c14-7a6bb54e3f61',\n",
       " '00e4a2d6-a6ed-45ae-8f82-5a1094e659f8',\n",
       " '00e4c3f7-551b-4093-b2bd-f229b9e01e43',\n",
       " '00e70630-414a-4bbc-b77d-879a70a72a8d',\n",
       " '00e89f33-ceee-436f-9443-97d19cfac4df',\n",
       " '00e9585c-7aa4-4e77-b3ca-5214fc386715',\n",
       " '00e9831b-9a14-4e29-97fb-034a6a384730',\n",
       " '00e9d2e0-866a-45f1-80f8-43f7f8fb2d68',\n",
       " '00eb52dd-9b93-4462-bf3d-bb213f517f70',\n",
       " '00eb5d97-9f9d-4d5e-9af8-de2c20cacef9',\n",
       " '00eb633d-2771-44d1-97ee-689b5f14246f',\n",
       " '00ebd732-057d-4a73-aa63-b21346166a9f',\n",
       " '00ed534f-ce5c-4576-874e-804f4da52978',\n",
       " '00edf42a-1aa4-4644-8644-70d8a83fea5d',\n",
       " '00edf6ec-b1ae-48f1-83f5-dc011dcdee14',\n",
       " '00ee1056-fbf9-41f0-9ae9-963456b3f74a',\n",
       " '00ee9325-b16a-4e0d-8cc4-1fe7fac0d606',\n",
       " '00ef1988-82b0-4d77-8e12-ba5f8ab15f12',\n",
       " '00f049d7-df49-4e00-ba69-73f61870ac84',\n",
       " '00f05f4c-2610-48ab-b4d7-c2a57d1fcfce',\n",
       " '00f13f9c-2f63-44dd-8805-b6a40fab9fbe',\n",
       " '00f15b51-df98-475e-9897-02551cd7b5b7',\n",
       " '00f17879-4cbb-430c-8bb7-f05232561aa4',\n",
       " '00f19aa4-f8ac-42b0-8748-73c25356f5f9',\n",
       " '00f265fb-b866-4346-8bf6-ec41cf446efc',\n",
       " '00f283b2-6275-4b0e-b020-0ee9a7f5b92f',\n",
       " '00f3cb79-75ef-4fbe-85b5-8b094fe16980',\n",
       " '00f3cc90-9f25-4460-a04a-3476b741e67c',\n",
       " '00f3e2d8-28ae-7ee6-b615-c42805856f93',\n",
       " '00f46c17-e5e4-420e-9945-22f587441725',\n",
       " '00f4801e-a362-4b78-b33c-020d45472a0f',\n",
       " '00f62b1b-70ae-42e1-b48b-3d5bbce36a51',\n",
       " '00f77f3b-3e6d-4001-be6e-dfe2c1a1a7d1',\n",
       " '00f7c8e3-fcf7-bd21-4785-dadb5b4a69cf',\n",
       " '00f7e60e-92c3-420d-91df-7391f02b6e7d',\n",
       " '00f8882a-d0fd-4c57-bbb6-2c8d5604e51f',\n",
       " '00f88b93-82c6-4d00-89c0-a3d106b0c3c3',\n",
       " '00f8aacb-3cb5-4c0c-9c6d-4b3f28bf83a0',\n",
       " '00f99358-a79d-407f-bf19-fd4c92b93936',\n",
       " '00f9a2ee-8bf9-43d0-887f-6acc94dacf86',\n",
       " '00f9c9bf-b88e-4ab9-981f-63ab4203c6b6',\n",
       " '00fb6b6a-8531-416c-99cc-2db7874e9b3e',\n",
       " '00fb89a0-1347-4c6e-936e-9f4d22699795',\n",
       " '00fbc261-87ea-8ed1-7b7c-839c150f7436',\n",
       " '00fc023f-de42-42a3-a441-38a32ede4e44',\n",
       " '00fc676e-f556-4747-a0b2-36316ed86d33',\n",
       " '00fd4b27-98f6-4a38-8566-fb26b12cadd2',\n",
       " '00fd82a2-a6e3-48e7-b165-a88f36cce0ea',\n",
       " '00fdd893-ffa3-42b4-b0b4-716d143fe9d1',\n",
       " '00fe6132-281e-46ec-8816-35e3f944f77f',\n",
       " '00ffadef-f55a-4c77-805c-a9c170cee82d',\n",
       " '00ffae64-d281-4b4c-9c4b-fcfe2fe05edf',\n",
       " '00ffe5e2-6ac6-6e5c-5152-003898832649',\n",
       " '00ffeff5-32d1-44a8-8788-6770ab4a2a04',\n",
       " '010030c1-bf41-c7f6-8bb4-a30177bcf545',\n",
       " '0100e799-eda2-452f-a485-271d0dd9e631',\n",
       " '0101b849-0d1c-4bd9-b0c3-3f8bd96f2a0e',\n",
       " '0103386a-d6a5-4ecd-9041-5d31a2dd96f9',\n",
       " '010344f2-8939-43d9-99d6-0bacf91b2263',\n",
       " '0103b3b4-0360-41a1-b606-a3c31b03a922',\n",
       " '0103c1d5-f8e3-4099-88f2-8c5052fe3ba2',\n",
       " '0104088b-e5de-45c3-bc61-79b2c6603182',\n",
       " '01041a1e-806d-43d6-8782-16b00450d02e',\n",
       " '0104553b-09ac-47f9-9842-d4abe6303758',\n",
       " '0104d3ae-8a70-4897-8aa7-1f3da86eee4c',\n",
       " '01060251-f7e1-4104-9d63-f30d1e037a19',\n",
       " '01066de6-f0f1-4000-a464-a11cdc7f183a',\n",
       " '010716f4-102c-45a5-9439-ce52dffceb91',\n",
       " '01079abc-8dbc-43a4-942f-9e085bd7764e',\n",
       " '01086671-7bf7-420c-95e9-63030bd40020',\n",
       " '01087203-c909-4f7c-86a0-f321880ffaeb',\n",
       " '0108b370-d7c8-4b70-93fd-5175c83b1ca6',\n",
       " '0108b69f-294a-4ae9-9401-9d796d833cb4',\n",
       " '010947ff-a4ab-4c3b-9771-01ce97e461a6',\n",
       " '01096390-f9b2-4bcd-8f65-3ec741202e15',\n",
       " '010a652e-5c66-4c3f-9edc-8b690a33de21',\n",
       " '010babb3-5d99-44e6-bff3-7f6cc6cdce34',\n",
       " '010c1923-2f38-492f-939e-9237e9cf4c7d',\n",
       " '010c3687-4e67-4aa9-8e8a-4452a88ec148',\n",
       " '010c89bd-b302-4875-9e65-e0076dfe5c1a',\n",
       " '010cd1db-eedc-4bca-a0da-e13916f668cc',\n",
       " '010d50f3-1847-4a9f-bb1a-e4663951a3e2',\n",
       " '010dedc7-c253-4d6f-96d6-c1239245b2e5',\n",
       " '010f15a6-71a5-4534-aad8-af586e399cc5',\n",
       " '010f29b0-5b72-4414-a174-3d67f1a5be98',\n",
       " '01100b64-f8e9-4df5-b373-6eabd32c8f39',\n",
       " '0110e36e-6417-428d-9ab3-b7e0d333fcce',\n",
       " '01116005-38cc-49e1-85d0-88ae52580754',\n",
       " '01118cd9-e6bc-4a19-8b3e-f75adb00fafd',\n",
       " '011192dd-2c69-40e4-921b-68a86d1b31ab',\n",
       " '0111dee1-e707-43fc-bb26-11a6942024c0',\n",
       " '0111e10a-54c1-49e6-aa3e-0bdc589dcf48',\n",
       " '0112687d-9dcc-49e1-9e91-93b5916a95fd',\n",
       " '0112f35a-9450-42e5-81db-30b72a56bfbb',\n",
       " '0114791f-0509-4dec-b2a9-8af6c07e4fc7',\n",
       " '01148d54-7d05-4d09-a0e1-722d9ab8956a',\n",
       " '01166a2e-bd8e-46e5-b35b-71889825d909',\n",
       " '01168e38-d1d9-4171-b7bf-ca35e07133f6',\n",
       " '011694df-54bc-4eed-895a-99f98c6f516f',\n",
       " '01169586-1179-48e5-9597-88160e8181ab',\n",
       " '0117da27-8237-429a-9a7c-6275143d7f1f',\n",
       " '01186240-d34b-408e-b962-78579e9a0a7f',\n",
       " '0118a23a-80bc-4568-a528-47add203b506',\n",
       " '0119157d-1e2e-4015-98fb-350741162f05',\n",
       " '011930a1-dec8-4111-b709-51e8b5fb8a62',\n",
       " '011947fe-c9e8-470e-a04a-b3f927e02803',\n",
       " '01199482-be5a-4305-b05e-7d7c8cd40fbb',\n",
       " '011a53fe-3699-4bec-9f7e-c4c3970b97a8',\n",
       " '011bc84a-d24f-4a8d-bbc8-d796b34dfae9',\n",
       " '011be4fe-d3da-43b0-bcb6-c72df27c2c76',\n",
       " '011cb344-2400-4d09-856a-a2d3abcdfef3',\n",
       " '011de711-e869-4064-8cd9-857f9cb6d0e8',\n",
       " '011e7aa8-2ca6-4cb3-be46-8b68a0d82741',\n",
       " '011f4c33-8d17-4ffe-b803-d1de76884871',\n",
       " '011facae-558d-4052-bcb3-9db8910672cc',\n",
       " '011fcaf1-95f8-4133-9651-4ba0a415efc3',\n",
       " '01200092-e04b-4a11-a230-c43cc6b61c87',\n",
       " '0120d465-d99f-47e5-aacb-1044c28b274b',\n",
       " '01215d94-af81-44f2-8116-3ca707cb1008',\n",
       " '0121e9b5-8b82-4443-9b05-bbd1f1177705',\n",
       " '0121e9ca-a192-43c1-ad82-0a19d375c44b',\n",
       " '01234ab1-0e79-4697-a6ed-88c7b06008bc',\n",
       " '01237f23-7f08-4c2f-b16e-3a9c94b8b260',\n",
       " '0123fd81-3996-43c0-9da4-18f6fb18b3be',\n",
       " '0124ddde-4f52-438e-baf2-ac9b5d27a236',\n",
       " '01257356-5f55-482a-b03a-da1e3b4c76e0',\n",
       " '0125a096-6361-4722-b28e-8bb8b16ccde2',\n",
       " '0126384d-1acf-480e-ba7c-cc4c5f36db28',\n",
       " '012739d9-f5ab-446f-94bb-7c7b40b1769c',\n",
       " '0127e395-67a2-4730-af54-a5d57f9f5b38',\n",
       " '0127ef82-c3af-4f79-95c9-a1c001ace64a',\n",
       " '01283ead-18d3-41bd-93f2-8242caba6b6d',\n",
       " '0128ef76-2147-416f-adcc-2ea24e769580',\n",
       " '012be6ba-5259-411e-8942-b35f8c8fb88b',\n",
       " '012c6624-28cc-4efd-a06d-a99d7fbb09b9',\n",
       " '012d4289-887b-496a-8ceb-270175ea8aad',\n",
       " '012d6f8c-4442-4b52-831b-90eb93c20529',\n",
       " '012ddc99-c5ae-4ebf-aba3-9da719cd00a6',\n",
       " '012de774-1307-425f-a0f1-736d5db9650b',\n",
       " '012e37d5-90b6-46ad-a046-a1d9d9daa508',\n",
       " '012e3986-a4cb-4f7f-b508-afc4217567ac',\n",
       " '012e53c2-acaf-4d6b-9cf3-0bae6ceccf4e',\n",
       " '012ea1fd-a37b-4947-92ac-a1a405022a42',\n",
       " '012f0637-3011-4c47-8dd7-a428616da504',\n",
       " '012f5c9e-1b4b-4468-80fe-22a101919a9d',\n",
       " '012fe66d-5718-43d1-945a-d18916dec6b6',\n",
       " '012ff06c-2370-42e4-ae74-2e6dc4c0dc62',\n",
       " '01300464-7c9e-4e8a-9a81-dbfe1ced9678',\n",
       " '01303cca-4c4e-43c0-b444-0f6bcb979aa4',\n",
       " '01303f5d-9b65-4699-a46f-2931594f3aa8',\n",
       " '013075a2-9779-4d0f-9585-ffc25c9cbe1e',\n",
       " '0130f4ad-0ef8-4070-8bad-7bd04557ddd9',\n",
       " '0130ff58-ac6f-46d9-a34b-1e1e0fb005e1',\n",
       " '01320a98-efd8-4a3a-9723-df009c152747',\n",
       " '01325d77-9b7b-4ff6-856e-007fdeed78e9',\n",
       " '013290f9-7669-49db-af8b-4f112784e35f',\n",
       " '0133214b-8424-43d9-b488-7ba1b9b0ccc4',\n",
       " '0134527e-3e5f-48a4-b106-81f2a86afe04',\n",
       " '0134833c-e7fa-45ad-94ac-f1bd2afd93a4',\n",
       " '0134861a-3084-4e16-8d00-75dd5b77d4aa',\n",
       " '0134d1a6-6930-453d-b923-c1ab06f68ab9',\n",
       " '01350cda-9eec-4d36-81bb-2eba6adc37d7',\n",
       " '01359aa0-1d34-4c0e-9998-81d6f7eb5fcf',\n",
       " '0135c723-3977-4007-8f20-9ff7ea145d9b',\n",
       " '013642dc-d1e2-483a-a4ef-0259dec073c5',\n",
       " '0136ee5f-d5da-b602-2607-d1b83770d148',\n",
       " '0137376d-8ceb-4b67-a161-0c80f84b6b5c',\n",
       " '01383b86-be5f-40f9-b1a6-02edc61c7527',\n",
       " '0138af80-ba78-4648-aef3-c3f6bb3588fc',\n",
       " '0138c22a-53ef-4d19-919e-668d4b21ad2d',\n",
       " '013943d9-4c0f-48ad-b3ff-ce941230e15c',\n",
       " '013c2c98-3410-4020-9c0e-b0884d5abf57',\n",
       " '013c5de0-36b9-5851-58bd-33307689c3a1',\n",
       " '013cf2f1-bb15-4ae5-8815-ffc6879a88be',\n",
       " '013cf559-8947-40b5-a749-708a37dc7ee9',\n",
       " '013cf6aa-6c31-4c03-bad5-be15d509afc5',\n",
       " '013de2dd-41e7-4b45-b39a-4969943d2d54',\n",
       " '013ebfc0-905c-48f6-b5a5-7de532458f91',\n",
       " '013ec49a-b77f-4c0d-bffa-0c3580b10411',\n",
       " '013f08e2-4cda-45ce-8f9d-f6988bab459a',\n",
       " '013f22d1-89a4-4d6e-a4e4-d317c04b9dc5',\n",
       " '013f2ef4-86e8-4c4a-8900-404a59196448',\n",
       " '01400813-9a12-41fc-8991-dc5bdc65f5fa',\n",
       " '014021ae-c5e4-4eda-b8f3-570c20f6e2fd',\n",
       " '014021df-1332-44c8-914a-6a74a7874dc9',\n",
       " '014027f0-4e8a-49ff-8edc-e5182ea59627',\n",
       " '01404153-c833-4083-b5d8-fff272464430',\n",
       " '0140c1ff-0cfc-41c8-8bc5-3bac8a28a7d3',\n",
       " '0140f11f-6a59-4420-af18-2a8e01b650dd',\n",
       " '01416d1a-e3be-48dc-9d35-0271396d8a6a',\n",
       " '01419192-6185-46ee-bc97-cdc896d68ed0',\n",
       " '0141be61-ef25-4cf6-8266-d93de922e5ac',\n",
       " '01422249-a0e0-40e0-9561-43780bdfcc0d',\n",
       " '01432e0a-e8ab-41d0-b541-89d5697b75be',\n",
       " '0143491e-6b3e-4dc0-803b-c7989e8214e1',\n",
       " '01438480-37d6-4512-84c1-8d4bdfd65d1d',\n",
       " '01444ca8-9f3c-4bbb-a4c0-5d841241a37f',\n",
       " '01446d63-4f31-426f-8c39-8a1dd7d34796',\n",
       " '0144df56-8134-452e-a1b8-7197c57c6284',\n",
       " '01454ac1-94d6-4b63-a6d7-3ace48f0c658',\n",
       " '01464a60-07e7-45ad-be6e-2bdeb1487e3e',\n",
       " '01468f82-0b74-43b4-b8c1-e0618e1f222c',\n",
       " '0146b3a5-1622-45fb-9e71-9237d897b57f',\n",
       " '0147a689-6906-42f6-a2dc-83b93f37bef3',\n",
       " '014843dc-6cb5-447b-a9a5-dcb78a5b43db',\n",
       " '0148cbbc-f1e3-4f26-9d97-f94e6d896986',\n",
       " '01495e43-e3a7-4bbe-af8f-76f7f6a95e2e',\n",
       " '014a781e-413e-4566-991e-b24fbd71f6b3',\n",
       " '014ad0e4-d258-48b8-9ef2-b4af3cef7f12',\n",
       " '014af0a0-6d05-4907-8efe-af88f4901e56',\n",
       " '014b0b41-e156-4a2a-9db1-112e3250ef02',\n",
       " '014c59bc-521a-4852-bdf4-0e50785587e3',\n",
       " '014cdb5d-5ae5-4a92-925d-75f998b3a500',\n",
       " '014d1052-7adc-4934-97cb-37f92a132e74',\n",
       " '014d3510-386c-4efa-9729-34042509434e',\n",
       " '014dc3f9-2e43-4911-a496-5cc4b18e09ee',\n",
       " '014e3910-ace3-45b0-a286-636a04fe76f5',\n",
       " '014eacf7-7b97-458f-a415-c53ad6e3845c',\n",
       " '014ef544-48ed-4da2-96d4-1b9eee65a054',\n",
       " '014f45ba-c531-43a6-a653-ea7ebd015578',\n",
       " '014f7838-c0aa-42ab-82f5-a7443de54429',\n",
       " '014f79c2-ce6f-4e88-a694-cfe67e2aab14',\n",
       " '015057f9-b1e7-40d7-8661-b905ce4109ca',\n",
       " '0150fc83-7a6d-42a0-8538-067fcd776f1d',\n",
       " '0151978d-92cd-4d50-be52-46cef5f977ac',\n",
       " '0151a756-091a-4ec2-a3fa-3fdd0185023b',\n",
       " '0151c8dd-7247-4b74-bc78-659425d438bb',\n",
       " '0151f1a8-3f2d-4284-bff5-e16a168b23d3',\n",
       " '0151fdf0-321f-4191-8286-cd1687e957b2',\n",
       " '01526cc6-9298-4614-a17c-73340b33aed6',\n",
       " '015334f3-fd2d-43d7-88df-065f21a83aa5',\n",
       " '01533d88-818c-47e8-9e9f-c8951f5080f7',\n",
       " '01549164-c308-4552-b533-57d89f4f616c',\n",
       " '0154cc40-57ac-42a6-b41e-3dc5f107a3d4',\n",
       " '0155cdb1-9c60-4045-a272-c1bd25d97119',\n",
       " '0156f363-e90a-4678-94c2-07e32da35cbc',\n",
       " '01573733-3b33-48a8-e8c1-b8980e3c5493',\n",
       " '0157525a-236e-43f1-a540-13d9d04b2797',\n",
       " '01585573-91b2-413a-b517-57434159ad4d',\n",
       " '01589fb6-4692-419d-8d20-285e00fa0a8f',\n",
       " '0159b123-16c2-45ef-85c9-e0eb5bda5bff',\n",
       " '0159c448-ab4c-427b-8135-6c5896d4a1d8',\n",
       " '015a524e-a601-43f3-b2d5-b09940827568',\n",
       " '015ad98b-bba4-407c-927e-b7f7f66af874',\n",
       " '015b0ef8-d349-4a30-9688-23c3500d30bf',\n",
       " '015b66c9-b8d2-4cfb-a10e-304e1101fc14',\n",
       " '015b7960-4c5a-4190-a3f4-d1ab7572b5a3',\n",
       " '015b827b-0bfa-4bb9-8751-774037e76ee1',\n",
       " '015c8002-c8fd-4466-a3f1-34d02c31422b',\n",
       " '015cc277-e60b-401f-8cdb-3e4a9f965ea5',\n",
       " '015d6213-cd64-4bb1-bb69-d11909ed06c6',\n",
       " '015d6511-4fbc-490f-8ac9-b1108693408a',\n",
       " '015df4b6-7317-4f09-9186-d2f88750b088',\n",
       " '015fbb35-9155-4ce9-a2cc-56ac019c02d5',\n",
       " '01601061-5d9b-4d28-85de-48d176b56ce2',\n",
       " '01608ec5-9fba-4e10-b3bf-f6f7bf1b5d82',\n",
       " '01615f5d-e613-40f4-b369-5d691b0ffb79',\n",
       " '0162b044-94b9-4ab3-8b31-f3fdbc1c454c',\n",
       " '0162d756-ce32-45f0-9a22-1d56515d074d',\n",
       " '0163172f-2973-4936-881a-1df32e95a13a',\n",
       " '016323af-bfbf-43bb-b461-797224228232',\n",
       " '01639f01-617b-4181-8bc9-4940ae5d07f3',\n",
       " '01648740-6bb7-4404-93da-1daf31918154',\n",
       " '0164fa2f-c0df-4e07-93bc-09a8d6925544',\n",
       " '01660193-87f9-4880-8e48-f96d8629b43f',\n",
       " '01661a81-f903-45b1-84bc-26beca9c1bf9',\n",
       " '01667d79-c31c-403f-b8c3-8ad40cd18565',\n",
       " '01671379-c30c-4ee8-a0f0-1c6798a7f8fa',\n",
       " '0167571a-3ab9-4cec-a73a-151a2eeee959',\n",
       " '016763f5-287c-43fa-8a7c-4e463a23d364',\n",
       " '0167802a-da46-4788-b015-d9831a643320',\n",
       " '01678ccd-c45c-43d1-85c1-c84a681c32de',\n",
       " '0167a5d1-f711-455f-bff8-5f725c9cbe45',\n",
       " '0167b4de-d18f-4b7a-b428-221860a26067',\n",
       " '0169a20d-1bbc-4db5-b267-8e5a59677435',\n",
       " '016a1b59-ab5d-4f3c-b567-dcccb6d3fcd8',\n",
       " '016a5edd-6ec3-4ef1-a04a-ac199c45a0d5',\n",
       " '016b7ba5-dfb7-4f91-97a8-db534abf5a47',\n",
       " '016b9045-84e9-422c-80ec-276da055d9fb',\n",
       " '016c78ea-17fc-4a7f-a7bf-e79c02687bab',\n",
       " '016d3d71-fd81-4104-afe3-e473b0cb94b8',\n",
       " '016eb5a8-c8b1-4b56-8ad4-ad16d4add974',\n",
       " '016ec42b-0587-49b7-b67d-f609b30f16a8',\n",
       " '016edb20-3ed9-4630-b2ff-b892d9b931a7',\n",
       " '016f69be-4884-4a7c-82d1-cd220372cd62',\n",
       " '0170eee4-67f4-492c-a7a9-9301b52e7bdd',\n",
       " '01715b26-b605-45f9-b943-ce9cdff353ca',\n",
       " '01717e9b-3eda-48f1-9a5c-d1789cc2dac2',\n",
       " '0172064a-0bcf-4822-8c2c-45bbab45021c',\n",
       " '01727326-4256-4fd7-a624-765957400b88',\n",
       " '0172b855-f040-427c-a10f-acef988ea04c',\n",
       " '0172bfdf-344d-4da9-abfe-1b02560bb3cd',\n",
       " '0172c930-3e73-441d-93c5-a6737602cff7',\n",
       " '01735a48-7b3c-44c3-af97-7e27860d0f93',\n",
       " '01736aa2-64dd-4409-b21e-908ce3380bf6',\n",
       " '0173997c-3484-4389-ab31-b6e6dd039411',\n",
       " '01740cfb-1fd9-4e8d-9668-d84c93e2622c',\n",
       " '017436d3-5f06-4c26-9edb-cb4ebbd2db47',\n",
       " '0175439f-7f92-429e-939a-de2d2fd284a8',\n",
       " '0175cf91-44db-4725-82a3-2729fb108798',\n",
       " '0175d912-ab3b-48e7-af7e-e4e7717e731e',\n",
       " '0176d48e-dda5-4f11-9262-16abdb8915a6',\n",
       " '0179825a-b983-4364-b78e-bca0b085dd60',\n",
       " '0179c0e5-7ad2-4e5b-8ed2-e8d14a596d83',\n",
       " '017ae78d-d891-44d3-87b4-b87bd5a5f1f3',\n",
       " '017b01fc-55be-a3b6-b9bd-d6e2d180556c',\n",
       " '017b0b71-4387-4c2f-b05f-b2bcaf4385c3',\n",
       " '017b4cc2-b687-4d0c-b458-a5574d0389d5',\n",
       " '017b5e23-fac6-4a65-bdd9-0a5b46aaddaf',\n",
       " '017b7a05-e534-40c6-aeb0-8a31f5300d47',\n",
       " '017c6993-de37-4013-a0e1-459923964059',\n",
       " '017d36dd-4998-44fc-ad12-8fca0a39d0e9',\n",
       " '017ef8c9-8a29-4ef0-a905-c4c0cd71df37',\n",
       " '017fe391-5e8b-46ca-b234-ce3438a3c53c',\n",
       " '018153eb-1c02-48c2-b185-8374e766f95d',\n",
       " '018155ab-0d5d-4ec5-a3e3-0bb561c7b200',\n",
       " '01821b8e-c44e-4a48-9856-ea0d53703785',\n",
       " '018374fe-b028-41d4-9a40-dadcf416786b',\n",
       " '01842b77-33ef-4d42-aa33-a1713e2bd4a4',\n",
       " '01843f2d-06c5-4e3c-a9e4-2f97da4476f0',\n",
       " '01846453-0c80-4021-92d9-b23464a9a5a5',\n",
       " '01852e8f-f6cd-4317-bf70-35a8717040dc',\n",
       " '0186b01d-d7f3-4cc2-b4df-8fa9f1d6ceaf',\n",
       " '01873b85-d6d8-4794-adb7-646ce64b73a6',\n",
       " '0188a18a-f6ec-48a4-96e1-cff6d6e8ca08',\n",
       " '0188f803-e2a1-4d66-be51-3dc82b841506',\n",
       " '01890456-c62f-4b13-9bd1-028aa797f00d',\n",
       " '018930b9-fbbb-425d-bfaf-ead15a080d4e',\n",
       " '01898a39-5fc2-4f08-a249-a1104471bdb0',\n",
       " '018a52e1-624c-4ffa-9103-47cf9513420f',\n",
       " '018b4473-07e1-41e1-ab54-cd480dfac857',\n",
       " '018b45eb-510a-4bd0-90b3-448018f12c48',\n",
       " '018d0cdb-4c29-4388-8908-63e03524fbef',\n",
       " '018d400b-74f3-4e39-aa67-1c0da31bf718',\n",
       " '018d8706-966a-4e7a-a16b-502a5b699774',\n",
       " '018dadec-fb3f-4230-bd74-ff53f9958157',\n",
       " '018e25f9-688d-4714-96c8-0c621f6a2273',\n",
       " '018ebb97-c4ee-44cc-8473-393edcb973ad',\n",
       " '018efef2-dfaa-4762-9d5d-34b3a9137270',\n",
       " '018f01ad-6605-4571-a67d-6cda183030e5',\n",
       " '018f2ae4-587a-4bd7-b370-a18df54274d7',\n",
       " '018f7120-8581-4002-86f5-2e983f9795b5',\n",
       " '018fdafa-fcdb-4279-096d-66afacb63d60',\n",
       " '0190061e-d1cb-4e03-be0f-ef2c42b34425',\n",
       " '0190833e-8537-4f7e-9d93-645eacbc3990',\n",
       " '019114d9-736a-4db6-965a-c358b0d82809',\n",
       " '01926192-e80d-41d9-9fdc-ff95f0141069',\n",
       " '01929f81-4f56-4d5f-9822-33c208d16e89',\n",
       " '0192c9c7-b237-4172-abd9-2260553cf38a',\n",
       " '019481aa-5655-45e0-a307-82e24279dd3b',\n",
       " '0195416f-5779-800f-24a4-cda2a5a2d88b',\n",
       " '0196a64d-80e4-4baa-8be6-e5bdee63ded0',\n",
       " '0196b090-4a5d-413e-b261-4ef9143008e3',\n",
       " '0196c5e4-98c6-445e-9f89-f55659e8a817',\n",
       " '0196dec7-15b9-4dcc-8d22-32a1aa7f06a9',\n",
       " '0196fd8b-ffa5-4e57-ac23-e7b506aa3fa8',\n",
       " '0197face-bed0-4c43-ab6e-08ca907fc243',\n",
       " '019851dc-ad74-17dd-8c30-aa5cf627c013',\n",
       " '0198535c-cb96-491a-8052-f33868f6eb75',\n",
       " '0198b57f-8d4f-44b9-8ef6-4d6f290c1c25',\n",
       " '01990156-7ee1-4225-a8bc-990c06e59ed3',\n",
       " '019a0225-4dd0-45cb-ae5f-fdeecf5f33f0',\n",
       " '019aab35-e35d-4ba0-bf5b-aad9a42cd9bf',\n",
       " '019ba332-15ed-ce89-c406-77a6e392ce2f',\n",
       " '019bd3cc-253b-4f5b-9de0-6909bd19c21f',\n",
       " '019c0d24-ef5a-4b0b-9cbb-e1ef8de7df2c',\n",
       " '019c21aa-689a-41d9-b225-d1f83398ea4b',\n",
       " '019c3026-328c-4805-8061-e3bf89d731f8',\n",
       " '019d0699-359a-4c49-b1f7-aeefb3ddb18d',\n",
       " '019de1a2-bdbd-4f73-9d1e-9e60eb2db08f',\n",
       " '019e52e1-f45e-4b6f-b9e5-389e0c62f71c',\n",
       " '019f5516-a620-4d09-86a2-fe89b9082792',\n",
       " '019f802d-2a1b-46b6-9837-77024261c00f',\n",
       " '019fc62b-c59a-4582-9164-8e3c2b8bb85b',\n",
       " '01a1b9b4-fe40-4a2c-b91c-11ae2dea1799',\n",
       " '01a1dd0c-2b45-cc9f-bb1e-ba0d866842b2',\n",
       " '01a2455d-67d4-4886-a1ee-80641dc88c06',\n",
       " '01a26c16-69d0-459e-8101-b275c8d6bfe2',\n",
       " '01a40d77-b991-412d-9758-fb6c4ad501a3',\n",
       " '01a48bac-92f0-4597-bb2e-c09c9b4e7c5c',\n",
       " '01a53b62-08e6-4f69-91f1-ce5aec80f039',\n",
       " '01a603f3-8d0b-4c36-9612-69a23622ee0e',\n",
       " '01a60d6e-9960-47ec-bf55-aa59974d2c49',\n",
       " '01a6145c-e63d-4b80-b360-b6b1ce1727f9',\n",
       " '01a74ca1-8de5-4a22-8368-7a87ff4ef10c',\n",
       " '01a77331-fd65-47ef-8e79-aac4b3407ce6',\n",
       " '01a7b4d2-f7f9-4826-85c0-577fe3e5dbb6',\n",
       " '01a82489-bf34-4fcf-9c71-ecbfd03e76d5',\n",
       " '01a88786-5367-4cb3-8675-ec58ff5587c9',\n",
       " '01a8a66d-208b-40b4-91a3-338ed0a8d9d2',\n",
       " '01a903ba-9dfd-4b21-a4a6-68ead7d1c7f4',\n",
       " '01a95d97-f5f1-4580-870b-c663d6ae8944',\n",
       " '01aa3110-60a9-4429-be38-088f03255313',\n",
       " '01aa429e-6d54-46c9-b764-22ad065abfc2',\n",
       " '01ab0986-0801-45bd-b2f9-5b6ca1bb1520',\n",
       " '01ab9d49-ea73-4d6b-a454-f6ea3efc4d5a',\n",
       " '01abc6e9-4f62-4681-bb65-2c8d6006125a',\n",
       " '01abcd9a-59a8-43c2-b724-e8cb48a912f9',\n",
       " '01ac6d0d-e250-4bc7-a8f2-530d26d80566',\n",
       " '01ad1af1-17d2-447b-96f8-b83c35e6f7ee',\n",
       " '01ae0b9e-8f31-48b5-88b2-7eccb5aea119',\n",
       " '01ae4a4c-5625-d6e3-f8e0-31d799102b66',\n",
       " '01ae9bac-39e9-4845-93c5-f42323b4cebc',\n",
       " '01aea7de-65e7-4d96-a9df-2a9f913a404c',\n",
       " '01aebda6-9835-43c8-92b4-363019a88eeb',\n",
       " '01b00d81-ed7c-459a-9596-332fcef62251',\n",
       " '01b14130-e7f7-4828-a6af-95c1e26074e1',\n",
       " '01b1d326-bf52-421d-90e3-e1e0deed4e56',\n",
       " '01b1dc1b-c380-4111-a201-fc04eaf765e7',\n",
       " '01b1f2ca-466b-40f0-b069-36dcdec09bbd',\n",
       " '01b2867f-ae56-41c0-988b-1e669727a0ac',\n",
       " '01b30d7b-c56a-41d6-9edd-5a7558fa7783',\n",
       " '01b346ff-8d99-458c-a3ab-ab24bfc2d680',\n",
       " '01b3ecc1-daa4-4584-941a-bc0eaac6f358',\n",
       " '01b428b3-1522-4ab1-a90f-2afd6eb70e89',\n",
       " '01b43e20-2323-484f-a4a8-c49bc42414d9',\n",
       " '01b5c0c9-9875-4261-b937-06f18deb81b7',\n",
       " '01b5c556-010c-40c8-8511-702c6f7ebdd8',\n",
       " '01b5eb0d-08db-4cda-a779-3fadbf475e87',\n",
       " '01b61fcf-2c53-4cd2-b0f2-d53c49d28ae7',\n",
       " '01b682a3-5705-4b9e-8d9f-64f82664bade',\n",
       " '01b6eb08-1b03-4cd3-938a-76906fed2bfd',\n",
       " '01b74e4d-cc0a-471a-a982-f730c9ae82e2',\n",
       " '01b74ffa-6511-4182-a421-6175b31b0df8',\n",
       " '01b7be2c-36d7-4390-a76f-d90a38c853a7',\n",
       " '01b7f6d9-4722-449d-aef3-5f0fe5ef34b3',\n",
       " '01b98163-1391-44bb-a6ed-870788bb42f6',\n",
       " '01b9de85-1618-4b1e-8f6d-2c7843f4e161',\n",
       " '01ba3ab8-6d82-4b68-9140-707657603669',\n",
       " '01bb8591-cd50-458e-94dc-b46c87d96fb7',\n",
       " '01bc256c-dd27-4a18-a326-d0e110fc5a65',\n",
       " '01bc637d-64cd-484d-8369-8d212563a4b6',\n",
       " '01bd12f2-ab60-059e-7b05-0e1cad7f547d',\n",
       " '01bd1f50-370e-4fbc-ad0b-f7f40dfbb8be',\n",
       " '01bd6111-1882-48e0-9069-3602d8349f8a',\n",
       " '01bd9ff8-c5c5-4134-97b2-87c4739643f7',\n",
       " '01bdeb9e-d37b-44f6-81b9-7d3a005d9677',\n",
       " '01bdfab8-ba29-41c2-9b60-f78914ec6910',\n",
       " '01bf2f68-07ec-4322-a374-52b8eff8b18c',\n",
       " '01bf7446-bd0d-4e85-b837-e4da8c2983fb',\n",
       " '01c14d18-291d-462d-8786-7ce34b9be0a0',\n",
       " '01c1fa9f-308e-470f-a7e5-bcff79f33357',\n",
       " '01c2010f-6976-4708-a8cf-d83c7ff90b14',\n",
       " '01c2c822-605f-4453-a53c-502d2f3567cd',\n",
       " '01c40e51-c364-4091-9c6a-ca25c871428b',\n",
       " '01c4a55f-127d-4cc9-bd42-f434448125c1',\n",
       " '01c5682f-3626-4bf2-aa39-2b25a0d835c5',\n",
       " '01c6f667-0655-49e3-9dcb-a7e901112591',\n",
       " '01c73d82-d95b-4431-9e47-f1a00e133cbc',\n",
       " '01c74a8a-ca62-4866-b016-a1795e8e0e31',\n",
       " '01c7798d-f502-480a-b64d-e83f00d15e8d',\n",
       " '01c89414-d314-470f-bd5c-7908981a7d9a',\n",
       " '01c8e135-d1a7-40c5-a179-0872a17cfa63',\n",
       " '01ca34c9-a56d-40d0-b16b-2de2fb1291b7',\n",
       " '01ca818c-eb72-4d1e-8ed7-2cdb6a98894e',\n",
       " '01cacf35-3e27-46e7-8051-33d492f86da2',\n",
       " '01cb0534-8524-4261-ad08-fc0f030b5755',\n",
       " '01cb2be8-a94a-4913-930b-101bb1844598',\n",
       " '01cb99eb-5894-4cb4-811c-e7133dc92e1f',\n",
       " '01cc8b03-9853-41ad-94ea-2308e9279213',\n",
       " '01cc95c0-8cbe-4207-bd7f-5138442649e3',\n",
       " '01cd0e8a-4566-4441-b686-3c72e157d420',\n",
       " '01cd1e1a-7884-4676-a0c5-9db8b87ef99d',\n",
       " '01cd7984-4f81-43dd-895a-74f1d770e0fb',\n",
       " '01ce0f5e-a87b-4de9-8733-cab60a39ddd5',\n",
       " '01ce2fc6-665f-4680-9366-c005a4381ba7',\n",
       " '01ced86c-9c04-45bd-a613-72be246d447d',\n",
       " '01cf550d-8ec4-4cd4-8f11-117154de2ba0',\n",
       " '01d042f3-4d90-4bfe-a412-1f92b58257a4',\n",
       " '01d15922-477b-4a7a-9db8-606472fa4e09',\n",
       " '01d374d8-c256-4f93-9cd4-82f60239d042',\n",
       " '01d3ab4d-cd6d-4246-9f16-8bbd5df6f6eb',\n",
       " '01d3b15b-faf9-4efc-8b54-8ec5d3c4726c',\n",
       " '01d3f277-82a5-46c3-8493-6ba0e1201e89',\n",
       " '01d3fbed-c60e-4b75-994d-d7f918952fc0',\n",
       " '01d4677a-01b0-45ec-b251-6ce5675f7b86',\n",
       " '01d4ce44-3572-41e2-afa4-7a9f1966524f',\n",
       " '01d5285e-b268-4184-9b68-32851b62faa8',\n",
       " '01d5ac93-e412-4049-a57f-b20265ef1e61',\n",
       " '01d6ba53-0225-4ab7-91c9-c9fa204b5e46',\n",
       " '01d758bc-2833-4112-8660-0e7d9b36350a',\n",
       " '01d93004-c168-46cd-90b2-d21f5fc69812',\n",
       " '01d99bd5-5972-46ff-a2cd-89ed36aaaac6',\n",
       " '01d9f5be-a648-49b4-9818-fca464f4771a',\n",
       " '01da3dfa-0d87-4551-bb78-960ed340b614',\n",
       " '01da596b-bf0e-499b-951a-eab4393501e4',\n",
       " '01db39aa-1db9-4b13-a52d-f506d8151adc',\n",
       " '01dc2e94-144b-4d46-9d9b-63c08273275b',\n",
       " '01dc4df3-0b82-44ec-af46-632b7bd14465',\n",
       " '01dc5cb2-02f4-494b-9abe-81e4f7208eaa',\n",
       " '01dc9df2-60fa-48e6-8059-19c17089d9f9',\n",
       " '01dcf2aa-014f-4d76-afc2-a0076fe178bf',\n",
       " '01def721-8731-44fa-9e83-0ca65b592e54',\n",
       " '01df3484-a4a8-46ef-a8a7-e0aecc90f14e',\n",
       " '01dfbfca-66b2-4a54-b963-60f9f67e933a',\n",
       " '01e029ea-8d3f-492f-b4dc-24397b324399',\n",
       " '01e09de1-d8bd-477b-bd90-7bfb66dcff9f',\n",
       " '01e11d98-69bb-409c-a558-17a03dfba5e3',\n",
       " '01e11fdd-b6f9-462a-9155-b75b28bf6db2',\n",
       " '01e12cde-4a90-417d-9edc-7bf518dfc938',\n",
       " '01e1c68f-4ad3-4cda-9623-d87c2ace95e9',\n",
       " '01e2002f-d0a4-4667-bdec-867d2bdd1bac',\n",
       " '01e229e0-7f21-4ac3-83c6-1ecf999dc5ae',\n",
       " '01e27481-0e50-4e92-8efb-3b493678a36e',\n",
       " '01e328c1-550e-42c3-9bba-64119e0370a2',\n",
       " '01e34889-d866-4a5f-9e81-2f07027f2e07',\n",
       " '01e455cc-95dd-49ee-a772-d78bc4ec4aa7',\n",
       " '01e5b92f-f6d5-455f-96e3-61fa4d7bf81b',\n",
       " '01e61cdf-5cb1-4c7b-a27f-0d6ebacecdf2',\n",
       " '01e679ea-eeed-44f8-8ac6-8adb8f0b7e6e',\n",
       " '01e7447b-129c-4322-8316-baa8661a0fa2',\n",
       " '01e843e3-eae8-4b9d-93bd-3bf1117039ed',\n",
       " '01e875b4-bebd-4f6e-400b-e86642ba3b0b',\n",
       " '01e8a47b-47b8-6336-0f55-8afc34a27576',\n",
       " '01e8b733-3f96-4121-b609-f0d2d547c5d4',\n",
       " '01e90e42-6ed3-42a7-9c59-f15096218476',\n",
       " '01e9aedd-aa3a-4266-9eb6-3900dd3b8110',\n",
       " '01e9cef6-c5aa-4c74-b66e-8e367b679700',\n",
       " '01ea0fef-33f2-4b7c-9ca2-dc63fcf6824a',\n",
       " '01ea14e1-c975-461d-980b-b5b0a3b4edcf',\n",
       " '01ea733a-8b05-4673-92b5-89a81bac4a25',\n",
       " '01ecb720-e7cb-45cb-ad5a-a70b5ea6c4bc',\n",
       " '01ecb835-ca4c-44bf-90ef-8c42a1d846a7',\n",
       " '01ecd40c-6692-4bab-9e55-d1c14aa57f6f',\n",
       " '01ed323c-bd68-4d7d-b7d5-ad37431b0c18',\n",
       " '01edb509-effd-47bf-93c0-7b184be56eae',\n",
       " '01edbd41-c5c2-4f06-837a-596e504fc01b',\n",
       " '01ee4d99-0476-4df9-aac5-8798d33e4120',\n",
       " '01ee7549-efe6-4144-91ce-6d3b28c4b911',\n",
       " '01eeb043-e80c-476d-a3d9-543200a67b0c',\n",
       " '01efb80f-785b-42e1-9864-00d9477f9d4e',\n",
       " '01efd2ed-54f2-4d78-996e-021ea644e3bf',\n",
       " '01f0186c-7043-48fd-b7d0-6f65ca269cb7',\n",
       " '01f08258-2f23-44bb-a959-0fdc653f67f9',\n",
       " '01f1e888-1ea3-4bd2-8042-95ad3c10f426',\n",
       " '01f20a96-f872-4f0e-850d-515a8b800896',\n",
       " '01f47dbe-4ea0-4ad6-b40e-86db2cd2e130',\n",
       " '01f4e52d-4ee7-41f9-8cd9-4c2d131a0abf',\n",
       " '01f4eef4-e23b-4685-940b-177a28b69bda',\n",
       " '01f5d0a7-cf4e-466d-8e41-8c1773750801',\n",
       " '01f606e4-cb15-4e3a-8e02-49cc2bd2f669',\n",
       " '01f68cb9-a1bd-4151-af17-44f903c38121',\n",
       " '01f86052-809f-4958-bfad-131f991618b4',\n",
       " '01f9f371-4953-47c5-a24d-612b487f0c20',\n",
       " '01fb2bb0-149c-4aed-9d26-a53f0a7baf29',\n",
       " '01fb61fe-e9a9-42b4-aef4-4333d4b238c2',\n",
       " '01fbecd2-3ee4-4e48-873c-b41fd00bbc6f',\n",
       " '01fc13b1-4512-4dc0-9660-86e098989df1',\n",
       " '01fc2df8-185a-4a76-88d4-126af3e761c9',\n",
       " '01fcb350-cf92-4cfa-9424-b4cc07bc898d',\n",
       " '01fcf8a2-d0c1-4a31-a935-98b5ab84d6a4',\n",
       " '01fdd07e-97fd-4a6b-97b2-cdb6ef89158e',\n",
       " '01fe748c-9e17-4c0e-8876-933a85dc1fab',\n",
       " '01ff2bd8-3c01-485d-bdf2-710a6cc1f1cd',\n",
       " '01ff52b9-a58d-409c-af4a-09f51f77de54',\n",
       " '01ff970e-12f7-4938-9fcc-c1e1986dc771',\n",
       " '01ffce63-21be-48eb-ad1f-fea5cf51ab7a',\n",
       " '02001373-b702-4079-a698-d39bf19debde',\n",
       " '02006ccd-db4b-48fb-81f1-eee9f9f580a1',\n",
       " '0200b68a-6362-4b4a-8a89-b7d52da18742',\n",
       " '0201204b-b34a-4c0b-b2d6-3d40ea2ab7ed',\n",
       " '02020f39-760e-4c17-9765-956646d21e5c',\n",
       " '0203086f-1af9-4730-a61b-f77947304c60',\n",
       " '020688df-2a33-4d96-b946-b22191e4fd23',\n",
       " '0206f8df-6b9c-47f0-8476-f0c296f9900a',\n",
       " '020757f9-ff4b-4c68-baa8-0c653bb8d684',\n",
       " '0207d8cd-2c87-44e7-b129-77b1de2cdc66',\n",
       " ...]"
      ]
     },
     "execution_count": 26,
     "metadata": {},
     "output_type": "execute_result"
    }
   ],
   "source": [
    "cart = session_duration.loc[(session_duration['purchase'] == 0) & (session_duration['cart'] > 0),: ]\n",
    "cart_sessions = cart['user_session'].unique().tolist()\n",
    "cart_sessions"
   ]
  },
  {
   "cell_type": "markdown",
   "metadata": {},
   "source": [
    "### 그냥 보기만 한 인간들 구하기"
   ]
  },
  {
   "cell_type": "code",
   "execution_count": 27,
   "metadata": {},
   "outputs": [
    {
     "data": {
      "text/plain": [
       "['0000061d-f3e9-484b-8c73-e54f355032a3',\n",
       " '00000ac8-0015-4f12-996a-be2896323738',\n",
       " '00001ca1-f2df-4572-b0b8-e752e2064aae',\n",
       " '00002db7-16b6-4db2-bf8b-7a1cb6bd0e7f',\n",
       " '00002f68-09b8-4db3-a092-aeff45fd13ad',\n",
       " '0000601b-26a6-4d63-92da-6b6aebce0e98',\n",
       " '0000a8bd-7cb7-45ed-913a-e2aa0cd0f397',\n",
       " '0000b3cb-5422-4bf2-b8fe-5c1831d0dc1b',\n",
       " '0000d083-4f1b-4f1f-a64b-c237b93ace8c',\n",
       " '0000f916-a117-4e12-9f31-c46a0df12ee4',\n",
       " '0001186b-2bfc-46aa-a588-c4e229c54ba4',\n",
       " '00015af3-7d75-4b9a-a7da-7fd07601f13b',\n",
       " '00015c2b-4f4f-4adc-a107-f80d862d46c1',\n",
       " '00016afd-2d67-4e6e-8918-1243249acc34',\n",
       " '00017b33-a65a-41b5-bd28-a2bfdd71ca3e',\n",
       " '00017f26-9070-49d7-a809-cdfe0be5ef1d',\n",
       " '0001924c-a853-4087-990c-14e11887a4cf',\n",
       " '00019bed-3c6e-4d29-86de-75bafbdf978c',\n",
       " '0001b553-d53e-445a-bdb1-09da33d88004',\n",
       " '0001bf0b-23fe-4ff2-b151-f83aeb5e5d46',\n",
       " '0001d159-0c58-4b60-8e7a-d108f8aa64d2',\n",
       " '0001d5ff-c169-4bc4-b0e2-d45586a2f6d9',\n",
       " '0001de3e-3a52-44dd-879b-d67e0a45489a',\n",
       " '0002082a-f567-40a6-a75e-b298c990daf9',\n",
       " '00020d47-a6f5-4a31-b8ce-4966cdcfd657',\n",
       " '00021e87-ecac-4fe1-9b00-03836b621f72',\n",
       " '0002333b-d4a2-4abd-a647-5ca4532f4291',\n",
       " '000282c5-3f95-425e-9184-bcaeb8f30af6',\n",
       " '00029ebd-fb0a-4e6f-aca1-fa403e0b8806',\n",
       " '0002bb85-7028-4ca6-8f56-c11d16afa74b',\n",
       " '0002bcd6-a159-4b3e-86cf-cfb5beb72d56',\n",
       " '0002cf9d-e184-4e38-8e0e-c6474ffa2405',\n",
       " '0002d2c8-8314-4509-94bd-50f8fb1c71be',\n",
       " '0002fc03-58d1-46b4-8e90-4fb3ceab8e39',\n",
       " '0003019d-0cd8-49b7-866a-33f1a68b210e',\n",
       " '000306cb-c0d7-40fc-9401-de2954adb3d4',\n",
       " '00032441-5691-4df5-aebd-55b248360822',\n",
       " '00035205-78bd-4aff-bd01-e854d2a40f7b',\n",
       " '00036ebd-cc85-b963-4022-6cf2360aa32c',\n",
       " '000373bb-8185-4986-a648-347e79a8db53',\n",
       " '00037544-13a0-404c-b927-52eccce79e88',\n",
       " '00037d49-028a-425c-82c6-8d4b8dcc42ec',\n",
       " '0003a38b-8bee-44eb-a1d6-d4bd3f69a19c',\n",
       " '0003c176-3c65-46ce-9445-4894b75a4fad',\n",
       " '0003dacf-146d-4826-8ad2-8d5c92240162',\n",
       " '00040f41-7721-4c98-8f5d-8f8f2007154e',\n",
       " '0004500c-a505-416a-87fd-e15ff8839b1d',\n",
       " '000452a5-7732-4490-b43a-43af01e45095',\n",
       " '000452a9-6e5b-46b8-aa3b-f8213908751d',\n",
       " '00047775-d597-4f18-ad51-9fca97fb5c3a',\n",
       " '00047c5d-8e2a-4f24-9436-c91295295f2b',\n",
       " '000480b0-ebbb-4b03-9549-0845aa018e49',\n",
       " '000482ae-aa9f-4bd9-a8cc-6558a22aaf6d',\n",
       " '0004ae5e-4424-493f-972f-1418786ba0fa',\n",
       " '0004af5a-3775-46d0-9381-401a7f33e9f1',\n",
       " '0004b352-9c6d-4e64-8a7a-e6e4b334f873',\n",
       " '0004cf71-64f8-4faa-8e93-155fd5707281',\n",
       " '0004d01c-8b69-4acd-899e-00f04cea0211',\n",
       " '0004dc4b-e208-4419-9c56-e315b991fffe',\n",
       " '0004f3ae-4569-4aec-909b-eb0d25c77f29',\n",
       " '0004f55e-f741-43b6-a751-9d01f17e9656',\n",
       " '0004f731-12ad-47b1-a2f1-cb9e8597fd67',\n",
       " '00050992-9214-433d-9d18-821c5559a2e6',\n",
       " '000512df-e10e-4641-bdf9-c724fd575671',\n",
       " '00051661-bbab-4a68-8fbe-693d91858dbb',\n",
       " '0005301f-ac5c-4eed-896d-aecaef9c19d5',\n",
       " '0005554e-4282-4a67-a2e1-056374f9d8cb',\n",
       " '00056af0-72ca-4c1c-b29f-9bfa8774035c',\n",
       " '00056b3e-57fe-44dd-a02e-d863f7598256',\n",
       " '00056e19-de79-46b0-9966-02c3fcd8172c',\n",
       " '000585b8-0ed2-41ca-8364-1ba891350a08',\n",
       " '0005998d-1e65-4cd5-a278-41c65a1cd0f5',\n",
       " '00059a98-4cfd-4c02-a105-230ef6582da5',\n",
       " '0005c8f3-a0d4-467e-8094-a4ac0678b343',\n",
       " '0005d57d-0d84-436b-ba6a-60726ca6e4c9',\n",
       " '0005dfed-71a3-4e6c-bd87-ee77b9b91b42',\n",
       " '0005e98d-3700-4d87-8b17-6458e7c6bbd5',\n",
       " '0005f1c9-1805-4f23-bc92-09791528ac47',\n",
       " '0005f501-b052-4043-a0cf-126530dc6e8b',\n",
       " '000603f4-f77d-4c05-b942-0f353dbee7c5',\n",
       " '00061057-a0fc-411e-8416-1244e87a575d',\n",
       " '000613ee-4af4-4015-8143-7d1c714c98a2',\n",
       " '0006197a-1f39-44da-a167-08dbf8c92970',\n",
       " '00063000-81cf-450d-a302-595caa327439',\n",
       " '000646b9-7bab-4729-b2ad-c94ab60b94ed',\n",
       " '00064c7c-4110-46b7-b328-5d286ddf929a',\n",
       " '00067ff5-f95e-4541-9dbb-a1b9117887fe',\n",
       " '0006865f-fe41-4de6-8ce4-1a6261aa0ae2',\n",
       " '000690a5-8991-44c9-acab-d6bee5cdcc85',\n",
       " '0006a5eb-0a20-46ed-96d4-1863327c2bad',\n",
       " '0006ba04-2192-40e1-8d19-8f3015a4227c',\n",
       " '0006ccef-771e-4ade-bc0c-6a070b4c9498',\n",
       " '0007236a-e61a-417f-98a4-fe850734c506',\n",
       " '0007334d-10d0-4672-95b5-2ffc80941d86',\n",
       " '000733b7-98c5-488b-b555-f72afa0554e8',\n",
       " '00074eac-88ef-4e81-8abc-a3dbcfdc8a8a',\n",
       " '00077644-62d0-49bd-a8c1-c5cbfed28e09',\n",
       " '00078525-9bc5-4b2b-bb64-f59d9a898c10',\n",
       " '0007864a-dd8b-4e65-b7f6-e4d170bb11e0',\n",
       " '0007a646-96db-44d2-9547-054f23ff9399',\n",
       " '0007d052-dcd5-4c2c-8b3a-d6edd6daaa22',\n",
       " '0007f5b2-bb4e-4671-a30b-9d80709465df',\n",
       " '0007ffa3-d727-40eb-99b2-2fedf5d6feaf',\n",
       " '000808a1-6d1f-41a3-b5a9-71c7ec30e9e6',\n",
       " '00080cc5-b8e5-43da-950e-3bd7c7cdf228',\n",
       " '000846ae-d92c-4c19-9c9c-7b594f3b488e',\n",
       " '00085b08-e8f7-42e3-a973-b2a4880e7601',\n",
       " '0008728b-2c44-4cac-930d-83f6a1236315',\n",
       " '00087a5e-1032-4eea-95a0-ca4a0b93eefe',\n",
       " '00087f67-aaef-480f-b6cb-c71003042113',\n",
       " '00089c96-777b-4eb1-bd8b-f97d03270ca1',\n",
       " '0008afc9-134c-4951-b152-21fe69c601d6',\n",
       " '0008b64d-89c1-4fdf-83a0-25cde7bd300a',\n",
       " '0008c9fb-d549-434b-b4cd-066773e27e5e',\n",
       " '0008d750-4301-4d79-a320-f5a617bf1017',\n",
       " '0008d7c4-69cc-488a-b81b-cc34af83ec27',\n",
       " '0008fd53-d368-49c3-a365-e00f8282a6e9',\n",
       " '0008fe45-73f7-4c6b-a42c-fe2928fdeec4',\n",
       " '000939ba-2f1e-5490-df62-457f536ab82a',\n",
       " '000959a1-a6b6-487e-b2de-64703bddf2a3',\n",
       " '000979f1-b643-456e-a7fa-d2f6476e72a5',\n",
       " '00098697-1856-4e05-9127-0a2d743b9546',\n",
       " '0009aef7-65d5-4872-8882-3d4fbf485f6b',\n",
       " '0009ea9b-35e1-402b-ac9b-88edf5d92d39',\n",
       " '0009f757-18ea-444e-bd6b-fc28b443ff4e',\n",
       " '000a198f-d264-4cc7-ad1d-66088091e17a',\n",
       " '000a1cc0-a037-46e6-85b0-a2915c7c8b25',\n",
       " '000a408e-ddbe-4e78-8280-10c1a6d5c286',\n",
       " '000a4e50-2730-491c-851b-9e616235a6ad',\n",
       " '000a98da-b46c-4bec-9f9e-9a2e3f872748',\n",
       " '000a9b01-91c4-439a-93c8-88d78711ae06',\n",
       " '000ac6dc-7411-42d2-9392-69df245be1f4',\n",
       " '000acccb-e484-4afa-af97-82cefd1a5ab4',\n",
       " '000adefd-6321-4eca-b58b-2d06819e33f2',\n",
       " '000b1adf-cef7-487d-88ff-cfab4e9bd1aa',\n",
       " '000b22fb-e1a5-4fcb-95e1-5ca05f539f95',\n",
       " '000b517e-2363-4392-b006-ecabc3356a60',\n",
       " '000b6a01-c5c1-4b87-8771-6c43d2389a84',\n",
       " '000b9c7a-1735-4dd8-bd61-b7dbd4730868',\n",
       " '000bbe58-370a-47a3-93bf-b3573d541703',\n",
       " '000bc319-6f5f-41b1-a86c-becfc7d21ed4',\n",
       " '000bdc01-290c-4e1a-9407-6249af18077a',\n",
       " '000bdf4e-126b-42c9-8624-1d85d31c2e2f',\n",
       " '000c0733-1e01-4fff-b284-6901754f2ad3',\n",
       " '000c0921-df55-4731-af49-d0a9ce214aeb',\n",
       " '000c1262-148f-4137-8adc-7e219c3e7203',\n",
       " '000c1430-f061-4cb8-bcc9-3eb52546e170',\n",
       " '000c22bc-f187-48a5-9524-0f97def0a975',\n",
       " '000c27c3-c731-4e01-9a3b-a74e8dba0091',\n",
       " '000c4a29-0663-404f-bcf1-9f05dbea8f84',\n",
       " '000c4a80-413c-4df6-b0ed-a1a740a39dfc',\n",
       " '000c9019-4808-45d6-b37d-58f22d814954',\n",
       " '000cbf32-7146-4788-8062-518cc3f792cb',\n",
       " '000cdecc-4380-4628-90df-512f5fe40146',\n",
       " '000ce173-670f-4409-8181-84f6d8b9fd46',\n",
       " '000d172b-5e62-43ca-964a-99ec03cd09e8',\n",
       " '000d438c-e630-42fa-a22c-5f464597cfc2',\n",
       " '000d6488-f047-4efe-ba00-3f3821d6c2c9',\n",
       " '000d8b97-ec00-434e-82d6-e01739fce410',\n",
       " '000daf5f-3b5a-4170-b0ae-5b49b6edbb62',\n",
       " '000dc6c0-f69e-4003-b071-6af9a23aefe5',\n",
       " '000dc6ef-c89c-40f0-95cf-c95e63913173',\n",
       " '000dc85a-70b3-4ddf-8bb5-1defd3d793a6',\n",
       " '000dfa66-d03e-4b3d-9cf6-95a35e2b5362',\n",
       " '000e2050-654b-40d1-95fa-90e01440822e',\n",
       " '000e20e4-cd42-44f7-ad29-5a090328222f',\n",
       " '000e4297-4fd7-4972-8ba5-916393d8c2db',\n",
       " '000e523a-ae14-453d-be10-fc8debb86279',\n",
       " '000e52df-be2b-4409-87f2-0ff0387374c7',\n",
       " '000e8d5e-7319-4574-a61c-7be870def9a2',\n",
       " '000eb40d-870a-42d7-90b6-07e9c990ff08',\n",
       " '000ed9bf-4df1-4d56-99ec-cedd59af377e',\n",
       " '000ef5ab-ba11-4a04-8a0d-853c92b6625c',\n",
       " '000efb57-f375-48b2-9d33-3af418bab1dd',\n",
       " '000f09a7-cd8c-412c-9ccb-442c62cc15a7',\n",
       " '000f0c1d-7aaa-4cb8-9e0d-7bd49a40ae6d',\n",
       " '000f3215-4cbb-41b5-a49f-e59e6fed8265',\n",
       " '000f5937-c3c4-462e-9321-3db92dc9f542',\n",
       " '000f6428-068d-4f3d-8921-b3bc0542593e',\n",
       " '000f901d-7f58-4497-a52c-13376ffbfb7d',\n",
       " '000f9ea1-3449-415d-994f-df61c3ae4e3b',\n",
       " '000fb0db-7ec1-4250-804c-1f28835b7e6b',\n",
       " '000fb1a9-cfad-4028-8e73-4251cca8fcfb',\n",
       " '000fc4b9-3b28-4031-92b4-a789823e8290',\n",
       " '000fd7e3-794d-4272-9af4-673e4aabd86c',\n",
       " '000fdde7-1537-476e-91e6-3f9087606a68',\n",
       " '000ff864-03a0-44c3-87af-91695733c9e2',\n",
       " '001076fe-6ba2-4a9a-a026-66e80668f09b',\n",
       " '00107bf1-e8a9-4b61-b013-be11e5774b53',\n",
       " '0010a2b3-c16e-4c24-b74e-89f4e1dc74de',\n",
       " '0010a433-6229-4c16-827b-53d5ab25be44',\n",
       " '0010ff04-1a7d-4dbe-9b0b-32e6768fb28c',\n",
       " '00111ae7-2332-408d-9578-a1abd4ab676b',\n",
       " '00115117-c25c-4f76-81f6-60275a0ad656',\n",
       " '00115493-e6d2-4c50-b1c2-a73c647a4c4a',\n",
       " '00115c77-839e-4caf-a832-5fb9d321c203',\n",
       " '00116e9f-0810-4448-a00c-bffc615c5c37',\n",
       " '0011819e-5bd5-4ead-a0d5-171a13dbfbf2',\n",
       " '00119b6c-05fe-4cf4-a5b1-6cd79950575b',\n",
       " '0011c27d-d32d-45d5-a660-633df3e2f0c0',\n",
       " '0011db39-10fe-43f3-a97f-29a0af520260',\n",
       " '0011e059-c8e8-0e2d-01e4-39fac819b3cc',\n",
       " '0011e743-be93-4505-8477-36f6683ebccc',\n",
       " '0011fbcd-95ee-477c-8e0b-c07ab8a69580',\n",
       " '001233a8-5b19-4400-963c-cdc7b6d4c545',\n",
       " '00123bea-39bb-4f3e-9377-b01fee94ae81',\n",
       " '00123dde-7a66-455c-b2e8-ab419b0cfb21',\n",
       " '0012563f-8edc-4e6e-ad75-a512d445d960',\n",
       " '00125f03-454b-49d9-bd2a-8a51a8e3a705',\n",
       " '001276fa-6ec9-4e29-89da-de74ca4dd164',\n",
       " '00128e1d-89ef-49bc-b7cc-fb385330228e',\n",
       " '00129f31-f510-418d-8812-be284704d63c',\n",
       " '0012a710-8536-4c2e-895a-5986f1ae391b',\n",
       " '0012a960-915b-42d7-9de1-145800708e43',\n",
       " '0012e353-1f8c-42aa-9892-c5c0009ff338',\n",
       " '0012f035-ae41-4d42-8c5c-1d22d22fe3ef',\n",
       " '0012fad1-6179-4647-9d68-4c4074d60bd6',\n",
       " '00134d07-3f34-488c-9e55-acc7df14a74a',\n",
       " '00136eb6-8877-48f3-8ae6-782fd26b7169',\n",
       " '0013909c-987e-4335-bb66-ec716c4fa836',\n",
       " '00139a7b-662e-4e08-914f-f41a9272346e',\n",
       " '00139dcf-f8d9-4473-b628-ae465d509698',\n",
       " '00139df4-5e14-4c33-b8dc-07ba71d92c92',\n",
       " '0013b4e2-b999-4d1c-a7cd-e63fc8d55a02',\n",
       " '0013b831-4b08-4cf5-bfdf-9b1006d58790',\n",
       " '00143e79-da97-46e1-9bd3-fa93874c2778',\n",
       " '00144196-898e-49c1-a5a8-877973a5d701',\n",
       " '00145584-02ff-47e7-96ab-83a2ffa05be9',\n",
       " '00147bfd-8cb4-4cbd-8db1-bc70780a59d1',\n",
       " '00149c3b-3af3-4b6c-ab53-d5b00b0349a5',\n",
       " '0014a81f-49aa-43b1-b550-0f41ed952dc0',\n",
       " '0014a9b3-505b-46ef-a27f-0ef48ff37562',\n",
       " '0014b0a0-3062-48a6-ba83-bd0ef480128a',\n",
       " '0014e080-96c5-490f-8f76-72f832650124',\n",
       " '0014ecb4-eba1-4911-8cb3-ba7266ddb980',\n",
       " '0014f56b-f336-46b5-9fa5-136c8da519fb',\n",
       " '001507cd-8c4d-4920-9083-9b6be1709ccc',\n",
       " '00151f96-0eb5-4eb5-abda-ee5678f3e5f0',\n",
       " '00157892-c22d-4865-ab21-1c20387e762d',\n",
       " '00158105-55ba-4de1-8c5c-b0764ff4b04d',\n",
       " '0015a2ca-e8e4-404c-b343-a5be1d8a5ce5',\n",
       " '0015ac4a-4e4f-4ce4-bc44-b24f853958fd',\n",
       " '0015b274-2db7-442f-9fea-530467f431a3',\n",
       " '0015b974-c240-4d4a-9a97-170bb1ef9ece',\n",
       " '0015bcf5-19c1-4a79-91d7-ba16d38400a9',\n",
       " '0015fec9-df08-41d3-a1ac-c198d9959496',\n",
       " '00161998-8cea-48c5-a48c-3e6d0a7a20cc',\n",
       " '00167769-496f-412e-bb0a-073755bd96af',\n",
       " '00167bc1-3181-4ce5-9a2f-74a190c0c12d',\n",
       " '001680e3-6bd5-4ee6-94fe-7d7029dec152',\n",
       " '00168274-bc88-4550-b736-7ff06e62931e',\n",
       " '00168dc0-a112-433e-84ed-22e8f07a062d',\n",
       " '00169477-50dd-4891-a764-0cb5ddf36e66',\n",
       " '0016a8a2-7c38-4351-9bb9-17dc1f886901',\n",
       " '0016c6fa-5ea4-3732-a6d3-ae6ba4322c68',\n",
       " '0016ffbf-b957-4692-858f-581a6ac1693a',\n",
       " '0017253e-944b-4494-a53f-6fec597cf33a',\n",
       " '00172c88-cf61-4f2d-8060-8c9d179c5714',\n",
       " '00175cf4-0297-4e14-a462-6d3cd74b775c',\n",
       " '00176599-3ea6-4300-a6a4-78826f6ec0d1',\n",
       " '00176ea6-4b1b-4cac-a4c9-47fd03e6dd07',\n",
       " '00178579-0092-497e-b652-d37ae55efbc6',\n",
       " '00179d04-0b3c-4f2a-be26-b2d1319cfd05',\n",
       " '0017bb2f-7bfd-4920-be81-bb08f17cb183',\n",
       " '0017bb94-60dc-438f-82af-4e6db113e6bc',\n",
       " '0017d243-1364-4b76-8533-664b8bbb20b5',\n",
       " '001813f4-e185-4ca1-b02f-0cfc4817b9e1',\n",
       " '00181bdc-51cd-4656-92bd-255fd8de8887',\n",
       " '00184843-cc3e-4f73-9393-5cdebde54d3d',\n",
       " '0018491f-e86d-4336-8330-28992f8de00b',\n",
       " '0018519b-fdd6-4e11-a3f6-ce0f52008257',\n",
       " '00187078-131b-4075-9f5d-d25013470048',\n",
       " '00189aaa-c5d5-496d-ba1b-c6aa552d85b5',\n",
       " '00189d7c-23cf-4cb4-bf85-ba356b58e732',\n",
       " '0018cfdd-a5c0-4696-8eec-5b805d0053cd',\n",
       " '0018e94e-63b5-4ea7-8461-c3d92e326e30',\n",
       " '0018f51b-07e3-47b4-93fc-714b489ebb5c',\n",
       " '00191d0b-9005-4faf-b0f5-94e13c03ef01',\n",
       " '001922dc-9508-4e0e-b76d-18d84fea828a',\n",
       " '0019353b-3f51-4140-bb9f-86cf28db7c02',\n",
       " '0019466b-ab4e-449b-a0ca-ce6c8e105d2e',\n",
       " '00194922-4971-4976-819c-14f5503fb5f4',\n",
       " '001954bf-0ed8-4ac1-ab38-5fac71bbd776',\n",
       " '0019553f-5121-41f8-bbdc-a8165e122eaa',\n",
       " '0019782f-d7ad-480c-b73a-be331c65a655',\n",
       " '00197cf0-c935-4cd9-8fad-f84ed10fe103',\n",
       " '00199e8a-defa-4c6f-88b6-6b0087c02b6c',\n",
       " '0019cb70-8dc3-40d7-8f82-92f2df08a2cf',\n",
       " '0019d3b0-f053-77ed-bfb9-123be62168bd',\n",
       " '0019efe6-fc25-4774-bb07-a4dd4ffe8192',\n",
       " '001a05ba-0142-4738-a7c0-6162cf8f2fec',\n",
       " '001a0d78-9f2e-4181-b601-3a8c35cb5d4e',\n",
       " '001a23ba-ac49-4320-9511-6c9fe05fa8eb',\n",
       " '001a30d7-b30d-47fd-8e21-9af2310f947f',\n",
       " '001a3ca5-1f75-450f-9985-c55c07c69718',\n",
       " '001a3e7f-4593-4634-bbc5-021e655c4420',\n",
       " '001a60ea-2c54-4e9c-b23f-1c1ac3333840',\n",
       " '001a882f-c8fc-4cbd-890c-7cf163a94977',\n",
       " '001a9de9-1c27-4ce2-b19a-229ff3802e9d',\n",
       " '001a9e9b-aba3-47a8-9c0c-5b443ee16878',\n",
       " '001aa1e5-17a0-4dab-b1f7-b17ce16d2bc1',\n",
       " '001aa609-523f-4a7d-9f99-f389b8b25d63',\n",
       " '001ac025-8137-4b79-924d-f5c60d697e37',\n",
       " '001acef7-b662-41dd-8904-54d3831ea1b7',\n",
       " '001acf6a-949a-4443-9b49-34662e6e5f54',\n",
       " '001adb3b-00f7-453c-8da1-4b6acbab2c4b',\n",
       " '001aef4e-1763-4e93-8f64-1a71c724227e',\n",
       " '001af1c7-98a2-4841-9ac0-7902ff6f7ed9',\n",
       " '001b03f4-5353-4f23-bc02-1c3546d71694',\n",
       " '001b29f1-8f9e-4b81-a12e-25793823a272',\n",
       " '001b2d55-3f3b-491b-93d8-e399aed830f4',\n",
       " '001b30cb-c0d0-4495-8714-f93a21496294',\n",
       " '001b3b0d-fb9b-4a8a-a0ca-e6397f985255',\n",
       " '001b4956-f351-4bd0-ad8d-a583fff3ba3f',\n",
       " '001b5320-61b3-4f74-9f38-7bb912f15aa4',\n",
       " '001b6971-d547-47b6-ab95-0fa3eecb3c51',\n",
       " '001b6cf9-e786-483d-b529-4ca46f2a47ab',\n",
       " '001b76de-8110-4567-96c6-fba530018298',\n",
       " '001b836e-1477-46f9-bd80-07d922876837',\n",
       " '001b94c6-c20c-4653-8c90-4876a64345ce',\n",
       " '001b9db6-0b64-45ce-a9f1-3bec05e34ac4',\n",
       " '001ba262-14c7-4ff7-8501-c5f1f07c6d81',\n",
       " '001bb528-5b5b-4bc3-80de-1f911a5c0ea5',\n",
       " '001bcb29-d782-4829-a63c-b725c38a0d49',\n",
       " '001bcd8b-ae79-4a23-a1b1-2d1151a56ced',\n",
       " '001bd018-3aec-4e2d-8f4c-c4ca3c7db2f6',\n",
       " '001bd6ec-26b7-4cf4-93db-85379de17372',\n",
       " '001c059c-6bb7-48a3-b3e7-03b70786c278',\n",
       " '001c199e-438c-453b-838c-e56a6ceb15d8',\n",
       " '001c51b9-aba4-45e5-9100-e6c116947f9d',\n",
       " '001c520e-8490-48c4-b706-7827a4526ed1',\n",
       " '001c5899-712e-4faa-a60e-d9ed8270b043',\n",
       " '001c6d49-644a-4ffa-b8e5-4d6e19a32ce1',\n",
       " '001c7586-dab9-42ee-b2a7-2c2695886f16',\n",
       " '001caf69-b81e-4f5d-b9b5-3a02d9e4f430',\n",
       " '001cd2be-01a1-48e1-bb75-f87eab085459',\n",
       " '001ce2b1-1d70-46be-8f72-02e795314ff0',\n",
       " '001ceb8a-9ad3-4411-8fd9-f5b188a7b475',\n",
       " '001d5430-ed1a-4e6b-9879-14bade776c7e',\n",
       " '001d5f24-a23e-49f5-b8da-9e8882aae23d',\n",
       " '001d6b39-85c5-4f81-9602-1de23420d202',\n",
       " '001d8e32-8d47-4dde-8fe9-89c26cc373c8',\n",
       " '001d9364-df67-468c-8432-d4b41b70fcb8',\n",
       " '001dac1e-7507-4cfe-95f3-14f7cb9ca93a',\n",
       " '001db6f0-3767-47e6-a3ff-6f13ffd624b8',\n",
       " '001dd195-b78d-496b-be93-71595f66a582',\n",
       " '001dd8bd-5f6b-46cf-b2bc-9d64805de12b',\n",
       " '001de0c7-ec1b-419c-bd1a-d6a103d938c1',\n",
       " '001de1d7-e0f9-4920-9177-a2ae2d1c42dd',\n",
       " '001dec08-e6e1-4948-b724-37ab4344c653',\n",
       " '001ded4a-1990-4233-9d2e-32ef373214e2',\n",
       " '001e0401-f891-42cf-9afb-f86a029863af',\n",
       " '001e2fc7-4ced-47e6-9b3a-829137e2a681',\n",
       " '001e3838-ff08-48f8-95b4-b9a3a182d8c8',\n",
       " '001e39a6-e13e-4ff8-965d-749025cb492b',\n",
       " '001e4bc3-c0a9-4a24-80e9-38af1b58ec3e',\n",
       " '001e5d0c-f473-486d-a623-41ca79ad7bd9',\n",
       " '001e84b4-0b87-4531-881c-e7072afec244',\n",
       " '001e94aa-11ff-4501-865a-e8db2d691a04',\n",
       " '001e9ea1-b10e-4313-ab29-51bde23fd7eb',\n",
       " '001eaa30-7a09-43ae-a085-69b708c6c643',\n",
       " '001edc9e-479c-42da-a8ac-6893e4b5b244',\n",
       " '001eeaa5-d630-49f2-9950-3a5c4e41bd5d',\n",
       " '001efed3-fd5f-4fc5-ba74-51e096553c26',\n",
       " '001f2d88-15b1-43c6-9726-3d1c57555c03',\n",
       " '001f60df-b36f-4375-884e-780dce9e373e',\n",
       " '001f624a-6984-46eb-8d0b-78a6aa20c661',\n",
       " '001fc167-5e97-4a74-b9af-2342536d1b2b',\n",
       " '001fd042-6e27-48d9-a93b-b90b07890bc2',\n",
       " '001fdae0-3d39-41ea-9e96-0c4fb8f2193b',\n",
       " '001fded9-60d8-45d6-b553-75535e4f17e6',\n",
       " '001fe693-c53f-4f92-a70a-abe1c0fbd95a',\n",
       " '001feece-597e-40b1-a0dd-462ff5b6c7a7',\n",
       " '001ff773-4e2e-4214-82be-3fb90d281ae5',\n",
       " '002012d3-7dac-4047-b327-62a87465a541',\n",
       " '00201dc9-2aec-4d3d-bc08-58d620ea322f',\n",
       " '002021d7-0c69-421a-acb9-6694ce5fc92c',\n",
       " '002024fb-c8fd-4cbc-a896-4c97f03f1589',\n",
       " '00206e4d-293d-4f3f-9232-44e1c3a3adff',\n",
       " '002072d3-121d-48ec-8f0d-62a859973013',\n",
       " '00207b3a-bea9-452f-ac15-21700bb235b3',\n",
       " '00207c17-5e61-44f4-8b36-c735b2567569',\n",
       " '00207e8e-35ad-4d01-9609-c321c0e06de4',\n",
       " '00209507-f612-4c53-9572-2648d0a5b219',\n",
       " '0020a5d7-4a13-49a2-bfef-d546b5bc0d0b',\n",
       " '0020ab32-2963-4c3b-b25e-a0689a0b67ae',\n",
       " '0020ac00-2dfb-4e89-ab8a-52e863014368',\n",
       " '0020ac53-8123-4361-8062-e1082c4615a0',\n",
       " '0020b252-0131-4bca-ad0e-296f10d9270d',\n",
       " '0020b45e-6668-42e8-bd80-913a8615bcde',\n",
       " '0020c8ab-aac6-492a-a34b-4460a5107cb8',\n",
       " '0020e129-4b22-4c0f-8195-e2f91db8bdde',\n",
       " '0020f0ec-e263-4d3b-a6f3-9d85fc72093c',\n",
       " '0020f73b-9429-499f-9f1c-30fc5293034b',\n",
       " '00210bb2-f412-439a-b4ca-d293a4f7c0e6',\n",
       " '00210f90-0665-4cd6-ae3d-77b3726d8bf1',\n",
       " '00212350-30ad-4db3-abce-99b88e2591a0',\n",
       " '00212fda-d568-4e58-b7d5-e04dd32c0ee4',\n",
       " '00216255-0a12-45a9-b05d-2c9315580a43',\n",
       " '00219ff7-fe66-40fd-8c39-5b823cd1d59d',\n",
       " '0021a044-c25c-457b-82cb-0543855c37e1',\n",
       " '0021a244-c030-440a-88f3-3e95ff572b28',\n",
       " '0021b8d3-668e-4555-9178-7caa292d9e72',\n",
       " '0021d085-b5d2-426d-a718-bb60828d9ae0',\n",
       " '002218ba-4622-45a8-8c0a-7deca2a789a1',\n",
       " '00223568-8e33-47ef-badc-116d02dde152',\n",
       " '002247f4-91e2-4f90-a7f4-c4f223b8ba4c',\n",
       " '00224d48-c18e-44c7-b5d7-d37e822eb2a0',\n",
       " '002257ee-32de-4a3b-8ed2-61d72d9b0c43',\n",
       " '00225be5-2c6d-4fe9-949b-b87700d72e68',\n",
       " '002281d5-ef4b-43c0-91ad-d03bed2d6af7',\n",
       " '00229908-08bb-4b17-9e90-596cf32752c2',\n",
       " '0022a697-b4ab-4f27-8d7a-8284f791abec',\n",
       " '0022aeea-6f0f-4fd7-9984-5e4aa1851d3d',\n",
       " '0022e83d-f01c-4acf-9833-d11cc01a0dd8',\n",
       " '002347b4-65d2-4462-bd7f-c666de9adb88',\n",
       " '002356f7-c4ff-4fb6-9369-e1a1b9a9086e',\n",
       " '0023613f-511e-4eab-bab9-3cf867438461',\n",
       " '00239759-ada1-4367-a8d1-d57f11886606',\n",
       " '0023bc34-09cb-445a-9934-e2795b7718e1',\n",
       " '0023fa23-2880-4b94-bca5-5dd9666c3736',\n",
       " '00240010-02df-4e0c-a70c-8672fb2f9df4',\n",
       " '00240244-c507-441e-b18a-1b3d8ea1d20c',\n",
       " '00240ad6-566c-4fa7-bb3f-70737ca79676',\n",
       " '0024228b-9f6e-49fe-b00b-554d3bc0bb87',\n",
       " '00243cc3-2f64-4724-9545-8196177d9128',\n",
       " '00243ec3-3d41-4450-af16-51b86c8f1eec',\n",
       " '00244bf5-de65-488e-9dec-834b4c2bbe83',\n",
       " '002457cc-cf3d-4994-8bd5-8d87e65d0010',\n",
       " '0024fb1d-c17b-41bd-b108-6ad1d115ac7d',\n",
       " '00251607-a51e-42b1-b908-29fab8dec56a',\n",
       " '00252261-551a-4adc-a690-5f6d735cf24f',\n",
       " '0025692e-571b-4ada-8e9d-b3414a9a5e14',\n",
       " '00259f91-c9d9-480f-8e46-49e4d916c199',\n",
       " '0025a317-5735-4811-803c-e09bdd33d182',\n",
       " '0025a9be-6723-4862-8fee-d68fa648c690',\n",
       " '0025ab9b-a036-40b0-bf25-748619ec6ae2',\n",
       " '0025d9b8-5028-4095-8124-c2cd3c7212ae',\n",
       " '0025db2c-f18c-494e-9030-7559f880ae4a',\n",
       " '0025ed0b-c4c4-4125-89e4-324ae6d8f07f',\n",
       " '0025f32f-9a07-4190-8c48-95bdf9b999a9',\n",
       " '0026103f-bbeb-4eff-b33e-d919363cc0cb',\n",
       " '0026271a-b549-4756-82d2-bd300041d60f',\n",
       " '00265b8b-20ff-4479-a9e9-02945f7850cf',\n",
       " '00266309-3404-493a-bda1-fd521262c062',\n",
       " '00266592-609e-4b22-a465-61061f5ddd7b',\n",
       " '00266a90-4258-4390-805c-bfa56457f72d',\n",
       " '0026ab67-cde0-4f89-8280-75d1df79cbd8',\n",
       " '0026e583-b781-4e75-8def-157b36da2eba',\n",
       " '00271883-7971-4bc8-881a-17c53fc51289',\n",
       " '00271abe-94b1-411b-b08b-c205a904db28',\n",
       " '00272273-eed6-4182-8dfe-5f53b83171e2',\n",
       " '002738d8-f040-413c-bb4e-3ba4759901d8',\n",
       " '00273c76-6236-4701-addf-a5dedf3f5e56',\n",
       " '0027405d-de8c-4836-b74b-45b08782625a',\n",
       " '00274127-6801-4e0c-b44e-65c801b86d57',\n",
       " '00274ae9-411f-49c1-9ce4-8fb6bed5e3fe',\n",
       " '00276a83-925e-47b8-9838-e71e8667d676',\n",
       " '00277d49-6f85-4120-b013-9ba870221919',\n",
       " '00279902-41ee-4d0b-8257-8c3ef5da88b6',\n",
       " '00279a9f-75a2-46ad-88ec-5cd38c701205',\n",
       " '0027c379-5954-4c3e-b63f-72291800e1ea',\n",
       " '0027d0b8-6634-4e76-8622-dd10822a66d6',\n",
       " '00280754-13fa-464b-a010-3b34cc1acbda',\n",
       " '0028300f-b658-43a6-bb0e-111003277cda',\n",
       " '002856e3-f51f-45c1-8f43-0fe9660e9d89',\n",
       " '00286e3f-66eb-45f0-b6d6-e3fe03d00a7a',\n",
       " '002877d9-7f65-443b-8ede-b045620458ce',\n",
       " '0028a703-ce41-448f-8e87-f329fc7498d8',\n",
       " '0028a7c2-95a2-471d-a32d-2c9f419db46b',\n",
       " '0028a976-d57e-4ae6-b2d5-ddcfdf375f32',\n",
       " '0028a9a7-df9e-4b4f-9124-b6f6009b1b22',\n",
       " '0028af38-0373-4a6b-9fe9-168f6c567cb6',\n",
       " '0028c1c7-c4ea-4eba-848d-9ba0bee3d5ef',\n",
       " '0028cdca-a964-43ce-89c7-3696074ec8b9',\n",
       " '0028edad-3379-47d1-991b-52a6a1e86a5e',\n",
       " '0029405e-d326-453a-86fb-570b11a08fb2',\n",
       " '00294a25-83c3-454a-8c1d-782e6ce5a6cf',\n",
       " '002979eb-112f-4082-acdc-7d63b0a6b604',\n",
       " '00297c90-f91c-4f69-ad56-f814be1d477f',\n",
       " '002985ce-ad72-447e-9965-ebb0f8535225',\n",
       " '0029922a-4cfe-43f0-b7b3-f34c6fdb6ee0',\n",
       " '002995d0-61bc-4d48-b8ad-c8ffc5b867f9',\n",
       " '0029e108-418b-4b99-8558-4fa391135dc0',\n",
       " '0029ec6a-9272-48bb-a27e-02bf1ba63d6e',\n",
       " '0029eeea-c6e2-4805-8d69-f4951bbfb43d',\n",
       " '0029fff2-1d1b-41f8-bf6a-7dc563f4664d',\n",
       " '002a165e-fd8d-48d2-8a80-cc01814707a3',\n",
       " '002a3220-528d-4d35-8f5a-0632931cd526',\n",
       " '002a713d-10a9-419f-872c-c98d3868f7b7',\n",
       " '002a835b-eec9-4573-a245-8ee1c0d2bb90',\n",
       " '002a9a51-4664-42f3-b24e-c0a08ab81376',\n",
       " '002aacef-4efa-4716-bc0e-aa318b784df9',\n",
       " '002ab6ae-f152-4bd5-9bc9-c7ef62c92405',\n",
       " '002ab7bc-1097-478b-ac3a-f04e05387fc7',\n",
       " '002afde8-5007-4277-b165-f5c795a9282b',\n",
       " '002b0288-65c3-4e6f-976b-8e45ff353671',\n",
       " '002b0d56-3f05-42f0-b5e5-26717d53de3e',\n",
       " '002b2ad1-52be-41a1-9510-54240142a24f',\n",
       " '002b2c98-59d4-4061-9479-ee685fac9f8b',\n",
       " '002b38b9-830a-4e79-9240-04db2bb8bbfc',\n",
       " '002b4759-bca5-4bc9-ab91-6b479d340072',\n",
       " '002b4eea-7988-44df-b31d-5a2bfe6e6e29',\n",
       " '002b7020-d7ef-4ccb-b007-9a20fb90192e',\n",
       " '002b8d0e-4d5c-4361-896d-41ab1429eeaf',\n",
       " '002b8f8a-5bdf-43ca-8eb7-1963ca6a636a',\n",
       " '002baa1b-1589-462f-8291-e16ca9396ad0',\n",
       " '002bcc45-e168-48ec-9199-13483b32adee',\n",
       " '002bd14f-abe3-4a4d-90d9-e77ba91a5c5c',\n",
       " '002be4a9-66df-4086-bdb2-6eb067abd79a',\n",
       " '002bec37-7039-4d7c-b2e9-c8bc75a6781a',\n",
       " '002bf556-bb8d-4ed2-8442-7667a264e8d6',\n",
       " '002c1ee0-a9b7-462f-a8c9-5310f684cf72',\n",
       " '002c1f85-c78d-4eb2-b4f1-0e2eff5b8919',\n",
       " '002c2549-a132-0368-8781-f33c03450ced',\n",
       " '002c39fc-a2e8-41b6-ac28-24a74e9b80e7',\n",
       " '002c3d1f-96ac-4966-986b-f1f5541b2a05',\n",
       " '002c4702-0e20-43c7-8a48-ed831490824f',\n",
       " '002c4a8c-24f9-4281-8e32-602abe61a5b9',\n",
       " '002c695c-5bf2-417a-9713-ba5bb36fb1d0',\n",
       " '002c6aab-0dea-4bd1-be02-b03739a32d37',\n",
       " '002c93e7-eeab-45a3-9c21-44d0a5f80078',\n",
       " '002ca23a-b6ff-4c01-b91d-9c1eaac8add2',\n",
       " '002cb894-7d11-4460-b142-4ab2c45043b9',\n",
       " '002cf980-9ad3-4f73-8ee6-46023c8f9434',\n",
       " '002d0fab-de6e-44c0-a745-007c1c9c8b34',\n",
       " '002d250a-596a-49e8-b907-ded83ba9e5b8',\n",
       " '002d26e2-3555-4e8d-913d-0e5e1fb82479',\n",
       " '002d2a93-ce6e-43d4-9f9a-c132babb8e92',\n",
       " '002d493e-a61d-480a-924b-e7c8805d3d6a',\n",
       " '002d4d37-a825-4cbe-b393-9ac9a34aff79',\n",
       " '002d700a-3cb5-4349-8d33-46be2cb2dbeb',\n",
       " '002d704a-bd59-4854-8f34-e21fc27302cb',\n",
       " '002d78d0-4d78-4cb2-8a58-04c3a47962c7',\n",
       " '002d8aaa-2881-4735-adc2-ffb10b41d38a',\n",
       " '002d9855-5a7b-4412-8659-dd8238302aca',\n",
       " '002db030-808a-4eee-8d63-f1b301214a7c',\n",
       " '002dc9d3-df5b-49ef-905f-59299f83d4ec',\n",
       " '002dddeb-8d22-4b09-a911-36d9e0c61a70',\n",
       " '002de51e-d4b3-4c84-888d-806254132724',\n",
       " '002e027c-055c-4dfd-a4d7-3732297cb098',\n",
       " '002e2956-5720-4779-92ff-9a88c42d51a9',\n",
       " '002e2f3d-f764-49da-ba59-b630a434287c',\n",
       " '002e7110-a4a5-4c2c-9502-d84ae755e543',\n",
       " '002e8924-38f2-4aec-a82d-10860f423558',\n",
       " '002e976d-f97b-4c44-bf7b-4376aada1bb9',\n",
       " '002e9785-9a35-4aa2-8b2e-02e7966a9f84',\n",
       " '002ed77e-4e37-42fd-81a1-53a52d120331',\n",
       " '002ee6d0-1c1d-4687-8a2c-2e929e451aa2',\n",
       " '002efa55-c23f-426c-8997-e074bef9920c',\n",
       " '002efe6f-1348-411a-ba45-ea276e498fd7',\n",
       " '002f14d8-2a2e-43b1-9aee-a10bbfb03430',\n",
       " '002f5391-46b6-4688-bd5f-9b31da62980e',\n",
       " '002f71a8-88a1-4203-9795-26c341ef4e15',\n",
       " '002f8c3c-8420-42a8-b387-f9e3ae321002',\n",
       " '002fa723-eed3-40e4-9d0d-95bb921158a3',\n",
       " '002fab39-4eba-4bd6-a6ca-cf4d0201ad6b',\n",
       " '002fba29-88c2-465c-989e-110728fb631d',\n",
       " '002fbb8e-44dd-491d-8921-f7af859bab57',\n",
       " '002fbfb5-22de-4581-9295-cf2f4b433613',\n",
       " '002fed6a-7c89-4bde-8920-c3355f1eb16c',\n",
       " '003015f8-3503-470b-919b-7a262fa50be1',\n",
       " '00305e0d-0ec2-4e62-b13d-aef82479ff88',\n",
       " '003094b7-8f59-4ceb-bd33-6fb85fd15903',\n",
       " '0030aaa3-5a55-4aef-9f02-da4f15620156',\n",
       " '0030bb5a-aa59-4c96-a81f-ca5faebbd634',\n",
       " '0030cd7d-c863-4a9f-bf35-54c67df5582d',\n",
       " '0030e703-2e7c-47b2-8011-95f6fea5a1da',\n",
       " '0030f22b-658c-4ded-a125-f69e843f0d7c',\n",
       " '003105ce-c666-44dc-b8f1-2c3cd8d59770',\n",
       " '00311596-1cf3-49af-afa1-76d4963aca52',\n",
       " '00313bc4-c495-4879-863c-37fff3424404',\n",
       " '00314694-a080-48bc-9340-9d506a2cbb4d',\n",
       " '00315b8f-4259-4c65-a1c2-4bd6524617b6',\n",
       " '00315bd7-547d-43b0-b5c8-7e10930003c5',\n",
       " '00316afb-ddc8-488f-9f89-765b90853645',\n",
       " '00319f3c-dec8-46e0-aa95-90d459688124',\n",
       " '00319f59-1f2d-4e28-9b00-511c53acc838',\n",
       " '0031b5ae-dd01-49bd-9cb3-0465184dc881',\n",
       " '003217a8-fd75-4d48-a541-82b6444e0da3',\n",
       " '00321816-ceb1-412c-83c0-df6e0331580d',\n",
       " '003226c7-75f8-4548-8947-1774229852e8',\n",
       " '003234f1-0250-43d5-904d-14f6a6d2fcab',\n",
       " '00327809-589f-4dcd-8610-4a769ed91bca',\n",
       " '00329172-f1bb-4fb8-a2ff-e61e22745147',\n",
       " '0032e474-761a-498c-a0a7-04f958daa945',\n",
       " '0032fabd-0466-4f03-b7c9-10fe5b4e5e24',\n",
       " '0032fcf8-b7a1-42e7-aded-3a4b8421aa41',\n",
       " '0032ff9b-8262-4a64-a721-76ed1ccda01b',\n",
       " '003320c3-db17-4117-84ca-64f8358a7fc6',\n",
       " '003320d3-0136-4c93-8a5a-ed5ab64f442b',\n",
       " '00332362-3a87-40aa-87ce-36a21c05915d',\n",
       " '00335a11-4128-4832-8a91-8c06d52ff7cf',\n",
       " '003378e1-b8d3-4dc6-ba37-e3733e776ef3',\n",
       " '0033861a-97e3-4828-80dc-c9118458b44f',\n",
       " '0033b288-f30b-4a69-8eea-59155c806241',\n",
       " '0033ba31-4df4-42f3-acec-ea1d0e74994e',\n",
       " '0033c285-1655-4014-809b-2f551da0a3f3',\n",
       " '0033ef19-65b9-7e6a-1248-0ec5b1187fb0',\n",
       " '0033f705-83f1-4606-8e7a-ea15cd6e2242',\n",
       " '0034072c-9614-404d-add6-c1bd289f0247',\n",
       " '00340de0-b59a-40ea-985b-9c84f1dd7fca',\n",
       " '00341f95-02fe-552e-1a2f-32568c25569a',\n",
       " '00343e15-fde6-41c5-a254-528f471e29bd',\n",
       " '00345666-a843-0021-b633-661901e7c73d',\n",
       " '0034622a-b6b3-4059-bd69-80373fe1d456',\n",
       " '00346db4-d6b7-457e-9e7a-7bb8f6cdbe56',\n",
       " '003472c4-c358-426b-9cb4-c67e952666d3',\n",
       " '0034a8a7-ccc1-4e87-9fcf-f475cd5218ec',\n",
       " '0034d2cd-ed63-4f72-bfd1-262036f62d5f',\n",
       " '0034d2e7-81f1-47a4-ab86-21caeb7120ed',\n",
       " '0034d7dc-63e8-491b-8290-18155fe167f9',\n",
       " '0034edc2-9ae2-4329-84e7-ed4bdd13173d',\n",
       " '0035035f-0937-4039-9426-d838336cea75',\n",
       " '00351839-17c1-4238-ae10-c84f1eae56e1',\n",
       " '003527b0-cd21-43a8-a155-cf5f6c7e437d',\n",
       " '00353262-7fb1-43c8-b6bc-0085c96de279',\n",
       " '00353dbe-3e96-4c8c-8869-3b30edc627e3',\n",
       " '003540d5-9ace-4153-bdc4-66a789ac2695',\n",
       " '00354514-74bf-4939-8973-67a8b3ddd6c0',\n",
       " '0035468d-a0c8-4e48-acbe-248b51ad0a3c',\n",
       " '00355c54-4a10-4ef5-ab62-a8a2aab06529',\n",
       " '0035a815-d580-46b4-a2d6-67afdcc7c837',\n",
       " '0035b466-f16a-4e78-9339-2f8bc903a3b7',\n",
       " '0035b8da-eecc-41c4-bd25-a43277fe75f3',\n",
       " '0035e145-1ed2-4aed-b14d-a8c38304f4cb',\n",
       " '0035f051-8494-42f9-b485-8c615bd7e552',\n",
       " '003617a6-a7a9-42cb-85ba-209ff5aa345f',\n",
       " '00361c7a-9e96-4596-b836-be2e089443d6',\n",
       " '003634a1-b410-b46e-088e-ad0b1b11cf37',\n",
       " '0036566f-ae14-4c41-9263-1da4074d9274',\n",
       " '00366776-2821-5e04-62e8-3d7d3ed977c6',\n",
       " '00367ba5-df4f-4b28-8888-44d83c1142d3',\n",
       " '003680d2-eaba-47d6-8411-cd8105a0c86c',\n",
       " '00368736-e31d-43af-9644-58b3983adc53',\n",
       " '00368850-b8a7-47b5-9846-5577ea9f694d',\n",
       " '0036a580-1ccf-e944-f15e-4ed949067889',\n",
       " '0036bcb3-82c9-486f-9353-1e9d60e76ede',\n",
       " '0036d341-cbf6-4eea-a7eb-dd4bf1580dba',\n",
       " '0036d3a2-b81a-49fa-8a8c-865b224de1cf',\n",
       " '0036e718-21c7-412f-99fd-846c4a2a66d1',\n",
       " '0036fd20-84e4-4a3b-a908-730be09bf4a8',\n",
       " '00371013-ecfc-40e4-9095-67971fe5ee00',\n",
       " '00372708-059a-4278-878c-5873f3f4cb97',\n",
       " '003736a1-1138-4775-ae40-878aac57046f',\n",
       " '00376e39-be57-4978-9177-29272decbc38',\n",
       " '00377695-6bdc-4315-b5f5-7acbcac0f974',\n",
       " '0037fa50-b083-4b6b-971e-343532645257',\n",
       " '003817ef-b431-4301-a54a-8a9c9f1d7ff0',\n",
       " '00382b45-eff5-4a20-b260-58bfa3dd3267',\n",
       " '00383568-a9bd-4e0b-b761-14c08af49729',\n",
       " '00383c4f-e99a-4337-b5ee-0318ad4d61ed',\n",
       " '003840da-ceaf-4ef4-ae14-ba18e1b8b241',\n",
       " '00384a9c-9680-4f65-9d76-98d662639a98',\n",
       " '00386464-e830-43e3-b0c2-1879044a310e',\n",
       " '00386bd4-aa6c-4c66-8546-3a38b9d7b695',\n",
       " '00386ef0-1457-4904-8a73-23cdb7d05b41',\n",
       " '00387644-4b5d-4821-9f0a-4983382f6c05',\n",
       " '00389ad9-5cc2-4704-9787-85f227046761',\n",
       " '0038a309-2842-4d8e-a0c8-439abf80f43f',\n",
       " '0038af45-0ff3-4f6e-82df-80c8fff166a8',\n",
       " '0038bd09-5720-44ec-ae25-9d6e575fcdd8',\n",
       " '0038c99e-ecc9-405f-9d89-62ee4aa31b22',\n",
       " '0038d494-dcdc-42da-ac4e-c39d6068ce7f',\n",
       " '00390208-978b-428e-be54-c63135e84c78',\n",
       " '00390c6c-cdca-4520-b23b-2edf1c232374',\n",
       " '00390e9b-a2ac-4f1c-aa40-31832d7cfb84',\n",
       " '003911b4-41c0-4345-b5fa-12a156801645',\n",
       " '0039166c-21b5-40da-8dd3-0ec9f83be13b',\n",
       " '0039173d-5f74-4f89-b14a-5218d115217d',\n",
       " '00391db1-c15b-4fb0-97bb-e24b6693bf6b',\n",
       " '00391f66-b4cf-45f7-84e6-fb5ec8e8965f',\n",
       " '003937e9-ff46-41c9-92f8-530ac1dccb49',\n",
       " '0039509b-8414-46d5-a9f3-b32c42f5b16d',\n",
       " '00396cac-390a-4520-8909-21f9268207e6',\n",
       " '003975a1-3df1-4738-b595-879d66f739e8',\n",
       " '0039789f-37f9-4660-9276-cd626eabe91c',\n",
       " '0039a1ab-4044-41de-b388-9c268c5b4cde',\n",
       " '0039b338-d27e-4109-92b2-01b2e6771eae',\n",
       " '0039c48a-89c9-40bf-9521-c32d3ac7df4c',\n",
       " '0039d035-42c8-4bdc-8143-c0614fc861cf',\n",
       " '0039d961-d1af-4420-aad7-746414043850',\n",
       " '0039e4cf-f024-4e99-8e27-7f7ae4f3766e',\n",
       " '0039e71e-6969-42e0-9806-bd800ae44e20',\n",
       " '0039f010-e9b7-4bcf-8771-ec4f377a7b72',\n",
       " '003a00b9-4b3e-4ec0-9d73-f1925a6c0710',\n",
       " '003a1a53-fb7f-4376-987e-31dc6d1e4d35',\n",
       " '003a41b7-6dfb-49d4-b03d-23e600a0e548',\n",
       " '003a43f6-505b-45ba-a835-b2c37f7d267b',\n",
       " '003a5274-4511-45c8-bac8-23a890872860',\n",
       " '003a6175-6340-483a-ba49-dc7e32808c9f',\n",
       " '003a84fb-cc7e-454d-95c8-00938c27797f',\n",
       " '003a8cd6-2907-4c8a-b999-9017d85cf7ef',\n",
       " '003a9e12-15d2-41c1-a559-9c919a53d5b8',\n",
       " '003aa521-42a6-4f09-8a54-56d60211dc42',\n",
       " '003abf22-373b-4820-a3e8-890fc87ec9a7',\n",
       " '003ada4d-11b2-4172-a75e-67a7641c5938',\n",
       " '003ae28c-89b5-46bc-b901-cf607b2b0093',\n",
       " '003b146b-0107-4e1e-ac68-adb335034215',\n",
       " '003b1480-c18d-47cd-baea-80c33b16278e',\n",
       " '003b332a-b796-4f81-8f5d-029d2e980887',\n",
       " '003b4939-3d54-4b85-9a82-b2eaab132530',\n",
       " '003b6559-1546-4a63-b264-bcbcf430b282',\n",
       " '003b6ed8-b42e-4f30-a940-a9fba3d77f3d',\n",
       " '003b7077-6514-4d10-a5c2-dc122712d8e5',\n",
       " '003b87e7-9cac-4595-9691-ee8084656a94',\n",
       " '003b8f6d-11b4-4583-b218-b66237c71bfc',\n",
       " '003ba4c9-4165-42d7-af87-403c79470273',\n",
       " '003bbedc-96b0-4968-822d-75fad3332353',\n",
       " '003bd4d7-8b09-4f31-9fc5-5ff475fe8bde',\n",
       " '003bdf87-9802-4882-bd57-9f866a1c5542',\n",
       " '003bfaab-4ca6-43de-85b9-f164191856df',\n",
       " '003c0c24-95bf-4c9e-8019-f4e23e035524',\n",
       " '003c12f9-1728-49f9-95f9-421ca33f938e',\n",
       " '003c1da1-8b8f-467b-8e16-f5398872f59d',\n",
       " '003c1f98-17bd-4ff4-b341-70a69f72fd97',\n",
       " '003c4555-6b3f-4197-85ac-e79155b77f98',\n",
       " '003c5c27-c7b4-464c-9788-bde8617d3618',\n",
       " '003c7b31-6858-46f4-ba7e-cbbe14614414',\n",
       " '003c81a8-df74-4195-a960-95df54400e9a',\n",
       " '003c9151-387e-4ef9-bbf2-c6c5f14bff90',\n",
       " '003c9db3-e7ea-440f-9c0d-56713c90925a',\n",
       " '003c9f05-fd6e-40db-a26d-a6f6b79ea78b',\n",
       " '003cb25a-aab7-4701-b8dc-03809a478c90',\n",
       " '003cf47e-93af-4552-87e9-7e372dd86ae4',\n",
       " '003d075f-f609-4803-a6d3-76555d20cc3e',\n",
       " '003d47c2-b988-476d-a24c-94e0108d971f',\n",
       " '003d4a78-98b8-4af4-88ef-b5187571c8ca',\n",
       " '003d5724-d8a6-4114-8a38-d10707ec5aaa',\n",
       " '003d92a4-0671-41f4-877e-b49976cbfe42',\n",
       " '003d9412-b7d1-429c-870e-4237a1883806',\n",
       " '003dc9ce-7289-4866-afd5-efcc6fdab069',\n",
       " '003dd12d-5b9d-417c-ab2c-b69a1c0a543c',\n",
       " '003dfa06-9d39-46a4-9257-fa1efda1cb6b',\n",
       " '003dfec9-ae62-45cf-a3af-12ca8f29a5ef',\n",
       " '003e0e84-6c95-4e7f-8a8e-80b54a0e6aba',\n",
       " '003e156b-9991-4f59-92bc-c006954fd8c9',\n",
       " '003e32e5-9e4b-403c-90e7-737124763794',\n",
       " '003e3d70-9924-4c59-a564-2ca18a32d6c8',\n",
       " '003e60dd-f330-4910-9b72-d61da9d5a44c',\n",
       " '003e83ef-8717-4872-8181-11f003bf041a',\n",
       " '003e9860-9c65-46b7-84bc-686d55ce1aa5',\n",
       " '003e9cb6-e481-4b00-93bf-4ab04ffc380c',\n",
       " '003eabd1-7b21-4cc8-8c8e-8c36491582f2',\n",
       " '003eaf16-b3d2-4515-9ab0-a098d225a937',\n",
       " '003edce1-8d93-4f55-bf29-02e23fd6cec4',\n",
       " '003ee159-2627-43f7-a94a-a9651e57d105',\n",
       " '003ee6bd-57f4-49e7-8cf6-fe8e2820c9da',\n",
       " '003ef0a2-185b-46b7-a615-1ee0922f8bdd',\n",
       " '003f18d2-dd1a-4163-bfd1-a14c636871b9',\n",
       " '003f32da-dfac-4a63-ad92-25691fcda2eb',\n",
       " '003f48cf-7e12-4e87-900f-619109cfa848',\n",
       " '003f508c-f252-45c4-8f7b-db5f0b4d7acb',\n",
       " '003f53fc-6049-4ff4-afb9-28f5c3d9f0ad',\n",
       " '003f5416-720d-40f0-8886-163d41986bd2',\n",
       " '003f61ea-213e-4ab7-b401-21adcd9c1c8f',\n",
       " '003f65bf-cf5e-4611-bf9a-87db9835d47a',\n",
       " '003f7f1f-824b-4b7b-a91b-f066f3b39ff6',\n",
       " '003faa1d-65e3-439c-984f-394d8cba13c3',\n",
       " '003fb7ec-952d-4762-84cc-72a438cbdd81',\n",
       " '003fedc8-c76d-40cd-a6cf-94a846475f25',\n",
       " '003fee42-6422-4782-8c05-2783fa1cd1a3',\n",
       " '0040231b-9f60-4140-89f6-001b1b8a89e9',\n",
       " '00402c4a-1a36-44cc-a108-60d0c97ce896',\n",
       " '00402e19-929e-4ed1-a18f-1db6b72f54ee',\n",
       " '0040338c-1254-48b7-a8ab-ece51c82dfa5',\n",
       " '00403814-073f-4a71-b88f-0b4caee69cb5',\n",
       " '004049bc-3930-4676-bf93-ce8624e584a8',\n",
       " '00404f95-e2c3-4c84-975c-b0575dc4d7a0',\n",
       " '0040629e-2c4b-43e9-8ed9-8b8fa4327206',\n",
       " '0040671b-7746-4a38-adff-9e5e6fe0a00a',\n",
       " '00408b27-0a96-472a-b6a6-0d3e9ed9a38a',\n",
       " '00408b89-eec8-429d-85f6-8c1f0dfb048f',\n",
       " '00409868-7329-4c43-a16d-f71c0bdf64e2',\n",
       " '0040d055-630c-40d5-8bb6-b71586f57d5d',\n",
       " '0040ee4e-808f-49e6-a53f-225b56a6cda5',\n",
       " '0040fb6c-38be-4278-80bb-bd37d775b9f2',\n",
       " '00410007-e342-423e-8111-14a0a19e588d',\n",
       " '00410297-6d9d-43ee-a38e-72fb4dcaf480',\n",
       " '00413fe7-fbe8-4ce6-a743-ab21222ca1c4',\n",
       " '00414bea-9ad9-4a7a-894e-48c7d679ac29',\n",
       " '004175e2-8616-4cdf-b162-fd032542bf7a',\n",
       " '00417c4f-83c5-436e-9188-c79debd61ff7',\n",
       " '0041c9b9-9e0d-4ccb-972e-7e14ab0b3006',\n",
       " '0041f9a2-9cd5-4d07-a378-a67e551d3910',\n",
       " '0042309c-fa90-4abe-a6b4-5b1f88931899',\n",
       " '00423bcf-ba59-4334-967c-5a85876c5329',\n",
       " '004241ef-2631-40aa-84cb-ca692024d9e1',\n",
       " '00424b21-4392-402c-b81d-f166dc8f40a0',\n",
       " '00427c27-0370-4bc7-95a0-bceab1a20b0f',\n",
       " '004282d2-0025-4010-86b3-bee50fc632df',\n",
       " '00428cf4-5620-42dd-ab6e-7647bdede186',\n",
       " '0042907f-13ca-4d76-bd83-dd847df7faf5',\n",
       " '0042b635-3f5c-4c6d-98f7-4e7eb7516dd8',\n",
       " '0042d922-5f07-4ae0-9153-ac2eed5a604e',\n",
       " '0042f2bd-19a9-49af-8a0d-5f04ed7d01b8',\n",
       " '0042fd67-4299-4b02-8ac6-2ffb44302205',\n",
       " '00430e30-5904-451f-be84-0e261baddde3',\n",
       " '004327e2-47ca-47d3-a2f9-a809bbb7061a',\n",
       " '004358ca-76a9-47c3-a269-74b3e84ea7e5',\n",
       " '00435af7-5600-41b2-900a-be1615f75732',\n",
       " '00436047-cd2d-4656-8ea9-65b6e7b49c32',\n",
       " '004361fc-66a0-4a36-9d17-5e67eb5c53a6',\n",
       " '004391d3-c47b-44ae-a705-a7870572ced9',\n",
       " '004397ae-a042-4abd-b260-ec5d0fa6e976',\n",
       " '004399ef-1037-47c1-8e1b-b7474047ec3e',\n",
       " '0043f2cd-479c-47b6-8280-c8ac9e332a07',\n",
       " '004437e4-2f5a-4bf9-bb8b-89c31a077c27',\n",
       " '00443b87-3f73-4329-b677-bfc040bfc029',\n",
       " '004443e0-1131-4495-8aff-134d1d14c7e9',\n",
       " '004449c9-015a-4ff2-9001-62fe26fca221',\n",
       " '00446ded-fae0-4710-ad0b-28244de5f414',\n",
       " '00449fab-46e5-48e8-8c42-1fc80919ab9f',\n",
       " '0044a1a8-be2e-4eef-9d85-24fcc20f2e08',\n",
       " '0044ab71-5b3a-4a04-81a6-dbcb1abfea15',\n",
       " '0044ae64-8194-40a1-a61e-0484fd29e8c2',\n",
       " '0044c779-0db2-4dc1-b826-a441d01a5d2a',\n",
       " '0044cd0b-2144-4370-aaa7-edc0122e8699',\n",
       " '0044d35f-0a35-4efa-a25e-5da198ac130f',\n",
       " '0044e64f-e7b8-4a8c-89aa-2b5ded08fecd',\n",
       " '0044e67a-d4a0-4e18-97ad-2f4a207b937e',\n",
       " '0044fa54-655b-4336-965a-4085b39c4af4',\n",
       " '0045018e-3780-478a-9871-8586748a4ee3',\n",
       " '00450ca0-c40e-4f02-8af9-3e3494e62cd4',\n",
       " '00451db7-3e80-4aee-a15c-0d4b6c692762',\n",
       " '0045396c-4f68-4699-8725-29e29efb9d22',\n",
       " '00454f5d-81f1-4518-97a3-d25cfefdc380',\n",
       " '0045b965-8d89-43fb-85f3-2b3589eb8b91',\n",
       " '0045be63-4f32-41ab-b967-36185ed95460',\n",
       " '0045e5e5-d291-4ab9-b85b-07182bd0482c',\n",
       " '0045e97c-75ab-40a9-9ac2-586016d5df74',\n",
       " '004605fa-3ee0-412a-ae93-4cac2139d283',\n",
       " '004608b5-22b8-4e1f-a5e2-7699092978d3',\n",
       " '004609fd-8ec3-45ca-9132-7c950dfbc520',\n",
       " '0046187d-ec68-44f5-89df-ff98a07bb559',\n",
       " '00462ea0-7e37-4b2c-b3e5-020ce109537b',\n",
       " '004650bf-8506-48a9-a86a-2db2e5b0b274',\n",
       " '00465619-f3a1-42bb-ac2b-46fd3e74f2d5',\n",
       " '00465c5e-171e-4ff9-a377-d65d08a68a4e',\n",
       " '00465d6d-5728-4389-b2fb-c980bf034307',\n",
       " '00466dd9-d76c-48bc-868a-6718efd71641',\n",
       " '00467910-f763-4f2d-8fe6-e96e0e5448c2',\n",
       " '004685bf-3e50-46f6-a56d-05e1cbfb688c',\n",
       " '0046f3c3-b3a1-41a6-9c4a-fe579f493245',\n",
       " '0046f3fb-ea22-49fe-a730-182c0e6c2b43',\n",
       " '00472725-f86d-4456-965e-84e85faf6d5a',\n",
       " '00473134-52ae-4cd4-8540-548b082945a0',\n",
       " '0047497b-a2d2-47c5-b056-a2032f3f1c73',\n",
       " '00475e25-e3de-4b44-84c1-1773982d7eee',\n",
       " '00477845-c7be-43f2-87b8-c272741508ec',\n",
       " '00478d11-5909-4a46-9340-4db062b97952',\n",
       " '0047a50e-5718-437a-91b5-239f02cdd689',\n",
       " '0047ca6a-85e2-439d-b244-98eb8d77e1f7',\n",
       " '0047cc04-477d-4712-b934-acc47b6d16bb',\n",
       " '0047d36e-b6dd-49e2-ab33-ff5facba5399',\n",
       " '0047dee2-3c43-4e7c-b55d-68b287e19c14',\n",
       " '0047f089-127f-433d-91b5-ca648ea97a75',\n",
       " '0047f728-9d6c-4a4e-a207-10c57329d541',\n",
       " '00480867-c9fe-46ef-8a21-f566f4457c47',\n",
       " '0048276d-4df3-4245-accd-fe391ddfcfd1',\n",
       " '00484ec8-d50b-4791-9f51-5d2beb9df067',\n",
       " '00485705-3d34-4510-b8cf-9e94988e92eb',\n",
       " '00485b36-4377-4017-b28b-376225060109',\n",
       " '004884ef-6be5-4e3e-b56b-232281e920d7',\n",
       " '00488ab5-f966-466b-a6a0-b08a01245087',\n",
       " '0048a0e5-c4f3-4104-ace4-32995ec18db9',\n",
       " '0048a651-edfc-45fc-853e-1c65f014ccc7',\n",
       " '0048ade6-ec37-473d-9a05-028df72a65e5',\n",
       " '0048d225-743d-44c1-8269-ab9a60b8ee6a',\n",
       " '0048e479-d137-40f5-a6e3-b2d4a881a86c',\n",
       " '0048f15d-1149-4587-b97e-44800e3b0bc0',\n",
       " '004920a3-1ae3-4e6f-9dbd-73d4b40e770c',\n",
       " '004929c6-356d-471a-ad13-3400209d326f',\n",
       " '00492a1d-6b15-426a-a85c-5003922919e3',\n",
       " '00492e1a-8acc-4bb1-9139-4fc62571fe0c',\n",
       " '00496514-1d01-4b77-bf4d-61fa890d5b0f',\n",
       " '00496a4d-2f19-4267-8cdf-844e0e8b666a',\n",
       " '00496b60-3381-4432-b332-edc2bcd645e5',\n",
       " '0049b7e5-2409-4a0e-bbea-e953dd96111d',\n",
       " '0049c07b-3675-40bd-a040-7a599cc1488b',\n",
       " '0049c5fb-76d5-4feb-b19a-477fb8d9e81d',\n",
       " '0049e06f-b73b-4368-9ecb-3caf6021e7c1',\n",
       " '0049edfe-1758-413b-82ee-825702ea7099',\n",
       " '004a074f-74cf-40e3-9ce1-7ee0b6369d3f',\n",
       " '004a166a-43f2-4a51-b67f-2f7c018bce37',\n",
       " '004a17ab-2e4f-4c3c-a6cc-87b5be7358c2',\n",
       " '004a5a41-70b8-490a-ad46-a7c5972aa8b4',\n",
       " '004a7d1b-61bd-4e30-b473-0c6146b43a49',\n",
       " '004a8303-6119-45b7-a227-6b9e0affcce8',\n",
       " '004a8687-17ed-4b94-bace-e3d44b89fa9b',\n",
       " '004a8c72-9283-4f3e-bce3-70c9347202b8',\n",
       " '004a8ca4-3a53-49aa-87af-edd393f085e7',\n",
       " '004aa0fd-1c23-463e-a918-a39c1cbe98fe',\n",
       " '004ab45c-e463-4ad6-bc0b-e1a2c9970d35',\n",
       " '004ac1c7-1a8d-411f-ad00-c3bd6ce055cf',\n",
       " '004b0e46-b0be-45c8-b8f4-5da389f6b8dc',\n",
       " '004b2fa5-d468-4843-a196-cdbc260629a6',\n",
       " '004b3874-e44f-46fa-b03d-583737e7c712',\n",
       " '004b3f9e-5fcb-49dc-bf02-78659005a980',\n",
       " '004b4bfd-a780-47a9-9c3e-ad1f9fec0a25',\n",
       " '004b8914-edfe-4a8a-a39f-d6dda87d5854',\n",
       " '004b9265-4c79-445d-aa00-3791aec8a70a',\n",
       " '004ba602-724d-42b5-92e2-804e853f2706',\n",
       " '004bcb06-f484-4f13-bba2-46dd1b83320f',\n",
       " '004be371-afea-4108-a4e5-7c6120a5e25c',\n",
       " '004bf32b-fca8-4f0e-beee-9dfba8231ab8',\n",
       " '004bfc91-85cf-43ee-8cc7-8769968528fc',\n",
       " '004c0fa2-e164-4a7e-8fbc-dd7529fa22f3',\n",
       " '004c1421-0587-4326-8747-e6b996ed4c28',\n",
       " '004c1df9-38c2-4250-8f62-0a7f2b4f5d0e',\n",
       " '004c1fc9-71a5-498e-b3ac-cf9b40272d4f',\n",
       " '004c2189-5f55-4177-9d12-81d8209ccc7d',\n",
       " '004c39c4-7278-4ebc-8bcc-b0ddb9e032c1',\n",
       " '004c47ea-9e0c-4bb5-96d2-389a08f46162',\n",
       " '004c52e4-9a3b-4706-aa5c-fec5b63bcada',\n",
       " '004c6840-156d-40b1-90be-003c766c6068',\n",
       " '004c6bcd-e68c-4776-bc75-9aefc7023609',\n",
       " '004c7129-a9bf-47fc-a91b-c46215c89d78',\n",
       " '004c8072-585b-479a-a1ed-14904742a830',\n",
       " '004c9db2-95a2-46ea-93ad-ad771be44297',\n",
       " '004cc16e-0075-4902-84de-3b864c814295',\n",
       " '004cdf32-f445-46c9-b20e-7a7598711be9',\n",
       " '004ce6e9-99f0-4705-ad68-db919429a7df',\n",
       " '004d070e-0b5a-d116-6f83-542ad09a5baa',\n",
       " '004d3256-23c4-4ec4-9383-47cf5af95a99',\n",
       " '004d4233-81ef-4f0a-bb53-8e0c5c6ca394',\n",
       " '004d583b-91e0-4851-9b73-9426b0bfba0e',\n",
       " '004d762d-00c2-4f7a-a728-2d964ea967e0',\n",
       " '004da9bd-6be2-4427-9881-d603ed63e7c1',\n",
       " '004dc980-e457-4935-b827-be337c4c3fc6',\n",
       " '004de000-878c-48dc-b102-24dd1c52eec6',\n",
       " '004e047d-e117-426c-b1c0-eb5a8c448a2d',\n",
       " '004e0fb5-f4c2-4343-baa8-b778001ba4e1',\n",
       " '004e114b-80ab-4d6c-869d-58a88a4e74f7',\n",
       " '004e3d8a-8e67-4361-bed5-48905bcc4340',\n",
       " '004e48fd-f452-45e3-ba7b-030d583f51d7',\n",
       " '004e4c21-ae79-46dd-9665-04b39aa2dd9f',\n",
       " '004e4eab-dbf0-42af-b17f-c432f25d4455',\n",
       " '004e7e39-c2a8-449e-8dbe-d86aa9101216',\n",
       " '004e90ea-cd37-469c-98fd-6bba71e4e6fe',\n",
       " '004e9fc7-180e-4880-93c3-8934e9ffefbb',\n",
       " '004eabe5-61fd-4bd8-962f-a50a79187c67',\n",
       " '004ebe89-4971-4044-b2a3-7543bf633a24',\n",
       " '004ec162-6640-40df-af8e-2d6298b541bf',\n",
       " '004eca32-c67d-42e8-993f-5353b0ddbb53',\n",
       " '004ed408-f5d4-480a-8413-dea4853171fd',\n",
       " '004ee5a4-2203-4ed6-9ff2-dcb32e7a2456',\n",
       " '004f04ba-48d4-4240-8436-b293922b155e',\n",
       " '004f0973-dab2-44a1-87ab-e4f2b812414a',\n",
       " '004f0cb9-08f5-450c-b2e1-05af6f9ff845',\n",
       " '004f143e-be00-498b-8ba6-2488f4ffb880',\n",
       " '004f302e-e46b-4820-986b-e33964529628',\n",
       " '004f4d52-4b6a-4388-811a-40406955703b',\n",
       " '004f8c1f-39fb-49d5-b798-893dbd227cc9',\n",
       " '004f914b-f7a4-4820-b5da-91721093ef9e',\n",
       " '004f95d3-c44b-458a-a3fa-9527d7756092',\n",
       " '004fa3ae-175a-4302-ac02-0685cdda4717',\n",
       " '004fc98d-7ae7-4803-b1f6-7cb90af437d6',\n",
       " '004fd03f-b3e2-4fb6-85a3-551f6fe50152',\n",
       " '004febdd-4015-4e23-89a4-99ae8ab00710',\n",
       " '00500ce9-afe9-46f3-9005-e9eb3cd9cbee',\n",
       " '00502771-74e6-4d5e-b3ee-1551818e77b8',\n",
       " '0050393c-908e-4fec-bdb5-989877af14c1',\n",
       " '0050587b-1ea3-4a10-81a4-e6925f806513',\n",
       " '0050a151-5297-4f93-8a63-1b8914909f0e',\n",
       " '0050e78f-1639-42a8-ad1f-14102c8ca183',\n",
       " '00510b2b-ac4c-4d18-bcc5-ac5809309d83',\n",
       " '005120ce-3577-404a-9c2b-e965eb455547',\n",
       " '005147f3-069a-4063-9a8b-290039645d22',\n",
       " '00517290-7894-4637-a03a-87ef54eaedce',\n",
       " '005174c9-795b-496c-9db7-07a433098b7b',\n",
       " '00518af2-8c4e-4b18-bc7f-5e7f81192493',\n",
       " '005194a8-6fe7-49fb-b328-aefd3665dbff',\n",
       " '0051a8a1-fb32-407a-851a-b2ea096831a6',\n",
       " '0051adde-b2f4-43e3-a65d-2d8b896484b7',\n",
       " '0051cc9d-6842-4186-97b4-356a6fcd4bf7',\n",
       " '0051da5a-156f-8190-b198-900bb6162c7d',\n",
       " '00523938-a429-47f8-bc05-8585fc6714f7',\n",
       " '0052486e-31ee-4e55-977b-1ae1a61e0edd',\n",
       " '005248fd-c1f5-4221-8724-ffc39bf7b4a6',\n",
       " '00527237-37a9-40ff-a7fb-10747c31ef1e',\n",
       " '005283f4-e7b9-44de-a257-083206c0147d',\n",
       " '00528d39-7f9a-4ec3-a8c4-c61250eb80a8',\n",
       " '0052a789-58c1-4416-9c93-0cb28b99c666',\n",
       " '0052e858-3bd0-4ed7-b18a-bcdd2822156b',\n",
       " '005326e1-4b64-41f9-849c-da666c23f908',\n",
       " '00532734-82a8-40c5-8b9a-0156e16dadd1',\n",
       " '00533ec2-7d3e-49bf-b273-21d61a968b0a',\n",
       " '00535033-b797-4908-8fca-acaae6ec5bdd',\n",
       " '005353f7-92c1-4822-8479-b20ed2c25f18',\n",
       " '00536266-7a58-4b7b-bd18-cd60db399102',\n",
       " '00536e20-d8df-4265-88b0-175f889adcdd',\n",
       " '00538ddb-3bd9-4a4e-84b6-603198865fab',\n",
       " '005398fe-c780-4106-8118-6043419ba9bc',\n",
       " '00539b19-455b-4ca0-bb46-35459ef07c26',\n",
       " '0053d87b-ecb7-4342-b99f-e00019fd7ea3',\n",
       " '0053f0e6-690d-421c-8aad-22b72af0ca16',\n",
       " '0053f455-8b01-4da6-ada3-4045ab0dc745',\n",
       " '0053f843-4deb-4aaf-a972-164bd90590fd',\n",
       " '00543c25-ee63-4b1d-869d-c764e19e21a6',\n",
       " ...]"
      ]
     },
     "execution_count": 27,
     "metadata": {},
     "output_type": "execute_result"
    }
   ],
   "source": [
    "cond = (session_duration['purchase'] == 0) & (session_duration['cart'] == 0) & (session_duration['view'] > 0) \n",
    "view = session_duration.loc[cond]\n",
    "view_sessions = view['user_session'].unique().tolist()\n",
    "view_sessions"
   ]
  },
  {
   "cell_type": "code",
   "execution_count": 23,
   "metadata": {},
   "outputs": [
    {
     "name": "stdout",
     "output_type": "stream",
     "text": [
      "911574\n",
      "911574\n"
     ]
    }
   ],
   "source": [
    "print(len(purchased)+len(view)+len(cart))\n",
    "print(len(session_duration))"
   ]
  },
  {
   "cell_type": "code",
   "execution_count": 55,
   "metadata": {},
   "outputs": [
    {
     "data": {
      "text/plain": [
       "'구매까지 한 세션의 평균 체류시간: 0일 6시간 42분'"
      ]
     },
     "execution_count": 55,
     "metadata": {},
     "output_type": "execute_result"
    }
   ],
   "source": [
    "cond = event_type_session_duration['user_session'].isin(purchased_sessions)\n",
    "purchased_mean_duration = event_type_session_duration.loc[cond,'duration'].mean()\n",
    "purchased_mean_duration_days = purchased_mean_duration.components.days\n",
    "purchased_mean_duration_hours = purchased_mean_duration.components.hours\n",
    "purchased_mean_duration_minutes = purchased_mean_duration.components.minutes\n",
    "purchased_durations = f'구매까지 한 세션의 평균 체류시간: {purchased_mean_duration_days}일 {purchased_mean_duration_hours}시간 {purchased_mean_duration_minutes}분'\n",
    "purchased_durations"
   ]
  },
  {
   "cell_type": "code",
   "execution_count": 54,
   "metadata": {},
   "outputs": [
    {
     "data": {
      "text/plain": [
       "'구매는 안하고 장바구니 담기까지 한 세션의 평균 체류시간: 0일 1시간 57분'"
      ]
     },
     "execution_count": 54,
     "metadata": {},
     "output_type": "execute_result"
    }
   ],
   "source": [
    "cond = event_type_session_duration['user_session'].isin(cart_sessions)\n",
    "cart_mean_duration = event_type_session_duration.loc[cond,'duration'].mean()\n",
    "cart_mean_duration_days = cart_mean_duration.components.days\n",
    "cart_mean_duration_hours = cart_mean_duration.components.hours\n",
    "cart_mean_duration_minutes = cart_mean_duration.components.minutes\n",
    "cart_durations = f'구매는 안하고 장바구니 담기까지 한 세션의 평균 체류시간: {cart_mean_duration_days}일 {cart_mean_duration_hours}시간 {cart_mean_duration_minutes}분'\n",
    "cart_durations"
   ]
  },
  {
   "cell_type": "code",
   "execution_count": 53,
   "metadata": {},
   "outputs": [
    {
     "data": {
      "text/plain": [
       "'조회만 한 세션의 평균 체류시간: 0일 0시간 38분'"
      ]
     },
     "execution_count": 53,
     "metadata": {},
     "output_type": "execute_result"
    }
   ],
   "source": [
    "cond = event_type_session_duration['user_session'].isin(view_sessions)\n",
    "view_mean_duration = event_type_session_duration.loc[cond,'duration'].mean()\n",
    "view_mean_duration_days = view_mean_duration.components.days\n",
    "view_mean_duration_hours = view_mean_duration.components.hours\n",
    "view_mean_duration_minutes = view_mean_duration.components.minutes\n",
    "view_durations = f'조회만 한 세션의 평균 체류시간: {view_mean_duration_days}일 {view_mean_duration_hours}시간 {view_mean_duration_minutes}분'\n",
    "view_durations"
   ]
  },
  {
   "cell_type": "code",
   "execution_count": 62,
   "metadata": {},
   "outputs": [
    {
     "data": {
      "text/html": [
       "<div>\n",
       "<style scoped>\n",
       "    .dataframe tbody tr th:only-of-type {\n",
       "        vertical-align: middle;\n",
       "    }\n",
       "\n",
       "    .dataframe tbody tr th {\n",
       "        vertical-align: top;\n",
       "    }\n",
       "\n",
       "    .dataframe thead th {\n",
       "        text-align: right;\n",
       "    }\n",
       "</style>\n",
       "<table border=\"1\" class=\"dataframe\">\n",
       "  <thead>\n",
       "    <tr style=\"text-align: right;\">\n",
       "      <th></th>\n",
       "      <th>체류시간</th>\n",
       "    </tr>\n",
       "  </thead>\n",
       "  <tbody>\n",
       "    <tr>\n",
       "      <th>0</th>\n",
       "      <td>구매까지 한 세션의 평균 체류시간: 0일 6시간 42분</td>\n",
       "    </tr>\n",
       "    <tr>\n",
       "      <th>1</th>\n",
       "      <td>구매는 안하고 장바구니 담기까지 한 세션의 평균 체류시간: 0일 1시간 57분</td>\n",
       "    </tr>\n",
       "    <tr>\n",
       "      <th>2</th>\n",
       "      <td>조회만 한 세션의 평균 체류시간: 0일 0시간 38분</td>\n",
       "    </tr>\n",
       "  </tbody>\n",
       "</table>\n",
       "</div>"
      ],
      "text/plain": [
       "                                          체류시간\n",
       "0               구매까지 한 세션의 평균 체류시간: 0일 6시간 42분\n",
       "1  구매는 안하고 장바구니 담기까지 한 세션의 평균 체류시간: 0일 1시간 57분\n",
       "2                조회만 한 세션의 평균 체류시간: 0일 0시간 38분"
      ]
     },
     "execution_count": 62,
     "metadata": {},
     "output_type": "execute_result"
    }
   ],
   "source": [
    "durations = pd.DataFrame([[purchased_durations],\n",
    "                          [cart_durations],\n",
    "                          [view_durations]],columns=['체류시간'])\n",
    "durations"
   ]
  },
  {
   "cell_type": "markdown",
   "metadata": {},
   "source": [
    "## **[3] 퍼널분석**\n",
    "***\n",
    "- view, cart, purchase의 각 단계에서의 이탈율 시각화 및 분석"
   ]
  },
  {
   "cell_type": "code",
   "execution_count": 64,
   "metadata": {},
   "outputs": [
    {
     "data": {
      "text/html": [
       "<div>\n",
       "<style scoped>\n",
       "    .dataframe tbody tr th:only-of-type {\n",
       "        vertical-align: middle;\n",
       "    }\n",
       "\n",
       "    .dataframe tbody tr th {\n",
       "        vertical-align: top;\n",
       "    }\n",
       "\n",
       "    .dataframe thead th {\n",
       "        text-align: right;\n",
       "    }\n",
       "</style>\n",
       "<table border=\"1\" class=\"dataframe\">\n",
       "  <thead>\n",
       "    <tr style=\"text-align: right;\">\n",
       "      <th></th>\n",
       "      <th>user_session</th>\n",
       "      <th>cart</th>\n",
       "      <th>purchase</th>\n",
       "      <th>remove_from_cart</th>\n",
       "      <th>view</th>\n",
       "    </tr>\n",
       "  </thead>\n",
       "  <tbody>\n",
       "    <tr>\n",
       "      <th>0</th>\n",
       "      <td>0000061d-f3e9-484b-8c73-e54f355032a3</td>\n",
       "      <td>0.0</td>\n",
       "      <td>0.0</td>\n",
       "      <td>0.0</td>\n",
       "      <td>1.0</td>\n",
       "    </tr>\n",
       "    <tr>\n",
       "      <th>1</th>\n",
       "      <td>00000ac8-0015-4f12-996a-be2896323738</td>\n",
       "      <td>0.0</td>\n",
       "      <td>0.0</td>\n",
       "      <td>0.0</td>\n",
       "      <td>1.0</td>\n",
       "    </tr>\n",
       "    <tr>\n",
       "      <th>2</th>\n",
       "      <td>00001ca1-f2df-4572-b0b8-e752e2064aae</td>\n",
       "      <td>0.0</td>\n",
       "      <td>0.0</td>\n",
       "      <td>0.0</td>\n",
       "      <td>1.0</td>\n",
       "    </tr>\n",
       "    <tr>\n",
       "      <th>3</th>\n",
       "      <td>00002db7-16b6-4db2-bf8b-7a1cb6bd0e7f</td>\n",
       "      <td>0.0</td>\n",
       "      <td>0.0</td>\n",
       "      <td>0.0</td>\n",
       "      <td>1.0</td>\n",
       "    </tr>\n",
       "    <tr>\n",
       "      <th>4</th>\n",
       "      <td>00002f68-09b8-4db3-a092-aeff45fd13ad</td>\n",
       "      <td>0.0</td>\n",
       "      <td>0.0</td>\n",
       "      <td>0.0</td>\n",
       "      <td>1.0</td>\n",
       "    </tr>\n",
       "    <tr>\n",
       "      <th>...</th>\n",
       "      <td>...</td>\n",
       "      <td>...</td>\n",
       "      <td>...</td>\n",
       "      <td>...</td>\n",
       "      <td>...</td>\n",
       "    </tr>\n",
       "    <tr>\n",
       "      <th>911569</th>\n",
       "      <td>ffff7b96-9751-4eaa-806e-fe979cc00dc8</td>\n",
       "      <td>1.0</td>\n",
       "      <td>0.0</td>\n",
       "      <td>2.0</td>\n",
       "      <td>10.0</td>\n",
       "    </tr>\n",
       "    <tr>\n",
       "      <th>911570</th>\n",
       "      <td>ffff80e2-ad33-4704-9ffe-d6c612e9641f</td>\n",
       "      <td>0.0</td>\n",
       "      <td>0.0</td>\n",
       "      <td>0.0</td>\n",
       "      <td>1.0</td>\n",
       "    </tr>\n",
       "    <tr>\n",
       "      <th>911571</th>\n",
       "      <td>ffff8da3-b79a-48f2-888c-117f2d1a7793</td>\n",
       "      <td>0.0</td>\n",
       "      <td>0.0</td>\n",
       "      <td>0.0</td>\n",
       "      <td>1.0</td>\n",
       "    </tr>\n",
       "    <tr>\n",
       "      <th>911572</th>\n",
       "      <td>ffff9422-39ba-4cdf-afd1-a9d87bb3d79b</td>\n",
       "      <td>0.0</td>\n",
       "      <td>0.0</td>\n",
       "      <td>0.0</td>\n",
       "      <td>1.0</td>\n",
       "    </tr>\n",
       "    <tr>\n",
       "      <th>911573</th>\n",
       "      <td>ffffa1ef-6a9a-45cf-8150-6f781499e6e3</td>\n",
       "      <td>0.0</td>\n",
       "      <td>0.0</td>\n",
       "      <td>0.0</td>\n",
       "      <td>2.0</td>\n",
       "    </tr>\n",
       "  </tbody>\n",
       "</table>\n",
       "<p>911574 rows × 5 columns</p>\n",
       "</div>"
      ],
      "text/plain": [
       "                                user_session  cart  purchase  \\\n",
       "0       0000061d-f3e9-484b-8c73-e54f355032a3   0.0       0.0   \n",
       "1       00000ac8-0015-4f12-996a-be2896323738   0.0       0.0   \n",
       "2       00001ca1-f2df-4572-b0b8-e752e2064aae   0.0       0.0   \n",
       "3       00002db7-16b6-4db2-bf8b-7a1cb6bd0e7f   0.0       0.0   \n",
       "4       00002f68-09b8-4db3-a092-aeff45fd13ad   0.0       0.0   \n",
       "...                                      ...   ...       ...   \n",
       "911569  ffff7b96-9751-4eaa-806e-fe979cc00dc8   1.0       0.0   \n",
       "911570  ffff80e2-ad33-4704-9ffe-d6c612e9641f   0.0       0.0   \n",
       "911571  ffff8da3-b79a-48f2-888c-117f2d1a7793   0.0       0.0   \n",
       "911572  ffff9422-39ba-4cdf-afd1-a9d87bb3d79b   0.0       0.0   \n",
       "911573  ffffa1ef-6a9a-45cf-8150-6f781499e6e3   0.0       0.0   \n",
       "\n",
       "        remove_from_cart  view  \n",
       "0                    0.0   1.0  \n",
       "1                    0.0   1.0  \n",
       "2                    0.0   1.0  \n",
       "3                    0.0   1.0  \n",
       "4                    0.0   1.0  \n",
       "...                  ...   ...  \n",
       "911569               2.0  10.0  \n",
       "911570               0.0   1.0  \n",
       "911571               0.0   1.0  \n",
       "911572               0.0   1.0  \n",
       "911573               0.0   2.0  \n",
       "\n",
       "[911574 rows x 5 columns]"
      ]
     },
     "execution_count": 64,
     "metadata": {},
     "output_type": "execute_result"
    }
   ],
   "source": [
    "session_duration"
   ]
  },
  {
   "cell_type": "code",
   "execution_count": 77,
   "metadata": {},
   "outputs": [
    {
     "data": {
      "text/html": [
       "<div>\n",
       "<style scoped>\n",
       "    .dataframe tbody tr th:only-of-type {\n",
       "        vertical-align: middle;\n",
       "    }\n",
       "\n",
       "    .dataframe tbody tr th {\n",
       "        vertical-align: top;\n",
       "    }\n",
       "\n",
       "    .dataframe thead th {\n",
       "        text-align: right;\n",
       "    }\n",
       "</style>\n",
       "<table border=\"1\" class=\"dataframe\">\n",
       "  <thead>\n",
       "    <tr style=\"text-align: right;\">\n",
       "      <th></th>\n",
       "      <th>이벤트타입</th>\n",
       "      <th>횟수</th>\n",
       "    </tr>\n",
       "  </thead>\n",
       "  <tbody>\n",
       "    <tr>\n",
       "      <th>0</th>\n",
       "      <td>조회</td>\n",
       "      <td>911574</td>\n",
       "    </tr>\n",
       "    <tr>\n",
       "      <th>1</th>\n",
       "      <td>장바구니 담기</td>\n",
       "      <td>155442</td>\n",
       "    </tr>\n",
       "    <tr>\n",
       "      <th>2</th>\n",
       "      <td>구매</td>\n",
       "      <td>22868</td>\n",
       "    </tr>\n",
       "  </tbody>\n",
       "</table>\n",
       "</div>"
      ],
      "text/plain": [
       "     이벤트타입      횟수\n",
       "0       조회  911574\n",
       "1  장바구니 담기  155442\n",
       "2       구매   22868"
      ]
     },
     "execution_count": 77,
     "metadata": {},
     "output_type": "execute_result"
    }
   ],
   "source": [
    "viewed_sessions = session_duration.query('view > 0')[['user_session']].agg('count')\n",
    "carted_sessions = session_duration.query('cart > 0')[['user_session']].agg('count')\n",
    "purchased_sessions_funnel = session_duration.query('purchase > 0')[['user_session']].agg('count')\n",
    "funnel_df = pd.DataFrame({'조회':viewed_sessions,\n",
    "              '장바구니 담기':carted_sessions,\n",
    "              '구매':purchased_sessions_funnel}).T.reset_index(drop=False).rename(columns={'user_session':'횟수',\n",
    "                                                                                         'index':'이벤트타입'})\n",
    "funnel_df\n"
   ]
  },
  {
   "cell_type": "code",
   "execution_count": 88,
   "metadata": {},
   "outputs": [
    {
     "data": {
      "application/vnd.plotly.v1+json": {
       "config": {
        "plotlyServerURL": "https://plot.ly"
       },
       "data": [
        {
         "hovertemplate": "이벤트타입=%{x}<br>횟수=%{y}<extra></extra>",
         "legendgroup": "",
         "marker": {
          "color": "#636efa"
         },
         "name": "",
         "orientation": "v",
         "showlegend": false,
         "type": "funnel",
         "x": [
          "조회",
          "장바구니 담기",
          "구매"
         ],
         "xaxis": "x",
         "y": [
          911574,
          155442,
          22868
         ],
         "yaxis": "y"
        }
       ],
       "layout": {
        "legend": {
         "tracegroupgap": 0
        },
        "template": {
         "data": {
          "bar": [
           {
            "error_x": {
             "color": "#2a3f5f"
            },
            "error_y": {
             "color": "#2a3f5f"
            },
            "marker": {
             "line": {
              "color": "#E5ECF6",
              "width": 0.5
             },
             "pattern": {
              "fillmode": "overlay",
              "size": 10,
              "solidity": 0.2
             }
            },
            "type": "bar"
           }
          ],
          "barpolar": [
           {
            "marker": {
             "line": {
              "color": "#E5ECF6",
              "width": 0.5
             },
             "pattern": {
              "fillmode": "overlay",
              "size": 10,
              "solidity": 0.2
             }
            },
            "type": "barpolar"
           }
          ],
          "carpet": [
           {
            "aaxis": {
             "endlinecolor": "#2a3f5f",
             "gridcolor": "white",
             "linecolor": "white",
             "minorgridcolor": "white",
             "startlinecolor": "#2a3f5f"
            },
            "baxis": {
             "endlinecolor": "#2a3f5f",
             "gridcolor": "white",
             "linecolor": "white",
             "minorgridcolor": "white",
             "startlinecolor": "#2a3f5f"
            },
            "type": "carpet"
           }
          ],
          "choropleth": [
           {
            "colorbar": {
             "outlinewidth": 0,
             "ticks": ""
            },
            "type": "choropleth"
           }
          ],
          "contour": [
           {
            "colorbar": {
             "outlinewidth": 0,
             "ticks": ""
            },
            "colorscale": [
             [
              0,
              "#0d0887"
             ],
             [
              0.1111111111111111,
              "#46039f"
             ],
             [
              0.2222222222222222,
              "#7201a8"
             ],
             [
              0.3333333333333333,
              "#9c179e"
             ],
             [
              0.4444444444444444,
              "#bd3786"
             ],
             [
              0.5555555555555556,
              "#d8576b"
             ],
             [
              0.6666666666666666,
              "#ed7953"
             ],
             [
              0.7777777777777778,
              "#fb9f3a"
             ],
             [
              0.8888888888888888,
              "#fdca26"
             ],
             [
              1,
              "#f0f921"
             ]
            ],
            "type": "contour"
           }
          ],
          "contourcarpet": [
           {
            "colorbar": {
             "outlinewidth": 0,
             "ticks": ""
            },
            "type": "contourcarpet"
           }
          ],
          "heatmap": [
           {
            "colorbar": {
             "outlinewidth": 0,
             "ticks": ""
            },
            "colorscale": [
             [
              0,
              "#0d0887"
             ],
             [
              0.1111111111111111,
              "#46039f"
             ],
             [
              0.2222222222222222,
              "#7201a8"
             ],
             [
              0.3333333333333333,
              "#9c179e"
             ],
             [
              0.4444444444444444,
              "#bd3786"
             ],
             [
              0.5555555555555556,
              "#d8576b"
             ],
             [
              0.6666666666666666,
              "#ed7953"
             ],
             [
              0.7777777777777778,
              "#fb9f3a"
             ],
             [
              0.8888888888888888,
              "#fdca26"
             ],
             [
              1,
              "#f0f921"
             ]
            ],
            "type": "heatmap"
           }
          ],
          "heatmapgl": [
           {
            "colorbar": {
             "outlinewidth": 0,
             "ticks": ""
            },
            "colorscale": [
             [
              0,
              "#0d0887"
             ],
             [
              0.1111111111111111,
              "#46039f"
             ],
             [
              0.2222222222222222,
              "#7201a8"
             ],
             [
              0.3333333333333333,
              "#9c179e"
             ],
             [
              0.4444444444444444,
              "#bd3786"
             ],
             [
              0.5555555555555556,
              "#d8576b"
             ],
             [
              0.6666666666666666,
              "#ed7953"
             ],
             [
              0.7777777777777778,
              "#fb9f3a"
             ],
             [
              0.8888888888888888,
              "#fdca26"
             ],
             [
              1,
              "#f0f921"
             ]
            ],
            "type": "heatmapgl"
           }
          ],
          "histogram": [
           {
            "marker": {
             "pattern": {
              "fillmode": "overlay",
              "size": 10,
              "solidity": 0.2
             }
            },
            "type": "histogram"
           }
          ],
          "histogram2d": [
           {
            "colorbar": {
             "outlinewidth": 0,
             "ticks": ""
            },
            "colorscale": [
             [
              0,
              "#0d0887"
             ],
             [
              0.1111111111111111,
              "#46039f"
             ],
             [
              0.2222222222222222,
              "#7201a8"
             ],
             [
              0.3333333333333333,
              "#9c179e"
             ],
             [
              0.4444444444444444,
              "#bd3786"
             ],
             [
              0.5555555555555556,
              "#d8576b"
             ],
             [
              0.6666666666666666,
              "#ed7953"
             ],
             [
              0.7777777777777778,
              "#fb9f3a"
             ],
             [
              0.8888888888888888,
              "#fdca26"
             ],
             [
              1,
              "#f0f921"
             ]
            ],
            "type": "histogram2d"
           }
          ],
          "histogram2dcontour": [
           {
            "colorbar": {
             "outlinewidth": 0,
             "ticks": ""
            },
            "colorscale": [
             [
              0,
              "#0d0887"
             ],
             [
              0.1111111111111111,
              "#46039f"
             ],
             [
              0.2222222222222222,
              "#7201a8"
             ],
             [
              0.3333333333333333,
              "#9c179e"
             ],
             [
              0.4444444444444444,
              "#bd3786"
             ],
             [
              0.5555555555555556,
              "#d8576b"
             ],
             [
              0.6666666666666666,
              "#ed7953"
             ],
             [
              0.7777777777777778,
              "#fb9f3a"
             ],
             [
              0.8888888888888888,
              "#fdca26"
             ],
             [
              1,
              "#f0f921"
             ]
            ],
            "type": "histogram2dcontour"
           }
          ],
          "mesh3d": [
           {
            "colorbar": {
             "outlinewidth": 0,
             "ticks": ""
            },
            "type": "mesh3d"
           }
          ],
          "parcoords": [
           {
            "line": {
             "colorbar": {
              "outlinewidth": 0,
              "ticks": ""
             }
            },
            "type": "parcoords"
           }
          ],
          "pie": [
           {
            "automargin": true,
            "type": "pie"
           }
          ],
          "scatter": [
           {
            "fillpattern": {
             "fillmode": "overlay",
             "size": 10,
             "solidity": 0.2
            },
            "type": "scatter"
           }
          ],
          "scatter3d": [
           {
            "line": {
             "colorbar": {
              "outlinewidth": 0,
              "ticks": ""
             }
            },
            "marker": {
             "colorbar": {
              "outlinewidth": 0,
              "ticks": ""
             }
            },
            "type": "scatter3d"
           }
          ],
          "scattercarpet": [
           {
            "marker": {
             "colorbar": {
              "outlinewidth": 0,
              "ticks": ""
             }
            },
            "type": "scattercarpet"
           }
          ],
          "scattergeo": [
           {
            "marker": {
             "colorbar": {
              "outlinewidth": 0,
              "ticks": ""
             }
            },
            "type": "scattergeo"
           }
          ],
          "scattergl": [
           {
            "marker": {
             "colorbar": {
              "outlinewidth": 0,
              "ticks": ""
             }
            },
            "type": "scattergl"
           }
          ],
          "scattermapbox": [
           {
            "marker": {
             "colorbar": {
              "outlinewidth": 0,
              "ticks": ""
             }
            },
            "type": "scattermapbox"
           }
          ],
          "scatterpolar": [
           {
            "marker": {
             "colorbar": {
              "outlinewidth": 0,
              "ticks": ""
             }
            },
            "type": "scatterpolar"
           }
          ],
          "scatterpolargl": [
           {
            "marker": {
             "colorbar": {
              "outlinewidth": 0,
              "ticks": ""
             }
            },
            "type": "scatterpolargl"
           }
          ],
          "scatterternary": [
           {
            "marker": {
             "colorbar": {
              "outlinewidth": 0,
              "ticks": ""
             }
            },
            "type": "scatterternary"
           }
          ],
          "surface": [
           {
            "colorbar": {
             "outlinewidth": 0,
             "ticks": ""
            },
            "colorscale": [
             [
              0,
              "#0d0887"
             ],
             [
              0.1111111111111111,
              "#46039f"
             ],
             [
              0.2222222222222222,
              "#7201a8"
             ],
             [
              0.3333333333333333,
              "#9c179e"
             ],
             [
              0.4444444444444444,
              "#bd3786"
             ],
             [
              0.5555555555555556,
              "#d8576b"
             ],
             [
              0.6666666666666666,
              "#ed7953"
             ],
             [
              0.7777777777777778,
              "#fb9f3a"
             ],
             [
              0.8888888888888888,
              "#fdca26"
             ],
             [
              1,
              "#f0f921"
             ]
            ],
            "type": "surface"
           }
          ],
          "table": [
           {
            "cells": {
             "fill": {
              "color": "#EBF0F8"
             },
             "line": {
              "color": "white"
             }
            },
            "header": {
             "fill": {
              "color": "#C8D4E3"
             },
             "line": {
              "color": "white"
             }
            },
            "type": "table"
           }
          ]
         },
         "layout": {
          "annotationdefaults": {
           "arrowcolor": "#2a3f5f",
           "arrowhead": 0,
           "arrowwidth": 1
          },
          "autotypenumbers": "strict",
          "coloraxis": {
           "colorbar": {
            "outlinewidth": 0,
            "ticks": ""
           }
          },
          "colorscale": {
           "diverging": [
            [
             0,
             "#8e0152"
            ],
            [
             0.1,
             "#c51b7d"
            ],
            [
             0.2,
             "#de77ae"
            ],
            [
             0.3,
             "#f1b6da"
            ],
            [
             0.4,
             "#fde0ef"
            ],
            [
             0.5,
             "#f7f7f7"
            ],
            [
             0.6,
             "#e6f5d0"
            ],
            [
             0.7,
             "#b8e186"
            ],
            [
             0.8,
             "#7fbc41"
            ],
            [
             0.9,
             "#4d9221"
            ],
            [
             1,
             "#276419"
            ]
           ],
           "sequential": [
            [
             0,
             "#0d0887"
            ],
            [
             0.1111111111111111,
             "#46039f"
            ],
            [
             0.2222222222222222,
             "#7201a8"
            ],
            [
             0.3333333333333333,
             "#9c179e"
            ],
            [
             0.4444444444444444,
             "#bd3786"
            ],
            [
             0.5555555555555556,
             "#d8576b"
            ],
            [
             0.6666666666666666,
             "#ed7953"
            ],
            [
             0.7777777777777778,
             "#fb9f3a"
            ],
            [
             0.8888888888888888,
             "#fdca26"
            ],
            [
             1,
             "#f0f921"
            ]
           ],
           "sequentialminus": [
            [
             0,
             "#0d0887"
            ],
            [
             0.1111111111111111,
             "#46039f"
            ],
            [
             0.2222222222222222,
             "#7201a8"
            ],
            [
             0.3333333333333333,
             "#9c179e"
            ],
            [
             0.4444444444444444,
             "#bd3786"
            ],
            [
             0.5555555555555556,
             "#d8576b"
            ],
            [
             0.6666666666666666,
             "#ed7953"
            ],
            [
             0.7777777777777778,
             "#fb9f3a"
            ],
            [
             0.8888888888888888,
             "#fdca26"
            ],
            [
             1,
             "#f0f921"
            ]
           ]
          },
          "colorway": [
           "#636efa",
           "#EF553B",
           "#00cc96",
           "#ab63fa",
           "#FFA15A",
           "#19d3f3",
           "#FF6692",
           "#B6E880",
           "#FF97FF",
           "#FECB52"
          ],
          "font": {
           "color": "#2a3f5f"
          },
          "geo": {
           "bgcolor": "white",
           "lakecolor": "white",
           "landcolor": "#E5ECF6",
           "showlakes": true,
           "showland": true,
           "subunitcolor": "white"
          },
          "hoverlabel": {
           "align": "left"
          },
          "hovermode": "closest",
          "mapbox": {
           "style": "light"
          },
          "paper_bgcolor": "white",
          "plot_bgcolor": "#E5ECF6",
          "polar": {
           "angularaxis": {
            "gridcolor": "white",
            "linecolor": "white",
            "ticks": ""
           },
           "bgcolor": "#E5ECF6",
           "radialaxis": {
            "gridcolor": "white",
            "linecolor": "white",
            "ticks": ""
           }
          },
          "scene": {
           "xaxis": {
            "backgroundcolor": "#E5ECF6",
            "gridcolor": "white",
            "gridwidth": 2,
            "linecolor": "white",
            "showbackground": true,
            "ticks": "",
            "zerolinecolor": "white"
           },
           "yaxis": {
            "backgroundcolor": "#E5ECF6",
            "gridcolor": "white",
            "gridwidth": 2,
            "linecolor": "white",
            "showbackground": true,
            "ticks": "",
            "zerolinecolor": "white"
           },
           "zaxis": {
            "backgroundcolor": "#E5ECF6",
            "gridcolor": "white",
            "gridwidth": 2,
            "linecolor": "white",
            "showbackground": true,
            "ticks": "",
            "zerolinecolor": "white"
           }
          },
          "shapedefaults": {
           "line": {
            "color": "#2a3f5f"
           }
          },
          "ternary": {
           "aaxis": {
            "gridcolor": "white",
            "linecolor": "white",
            "ticks": ""
           },
           "baxis": {
            "gridcolor": "white",
            "linecolor": "white",
            "ticks": ""
           },
           "bgcolor": "#E5ECF6",
           "caxis": {
            "gridcolor": "white",
            "linecolor": "white",
            "ticks": ""
           }
          },
          "title": {
           "x": 0.05
          },
          "xaxis": {
           "automargin": true,
           "gridcolor": "white",
           "linecolor": "white",
           "ticks": "",
           "title": {
            "standoff": 15
           },
           "zerolinecolor": "white",
           "zerolinewidth": 2
          },
          "yaxis": {
           "automargin": true,
           "gridcolor": "white",
           "linecolor": "white",
           "ticks": "",
           "title": {
            "standoff": 15
           },
           "zerolinecolor": "white",
           "zerolinewidth": 2
          }
         }
        },
        "title": {
         "text": "이벤트 타입별 고유 session 갯수 카운트"
        },
        "xaxis": {
         "anchor": "y",
         "domain": [
          0,
          1
         ],
         "title": {
          "text": "이벤트타입"
         }
        },
        "yaxis": {
         "anchor": "x",
         "domain": [
          0,
          1
         ],
         "title": {
          "text": "횟수"
         }
        }
       }
      }
     },
     "metadata": {},
     "output_type": "display_data"
    }
   ],
   "source": [
    "fig = px.funnel(funnel_df,x='이벤트타입',y='횟수',title='이벤트 타입별 고유 session 갯수 카운트')\n",
    "fig"
   ]
  },
  {
   "cell_type": "markdown",
   "metadata": {},
   "source": [
    "### **Retention Rate 분석**\n",
    "***"
   ]
  },
  {
   "cell_type": "code",
   "execution_count": 96,
   "metadata": {},
   "outputs": [
    {
     "data": {
      "text/html": [
       "<div>\n",
       "<style scoped>\n",
       "    .dataframe tbody tr th:only-of-type {\n",
       "        vertical-align: middle;\n",
       "    }\n",
       "\n",
       "    .dataframe tbody tr th {\n",
       "        vertical-align: top;\n",
       "    }\n",
       "\n",
       "    .dataframe thead th {\n",
       "        text-align: right;\n",
       "    }\n",
       "</style>\n",
       "<table border=\"1\" class=\"dataframe\">\n",
       "  <thead>\n",
       "    <tr style=\"text-align: right;\">\n",
       "      <th></th>\n",
       "      <th>이벤트타입</th>\n",
       "      <th>retention_rate</th>\n",
       "    </tr>\n",
       "  </thead>\n",
       "  <tbody>\n",
       "    <tr>\n",
       "      <th>0</th>\n",
       "      <td>view_retention</td>\n",
       "      <td>1.000000</td>\n",
       "    </tr>\n",
       "    <tr>\n",
       "      <th>1</th>\n",
       "      <td>cart_retention</td>\n",
       "      <td>0.170520</td>\n",
       "    </tr>\n",
       "    <tr>\n",
       "      <th>2</th>\n",
       "      <td>purchase_retention</td>\n",
       "      <td>0.147116</td>\n",
       "    </tr>\n",
       "  </tbody>\n",
       "</table>\n",
       "</div>"
      ],
      "text/plain": [
       "                이벤트타입  retention_rate\n",
       "0      view_retention        1.000000\n",
       "1      cart_retention        0.170520\n",
       "2  purchase_retention        0.147116"
      ]
     },
     "execution_count": 96,
     "metadata": {},
     "output_type": "execute_result"
    }
   ],
   "source": [
    "purchase_retention = purchased_sessions_funnel/carted_sessions\n",
    "cart_retention = carted_sessions/viewed_sessions\n",
    "view_retention = 1.0\n",
    "retention_rate = pd.DataFrame({'view_retention':view_retention,\n",
    "                               'cart_retention':cart_retention,\n",
    "                               'purchase_retention':purchase_retention\n",
    "                               }).T.reset_index(drop=False).rename(columns={'index':'이벤트타입',\n",
    "                                                                                                    'user_session':'retention_rate'})\n",
    "retention_rate"
   ]
  },
  {
   "cell_type": "code",
   "execution_count": 109,
   "metadata": {},
   "outputs": [
    {
     "data": {
      "application/vnd.plotly.v1+json": {
       "config": {
        "plotlyServerURL": "https://plot.ly"
       },
       "data": [
        {
         "hovertemplate": "이벤트타입=%{x}<br>retention_rate=%{y}<extra></extra>",
         "legendgroup": "",
         "marker": {
          "color": "#636efa"
         },
         "name": "",
         "orientation": "v",
         "showlegend": false,
         "texttemplate": "%{value:,.2%}",
         "type": "funnel",
         "x": [
          "view_retention",
          "cart_retention",
          "purchase_retention"
         ],
         "xaxis": "x",
         "y": [
          1,
          0.17052044046890324,
          0.1471159660838126
         ],
         "yaxis": "y"
        }
       ],
       "layout": {
        "legend": {
         "tracegroupgap": 0
        },
        "template": {
         "data": {
          "bar": [
           {
            "error_x": {
             "color": "#2a3f5f"
            },
            "error_y": {
             "color": "#2a3f5f"
            },
            "marker": {
             "line": {
              "color": "#E5ECF6",
              "width": 0.5
             },
             "pattern": {
              "fillmode": "overlay",
              "size": 10,
              "solidity": 0.2
             }
            },
            "type": "bar"
           }
          ],
          "barpolar": [
           {
            "marker": {
             "line": {
              "color": "#E5ECF6",
              "width": 0.5
             },
             "pattern": {
              "fillmode": "overlay",
              "size": 10,
              "solidity": 0.2
             }
            },
            "type": "barpolar"
           }
          ],
          "carpet": [
           {
            "aaxis": {
             "endlinecolor": "#2a3f5f",
             "gridcolor": "white",
             "linecolor": "white",
             "minorgridcolor": "white",
             "startlinecolor": "#2a3f5f"
            },
            "baxis": {
             "endlinecolor": "#2a3f5f",
             "gridcolor": "white",
             "linecolor": "white",
             "minorgridcolor": "white",
             "startlinecolor": "#2a3f5f"
            },
            "type": "carpet"
           }
          ],
          "choropleth": [
           {
            "colorbar": {
             "outlinewidth": 0,
             "ticks": ""
            },
            "type": "choropleth"
           }
          ],
          "contour": [
           {
            "colorbar": {
             "outlinewidth": 0,
             "ticks": ""
            },
            "colorscale": [
             [
              0,
              "#0d0887"
             ],
             [
              0.1111111111111111,
              "#46039f"
             ],
             [
              0.2222222222222222,
              "#7201a8"
             ],
             [
              0.3333333333333333,
              "#9c179e"
             ],
             [
              0.4444444444444444,
              "#bd3786"
             ],
             [
              0.5555555555555556,
              "#d8576b"
             ],
             [
              0.6666666666666666,
              "#ed7953"
             ],
             [
              0.7777777777777778,
              "#fb9f3a"
             ],
             [
              0.8888888888888888,
              "#fdca26"
             ],
             [
              1,
              "#f0f921"
             ]
            ],
            "type": "contour"
           }
          ],
          "contourcarpet": [
           {
            "colorbar": {
             "outlinewidth": 0,
             "ticks": ""
            },
            "type": "contourcarpet"
           }
          ],
          "heatmap": [
           {
            "colorbar": {
             "outlinewidth": 0,
             "ticks": ""
            },
            "colorscale": [
             [
              0,
              "#0d0887"
             ],
             [
              0.1111111111111111,
              "#46039f"
             ],
             [
              0.2222222222222222,
              "#7201a8"
             ],
             [
              0.3333333333333333,
              "#9c179e"
             ],
             [
              0.4444444444444444,
              "#bd3786"
             ],
             [
              0.5555555555555556,
              "#d8576b"
             ],
             [
              0.6666666666666666,
              "#ed7953"
             ],
             [
              0.7777777777777778,
              "#fb9f3a"
             ],
             [
              0.8888888888888888,
              "#fdca26"
             ],
             [
              1,
              "#f0f921"
             ]
            ],
            "type": "heatmap"
           }
          ],
          "heatmapgl": [
           {
            "colorbar": {
             "outlinewidth": 0,
             "ticks": ""
            },
            "colorscale": [
             [
              0,
              "#0d0887"
             ],
             [
              0.1111111111111111,
              "#46039f"
             ],
             [
              0.2222222222222222,
              "#7201a8"
             ],
             [
              0.3333333333333333,
              "#9c179e"
             ],
             [
              0.4444444444444444,
              "#bd3786"
             ],
             [
              0.5555555555555556,
              "#d8576b"
             ],
             [
              0.6666666666666666,
              "#ed7953"
             ],
             [
              0.7777777777777778,
              "#fb9f3a"
             ],
             [
              0.8888888888888888,
              "#fdca26"
             ],
             [
              1,
              "#f0f921"
             ]
            ],
            "type": "heatmapgl"
           }
          ],
          "histogram": [
           {
            "marker": {
             "pattern": {
              "fillmode": "overlay",
              "size": 10,
              "solidity": 0.2
             }
            },
            "type": "histogram"
           }
          ],
          "histogram2d": [
           {
            "colorbar": {
             "outlinewidth": 0,
             "ticks": ""
            },
            "colorscale": [
             [
              0,
              "#0d0887"
             ],
             [
              0.1111111111111111,
              "#46039f"
             ],
             [
              0.2222222222222222,
              "#7201a8"
             ],
             [
              0.3333333333333333,
              "#9c179e"
             ],
             [
              0.4444444444444444,
              "#bd3786"
             ],
             [
              0.5555555555555556,
              "#d8576b"
             ],
             [
              0.6666666666666666,
              "#ed7953"
             ],
             [
              0.7777777777777778,
              "#fb9f3a"
             ],
             [
              0.8888888888888888,
              "#fdca26"
             ],
             [
              1,
              "#f0f921"
             ]
            ],
            "type": "histogram2d"
           }
          ],
          "histogram2dcontour": [
           {
            "colorbar": {
             "outlinewidth": 0,
             "ticks": ""
            },
            "colorscale": [
             [
              0,
              "#0d0887"
             ],
             [
              0.1111111111111111,
              "#46039f"
             ],
             [
              0.2222222222222222,
              "#7201a8"
             ],
             [
              0.3333333333333333,
              "#9c179e"
             ],
             [
              0.4444444444444444,
              "#bd3786"
             ],
             [
              0.5555555555555556,
              "#d8576b"
             ],
             [
              0.6666666666666666,
              "#ed7953"
             ],
             [
              0.7777777777777778,
              "#fb9f3a"
             ],
             [
              0.8888888888888888,
              "#fdca26"
             ],
             [
              1,
              "#f0f921"
             ]
            ],
            "type": "histogram2dcontour"
           }
          ],
          "mesh3d": [
           {
            "colorbar": {
             "outlinewidth": 0,
             "ticks": ""
            },
            "type": "mesh3d"
           }
          ],
          "parcoords": [
           {
            "line": {
             "colorbar": {
              "outlinewidth": 0,
              "ticks": ""
             }
            },
            "type": "parcoords"
           }
          ],
          "pie": [
           {
            "automargin": true,
            "type": "pie"
           }
          ],
          "scatter": [
           {
            "fillpattern": {
             "fillmode": "overlay",
             "size": 10,
             "solidity": 0.2
            },
            "type": "scatter"
           }
          ],
          "scatter3d": [
           {
            "line": {
             "colorbar": {
              "outlinewidth": 0,
              "ticks": ""
             }
            },
            "marker": {
             "colorbar": {
              "outlinewidth": 0,
              "ticks": ""
             }
            },
            "type": "scatter3d"
           }
          ],
          "scattercarpet": [
           {
            "marker": {
             "colorbar": {
              "outlinewidth": 0,
              "ticks": ""
             }
            },
            "type": "scattercarpet"
           }
          ],
          "scattergeo": [
           {
            "marker": {
             "colorbar": {
              "outlinewidth": 0,
              "ticks": ""
             }
            },
            "type": "scattergeo"
           }
          ],
          "scattergl": [
           {
            "marker": {
             "colorbar": {
              "outlinewidth": 0,
              "ticks": ""
             }
            },
            "type": "scattergl"
           }
          ],
          "scattermapbox": [
           {
            "marker": {
             "colorbar": {
              "outlinewidth": 0,
              "ticks": ""
             }
            },
            "type": "scattermapbox"
           }
          ],
          "scatterpolar": [
           {
            "marker": {
             "colorbar": {
              "outlinewidth": 0,
              "ticks": ""
             }
            },
            "type": "scatterpolar"
           }
          ],
          "scatterpolargl": [
           {
            "marker": {
             "colorbar": {
              "outlinewidth": 0,
              "ticks": ""
             }
            },
            "type": "scatterpolargl"
           }
          ],
          "scatterternary": [
           {
            "marker": {
             "colorbar": {
              "outlinewidth": 0,
              "ticks": ""
             }
            },
            "type": "scatterternary"
           }
          ],
          "surface": [
           {
            "colorbar": {
             "outlinewidth": 0,
             "ticks": ""
            },
            "colorscale": [
             [
              0,
              "#0d0887"
             ],
             [
              0.1111111111111111,
              "#46039f"
             ],
             [
              0.2222222222222222,
              "#7201a8"
             ],
             [
              0.3333333333333333,
              "#9c179e"
             ],
             [
              0.4444444444444444,
              "#bd3786"
             ],
             [
              0.5555555555555556,
              "#d8576b"
             ],
             [
              0.6666666666666666,
              "#ed7953"
             ],
             [
              0.7777777777777778,
              "#fb9f3a"
             ],
             [
              0.8888888888888888,
              "#fdca26"
             ],
             [
              1,
              "#f0f921"
             ]
            ],
            "type": "surface"
           }
          ],
          "table": [
           {
            "cells": {
             "fill": {
              "color": "#EBF0F8"
             },
             "line": {
              "color": "white"
             }
            },
            "header": {
             "fill": {
              "color": "#C8D4E3"
             },
             "line": {
              "color": "white"
             }
            },
            "type": "table"
           }
          ]
         },
         "layout": {
          "annotationdefaults": {
           "arrowcolor": "#2a3f5f",
           "arrowhead": 0,
           "arrowwidth": 1
          },
          "autotypenumbers": "strict",
          "coloraxis": {
           "colorbar": {
            "outlinewidth": 0,
            "ticks": ""
           }
          },
          "colorscale": {
           "diverging": [
            [
             0,
             "#8e0152"
            ],
            [
             0.1,
             "#c51b7d"
            ],
            [
             0.2,
             "#de77ae"
            ],
            [
             0.3,
             "#f1b6da"
            ],
            [
             0.4,
             "#fde0ef"
            ],
            [
             0.5,
             "#f7f7f7"
            ],
            [
             0.6,
             "#e6f5d0"
            ],
            [
             0.7,
             "#b8e186"
            ],
            [
             0.8,
             "#7fbc41"
            ],
            [
             0.9,
             "#4d9221"
            ],
            [
             1,
             "#276419"
            ]
           ],
           "sequential": [
            [
             0,
             "#0d0887"
            ],
            [
             0.1111111111111111,
             "#46039f"
            ],
            [
             0.2222222222222222,
             "#7201a8"
            ],
            [
             0.3333333333333333,
             "#9c179e"
            ],
            [
             0.4444444444444444,
             "#bd3786"
            ],
            [
             0.5555555555555556,
             "#d8576b"
            ],
            [
             0.6666666666666666,
             "#ed7953"
            ],
            [
             0.7777777777777778,
             "#fb9f3a"
            ],
            [
             0.8888888888888888,
             "#fdca26"
            ],
            [
             1,
             "#f0f921"
            ]
           ],
           "sequentialminus": [
            [
             0,
             "#0d0887"
            ],
            [
             0.1111111111111111,
             "#46039f"
            ],
            [
             0.2222222222222222,
             "#7201a8"
            ],
            [
             0.3333333333333333,
             "#9c179e"
            ],
            [
             0.4444444444444444,
             "#bd3786"
            ],
            [
             0.5555555555555556,
             "#d8576b"
            ],
            [
             0.6666666666666666,
             "#ed7953"
            ],
            [
             0.7777777777777778,
             "#fb9f3a"
            ],
            [
             0.8888888888888888,
             "#fdca26"
            ],
            [
             1,
             "#f0f921"
            ]
           ]
          },
          "colorway": [
           "#636efa",
           "#EF553B",
           "#00cc96",
           "#ab63fa",
           "#FFA15A",
           "#19d3f3",
           "#FF6692",
           "#B6E880",
           "#FF97FF",
           "#FECB52"
          ],
          "font": {
           "color": "#2a3f5f"
          },
          "geo": {
           "bgcolor": "white",
           "lakecolor": "white",
           "landcolor": "#E5ECF6",
           "showlakes": true,
           "showland": true,
           "subunitcolor": "white"
          },
          "hoverlabel": {
           "align": "left"
          },
          "hovermode": "closest",
          "mapbox": {
           "style": "light"
          },
          "paper_bgcolor": "white",
          "plot_bgcolor": "#E5ECF6",
          "polar": {
           "angularaxis": {
            "gridcolor": "white",
            "linecolor": "white",
            "ticks": ""
           },
           "bgcolor": "#E5ECF6",
           "radialaxis": {
            "gridcolor": "white",
            "linecolor": "white",
            "ticks": ""
           }
          },
          "scene": {
           "xaxis": {
            "backgroundcolor": "#E5ECF6",
            "gridcolor": "white",
            "gridwidth": 2,
            "linecolor": "white",
            "showbackground": true,
            "ticks": "",
            "zerolinecolor": "white"
           },
           "yaxis": {
            "backgroundcolor": "#E5ECF6",
            "gridcolor": "white",
            "gridwidth": 2,
            "linecolor": "white",
            "showbackground": true,
            "ticks": "",
            "zerolinecolor": "white"
           },
           "zaxis": {
            "backgroundcolor": "#E5ECF6",
            "gridcolor": "white",
            "gridwidth": 2,
            "linecolor": "white",
            "showbackground": true,
            "ticks": "",
            "zerolinecolor": "white"
           }
          },
          "shapedefaults": {
           "line": {
            "color": "#2a3f5f"
           }
          },
          "ternary": {
           "aaxis": {
            "gridcolor": "white",
            "linecolor": "white",
            "ticks": ""
           },
           "baxis": {
            "gridcolor": "white",
            "linecolor": "white",
            "ticks": ""
           },
           "bgcolor": "#E5ECF6",
           "caxis": {
            "gridcolor": "white",
            "linecolor": "white",
            "ticks": ""
           }
          },
          "title": {
           "x": 0.05
          },
          "xaxis": {
           "automargin": true,
           "gridcolor": "white",
           "linecolor": "white",
           "ticks": "",
           "title": {
            "standoff": 15
           },
           "zerolinecolor": "white",
           "zerolinewidth": 2
          },
          "yaxis": {
           "automargin": true,
           "gridcolor": "white",
           "linecolor": "white",
           "ticks": "",
           "title": {
            "standoff": 15
           },
           "zerolinecolor": "white",
           "zerolinewidth": 2
          }
         }
        },
        "title": {
         "text": "이벤트 타입별 리텐션 비율"
        },
        "xaxis": {
         "anchor": "y",
         "domain": [
          0,
          1
         ],
         "title": {
          "text": "이벤트타입"
         }
        },
        "yaxis": {
         "anchor": "x",
         "domain": [
          0,
          1
         ],
         "title": {
          "text": "retention_rate"
         }
        }
       }
      }
     },
     "metadata": {},
     "output_type": "display_data"
    }
   ],
   "source": [
    "fig = px.funnel(retention_rate,x='이벤트타입',y='retention_rate',title='이벤트 타입별 리텐션 비율')\n",
    "fig.update_traces(texttemplate='%{value:,.2%}')"
   ]
  },
  {
   "cell_type": "code",
   "execution_count": null,
   "metadata": {},
   "outputs": [],
   "source": []
  },
  {
   "cell_type": "code",
   "execution_count": null,
   "metadata": {},
   "outputs": [],
   "source": []
  },
  {
   "cell_type": "code",
   "execution_count": null,
   "metadata": {},
   "outputs": [],
   "source": []
  }
 ],
 "metadata": {
  "kernelspec": {
   "display_name": "rapids",
   "language": "python",
   "name": "python3"
  },
  "language_info": {
   "codemirror_mode": {
    "name": "ipython",
    "version": 3
   },
   "file_extension": ".py",
   "mimetype": "text/x-python",
   "name": "python",
   "nbconvert_exporter": "python",
   "pygments_lexer": "ipython3",
   "version": "3.11.8"
  }
 },
 "nbformat": 4,
 "nbformat_minor": 2
}
