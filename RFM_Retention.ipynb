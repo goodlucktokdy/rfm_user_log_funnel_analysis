{
 "cells": [
  {
   "cell_type": "markdown",
   "metadata": {},
   "source": [
    "# **RFM분석과 Retention분석**\n",
    "***"
   ]
  },
  {
   "cell_type": "markdown",
   "metadata": {},
   "source": [
    "## 질문 만들기\n",
    "- 시간의 흐름에 따라 매출, 주문고객수, 주문단가의 추이는?\n",
    "- 리텐션 분석: 시간의 흐름에 따라 고객은 얼마나 남고 이탈?\n",
    "- RFM 분석: 고객의 행동에 따라 고객을 유형화 해보자"
   ]
  },
  {
   "cell_type": "markdown",
   "metadata": {},
   "source": [
    "- **리텐션 분석이란?**\n",
    "    - 유저가 제품을 사용한 이후 일정 기간 지난 시점에 제품을 계속 사용하고 있는지 유저의 잔존과 이탈을 분석하는 방법\n",
    "    - DAY0에 방문한 유저 중 DAY1에 방문한 비율을 DAY단위 리텐션이라 할 수 있음\n",
    "    - 일반적으로 리텐션이 높으면 유저가 서비스를 주기적으로 사용한다는 뜻\n",
    "    - 유저의 참여와 충성도를 높이기 위한 전략을 정하는데 중요한 지표"
   ]
  },
  {
   "cell_type": "markdown",
   "metadata": {},
   "source": [
    "- **RFM분석이란?**\n",
    "    - Recency, Frequency, Monetary를 기반으로 고객을 유형화하는 방법\n",
    "        - Recency(최근성): 고객이 얼마나 최근에 구매를 하였는지\n",
    "        - Frequency(빈도): 고객이 얼마나 자주 구매하였는지\n",
    "        - Monetary(금액): 고객이 구매한 금액\n",
    "    - 고객 유형을 세분화하여 맞춤형 전략을 구상할 수 있다\n",
    "        - 예: 총 구매금액은 낮지만 자주 방문하는 유저 VS 최근에 큰 금액을 구매했지만 자주 방문하지는 않았던 유저\n",
    "- **여기서 데이터 분석가가 분석하고 싶은 지표(구매, 장바구니담기, 웹사이트 방문)등으로 지표를 바꿀 수도 있다.**"
   ]
  },
  {
   "cell_type": "markdown",
   "metadata": {},
   "source": [
    "## **1. 데이터 전처리**"
   ]
  },
  {
   "cell_type": "code",
   "execution_count": 36,
   "metadata": {},
   "outputs": [],
   "source": [
    "import pandas as pd\n",
    "import plotly.express as px"
   ]
  },
  {
   "cell_type": "code",
   "execution_count": 37,
   "metadata": {},
   "outputs": [
    {
     "data": {
      "text/html": [
       "<div>\n",
       "<style scoped>\n",
       "    .dataframe tbody tr th:only-of-type {\n",
       "        vertical-align: middle;\n",
       "    }\n",
       "\n",
       "    .dataframe tbody tr th {\n",
       "        vertical-align: top;\n",
       "    }\n",
       "\n",
       "    .dataframe thead th {\n",
       "        text-align: right;\n",
       "    }\n",
       "</style>\n",
       "<table border=\"1\" class=\"dataframe\">\n",
       "  <thead>\n",
       "    <tr style=\"text-align: right;\">\n",
       "      <th></th>\n",
       "      <th>InvoiceNo</th>\n",
       "      <th>StockCode</th>\n",
       "      <th>Description</th>\n",
       "      <th>Quantity</th>\n",
       "      <th>InvoiceDate</th>\n",
       "      <th>UnitPrice</th>\n",
       "      <th>CustomerID</th>\n",
       "      <th>Country</th>\n",
       "    </tr>\n",
       "  </thead>\n",
       "  <tbody>\n",
       "    <tr>\n",
       "      <th>0</th>\n",
       "      <td>536365</td>\n",
       "      <td>85123A</td>\n",
       "      <td>WHITE HANGING HEART T-LIGHT HOLDER</td>\n",
       "      <td>6</td>\n",
       "      <td>12/1/2010 8:26</td>\n",
       "      <td>2.55</td>\n",
       "      <td>17850.0</td>\n",
       "      <td>United Kingdom</td>\n",
       "    </tr>\n",
       "    <tr>\n",
       "      <th>1</th>\n",
       "      <td>536365</td>\n",
       "      <td>71053</td>\n",
       "      <td>WHITE METAL LANTERN</td>\n",
       "      <td>6</td>\n",
       "      <td>12/1/2010 8:26</td>\n",
       "      <td>3.39</td>\n",
       "      <td>17850.0</td>\n",
       "      <td>United Kingdom</td>\n",
       "    </tr>\n",
       "    <tr>\n",
       "      <th>2</th>\n",
       "      <td>536365</td>\n",
       "      <td>84406B</td>\n",
       "      <td>CREAM CUPID HEARTS COAT HANGER</td>\n",
       "      <td>8</td>\n",
       "      <td>12/1/2010 8:26</td>\n",
       "      <td>2.75</td>\n",
       "      <td>17850.0</td>\n",
       "      <td>United Kingdom</td>\n",
       "    </tr>\n",
       "    <tr>\n",
       "      <th>3</th>\n",
       "      <td>536365</td>\n",
       "      <td>84029G</td>\n",
       "      <td>KNITTED UNION FLAG HOT WATER BOTTLE</td>\n",
       "      <td>6</td>\n",
       "      <td>12/1/2010 8:26</td>\n",
       "      <td>3.39</td>\n",
       "      <td>17850.0</td>\n",
       "      <td>United Kingdom</td>\n",
       "    </tr>\n",
       "    <tr>\n",
       "      <th>4</th>\n",
       "      <td>536365</td>\n",
       "      <td>84029E</td>\n",
       "      <td>RED WOOLLY HOTTIE WHITE HEART.</td>\n",
       "      <td>6</td>\n",
       "      <td>12/1/2010 8:26</td>\n",
       "      <td>3.39</td>\n",
       "      <td>17850.0</td>\n",
       "      <td>United Kingdom</td>\n",
       "    </tr>\n",
       "  </tbody>\n",
       "</table>\n",
       "</div>"
      ],
      "text/plain": [
       "  InvoiceNo StockCode                          Description  Quantity  \\\n",
       "0    536365    85123A   WHITE HANGING HEART T-LIGHT HOLDER         6   \n",
       "1    536365     71053                  WHITE METAL LANTERN         6   \n",
       "2    536365    84406B       CREAM CUPID HEARTS COAT HANGER         8   \n",
       "3    536365    84029G  KNITTED UNION FLAG HOT WATER BOTTLE         6   \n",
       "4    536365    84029E       RED WOOLLY HOTTIE WHITE HEART.         6   \n",
       "\n",
       "      InvoiceDate  UnitPrice  CustomerID         Country  \n",
       "0  12/1/2010 8:26       2.55     17850.0  United Kingdom  \n",
       "1  12/1/2010 8:26       3.39     17850.0  United Kingdom  \n",
       "2  12/1/2010 8:26       2.75     17850.0  United Kingdom  \n",
       "3  12/1/2010 8:26       3.39     17850.0  United Kingdom  \n",
       "4  12/1/2010 8:26       3.39     17850.0  United Kingdom  "
      ]
     },
     "execution_count": 37,
     "metadata": {},
     "output_type": "execute_result"
    }
   ],
   "source": [
    "df = pd.read_csv(r'.\\실습3_ 유통 데이터를 활용한 리텐션과 RFM 분석\\ecommerce_data.csv',\n",
    "                 encoding='utf8')\n",
    "df.head()"
   ]
  },
  {
   "cell_type": "code",
   "execution_count": 38,
   "metadata": {},
   "outputs": [
    {
     "name": "stdout",
     "output_type": "stream",
     "text": [
      "<class 'pandas.core.frame.DataFrame'>\n",
      "RangeIndex: 541909 entries, 0 to 541908\n",
      "Data columns (total 8 columns):\n",
      " #   Column       Non-Null Count   Dtype  \n",
      "---  ------       --------------   -----  \n",
      " 0   InvoiceNo    541909 non-null  object \n",
      " 1   StockCode    541909 non-null  object \n",
      " 2   Description  540455 non-null  object \n",
      " 3   Quantity     541909 non-null  int64  \n",
      " 4   InvoiceDate  541909 non-null  object \n",
      " 5   UnitPrice    541909 non-null  float64\n",
      " 6   CustomerID   406829 non-null  float64\n",
      " 7   Country      541909 non-null  object \n",
      "dtypes: float64(2), int64(1), object(5)\n",
      "memory usage: 33.1+ MB\n"
     ]
    }
   ],
   "source": [
    "df.info()"
   ]
  },
  {
   "cell_type": "markdown",
   "metadata": {},
   "source": [
    "- **결측치 제거**\n",
    "- 고객에 대한 분석을 할 예정이므로 CustomerID가 없는 행은 제거\n"
   ]
  },
  {
   "cell_type": "code",
   "execution_count": 39,
   "metadata": {},
   "outputs": [
    {
     "name": "stdout",
     "output_type": "stream",
     "text": [
      "<class 'pandas.core.frame.DataFrame'>\n",
      "Index: 406829 entries, 0 to 541908\n",
      "Data columns (total 8 columns):\n",
      " #   Column       Non-Null Count   Dtype  \n",
      "---  ------       --------------   -----  \n",
      " 0   InvoiceNo    406829 non-null  object \n",
      " 1   StockCode    406829 non-null  object \n",
      " 2   Description  406829 non-null  object \n",
      " 3   Quantity     406829 non-null  int64  \n",
      " 4   InvoiceDate  406829 non-null  object \n",
      " 5   UnitPrice    406829 non-null  float64\n",
      " 6   CustomerID   406829 non-null  float64\n",
      " 7   Country      406829 non-null  object \n",
      "dtypes: float64(2), int64(1), object(5)\n",
      "memory usage: 27.9+ MB\n"
     ]
    }
   ],
   "source": [
    "df = df.dropna(subset='CustomerID',axis=0)\n",
    "df.info()"
   ]
  },
  {
   "cell_type": "markdown",
   "metadata": {},
   "source": [
    "- **날짜형태 데이터타입을 변경**\n",
    "- **CustomerID를 문자형식으로 변경**"
   ]
  },
  {
   "cell_type": "code",
   "execution_count": 40,
   "metadata": {},
   "outputs": [
    {
     "data": {
      "text/html": [
       "<div>\n",
       "<style scoped>\n",
       "    .dataframe tbody tr th:only-of-type {\n",
       "        vertical-align: middle;\n",
       "    }\n",
       "\n",
       "    .dataframe tbody tr th {\n",
       "        vertical-align: top;\n",
       "    }\n",
       "\n",
       "    .dataframe thead th {\n",
       "        text-align: right;\n",
       "    }\n",
       "</style>\n",
       "<table border=\"1\" class=\"dataframe\">\n",
       "  <thead>\n",
       "    <tr style=\"text-align: right;\">\n",
       "      <th></th>\n",
       "      <th>InvoiceNo</th>\n",
       "      <th>StockCode</th>\n",
       "      <th>Description</th>\n",
       "      <th>Quantity</th>\n",
       "      <th>InvoiceDate</th>\n",
       "      <th>UnitPrice</th>\n",
       "      <th>CustomerID</th>\n",
       "      <th>Country</th>\n",
       "    </tr>\n",
       "  </thead>\n",
       "  <tbody>\n",
       "    <tr>\n",
       "      <th>0</th>\n",
       "      <td>536365</td>\n",
       "      <td>85123A</td>\n",
       "      <td>WHITE HANGING HEART T-LIGHT HOLDER</td>\n",
       "      <td>6</td>\n",
       "      <td>2010-12-01 08:26:00</td>\n",
       "      <td>2.55</td>\n",
       "      <td>17850</td>\n",
       "      <td>United Kingdom</td>\n",
       "    </tr>\n",
       "    <tr>\n",
       "      <th>1</th>\n",
       "      <td>536365</td>\n",
       "      <td>71053</td>\n",
       "      <td>WHITE METAL LANTERN</td>\n",
       "      <td>6</td>\n",
       "      <td>2010-12-01 08:26:00</td>\n",
       "      <td>3.39</td>\n",
       "      <td>17850</td>\n",
       "      <td>United Kingdom</td>\n",
       "    </tr>\n",
       "    <tr>\n",
       "      <th>2</th>\n",
       "      <td>536365</td>\n",
       "      <td>84406B</td>\n",
       "      <td>CREAM CUPID HEARTS COAT HANGER</td>\n",
       "      <td>8</td>\n",
       "      <td>2010-12-01 08:26:00</td>\n",
       "      <td>2.75</td>\n",
       "      <td>17850</td>\n",
       "      <td>United Kingdom</td>\n",
       "    </tr>\n",
       "    <tr>\n",
       "      <th>3</th>\n",
       "      <td>536365</td>\n",
       "      <td>84029G</td>\n",
       "      <td>KNITTED UNION FLAG HOT WATER BOTTLE</td>\n",
       "      <td>6</td>\n",
       "      <td>2010-12-01 08:26:00</td>\n",
       "      <td>3.39</td>\n",
       "      <td>17850</td>\n",
       "      <td>United Kingdom</td>\n",
       "    </tr>\n",
       "    <tr>\n",
       "      <th>4</th>\n",
       "      <td>536365</td>\n",
       "      <td>84029E</td>\n",
       "      <td>RED WOOLLY HOTTIE WHITE HEART.</td>\n",
       "      <td>6</td>\n",
       "      <td>2010-12-01 08:26:00</td>\n",
       "      <td>3.39</td>\n",
       "      <td>17850</td>\n",
       "      <td>United Kingdom</td>\n",
       "    </tr>\n",
       "  </tbody>\n",
       "</table>\n",
       "</div>"
      ],
      "text/plain": [
       "  InvoiceNo StockCode                          Description  Quantity  \\\n",
       "0    536365    85123A   WHITE HANGING HEART T-LIGHT HOLDER         6   \n",
       "1    536365     71053                  WHITE METAL LANTERN         6   \n",
       "2    536365    84406B       CREAM CUPID HEARTS COAT HANGER         8   \n",
       "3    536365    84029G  KNITTED UNION FLAG HOT WATER BOTTLE         6   \n",
       "4    536365    84029E       RED WOOLLY HOTTIE WHITE HEART.         6   \n",
       "\n",
       "          InvoiceDate  UnitPrice CustomerID         Country  \n",
       "0 2010-12-01 08:26:00       2.55      17850  United Kingdom  \n",
       "1 2010-12-01 08:26:00       3.39      17850  United Kingdom  \n",
       "2 2010-12-01 08:26:00       2.75      17850  United Kingdom  \n",
       "3 2010-12-01 08:26:00       3.39      17850  United Kingdom  \n",
       "4 2010-12-01 08:26:00       3.39      17850  United Kingdom  "
      ]
     },
     "execution_count": 40,
     "metadata": {},
     "output_type": "execute_result"
    }
   ],
   "source": [
    "df['InvoiceDate'] = pd.to_datetime(df['InvoiceDate'],format='%m/%d/%Y %H:%M')\n",
    "df['CustomerID'] = df['CustomerID'].astype('int').astype('str')\n",
    "df.head()"
   ]
  },
  {
   "cell_type": "code",
   "execution_count": 41,
   "metadata": {},
   "outputs": [
    {
     "data": {
      "text/html": [
       "<div>\n",
       "<style scoped>\n",
       "    .dataframe tbody tr th:only-of-type {\n",
       "        vertical-align: middle;\n",
       "    }\n",
       "\n",
       "    .dataframe tbody tr th {\n",
       "        vertical-align: top;\n",
       "    }\n",
       "\n",
       "    .dataframe thead th {\n",
       "        text-align: right;\n",
       "    }\n",
       "</style>\n",
       "<table border=\"1\" class=\"dataframe\">\n",
       "  <thead>\n",
       "    <tr style=\"text-align: right;\">\n",
       "      <th></th>\n",
       "      <th>InvoiceNo</th>\n",
       "      <th>StockCode</th>\n",
       "      <th>Description</th>\n",
       "      <th>Quantity</th>\n",
       "      <th>InvoiceDate</th>\n",
       "      <th>UnitPrice</th>\n",
       "      <th>CustomerID</th>\n",
       "      <th>Country</th>\n",
       "      <th>date_ymd</th>\n",
       "      <th>year</th>\n",
       "    </tr>\n",
       "  </thead>\n",
       "  <tbody>\n",
       "    <tr>\n",
       "      <th>0</th>\n",
       "      <td>536365</td>\n",
       "      <td>85123A</td>\n",
       "      <td>WHITE HANGING HEART T-LIGHT HOLDER</td>\n",
       "      <td>6</td>\n",
       "      <td>2010-12-01 08:26:00</td>\n",
       "      <td>2.55</td>\n",
       "      <td>17850</td>\n",
       "      <td>United Kingdom</td>\n",
       "      <td>2010-12-01</td>\n",
       "      <td>2010</td>\n",
       "    </tr>\n",
       "    <tr>\n",
       "      <th>1</th>\n",
       "      <td>536365</td>\n",
       "      <td>71053</td>\n",
       "      <td>WHITE METAL LANTERN</td>\n",
       "      <td>6</td>\n",
       "      <td>2010-12-01 08:26:00</td>\n",
       "      <td>3.39</td>\n",
       "      <td>17850</td>\n",
       "      <td>United Kingdom</td>\n",
       "      <td>2010-12-01</td>\n",
       "      <td>2010</td>\n",
       "    </tr>\n",
       "    <tr>\n",
       "      <th>2</th>\n",
       "      <td>536365</td>\n",
       "      <td>84406B</td>\n",
       "      <td>CREAM CUPID HEARTS COAT HANGER</td>\n",
       "      <td>8</td>\n",
       "      <td>2010-12-01 08:26:00</td>\n",
       "      <td>2.75</td>\n",
       "      <td>17850</td>\n",
       "      <td>United Kingdom</td>\n",
       "      <td>2010-12-01</td>\n",
       "      <td>2010</td>\n",
       "    </tr>\n",
       "    <tr>\n",
       "      <th>3</th>\n",
       "      <td>536365</td>\n",
       "      <td>84029G</td>\n",
       "      <td>KNITTED UNION FLAG HOT WATER BOTTLE</td>\n",
       "      <td>6</td>\n",
       "      <td>2010-12-01 08:26:00</td>\n",
       "      <td>3.39</td>\n",
       "      <td>17850</td>\n",
       "      <td>United Kingdom</td>\n",
       "      <td>2010-12-01</td>\n",
       "      <td>2010</td>\n",
       "    </tr>\n",
       "    <tr>\n",
       "      <th>4</th>\n",
       "      <td>536365</td>\n",
       "      <td>84029E</td>\n",
       "      <td>RED WOOLLY HOTTIE WHITE HEART.</td>\n",
       "      <td>6</td>\n",
       "      <td>2010-12-01 08:26:00</td>\n",
       "      <td>3.39</td>\n",
       "      <td>17850</td>\n",
       "      <td>United Kingdom</td>\n",
       "      <td>2010-12-01</td>\n",
       "      <td>2010</td>\n",
       "    </tr>\n",
       "  </tbody>\n",
       "</table>\n",
       "</div>"
      ],
      "text/plain": [
       "  InvoiceNo StockCode                          Description  Quantity  \\\n",
       "0    536365    85123A   WHITE HANGING HEART T-LIGHT HOLDER         6   \n",
       "1    536365     71053                  WHITE METAL LANTERN         6   \n",
       "2    536365    84406B       CREAM CUPID HEARTS COAT HANGER         8   \n",
       "3    536365    84029G  KNITTED UNION FLAG HOT WATER BOTTLE         6   \n",
       "4    536365    84029E       RED WOOLLY HOTTIE WHITE HEART.         6   \n",
       "\n",
       "          InvoiceDate  UnitPrice CustomerID         Country   date_ymd  year  \n",
       "0 2010-12-01 08:26:00       2.55      17850  United Kingdom 2010-12-01  2010  \n",
       "1 2010-12-01 08:26:00       3.39      17850  United Kingdom 2010-12-01  2010  \n",
       "2 2010-12-01 08:26:00       2.75      17850  United Kingdom 2010-12-01  2010  \n",
       "3 2010-12-01 08:26:00       3.39      17850  United Kingdom 2010-12-01  2010  \n",
       "4 2010-12-01 08:26:00       3.39      17850  United Kingdom 2010-12-01  2010  "
      ]
     },
     "execution_count": 41,
     "metadata": {},
     "output_type": "execute_result"
    }
   ],
   "source": [
    "df['date_ymd'] = df['InvoiceDate'].dt.date\n",
    "df['date_ymd'] = df['date_ymd'].astype('datetime64[ns]')\n",
    "df['year'] = df['date_ymd'].astype('datetime64[ns]').dt.year\n",
    "df.head()"
   ]
  },
  {
   "cell_type": "markdown",
   "metadata": {},
   "source": [
    "- 매출 칼럼 추가하기 (수량 * 가격)"
   ]
  },
  {
   "cell_type": "code",
   "execution_count": 42,
   "metadata": {},
   "outputs": [
    {
     "data": {
      "text/html": [
       "<div>\n",
       "<style scoped>\n",
       "    .dataframe tbody tr th:only-of-type {\n",
       "        vertical-align: middle;\n",
       "    }\n",
       "\n",
       "    .dataframe tbody tr th {\n",
       "        vertical-align: top;\n",
       "    }\n",
       "\n",
       "    .dataframe thead th {\n",
       "        text-align: right;\n",
       "    }\n",
       "</style>\n",
       "<table border=\"1\" class=\"dataframe\">\n",
       "  <thead>\n",
       "    <tr style=\"text-align: right;\">\n",
       "      <th></th>\n",
       "      <th>InvoiceNo</th>\n",
       "      <th>StockCode</th>\n",
       "      <th>Description</th>\n",
       "      <th>Quantity</th>\n",
       "      <th>InvoiceDate</th>\n",
       "      <th>UnitPrice</th>\n",
       "      <th>CustomerID</th>\n",
       "      <th>Country</th>\n",
       "      <th>date_ymd</th>\n",
       "      <th>year</th>\n",
       "      <th>amount</th>\n",
       "    </tr>\n",
       "  </thead>\n",
       "  <tbody>\n",
       "    <tr>\n",
       "      <th>0</th>\n",
       "      <td>536365</td>\n",
       "      <td>85123A</td>\n",
       "      <td>WHITE HANGING HEART T-LIGHT HOLDER</td>\n",
       "      <td>6</td>\n",
       "      <td>2010-12-01 08:26:00</td>\n",
       "      <td>2.55</td>\n",
       "      <td>17850</td>\n",
       "      <td>United Kingdom</td>\n",
       "      <td>2010-12-01</td>\n",
       "      <td>2010</td>\n",
       "      <td>15.30</td>\n",
       "    </tr>\n",
       "    <tr>\n",
       "      <th>1</th>\n",
       "      <td>536365</td>\n",
       "      <td>71053</td>\n",
       "      <td>WHITE METAL LANTERN</td>\n",
       "      <td>6</td>\n",
       "      <td>2010-12-01 08:26:00</td>\n",
       "      <td>3.39</td>\n",
       "      <td>17850</td>\n",
       "      <td>United Kingdom</td>\n",
       "      <td>2010-12-01</td>\n",
       "      <td>2010</td>\n",
       "      <td>20.34</td>\n",
       "    </tr>\n",
       "    <tr>\n",
       "      <th>2</th>\n",
       "      <td>536365</td>\n",
       "      <td>84406B</td>\n",
       "      <td>CREAM CUPID HEARTS COAT HANGER</td>\n",
       "      <td>8</td>\n",
       "      <td>2010-12-01 08:26:00</td>\n",
       "      <td>2.75</td>\n",
       "      <td>17850</td>\n",
       "      <td>United Kingdom</td>\n",
       "      <td>2010-12-01</td>\n",
       "      <td>2010</td>\n",
       "      <td>22.00</td>\n",
       "    </tr>\n",
       "    <tr>\n",
       "      <th>3</th>\n",
       "      <td>536365</td>\n",
       "      <td>84029G</td>\n",
       "      <td>KNITTED UNION FLAG HOT WATER BOTTLE</td>\n",
       "      <td>6</td>\n",
       "      <td>2010-12-01 08:26:00</td>\n",
       "      <td>3.39</td>\n",
       "      <td>17850</td>\n",
       "      <td>United Kingdom</td>\n",
       "      <td>2010-12-01</td>\n",
       "      <td>2010</td>\n",
       "      <td>20.34</td>\n",
       "    </tr>\n",
       "    <tr>\n",
       "      <th>4</th>\n",
       "      <td>536365</td>\n",
       "      <td>84029E</td>\n",
       "      <td>RED WOOLLY HOTTIE WHITE HEART.</td>\n",
       "      <td>6</td>\n",
       "      <td>2010-12-01 08:26:00</td>\n",
       "      <td>3.39</td>\n",
       "      <td>17850</td>\n",
       "      <td>United Kingdom</td>\n",
       "      <td>2010-12-01</td>\n",
       "      <td>2010</td>\n",
       "      <td>20.34</td>\n",
       "    </tr>\n",
       "  </tbody>\n",
       "</table>\n",
       "</div>"
      ],
      "text/plain": [
       "  InvoiceNo StockCode                          Description  Quantity  \\\n",
       "0    536365    85123A   WHITE HANGING HEART T-LIGHT HOLDER         6   \n",
       "1    536365     71053                  WHITE METAL LANTERN         6   \n",
       "2    536365    84406B       CREAM CUPID HEARTS COAT HANGER         8   \n",
       "3    536365    84029G  KNITTED UNION FLAG HOT WATER BOTTLE         6   \n",
       "4    536365    84029E       RED WOOLLY HOTTIE WHITE HEART.         6   \n",
       "\n",
       "          InvoiceDate  UnitPrice CustomerID         Country   date_ymd  year  \\\n",
       "0 2010-12-01 08:26:00       2.55      17850  United Kingdom 2010-12-01  2010   \n",
       "1 2010-12-01 08:26:00       3.39      17850  United Kingdom 2010-12-01  2010   \n",
       "2 2010-12-01 08:26:00       2.75      17850  United Kingdom 2010-12-01  2010   \n",
       "3 2010-12-01 08:26:00       3.39      17850  United Kingdom 2010-12-01  2010   \n",
       "4 2010-12-01 08:26:00       3.39      17850  United Kingdom 2010-12-01  2010   \n",
       "\n",
       "   amount  \n",
       "0   15.30  \n",
       "1   20.34  \n",
       "2   22.00  \n",
       "3   20.34  \n",
       "4   20.34  "
      ]
     },
     "execution_count": 42,
     "metadata": {},
     "output_type": "execute_result"
    }
   ],
   "source": [
    "df['amount'] = df['Quantity'] * df['UnitPrice']\n",
    "df.head()"
   ]
  },
  {
   "cell_type": "markdown",
   "metadata": {},
   "source": [
    "- Quantity가 음수인 것은 취소를 뜻하므로 제외하기"
   ]
  },
  {
   "cell_type": "code",
   "execution_count": 43,
   "metadata": {},
   "outputs": [
    {
     "data": {
      "text/html": [
       "<div>\n",
       "<style scoped>\n",
       "    .dataframe tbody tr th:only-of-type {\n",
       "        vertical-align: middle;\n",
       "    }\n",
       "\n",
       "    .dataframe tbody tr th {\n",
       "        vertical-align: top;\n",
       "    }\n",
       "\n",
       "    .dataframe thead th {\n",
       "        text-align: right;\n",
       "    }\n",
       "</style>\n",
       "<table border=\"1\" class=\"dataframe\">\n",
       "  <thead>\n",
       "    <tr style=\"text-align: right;\">\n",
       "      <th></th>\n",
       "      <th>InvoiceNo</th>\n",
       "      <th>StockCode</th>\n",
       "      <th>Description</th>\n",
       "      <th>Quantity</th>\n",
       "      <th>InvoiceDate</th>\n",
       "      <th>UnitPrice</th>\n",
       "      <th>CustomerID</th>\n",
       "      <th>Country</th>\n",
       "      <th>date_ymd</th>\n",
       "      <th>year</th>\n",
       "      <th>amount</th>\n",
       "    </tr>\n",
       "  </thead>\n",
       "  <tbody>\n",
       "  </tbody>\n",
       "</table>\n",
       "</div>"
      ],
      "text/plain": [
       "Empty DataFrame\n",
       "Columns: [InvoiceNo, StockCode, Description, Quantity, InvoiceDate, UnitPrice, CustomerID, Country, date_ymd, year, amount]\n",
       "Index: []"
      ]
     },
     "execution_count": 43,
     "metadata": {},
     "output_type": "execute_result"
    }
   ],
   "source": [
    "df[df['Quantity'] == 0]"
   ]
  },
  {
   "cell_type": "code",
   "execution_count": 44,
   "metadata": {},
   "outputs": [
    {
     "name": "stdout",
     "output_type": "stream",
     "text": [
      "<class 'pandas.core.frame.DataFrame'>\n",
      "Index: 397924 entries, 0 to 541908\n",
      "Data columns (total 11 columns):\n",
      " #   Column       Non-Null Count   Dtype         \n",
      "---  ------       --------------   -----         \n",
      " 0   InvoiceNo    397924 non-null  object        \n",
      " 1   StockCode    397924 non-null  object        \n",
      " 2   Description  397924 non-null  object        \n",
      " 3   Quantity     397924 non-null  int64         \n",
      " 4   InvoiceDate  397924 non-null  datetime64[ns]\n",
      " 5   UnitPrice    397924 non-null  float64       \n",
      " 6   CustomerID   397924 non-null  object        \n",
      " 7   Country      397924 non-null  object        \n",
      " 8   date_ymd     397924 non-null  datetime64[ns]\n",
      " 9   year         397924 non-null  int32         \n",
      " 10  amount       397924 non-null  float64       \n",
      "dtypes: datetime64[ns](2), float64(2), int32(1), int64(1), object(5)\n",
      "memory usage: 34.9+ MB\n"
     ]
    }
   ],
   "source": [
    "df = df.loc[df['Quantity'] > 0,:]\n",
    "df.info()"
   ]
  },
  {
   "cell_type": "markdown",
   "metadata": {},
   "source": [
    "## **2. 분석**\n",
    "- 일자별 매출 추이는?\n",
    "    - 조금씩 우상향\n",
    "- 일자별 주문 고객수는(Unique한)?\n",
    "- 일자별 주문단가의 추이는?"
   ]
  },
  {
   "cell_type": "code",
   "execution_count": 45,
   "metadata": {},
   "outputs": [
    {
     "name": "stderr",
     "output_type": "stream",
     "text": [
      "c:\\Users\\kd010\\miniconda3\\envs\\rapids\\Lib\\site-packages\\_plotly_utils\\basevalidators.py:106: FutureWarning:\n",
      "\n",
      "The behavior of DatetimeProperties.to_pydatetime is deprecated, in a future version this will return a Series containing python datetime objects instead of an ndarray. To retain the old behavior, call `np.array` on the result\n",
      "\n"
     ]
    },
    {
     "data": {
      "application/vnd.plotly.v1+json": {
       "config": {
        "plotlyServerURL": "https://plot.ly"
       },
       "data": [
        {
         "hovertemplate": "날짜=%{x|%Y년 %m월 %d일}<br>매출=%{y:.2f}<extra></extra>",
         "legendgroup": "",
         "line": {
          "color": "red",
          "dash": "solid"
         },
         "marker": {
          "symbol": "circle"
         },
         "mode": "lines",
         "name": "",
         "orientation": "v",
         "showlegend": false,
         "type": "scatter",
         "x": [
          "2010-12-01T00:00:00",
          "2010-12-02T00:00:00",
          "2010-12-03T00:00:00",
          "2010-12-05T00:00:00",
          "2010-12-06T00:00:00",
          "2010-12-07T00:00:00",
          "2010-12-08T00:00:00",
          "2010-12-09T00:00:00",
          "2010-12-10T00:00:00",
          "2010-12-12T00:00:00",
          "2010-12-13T00:00:00",
          "2010-12-14T00:00:00",
          "2010-12-15T00:00:00",
          "2010-12-16T00:00:00",
          "2010-12-17T00:00:00",
          "2010-12-19T00:00:00",
          "2010-12-20T00:00:00",
          "2010-12-21T00:00:00",
          "2010-12-22T00:00:00",
          "2010-12-23T00:00:00",
          "2011-01-04T00:00:00",
          "2011-01-05T00:00:00",
          "2011-01-06T00:00:00",
          "2011-01-07T00:00:00",
          "2011-01-09T00:00:00",
          "2011-01-10T00:00:00",
          "2011-01-11T00:00:00",
          "2011-01-12T00:00:00",
          "2011-01-13T00:00:00",
          "2011-01-14T00:00:00",
          "2011-01-16T00:00:00",
          "2011-01-17T00:00:00",
          "2011-01-18T00:00:00",
          "2011-01-19T00:00:00",
          "2011-01-20T00:00:00",
          "2011-01-21T00:00:00",
          "2011-01-23T00:00:00",
          "2011-01-24T00:00:00",
          "2011-01-25T00:00:00",
          "2011-01-26T00:00:00",
          "2011-01-27T00:00:00",
          "2011-01-28T00:00:00",
          "2011-01-30T00:00:00",
          "2011-01-31T00:00:00",
          "2011-02-01T00:00:00",
          "2011-02-02T00:00:00",
          "2011-02-03T00:00:00",
          "2011-02-04T00:00:00",
          "2011-02-06T00:00:00",
          "2011-02-07T00:00:00",
          "2011-02-08T00:00:00",
          "2011-02-09T00:00:00",
          "2011-02-10T00:00:00",
          "2011-02-11T00:00:00",
          "2011-02-13T00:00:00",
          "2011-02-14T00:00:00",
          "2011-02-15T00:00:00",
          "2011-02-16T00:00:00",
          "2011-02-17T00:00:00",
          "2011-02-18T00:00:00",
          "2011-02-20T00:00:00",
          "2011-02-21T00:00:00",
          "2011-02-22T00:00:00",
          "2011-02-23T00:00:00",
          "2011-02-24T00:00:00",
          "2011-02-25T00:00:00",
          "2011-02-27T00:00:00",
          "2011-02-28T00:00:00",
          "2011-03-01T00:00:00",
          "2011-03-02T00:00:00",
          "2011-03-03T00:00:00",
          "2011-03-04T00:00:00",
          "2011-03-06T00:00:00",
          "2011-03-07T00:00:00",
          "2011-03-08T00:00:00",
          "2011-03-09T00:00:00",
          "2011-03-10T00:00:00",
          "2011-03-11T00:00:00",
          "2011-03-13T00:00:00",
          "2011-03-14T00:00:00",
          "2011-03-15T00:00:00",
          "2011-03-16T00:00:00",
          "2011-03-17T00:00:00",
          "2011-03-18T00:00:00",
          "2011-03-20T00:00:00",
          "2011-03-21T00:00:00",
          "2011-03-22T00:00:00",
          "2011-03-23T00:00:00",
          "2011-03-24T00:00:00",
          "2011-03-25T00:00:00",
          "2011-03-27T00:00:00",
          "2011-03-28T00:00:00",
          "2011-03-29T00:00:00",
          "2011-03-30T00:00:00",
          "2011-03-31T00:00:00",
          "2011-04-01T00:00:00",
          "2011-04-03T00:00:00",
          "2011-04-04T00:00:00",
          "2011-04-05T00:00:00",
          "2011-04-06T00:00:00",
          "2011-04-07T00:00:00",
          "2011-04-08T00:00:00",
          "2011-04-10T00:00:00",
          "2011-04-11T00:00:00",
          "2011-04-12T00:00:00",
          "2011-04-13T00:00:00",
          "2011-04-14T00:00:00",
          "2011-04-15T00:00:00",
          "2011-04-17T00:00:00",
          "2011-04-18T00:00:00",
          "2011-04-19T00:00:00",
          "2011-04-20T00:00:00",
          "2011-04-21T00:00:00",
          "2011-04-26T00:00:00",
          "2011-04-27T00:00:00",
          "2011-04-28T00:00:00",
          "2011-05-01T00:00:00",
          "2011-05-03T00:00:00",
          "2011-05-04T00:00:00",
          "2011-05-05T00:00:00",
          "2011-05-06T00:00:00",
          "2011-05-08T00:00:00",
          "2011-05-09T00:00:00",
          "2011-05-10T00:00:00",
          "2011-05-11T00:00:00",
          "2011-05-12T00:00:00",
          "2011-05-13T00:00:00",
          "2011-05-15T00:00:00",
          "2011-05-16T00:00:00",
          "2011-05-17T00:00:00",
          "2011-05-18T00:00:00",
          "2011-05-19T00:00:00",
          "2011-05-20T00:00:00",
          "2011-05-22T00:00:00",
          "2011-05-23T00:00:00",
          "2011-05-24T00:00:00",
          "2011-05-25T00:00:00",
          "2011-05-26T00:00:00",
          "2011-05-27T00:00:00",
          "2011-05-29T00:00:00",
          "2011-05-31T00:00:00",
          "2011-06-01T00:00:00",
          "2011-06-02T00:00:00",
          "2011-06-03T00:00:00",
          "2011-06-05T00:00:00",
          "2011-06-06T00:00:00",
          "2011-06-07T00:00:00",
          "2011-06-08T00:00:00",
          "2011-06-09T00:00:00",
          "2011-06-10T00:00:00",
          "2011-06-12T00:00:00",
          "2011-06-13T00:00:00",
          "2011-06-14T00:00:00",
          "2011-06-15T00:00:00",
          "2011-06-16T00:00:00",
          "2011-06-17T00:00:00",
          "2011-06-19T00:00:00",
          "2011-06-20T00:00:00",
          "2011-06-21T00:00:00",
          "2011-06-22T00:00:00",
          "2011-06-23T00:00:00",
          "2011-06-24T00:00:00",
          "2011-06-26T00:00:00",
          "2011-06-27T00:00:00",
          "2011-06-28T00:00:00",
          "2011-06-29T00:00:00",
          "2011-06-30T00:00:00",
          "2011-07-01T00:00:00",
          "2011-07-03T00:00:00",
          "2011-07-04T00:00:00",
          "2011-07-05T00:00:00",
          "2011-07-06T00:00:00",
          "2011-07-07T00:00:00",
          "2011-07-08T00:00:00",
          "2011-07-10T00:00:00",
          "2011-07-11T00:00:00",
          "2011-07-12T00:00:00",
          "2011-07-13T00:00:00",
          "2011-07-14T00:00:00",
          "2011-07-15T00:00:00",
          "2011-07-17T00:00:00",
          "2011-07-18T00:00:00",
          "2011-07-19T00:00:00",
          "2011-07-20T00:00:00",
          "2011-07-21T00:00:00",
          "2011-07-22T00:00:00",
          "2011-07-24T00:00:00",
          "2011-07-25T00:00:00",
          "2011-07-26T00:00:00",
          "2011-07-27T00:00:00",
          "2011-07-28T00:00:00",
          "2011-07-29T00:00:00",
          "2011-07-31T00:00:00",
          "2011-08-01T00:00:00",
          "2011-08-02T00:00:00",
          "2011-08-03T00:00:00",
          "2011-08-04T00:00:00",
          "2011-08-05T00:00:00",
          "2011-08-07T00:00:00",
          "2011-08-08T00:00:00",
          "2011-08-09T00:00:00",
          "2011-08-10T00:00:00",
          "2011-08-11T00:00:00",
          "2011-08-12T00:00:00",
          "2011-08-14T00:00:00",
          "2011-08-15T00:00:00",
          "2011-08-16T00:00:00",
          "2011-08-17T00:00:00",
          "2011-08-18T00:00:00",
          "2011-08-19T00:00:00",
          "2011-08-21T00:00:00",
          "2011-08-22T00:00:00",
          "2011-08-23T00:00:00",
          "2011-08-24T00:00:00",
          "2011-08-25T00:00:00",
          "2011-08-26T00:00:00",
          "2011-08-28T00:00:00",
          "2011-08-30T00:00:00",
          "2011-08-31T00:00:00",
          "2011-09-01T00:00:00",
          "2011-09-02T00:00:00",
          "2011-09-04T00:00:00",
          "2011-09-05T00:00:00",
          "2011-09-06T00:00:00",
          "2011-09-07T00:00:00",
          "2011-09-08T00:00:00",
          "2011-09-09T00:00:00",
          "2011-09-11T00:00:00",
          "2011-09-12T00:00:00",
          "2011-09-13T00:00:00",
          "2011-09-14T00:00:00",
          "2011-09-15T00:00:00",
          "2011-09-16T00:00:00",
          "2011-09-18T00:00:00",
          "2011-09-19T00:00:00",
          "2011-09-20T00:00:00",
          "2011-09-21T00:00:00",
          "2011-09-22T00:00:00",
          "2011-09-23T00:00:00",
          "2011-09-25T00:00:00",
          "2011-09-26T00:00:00",
          "2011-09-27T00:00:00",
          "2011-09-28T00:00:00",
          "2011-09-29T00:00:00",
          "2011-09-30T00:00:00",
          "2011-10-02T00:00:00",
          "2011-10-03T00:00:00",
          "2011-10-04T00:00:00",
          "2011-10-05T00:00:00",
          "2011-10-06T00:00:00",
          "2011-10-07T00:00:00",
          "2011-10-09T00:00:00",
          "2011-10-10T00:00:00",
          "2011-10-11T00:00:00",
          "2011-10-12T00:00:00",
          "2011-10-13T00:00:00",
          "2011-10-14T00:00:00",
          "2011-10-16T00:00:00",
          "2011-10-17T00:00:00",
          "2011-10-18T00:00:00",
          "2011-10-19T00:00:00",
          "2011-10-20T00:00:00",
          "2011-10-21T00:00:00",
          "2011-10-23T00:00:00",
          "2011-10-24T00:00:00",
          "2011-10-25T00:00:00",
          "2011-10-26T00:00:00",
          "2011-10-27T00:00:00",
          "2011-10-28T00:00:00",
          "2011-10-30T00:00:00",
          "2011-10-31T00:00:00",
          "2011-11-01T00:00:00",
          "2011-11-02T00:00:00",
          "2011-11-03T00:00:00",
          "2011-11-04T00:00:00",
          "2011-11-06T00:00:00",
          "2011-11-07T00:00:00",
          "2011-11-08T00:00:00",
          "2011-11-09T00:00:00",
          "2011-11-10T00:00:00",
          "2011-11-11T00:00:00",
          "2011-11-13T00:00:00",
          "2011-11-14T00:00:00",
          "2011-11-15T00:00:00",
          "2011-11-16T00:00:00",
          "2011-11-17T00:00:00",
          "2011-11-18T00:00:00",
          "2011-11-20T00:00:00",
          "2011-11-21T00:00:00",
          "2011-11-22T00:00:00",
          "2011-11-23T00:00:00",
          "2011-11-24T00:00:00",
          "2011-11-25T00:00:00",
          "2011-11-27T00:00:00",
          "2011-11-28T00:00:00",
          "2011-11-29T00:00:00",
          "2011-11-30T00:00:00",
          "2011-12-01T00:00:00",
          "2011-12-02T00:00:00",
          "2011-12-04T00:00:00",
          "2011-12-05T00:00:00",
          "2011-12-06T00:00:00",
          "2011-12-07T00:00:00",
          "2011-12-08T00:00:00",
          "2011-12-09T00:00:00"
         ],
         "xaxis": "x",
         "y": [
          46376.49,
          47316.53,
          23921.71,
          31771.6,
          31215.64,
          53795.31,
          39248.82,
          38231.9,
          33650.28,
          17305.77,
          27642.68,
          29322.3,
          30311.72,
          49030.08,
          20046.56,
          7417.39,
          19621.96,
          15951.66,
          4886.52,
          5648.97,
          12125.460000000001,
          28803.63,
          34360.19,
          23797.79,
          15778.2,
          15346.83,
          60268.78,
          17153.94,
          15171.31,
          39532.02,
          7242.06,
          16597.35,
          87589.11,
          21646.78,
          15244.73,
          24279.76,
          10400.25,
          17632.37,
          24119.3,
          17490.82,
          22157.03,
          17273.5,
          6615.75,
          18818.08,
          26376.5,
          17145.23,
          22184,
          18114.31,
          3457.11,
          23415.01,
          14168.03,
          11920.78,
          14198.51,
          18599.46,
          5713.63,
          23003.99,
          37784.65,
          23499.22,
          17674.79,
          14463.06,
          9624.69,
          32801.73,
          29160.48,
          19348.07,
          21472.89,
          18377.69,
          9526.5,
          15107.02,
          23631.87,
          18686.99,
          32855.05,
          17322.47,
          9997.42,
          20285.68,
          22230.61,
          20345.87,
          24431.72,
          20896,
          4148.12,
          26009.25,
          14936.43,
          21820.66,
          32028.94,
          23398.74,
          20084.8,
          16051.05,
          19064.29,
          21578.8,
          36697.14,
          27302.75,
          9224.4,
          20005.16,
          37190.52,
          29587.420000000002,
          25688.61,
          24586.82,
          6918.5,
          29017.77,
          28759.37,
          12722.32,
          16827.77,
          22720.71,
          9913.98,
          20184.14,
          24023.96,
          24484.420000000002,
          35702.7,
          18021.481,
          12725.5,
          43713.56,
          18853.04,
          25718.95,
          27804.47,
          21584.41,
          23593.2,
          21323.29,
          6973.66,
          28910.41,
          27532,
          25232.67,
          30786.7,
          18867.4,
          21624.41,
          29870.7,
          31887.7,
          59901.56,
          25885.83,
          9680.05,
          35706.7,
          46406.090000000004,
          32882.87,
          31553.51,
          25489.66,
          24231.09,
          31307.49,
          32462.48,
          21884.93,
          32764.38,
          21163.32,
          7394.3,
          18194.65,
          15390.89,
          28104.56,
          15042.26,
          25639.54,
          16290.98,
          33908.26,
          30192.13,
          42910.38,
          58245.12,
          12472.210000000001,
          19719.11,
          33334.47,
          45077.54,
          32307.77,
          19059.23,
          22442.18,
          26136.73,
          19850.66,
          21170.42,
          22556.81,
          16021.710000000001,
          7082.49,
          13412.2,
          30532.37,
          12570.63,
          41743.04,
          12189.29,
          6032.39,
          30985.170000000002,
          25992.260000000002,
          22960.48,
          27893.66,
          17558.3,
          5993.87,
          20080.03,
          17948.19,
          19432.85,
          32020.91,
          11857.3,
          16958.6,
          22018.36,
          46599.08,
          27076.97,
          30394.71,
          14633.77,
          26796.920000000002,
          19687.31,
          17293.001,
          22855.32,
          54198.37,
          17240.61,
          33393.29,
          19808.4,
          20277.05,
          26617.77,
          62079.61,
          19825.4,
          7576.96,
          19758.62,
          25957.12,
          19861.56,
          54386.17,
          17970.170000000002,
          5718.57,
          17243.97,
          16077.84,
          48769.64,
          54082.81,
          17339.59,
          14566.84,
          29623.18,
          22399.11,
          38617.01,
          22495.29,
          24111.64,
          10805.03,
          8833.710000000001,
          20540.84,
          37370.15,
          30297.05,
          17005.03,
          35698.7,
          25495.82,
          21967.420000000002,
          23188.3,
          25142.15,
          35511.67,
          27989.4,
          48162.25,
          22027.95,
          71993.67,
          23248.98,
          15745.73,
          46607.22,
          103435.81,
          38503.06,
          57869.36,
          31781.1,
          31372.661,
          29329.841,
          29274.36,
          39057.89,
          44729.37,
          40033.44,
          11582.95,
          62275.95,
          38690.2,
          74108.43,
          60387.8,
          49187.67,
          12466.81,
          43080.32,
          46436.77,
          27731.37,
          33039.18,
          32124.68,
          22010.96,
          47005.24,
          37302.4,
          37333.52,
          61064.06,
          60417.26,
          12339.16,
          39315.28,
          36235.95,
          34435.32,
          55837.14,
          37290.57,
          34571.23,
          33048.57,
          29132.81,
          38734.7,
          60672.11,
          56099.24,
          42941.340000000004,
          28779.24,
          38295.12,
          61489.18,
          70513.29,
          37081.37,
          28607.78,
          58777.71,
          47729,
          48439.76,
          55885.3,
          36751.25,
          30190.920000000002,
          45333.13,
          49664.89,
          71979.93,
          38579.11,
          26674.66,
          17300.96,
          51831.67,
          48851.68,
          41481.23,
          44533.99,
          44713.69,
          20375.96,
          58202.21,
          46144.04,
          69354.21,
          50519.41,
          184349.28
         ],
         "yaxis": "y"
        }
       ],
       "layout": {
        "legend": {
         "tracegroupgap": 0
        },
        "margin": {
         "t": 60
        },
        "paper_bgcolor": "lightgray",
        "plot_bgcolor": "lightblue",
        "template": {
         "data": {
          "bar": [
           {
            "error_x": {
             "color": "#2a3f5f"
            },
            "error_y": {
             "color": "#2a3f5f"
            },
            "marker": {
             "line": {
              "color": "#E5ECF6",
              "width": 0.5
             },
             "pattern": {
              "fillmode": "overlay",
              "size": 10,
              "solidity": 0.2
             }
            },
            "type": "bar"
           }
          ],
          "barpolar": [
           {
            "marker": {
             "line": {
              "color": "#E5ECF6",
              "width": 0.5
             },
             "pattern": {
              "fillmode": "overlay",
              "size": 10,
              "solidity": 0.2
             }
            },
            "type": "barpolar"
           }
          ],
          "carpet": [
           {
            "aaxis": {
             "endlinecolor": "#2a3f5f",
             "gridcolor": "white",
             "linecolor": "white",
             "minorgridcolor": "white",
             "startlinecolor": "#2a3f5f"
            },
            "baxis": {
             "endlinecolor": "#2a3f5f",
             "gridcolor": "white",
             "linecolor": "white",
             "minorgridcolor": "white",
             "startlinecolor": "#2a3f5f"
            },
            "type": "carpet"
           }
          ],
          "choropleth": [
           {
            "colorbar": {
             "outlinewidth": 0,
             "ticks": ""
            },
            "type": "choropleth"
           }
          ],
          "contour": [
           {
            "colorbar": {
             "outlinewidth": 0,
             "ticks": ""
            },
            "colorscale": [
             [
              0,
              "#0d0887"
             ],
             [
              0.1111111111111111,
              "#46039f"
             ],
             [
              0.2222222222222222,
              "#7201a8"
             ],
             [
              0.3333333333333333,
              "#9c179e"
             ],
             [
              0.4444444444444444,
              "#bd3786"
             ],
             [
              0.5555555555555556,
              "#d8576b"
             ],
             [
              0.6666666666666666,
              "#ed7953"
             ],
             [
              0.7777777777777778,
              "#fb9f3a"
             ],
             [
              0.8888888888888888,
              "#fdca26"
             ],
             [
              1,
              "#f0f921"
             ]
            ],
            "type": "contour"
           }
          ],
          "contourcarpet": [
           {
            "colorbar": {
             "outlinewidth": 0,
             "ticks": ""
            },
            "type": "contourcarpet"
           }
          ],
          "heatmap": [
           {
            "colorbar": {
             "outlinewidth": 0,
             "ticks": ""
            },
            "colorscale": [
             [
              0,
              "#0d0887"
             ],
             [
              0.1111111111111111,
              "#46039f"
             ],
             [
              0.2222222222222222,
              "#7201a8"
             ],
             [
              0.3333333333333333,
              "#9c179e"
             ],
             [
              0.4444444444444444,
              "#bd3786"
             ],
             [
              0.5555555555555556,
              "#d8576b"
             ],
             [
              0.6666666666666666,
              "#ed7953"
             ],
             [
              0.7777777777777778,
              "#fb9f3a"
             ],
             [
              0.8888888888888888,
              "#fdca26"
             ],
             [
              1,
              "#f0f921"
             ]
            ],
            "type": "heatmap"
           }
          ],
          "heatmapgl": [
           {
            "colorbar": {
             "outlinewidth": 0,
             "ticks": ""
            },
            "colorscale": [
             [
              0,
              "#0d0887"
             ],
             [
              0.1111111111111111,
              "#46039f"
             ],
             [
              0.2222222222222222,
              "#7201a8"
             ],
             [
              0.3333333333333333,
              "#9c179e"
             ],
             [
              0.4444444444444444,
              "#bd3786"
             ],
             [
              0.5555555555555556,
              "#d8576b"
             ],
             [
              0.6666666666666666,
              "#ed7953"
             ],
             [
              0.7777777777777778,
              "#fb9f3a"
             ],
             [
              0.8888888888888888,
              "#fdca26"
             ],
             [
              1,
              "#f0f921"
             ]
            ],
            "type": "heatmapgl"
           }
          ],
          "histogram": [
           {
            "marker": {
             "pattern": {
              "fillmode": "overlay",
              "size": 10,
              "solidity": 0.2
             }
            },
            "type": "histogram"
           }
          ],
          "histogram2d": [
           {
            "colorbar": {
             "outlinewidth": 0,
             "ticks": ""
            },
            "colorscale": [
             [
              0,
              "#0d0887"
             ],
             [
              0.1111111111111111,
              "#46039f"
             ],
             [
              0.2222222222222222,
              "#7201a8"
             ],
             [
              0.3333333333333333,
              "#9c179e"
             ],
             [
              0.4444444444444444,
              "#bd3786"
             ],
             [
              0.5555555555555556,
              "#d8576b"
             ],
             [
              0.6666666666666666,
              "#ed7953"
             ],
             [
              0.7777777777777778,
              "#fb9f3a"
             ],
             [
              0.8888888888888888,
              "#fdca26"
             ],
             [
              1,
              "#f0f921"
             ]
            ],
            "type": "histogram2d"
           }
          ],
          "histogram2dcontour": [
           {
            "colorbar": {
             "outlinewidth": 0,
             "ticks": ""
            },
            "colorscale": [
             [
              0,
              "#0d0887"
             ],
             [
              0.1111111111111111,
              "#46039f"
             ],
             [
              0.2222222222222222,
              "#7201a8"
             ],
             [
              0.3333333333333333,
              "#9c179e"
             ],
             [
              0.4444444444444444,
              "#bd3786"
             ],
             [
              0.5555555555555556,
              "#d8576b"
             ],
             [
              0.6666666666666666,
              "#ed7953"
             ],
             [
              0.7777777777777778,
              "#fb9f3a"
             ],
             [
              0.8888888888888888,
              "#fdca26"
             ],
             [
              1,
              "#f0f921"
             ]
            ],
            "type": "histogram2dcontour"
           }
          ],
          "mesh3d": [
           {
            "colorbar": {
             "outlinewidth": 0,
             "ticks": ""
            },
            "type": "mesh3d"
           }
          ],
          "parcoords": [
           {
            "line": {
             "colorbar": {
              "outlinewidth": 0,
              "ticks": ""
             }
            },
            "type": "parcoords"
           }
          ],
          "pie": [
           {
            "automargin": true,
            "type": "pie"
           }
          ],
          "scatter": [
           {
            "fillpattern": {
             "fillmode": "overlay",
             "size": 10,
             "solidity": 0.2
            },
            "type": "scatter"
           }
          ],
          "scatter3d": [
           {
            "line": {
             "colorbar": {
              "outlinewidth": 0,
              "ticks": ""
             }
            },
            "marker": {
             "colorbar": {
              "outlinewidth": 0,
              "ticks": ""
             }
            },
            "type": "scatter3d"
           }
          ],
          "scattercarpet": [
           {
            "marker": {
             "colorbar": {
              "outlinewidth": 0,
              "ticks": ""
             }
            },
            "type": "scattercarpet"
           }
          ],
          "scattergeo": [
           {
            "marker": {
             "colorbar": {
              "outlinewidth": 0,
              "ticks": ""
             }
            },
            "type": "scattergeo"
           }
          ],
          "scattergl": [
           {
            "marker": {
             "colorbar": {
              "outlinewidth": 0,
              "ticks": ""
             }
            },
            "type": "scattergl"
           }
          ],
          "scattermapbox": [
           {
            "marker": {
             "colorbar": {
              "outlinewidth": 0,
              "ticks": ""
             }
            },
            "type": "scattermapbox"
           }
          ],
          "scatterpolar": [
           {
            "marker": {
             "colorbar": {
              "outlinewidth": 0,
              "ticks": ""
             }
            },
            "type": "scatterpolar"
           }
          ],
          "scatterpolargl": [
           {
            "marker": {
             "colorbar": {
              "outlinewidth": 0,
              "ticks": ""
             }
            },
            "type": "scatterpolargl"
           }
          ],
          "scatterternary": [
           {
            "marker": {
             "colorbar": {
              "outlinewidth": 0,
              "ticks": ""
             }
            },
            "type": "scatterternary"
           }
          ],
          "surface": [
           {
            "colorbar": {
             "outlinewidth": 0,
             "ticks": ""
            },
            "colorscale": [
             [
              0,
              "#0d0887"
             ],
             [
              0.1111111111111111,
              "#46039f"
             ],
             [
              0.2222222222222222,
              "#7201a8"
             ],
             [
              0.3333333333333333,
              "#9c179e"
             ],
             [
              0.4444444444444444,
              "#bd3786"
             ],
             [
              0.5555555555555556,
              "#d8576b"
             ],
             [
              0.6666666666666666,
              "#ed7953"
             ],
             [
              0.7777777777777778,
              "#fb9f3a"
             ],
             [
              0.8888888888888888,
              "#fdca26"
             ],
             [
              1,
              "#f0f921"
             ]
            ],
            "type": "surface"
           }
          ],
          "table": [
           {
            "cells": {
             "fill": {
              "color": "#EBF0F8"
             },
             "line": {
              "color": "white"
             }
            },
            "header": {
             "fill": {
              "color": "#C8D4E3"
             },
             "line": {
              "color": "white"
             }
            },
            "type": "table"
           }
          ]
         },
         "layout": {
          "annotationdefaults": {
           "arrowcolor": "#2a3f5f",
           "arrowhead": 0,
           "arrowwidth": 1
          },
          "autotypenumbers": "strict",
          "coloraxis": {
           "colorbar": {
            "outlinewidth": 0,
            "ticks": ""
           }
          },
          "colorscale": {
           "diverging": [
            [
             0,
             "#8e0152"
            ],
            [
             0.1,
             "#c51b7d"
            ],
            [
             0.2,
             "#de77ae"
            ],
            [
             0.3,
             "#f1b6da"
            ],
            [
             0.4,
             "#fde0ef"
            ],
            [
             0.5,
             "#f7f7f7"
            ],
            [
             0.6,
             "#e6f5d0"
            ],
            [
             0.7,
             "#b8e186"
            ],
            [
             0.8,
             "#7fbc41"
            ],
            [
             0.9,
             "#4d9221"
            ],
            [
             1,
             "#276419"
            ]
           ],
           "sequential": [
            [
             0,
             "#0d0887"
            ],
            [
             0.1111111111111111,
             "#46039f"
            ],
            [
             0.2222222222222222,
             "#7201a8"
            ],
            [
             0.3333333333333333,
             "#9c179e"
            ],
            [
             0.4444444444444444,
             "#bd3786"
            ],
            [
             0.5555555555555556,
             "#d8576b"
            ],
            [
             0.6666666666666666,
             "#ed7953"
            ],
            [
             0.7777777777777778,
             "#fb9f3a"
            ],
            [
             0.8888888888888888,
             "#fdca26"
            ],
            [
             1,
             "#f0f921"
            ]
           ],
           "sequentialminus": [
            [
             0,
             "#0d0887"
            ],
            [
             0.1111111111111111,
             "#46039f"
            ],
            [
             0.2222222222222222,
             "#7201a8"
            ],
            [
             0.3333333333333333,
             "#9c179e"
            ],
            [
             0.4444444444444444,
             "#bd3786"
            ],
            [
             0.5555555555555556,
             "#d8576b"
            ],
            [
             0.6666666666666666,
             "#ed7953"
            ],
            [
             0.7777777777777778,
             "#fb9f3a"
            ],
            [
             0.8888888888888888,
             "#fdca26"
            ],
            [
             1,
             "#f0f921"
            ]
           ]
          },
          "colorway": [
           "#636efa",
           "#EF553B",
           "#00cc96",
           "#ab63fa",
           "#FFA15A",
           "#19d3f3",
           "#FF6692",
           "#B6E880",
           "#FF97FF",
           "#FECB52"
          ],
          "font": {
           "color": "#2a3f5f"
          },
          "geo": {
           "bgcolor": "white",
           "lakecolor": "white",
           "landcolor": "#E5ECF6",
           "showlakes": true,
           "showland": true,
           "subunitcolor": "white"
          },
          "hoverlabel": {
           "align": "left"
          },
          "hovermode": "closest",
          "mapbox": {
           "style": "light"
          },
          "paper_bgcolor": "white",
          "plot_bgcolor": "#E5ECF6",
          "polar": {
           "angularaxis": {
            "gridcolor": "white",
            "linecolor": "white",
            "ticks": ""
           },
           "bgcolor": "#E5ECF6",
           "radialaxis": {
            "gridcolor": "white",
            "linecolor": "white",
            "ticks": ""
           }
          },
          "scene": {
           "xaxis": {
            "backgroundcolor": "#E5ECF6",
            "gridcolor": "white",
            "gridwidth": 2,
            "linecolor": "white",
            "showbackground": true,
            "ticks": "",
            "zerolinecolor": "white"
           },
           "yaxis": {
            "backgroundcolor": "#E5ECF6",
            "gridcolor": "white",
            "gridwidth": 2,
            "linecolor": "white",
            "showbackground": true,
            "ticks": "",
            "zerolinecolor": "white"
           },
           "zaxis": {
            "backgroundcolor": "#E5ECF6",
            "gridcolor": "white",
            "gridwidth": 2,
            "linecolor": "white",
            "showbackground": true,
            "ticks": "",
            "zerolinecolor": "white"
           }
          },
          "shapedefaults": {
           "line": {
            "color": "#2a3f5f"
           }
          },
          "ternary": {
           "aaxis": {
            "gridcolor": "white",
            "linecolor": "white",
            "ticks": ""
           },
           "baxis": {
            "gridcolor": "white",
            "linecolor": "white",
            "ticks": ""
           },
           "bgcolor": "#E5ECF6",
           "caxis": {
            "gridcolor": "white",
            "linecolor": "white",
            "ticks": ""
           }
          },
          "title": {
           "x": 0.05
          },
          "xaxis": {
           "automargin": true,
           "gridcolor": "white",
           "linecolor": "white",
           "ticks": "",
           "title": {
            "standoff": 15
           },
           "zerolinecolor": "white",
           "zerolinewidth": 2
          },
          "yaxis": {
           "automargin": true,
           "gridcolor": "white",
           "linecolor": "white",
           "ticks": "",
           "title": {
            "standoff": 15
           },
           "zerolinecolor": "white",
           "zerolinewidth": 2
          }
         }
        },
        "title": {
         "text": "일별 매출 추이"
        },
        "xaxis": {
         "anchor": "y",
         "domain": [
          0,
          1
         ],
         "title": {
          "text": "날짜"
         }
        },
        "yaxis": {
         "anchor": "x",
         "domain": [
          0,
          1
         ],
         "title": {
          "text": "매출"
         }
        }
       }
      }
     },
     "metadata": {},
     "output_type": "display_data"
    }
   ],
   "source": [
    "amount_by_day = df.groupby(['date_ymd'],as_index=False)[['amount']].agg('sum')\n",
    "fig = px.line(amount_by_day,x='date_ymd',y='amount',\n",
    "              hover_data={'date_ymd':'|%Y년 %m월 %d일','amount':':.2f'},\n",
    "              labels={'date_ymd':'날짜','amount':'매출'},\n",
    "              )\n",
    "fig.update_traces(line={'color':'red'})\n",
    "fig.update_layout(xaxis_title='날짜',yaxis_title='매출',title='일별 매출 추이',\n",
    "                plot_bgcolor='lightblue',paper_bgcolor='lightgray')"
   ]
  },
  {
   "cell_type": "code",
   "execution_count": 46,
   "metadata": {},
   "outputs": [
    {
     "name": "stderr",
     "output_type": "stream",
     "text": [
      "c:\\Users\\kd010\\miniconda3\\envs\\rapids\\Lib\\site-packages\\_plotly_utils\\basevalidators.py:106: FutureWarning:\n",
      "\n",
      "The behavior of DatetimeProperties.to_pydatetime is deprecated, in a future version this will return a Series containing python datetime objects instead of an ndarray. To retain the old behavior, call `np.array` on the result\n",
      "\n"
     ]
    },
    {
     "data": {
      "application/vnd.plotly.v1+json": {
       "config": {
        "plotlyServerURL": "https://plot.ly"
       },
       "data": [
        {
         "hovertemplate": "날짜=%{x|%Y년 %m월 %d일}<br>주문고객수=%{y}<extra></extra>",
         "legendgroup": "",
         "line": {
          "color": "red",
          "dash": "solid"
         },
         "marker": {
          "symbol": "circle"
         },
         "mode": "lines",
         "name": "",
         "orientation": "v",
         "showlegend": false,
         "type": "scatter",
         "x": [
          "2010-12-01T00:00:00",
          "2010-12-02T00:00:00",
          "2010-12-03T00:00:00",
          "2010-12-05T00:00:00",
          "2010-12-06T00:00:00",
          "2010-12-07T00:00:00",
          "2010-12-08T00:00:00",
          "2010-12-09T00:00:00",
          "2010-12-10T00:00:00",
          "2010-12-12T00:00:00",
          "2010-12-13T00:00:00",
          "2010-12-14T00:00:00",
          "2010-12-15T00:00:00",
          "2010-12-16T00:00:00",
          "2010-12-17T00:00:00",
          "2010-12-19T00:00:00",
          "2010-12-20T00:00:00",
          "2010-12-21T00:00:00",
          "2010-12-22T00:00:00",
          "2010-12-23T00:00:00",
          "2011-01-04T00:00:00",
          "2011-01-05T00:00:00",
          "2011-01-06T00:00:00",
          "2011-01-07T00:00:00",
          "2011-01-09T00:00:00",
          "2011-01-10T00:00:00",
          "2011-01-11T00:00:00",
          "2011-01-12T00:00:00",
          "2011-01-13T00:00:00",
          "2011-01-14T00:00:00",
          "2011-01-16T00:00:00",
          "2011-01-17T00:00:00",
          "2011-01-18T00:00:00",
          "2011-01-19T00:00:00",
          "2011-01-20T00:00:00",
          "2011-01-21T00:00:00",
          "2011-01-23T00:00:00",
          "2011-01-24T00:00:00",
          "2011-01-25T00:00:00",
          "2011-01-26T00:00:00",
          "2011-01-27T00:00:00",
          "2011-01-28T00:00:00",
          "2011-01-30T00:00:00",
          "2011-01-31T00:00:00",
          "2011-02-01T00:00:00",
          "2011-02-02T00:00:00",
          "2011-02-03T00:00:00",
          "2011-02-04T00:00:00",
          "2011-02-06T00:00:00",
          "2011-02-07T00:00:00",
          "2011-02-08T00:00:00",
          "2011-02-09T00:00:00",
          "2011-02-10T00:00:00",
          "2011-02-11T00:00:00",
          "2011-02-13T00:00:00",
          "2011-02-14T00:00:00",
          "2011-02-15T00:00:00",
          "2011-02-16T00:00:00",
          "2011-02-17T00:00:00",
          "2011-02-18T00:00:00",
          "2011-02-20T00:00:00",
          "2011-02-21T00:00:00",
          "2011-02-22T00:00:00",
          "2011-02-23T00:00:00",
          "2011-02-24T00:00:00",
          "2011-02-25T00:00:00",
          "2011-02-27T00:00:00",
          "2011-02-28T00:00:00",
          "2011-03-01T00:00:00",
          "2011-03-02T00:00:00",
          "2011-03-03T00:00:00",
          "2011-03-04T00:00:00",
          "2011-03-06T00:00:00",
          "2011-03-07T00:00:00",
          "2011-03-08T00:00:00",
          "2011-03-09T00:00:00",
          "2011-03-10T00:00:00",
          "2011-03-11T00:00:00",
          "2011-03-13T00:00:00",
          "2011-03-14T00:00:00",
          "2011-03-15T00:00:00",
          "2011-03-16T00:00:00",
          "2011-03-17T00:00:00",
          "2011-03-18T00:00:00",
          "2011-03-20T00:00:00",
          "2011-03-21T00:00:00",
          "2011-03-22T00:00:00",
          "2011-03-23T00:00:00",
          "2011-03-24T00:00:00",
          "2011-03-25T00:00:00",
          "2011-03-27T00:00:00",
          "2011-03-28T00:00:00",
          "2011-03-29T00:00:00",
          "2011-03-30T00:00:00",
          "2011-03-31T00:00:00",
          "2011-04-01T00:00:00",
          "2011-04-03T00:00:00",
          "2011-04-04T00:00:00",
          "2011-04-05T00:00:00",
          "2011-04-06T00:00:00",
          "2011-04-07T00:00:00",
          "2011-04-08T00:00:00",
          "2011-04-10T00:00:00",
          "2011-04-11T00:00:00",
          "2011-04-12T00:00:00",
          "2011-04-13T00:00:00",
          "2011-04-14T00:00:00",
          "2011-04-15T00:00:00",
          "2011-04-17T00:00:00",
          "2011-04-18T00:00:00",
          "2011-04-19T00:00:00",
          "2011-04-20T00:00:00",
          "2011-04-21T00:00:00",
          "2011-04-26T00:00:00",
          "2011-04-27T00:00:00",
          "2011-04-28T00:00:00",
          "2011-05-01T00:00:00",
          "2011-05-03T00:00:00",
          "2011-05-04T00:00:00",
          "2011-05-05T00:00:00",
          "2011-05-06T00:00:00",
          "2011-05-08T00:00:00",
          "2011-05-09T00:00:00",
          "2011-05-10T00:00:00",
          "2011-05-11T00:00:00",
          "2011-05-12T00:00:00",
          "2011-05-13T00:00:00",
          "2011-05-15T00:00:00",
          "2011-05-16T00:00:00",
          "2011-05-17T00:00:00",
          "2011-05-18T00:00:00",
          "2011-05-19T00:00:00",
          "2011-05-20T00:00:00",
          "2011-05-22T00:00:00",
          "2011-05-23T00:00:00",
          "2011-05-24T00:00:00",
          "2011-05-25T00:00:00",
          "2011-05-26T00:00:00",
          "2011-05-27T00:00:00",
          "2011-05-29T00:00:00",
          "2011-05-31T00:00:00",
          "2011-06-01T00:00:00",
          "2011-06-02T00:00:00",
          "2011-06-03T00:00:00",
          "2011-06-05T00:00:00",
          "2011-06-06T00:00:00",
          "2011-06-07T00:00:00",
          "2011-06-08T00:00:00",
          "2011-06-09T00:00:00",
          "2011-06-10T00:00:00",
          "2011-06-12T00:00:00",
          "2011-06-13T00:00:00",
          "2011-06-14T00:00:00",
          "2011-06-15T00:00:00",
          "2011-06-16T00:00:00",
          "2011-06-17T00:00:00",
          "2011-06-19T00:00:00",
          "2011-06-20T00:00:00",
          "2011-06-21T00:00:00",
          "2011-06-22T00:00:00",
          "2011-06-23T00:00:00",
          "2011-06-24T00:00:00",
          "2011-06-26T00:00:00",
          "2011-06-27T00:00:00",
          "2011-06-28T00:00:00",
          "2011-06-29T00:00:00",
          "2011-06-30T00:00:00",
          "2011-07-01T00:00:00",
          "2011-07-03T00:00:00",
          "2011-07-04T00:00:00",
          "2011-07-05T00:00:00",
          "2011-07-06T00:00:00",
          "2011-07-07T00:00:00",
          "2011-07-08T00:00:00",
          "2011-07-10T00:00:00",
          "2011-07-11T00:00:00",
          "2011-07-12T00:00:00",
          "2011-07-13T00:00:00",
          "2011-07-14T00:00:00",
          "2011-07-15T00:00:00",
          "2011-07-17T00:00:00",
          "2011-07-18T00:00:00",
          "2011-07-19T00:00:00",
          "2011-07-20T00:00:00",
          "2011-07-21T00:00:00",
          "2011-07-22T00:00:00",
          "2011-07-24T00:00:00",
          "2011-07-25T00:00:00",
          "2011-07-26T00:00:00",
          "2011-07-27T00:00:00",
          "2011-07-28T00:00:00",
          "2011-07-29T00:00:00",
          "2011-07-31T00:00:00",
          "2011-08-01T00:00:00",
          "2011-08-02T00:00:00",
          "2011-08-03T00:00:00",
          "2011-08-04T00:00:00",
          "2011-08-05T00:00:00",
          "2011-08-07T00:00:00",
          "2011-08-08T00:00:00",
          "2011-08-09T00:00:00",
          "2011-08-10T00:00:00",
          "2011-08-11T00:00:00",
          "2011-08-12T00:00:00",
          "2011-08-14T00:00:00",
          "2011-08-15T00:00:00",
          "2011-08-16T00:00:00",
          "2011-08-17T00:00:00",
          "2011-08-18T00:00:00",
          "2011-08-19T00:00:00",
          "2011-08-21T00:00:00",
          "2011-08-22T00:00:00",
          "2011-08-23T00:00:00",
          "2011-08-24T00:00:00",
          "2011-08-25T00:00:00",
          "2011-08-26T00:00:00",
          "2011-08-28T00:00:00",
          "2011-08-30T00:00:00",
          "2011-08-31T00:00:00",
          "2011-09-01T00:00:00",
          "2011-09-02T00:00:00",
          "2011-09-04T00:00:00",
          "2011-09-05T00:00:00",
          "2011-09-06T00:00:00",
          "2011-09-07T00:00:00",
          "2011-09-08T00:00:00",
          "2011-09-09T00:00:00",
          "2011-09-11T00:00:00",
          "2011-09-12T00:00:00",
          "2011-09-13T00:00:00",
          "2011-09-14T00:00:00",
          "2011-09-15T00:00:00",
          "2011-09-16T00:00:00",
          "2011-09-18T00:00:00",
          "2011-09-19T00:00:00",
          "2011-09-20T00:00:00",
          "2011-09-21T00:00:00",
          "2011-09-22T00:00:00",
          "2011-09-23T00:00:00",
          "2011-09-25T00:00:00",
          "2011-09-26T00:00:00",
          "2011-09-27T00:00:00",
          "2011-09-28T00:00:00",
          "2011-09-29T00:00:00",
          "2011-09-30T00:00:00",
          "2011-10-02T00:00:00",
          "2011-10-03T00:00:00",
          "2011-10-04T00:00:00",
          "2011-10-05T00:00:00",
          "2011-10-06T00:00:00",
          "2011-10-07T00:00:00",
          "2011-10-09T00:00:00",
          "2011-10-10T00:00:00",
          "2011-10-11T00:00:00",
          "2011-10-12T00:00:00",
          "2011-10-13T00:00:00",
          "2011-10-14T00:00:00",
          "2011-10-16T00:00:00",
          "2011-10-17T00:00:00",
          "2011-10-18T00:00:00",
          "2011-10-19T00:00:00",
          "2011-10-20T00:00:00",
          "2011-10-21T00:00:00",
          "2011-10-23T00:00:00",
          "2011-10-24T00:00:00",
          "2011-10-25T00:00:00",
          "2011-10-26T00:00:00",
          "2011-10-27T00:00:00",
          "2011-10-28T00:00:00",
          "2011-10-30T00:00:00",
          "2011-10-31T00:00:00",
          "2011-11-01T00:00:00",
          "2011-11-02T00:00:00",
          "2011-11-03T00:00:00",
          "2011-11-04T00:00:00",
          "2011-11-06T00:00:00",
          "2011-11-07T00:00:00",
          "2011-11-08T00:00:00",
          "2011-11-09T00:00:00",
          "2011-11-10T00:00:00",
          "2011-11-11T00:00:00",
          "2011-11-13T00:00:00",
          "2011-11-14T00:00:00",
          "2011-11-15T00:00:00",
          "2011-11-16T00:00:00",
          "2011-11-17T00:00:00",
          "2011-11-18T00:00:00",
          "2011-11-20T00:00:00",
          "2011-11-21T00:00:00",
          "2011-11-22T00:00:00",
          "2011-11-23T00:00:00",
          "2011-11-24T00:00:00",
          "2011-11-25T00:00:00",
          "2011-11-27T00:00:00",
          "2011-11-28T00:00:00",
          "2011-11-29T00:00:00",
          "2011-11-30T00:00:00",
          "2011-12-01T00:00:00",
          "2011-12-02T00:00:00",
          "2011-12-04T00:00:00",
          "2011-12-05T00:00:00",
          "2011-12-06T00:00:00",
          "2011-12-07T00:00:00",
          "2011-12-08T00:00:00",
          "2011-12-09T00:00:00"
         ],
         "xaxis": "x",
         "y": [
          95,
          99,
          50,
          75,
          82,
          65,
          99,
          90,
          53,
          42,
          59,
          73,
          66,
          98,
          51,
          17,
          41,
          23,
          13,
          15,
          34,
          45,
          45,
          45,
          48,
          32,
          47,
          42,
          41,
          37,
          22,
          45,
          31,
          33,
          30,
          32,
          27,
          43,
          57,
          49,
          50,
          36,
          22,
          50,
          57,
          55,
          44,
          41,
          11,
          35,
          37,
          22,
          40,
          34,
          20,
          36,
          47,
          56,
          50,
          34,
          26,
          31,
          47,
          49,
          52,
          42,
          31,
          49,
          52,
          40,
          46,
          38,
          24,
          49,
          41,
          47,
          46,
          42,
          16,
          41,
          40,
          46,
          51,
          48,
          56,
          47,
          40,
          55,
          63,
          45,
          31,
          52,
          46,
          63,
          57,
          59,
          18,
          49,
          45,
          36,
          57,
          63,
          31,
          54,
          54,
          54,
          75,
          40,
          39,
          56,
          52,
          58,
          64,
          55,
          56,
          49,
          18,
          50,
          55,
          76,
          64,
          58,
          59,
          63,
          56,
          68,
          52,
          29,
          52,
          56,
          62,
          82,
          58,
          57,
          55,
          53,
          52,
          50,
          49,
          20,
          48,
          35,
          33,
          37,
          62,
          54,
          68,
          71,
          76,
          41,
          38,
          49,
          42,
          42,
          74,
          35,
          57,
          49,
          45,
          55,
          64,
          40,
          24,
          31,
          41,
          36,
          55,
          35,
          24,
          32,
          58,
          61,
          67,
          42,
          20,
          43,
          41,
          50,
          61,
          34,
          45,
          45,
          57,
          47,
          59,
          34,
          53,
          49,
          44,
          39,
          68,
          57,
          37,
          35,
          39,
          59,
          76,
          47,
          28,
          38,
          38,
          42,
          58,
          40,
          21,
          46,
          44,
          45,
          64,
          54,
          36,
          57,
          56,
          59,
          68,
          41,
          36,
          23,
          39,
          69,
          58,
          45,
          57,
          54,
          42,
          63,
          52,
          68,
          62,
          61,
          58,
          70,
          44,
          25,
          63,
          53,
          65,
          94,
          56,
          74,
          62,
          68,
          72,
          93,
          60,
          32,
          48,
          65,
          82,
          98,
          74,
          35,
          83,
          69,
          73,
          67,
          61,
          32,
          76,
          73,
          71,
          76,
          56,
          39,
          61,
          65,
          77,
          91,
          60,
          88,
          61,
          74,
          79,
          86,
          73,
          88,
          81,
          95,
          101,
          112,
          87,
          75,
          93,
          93,
          111,
          125,
          98,
          91,
          85,
          120,
          107,
          98,
          70,
          51,
          97,
          109,
          92,
          111,
          95,
          58,
          105,
          103,
          94,
          105,
          35
         ],
         "yaxis": "y"
        }
       ],
       "layout": {
        "legend": {
         "tracegroupgap": 0
        },
        "margin": {
         "t": 60
        },
        "paper_bgcolor": "lightgray",
        "plot_bgcolor": "lightblue",
        "template": {
         "data": {
          "bar": [
           {
            "error_x": {
             "color": "#2a3f5f"
            },
            "error_y": {
             "color": "#2a3f5f"
            },
            "marker": {
             "line": {
              "color": "#E5ECF6",
              "width": 0.5
             },
             "pattern": {
              "fillmode": "overlay",
              "size": 10,
              "solidity": 0.2
             }
            },
            "type": "bar"
           }
          ],
          "barpolar": [
           {
            "marker": {
             "line": {
              "color": "#E5ECF6",
              "width": 0.5
             },
             "pattern": {
              "fillmode": "overlay",
              "size": 10,
              "solidity": 0.2
             }
            },
            "type": "barpolar"
           }
          ],
          "carpet": [
           {
            "aaxis": {
             "endlinecolor": "#2a3f5f",
             "gridcolor": "white",
             "linecolor": "white",
             "minorgridcolor": "white",
             "startlinecolor": "#2a3f5f"
            },
            "baxis": {
             "endlinecolor": "#2a3f5f",
             "gridcolor": "white",
             "linecolor": "white",
             "minorgridcolor": "white",
             "startlinecolor": "#2a3f5f"
            },
            "type": "carpet"
           }
          ],
          "choropleth": [
           {
            "colorbar": {
             "outlinewidth": 0,
             "ticks": ""
            },
            "type": "choropleth"
           }
          ],
          "contour": [
           {
            "colorbar": {
             "outlinewidth": 0,
             "ticks": ""
            },
            "colorscale": [
             [
              0,
              "#0d0887"
             ],
             [
              0.1111111111111111,
              "#46039f"
             ],
             [
              0.2222222222222222,
              "#7201a8"
             ],
             [
              0.3333333333333333,
              "#9c179e"
             ],
             [
              0.4444444444444444,
              "#bd3786"
             ],
             [
              0.5555555555555556,
              "#d8576b"
             ],
             [
              0.6666666666666666,
              "#ed7953"
             ],
             [
              0.7777777777777778,
              "#fb9f3a"
             ],
             [
              0.8888888888888888,
              "#fdca26"
             ],
             [
              1,
              "#f0f921"
             ]
            ],
            "type": "contour"
           }
          ],
          "contourcarpet": [
           {
            "colorbar": {
             "outlinewidth": 0,
             "ticks": ""
            },
            "type": "contourcarpet"
           }
          ],
          "heatmap": [
           {
            "colorbar": {
             "outlinewidth": 0,
             "ticks": ""
            },
            "colorscale": [
             [
              0,
              "#0d0887"
             ],
             [
              0.1111111111111111,
              "#46039f"
             ],
             [
              0.2222222222222222,
              "#7201a8"
             ],
             [
              0.3333333333333333,
              "#9c179e"
             ],
             [
              0.4444444444444444,
              "#bd3786"
             ],
             [
              0.5555555555555556,
              "#d8576b"
             ],
             [
              0.6666666666666666,
              "#ed7953"
             ],
             [
              0.7777777777777778,
              "#fb9f3a"
             ],
             [
              0.8888888888888888,
              "#fdca26"
             ],
             [
              1,
              "#f0f921"
             ]
            ],
            "type": "heatmap"
           }
          ],
          "heatmapgl": [
           {
            "colorbar": {
             "outlinewidth": 0,
             "ticks": ""
            },
            "colorscale": [
             [
              0,
              "#0d0887"
             ],
             [
              0.1111111111111111,
              "#46039f"
             ],
             [
              0.2222222222222222,
              "#7201a8"
             ],
             [
              0.3333333333333333,
              "#9c179e"
             ],
             [
              0.4444444444444444,
              "#bd3786"
             ],
             [
              0.5555555555555556,
              "#d8576b"
             ],
             [
              0.6666666666666666,
              "#ed7953"
             ],
             [
              0.7777777777777778,
              "#fb9f3a"
             ],
             [
              0.8888888888888888,
              "#fdca26"
             ],
             [
              1,
              "#f0f921"
             ]
            ],
            "type": "heatmapgl"
           }
          ],
          "histogram": [
           {
            "marker": {
             "pattern": {
              "fillmode": "overlay",
              "size": 10,
              "solidity": 0.2
             }
            },
            "type": "histogram"
           }
          ],
          "histogram2d": [
           {
            "colorbar": {
             "outlinewidth": 0,
             "ticks": ""
            },
            "colorscale": [
             [
              0,
              "#0d0887"
             ],
             [
              0.1111111111111111,
              "#46039f"
             ],
             [
              0.2222222222222222,
              "#7201a8"
             ],
             [
              0.3333333333333333,
              "#9c179e"
             ],
             [
              0.4444444444444444,
              "#bd3786"
             ],
             [
              0.5555555555555556,
              "#d8576b"
             ],
             [
              0.6666666666666666,
              "#ed7953"
             ],
             [
              0.7777777777777778,
              "#fb9f3a"
             ],
             [
              0.8888888888888888,
              "#fdca26"
             ],
             [
              1,
              "#f0f921"
             ]
            ],
            "type": "histogram2d"
           }
          ],
          "histogram2dcontour": [
           {
            "colorbar": {
             "outlinewidth": 0,
             "ticks": ""
            },
            "colorscale": [
             [
              0,
              "#0d0887"
             ],
             [
              0.1111111111111111,
              "#46039f"
             ],
             [
              0.2222222222222222,
              "#7201a8"
             ],
             [
              0.3333333333333333,
              "#9c179e"
             ],
             [
              0.4444444444444444,
              "#bd3786"
             ],
             [
              0.5555555555555556,
              "#d8576b"
             ],
             [
              0.6666666666666666,
              "#ed7953"
             ],
             [
              0.7777777777777778,
              "#fb9f3a"
             ],
             [
              0.8888888888888888,
              "#fdca26"
             ],
             [
              1,
              "#f0f921"
             ]
            ],
            "type": "histogram2dcontour"
           }
          ],
          "mesh3d": [
           {
            "colorbar": {
             "outlinewidth": 0,
             "ticks": ""
            },
            "type": "mesh3d"
           }
          ],
          "parcoords": [
           {
            "line": {
             "colorbar": {
              "outlinewidth": 0,
              "ticks": ""
             }
            },
            "type": "parcoords"
           }
          ],
          "pie": [
           {
            "automargin": true,
            "type": "pie"
           }
          ],
          "scatter": [
           {
            "fillpattern": {
             "fillmode": "overlay",
             "size": 10,
             "solidity": 0.2
            },
            "type": "scatter"
           }
          ],
          "scatter3d": [
           {
            "line": {
             "colorbar": {
              "outlinewidth": 0,
              "ticks": ""
             }
            },
            "marker": {
             "colorbar": {
              "outlinewidth": 0,
              "ticks": ""
             }
            },
            "type": "scatter3d"
           }
          ],
          "scattercarpet": [
           {
            "marker": {
             "colorbar": {
              "outlinewidth": 0,
              "ticks": ""
             }
            },
            "type": "scattercarpet"
           }
          ],
          "scattergeo": [
           {
            "marker": {
             "colorbar": {
              "outlinewidth": 0,
              "ticks": ""
             }
            },
            "type": "scattergeo"
           }
          ],
          "scattergl": [
           {
            "marker": {
             "colorbar": {
              "outlinewidth": 0,
              "ticks": ""
             }
            },
            "type": "scattergl"
           }
          ],
          "scattermapbox": [
           {
            "marker": {
             "colorbar": {
              "outlinewidth": 0,
              "ticks": ""
             }
            },
            "type": "scattermapbox"
           }
          ],
          "scatterpolar": [
           {
            "marker": {
             "colorbar": {
              "outlinewidth": 0,
              "ticks": ""
             }
            },
            "type": "scatterpolar"
           }
          ],
          "scatterpolargl": [
           {
            "marker": {
             "colorbar": {
              "outlinewidth": 0,
              "ticks": ""
             }
            },
            "type": "scatterpolargl"
           }
          ],
          "scatterternary": [
           {
            "marker": {
             "colorbar": {
              "outlinewidth": 0,
              "ticks": ""
             }
            },
            "type": "scatterternary"
           }
          ],
          "surface": [
           {
            "colorbar": {
             "outlinewidth": 0,
             "ticks": ""
            },
            "colorscale": [
             [
              0,
              "#0d0887"
             ],
             [
              0.1111111111111111,
              "#46039f"
             ],
             [
              0.2222222222222222,
              "#7201a8"
             ],
             [
              0.3333333333333333,
              "#9c179e"
             ],
             [
              0.4444444444444444,
              "#bd3786"
             ],
             [
              0.5555555555555556,
              "#d8576b"
             ],
             [
              0.6666666666666666,
              "#ed7953"
             ],
             [
              0.7777777777777778,
              "#fb9f3a"
             ],
             [
              0.8888888888888888,
              "#fdca26"
             ],
             [
              1,
              "#f0f921"
             ]
            ],
            "type": "surface"
           }
          ],
          "table": [
           {
            "cells": {
             "fill": {
              "color": "#EBF0F8"
             },
             "line": {
              "color": "white"
             }
            },
            "header": {
             "fill": {
              "color": "#C8D4E3"
             },
             "line": {
              "color": "white"
             }
            },
            "type": "table"
           }
          ]
         },
         "layout": {
          "annotationdefaults": {
           "arrowcolor": "#2a3f5f",
           "arrowhead": 0,
           "arrowwidth": 1
          },
          "autotypenumbers": "strict",
          "coloraxis": {
           "colorbar": {
            "outlinewidth": 0,
            "ticks": ""
           }
          },
          "colorscale": {
           "diverging": [
            [
             0,
             "#8e0152"
            ],
            [
             0.1,
             "#c51b7d"
            ],
            [
             0.2,
             "#de77ae"
            ],
            [
             0.3,
             "#f1b6da"
            ],
            [
             0.4,
             "#fde0ef"
            ],
            [
             0.5,
             "#f7f7f7"
            ],
            [
             0.6,
             "#e6f5d0"
            ],
            [
             0.7,
             "#b8e186"
            ],
            [
             0.8,
             "#7fbc41"
            ],
            [
             0.9,
             "#4d9221"
            ],
            [
             1,
             "#276419"
            ]
           ],
           "sequential": [
            [
             0,
             "#0d0887"
            ],
            [
             0.1111111111111111,
             "#46039f"
            ],
            [
             0.2222222222222222,
             "#7201a8"
            ],
            [
             0.3333333333333333,
             "#9c179e"
            ],
            [
             0.4444444444444444,
             "#bd3786"
            ],
            [
             0.5555555555555556,
             "#d8576b"
            ],
            [
             0.6666666666666666,
             "#ed7953"
            ],
            [
             0.7777777777777778,
             "#fb9f3a"
            ],
            [
             0.8888888888888888,
             "#fdca26"
            ],
            [
             1,
             "#f0f921"
            ]
           ],
           "sequentialminus": [
            [
             0,
             "#0d0887"
            ],
            [
             0.1111111111111111,
             "#46039f"
            ],
            [
             0.2222222222222222,
             "#7201a8"
            ],
            [
             0.3333333333333333,
             "#9c179e"
            ],
            [
             0.4444444444444444,
             "#bd3786"
            ],
            [
             0.5555555555555556,
             "#d8576b"
            ],
            [
             0.6666666666666666,
             "#ed7953"
            ],
            [
             0.7777777777777778,
             "#fb9f3a"
            ],
            [
             0.8888888888888888,
             "#fdca26"
            ],
            [
             1,
             "#f0f921"
            ]
           ]
          },
          "colorway": [
           "#636efa",
           "#EF553B",
           "#00cc96",
           "#ab63fa",
           "#FFA15A",
           "#19d3f3",
           "#FF6692",
           "#B6E880",
           "#FF97FF",
           "#FECB52"
          ],
          "font": {
           "color": "#2a3f5f"
          },
          "geo": {
           "bgcolor": "white",
           "lakecolor": "white",
           "landcolor": "#E5ECF6",
           "showlakes": true,
           "showland": true,
           "subunitcolor": "white"
          },
          "hoverlabel": {
           "align": "left"
          },
          "hovermode": "closest",
          "mapbox": {
           "style": "light"
          },
          "paper_bgcolor": "white",
          "plot_bgcolor": "#E5ECF6",
          "polar": {
           "angularaxis": {
            "gridcolor": "white",
            "linecolor": "white",
            "ticks": ""
           },
           "bgcolor": "#E5ECF6",
           "radialaxis": {
            "gridcolor": "white",
            "linecolor": "white",
            "ticks": ""
           }
          },
          "scene": {
           "xaxis": {
            "backgroundcolor": "#E5ECF6",
            "gridcolor": "white",
            "gridwidth": 2,
            "linecolor": "white",
            "showbackground": true,
            "ticks": "",
            "zerolinecolor": "white"
           },
           "yaxis": {
            "backgroundcolor": "#E5ECF6",
            "gridcolor": "white",
            "gridwidth": 2,
            "linecolor": "white",
            "showbackground": true,
            "ticks": "",
            "zerolinecolor": "white"
           },
           "zaxis": {
            "backgroundcolor": "#E5ECF6",
            "gridcolor": "white",
            "gridwidth": 2,
            "linecolor": "white",
            "showbackground": true,
            "ticks": "",
            "zerolinecolor": "white"
           }
          },
          "shapedefaults": {
           "line": {
            "color": "#2a3f5f"
           }
          },
          "ternary": {
           "aaxis": {
            "gridcolor": "white",
            "linecolor": "white",
            "ticks": ""
           },
           "baxis": {
            "gridcolor": "white",
            "linecolor": "white",
            "ticks": ""
           },
           "bgcolor": "#E5ECF6",
           "caxis": {
            "gridcolor": "white",
            "linecolor": "white",
            "ticks": ""
           }
          },
          "title": {
           "x": 0.05
          },
          "xaxis": {
           "automargin": true,
           "gridcolor": "white",
           "linecolor": "white",
           "ticks": "",
           "title": {
            "standoff": 15
           },
           "zerolinecolor": "white",
           "zerolinewidth": 2
          },
          "yaxis": {
           "automargin": true,
           "gridcolor": "white",
           "linecolor": "white",
           "ticks": "",
           "title": {
            "standoff": 15
           },
           "zerolinecolor": "white",
           "zerolinewidth": 2
          }
         }
        },
        "title": {
         "text": "일별 주문고객수 추이"
        },
        "xaxis": {
         "anchor": "y",
         "domain": [
          0,
          1
         ],
         "title": {
          "text": "날짜"
         }
        },
        "yaxis": {
         "anchor": "x",
         "domain": [
          0,
          1
         ],
         "title": {
          "text": "주문고객수"
         }
        }
       }
      }
     },
     "metadata": {},
     "output_type": "display_data"
    }
   ],
   "source": [
    "unique_customers_by_day = df.groupby('date_ymd',as_index=False)[['CustomerID']].nunique().rename(columns={'CustomerID':'주문고객수'})\n",
    "fig = px.line(unique_customers_by_day,x='date_ymd',y='주문고객수',\n",
    "        hover_data={'date_ymd':'|%Y년 %m월 %d일'},\n",
    "                    labels = {'date_ymd':'날짜'})\n",
    "fig.update_layout(title='일별 주문고객수 추이',paper_bgcolor = 'lightgray',plot_bgcolor = 'lightblue')\n",
    "fig.update_traces(line={'color':'red'})"
   ]
  },
  {
   "cell_type": "markdown",
   "metadata": {},
   "source": [
    "- 주문단가(주문 1건당 매출액)"
   ]
  },
  {
   "cell_type": "code",
   "execution_count": 47,
   "metadata": {},
   "outputs": [
    {
     "name": "stderr",
     "output_type": "stream",
     "text": [
      "c:\\Users\\kd010\\miniconda3\\envs\\rapids\\Lib\\site-packages\\_plotly_utils\\basevalidators.py:106: FutureWarning:\n",
      "\n",
      "The behavior of DatetimeProperties.to_pydatetime is deprecated, in a future version this will return a Series containing python datetime objects instead of an ndarray. To retain the old behavior, call `np.array` on the result\n",
      "\n"
     ]
    },
    {
     "data": {
      "application/vnd.plotly.v1+json": {
       "config": {
        "plotlyServerURL": "https://plot.ly"
       },
       "data": [
        {
         "hovertemplate": "날짜=%{x|%Y년 %m월 %d일}<br>주문단가=%{y}<extra></extra>",
         "legendgroup": "",
         "line": {
          "color": "red",
          "dash": "solid"
         },
         "marker": {
          "symbol": "circle"
         },
         "mode": "lines",
         "name": "",
         "orientation": "v",
         "showlegend": false,
         "type": "scatter",
         "x": [
          "2010-12-01T00:00:00",
          "2010-12-02T00:00:00",
          "2010-12-03T00:00:00",
          "2010-12-05T00:00:00",
          "2010-12-06T00:00:00",
          "2010-12-07T00:00:00",
          "2010-12-08T00:00:00",
          "2010-12-09T00:00:00",
          "2010-12-10T00:00:00",
          "2010-12-12T00:00:00",
          "2010-12-13T00:00:00",
          "2010-12-14T00:00:00",
          "2010-12-15T00:00:00",
          "2010-12-16T00:00:00",
          "2010-12-17T00:00:00",
          "2010-12-19T00:00:00",
          "2010-12-20T00:00:00",
          "2010-12-21T00:00:00",
          "2010-12-22T00:00:00",
          "2010-12-23T00:00:00",
          "2011-01-04T00:00:00",
          "2011-01-05T00:00:00",
          "2011-01-06T00:00:00",
          "2011-01-07T00:00:00",
          "2011-01-09T00:00:00",
          "2011-01-10T00:00:00",
          "2011-01-11T00:00:00",
          "2011-01-12T00:00:00",
          "2011-01-13T00:00:00",
          "2011-01-14T00:00:00",
          "2011-01-16T00:00:00",
          "2011-01-17T00:00:00",
          "2011-01-18T00:00:00",
          "2011-01-19T00:00:00",
          "2011-01-20T00:00:00",
          "2011-01-21T00:00:00",
          "2011-01-23T00:00:00",
          "2011-01-24T00:00:00",
          "2011-01-25T00:00:00",
          "2011-01-26T00:00:00",
          "2011-01-27T00:00:00",
          "2011-01-28T00:00:00",
          "2011-01-30T00:00:00",
          "2011-01-31T00:00:00",
          "2011-02-01T00:00:00",
          "2011-02-02T00:00:00",
          "2011-02-03T00:00:00",
          "2011-02-04T00:00:00",
          "2011-02-06T00:00:00",
          "2011-02-07T00:00:00",
          "2011-02-08T00:00:00",
          "2011-02-09T00:00:00",
          "2011-02-10T00:00:00",
          "2011-02-11T00:00:00",
          "2011-02-13T00:00:00",
          "2011-02-14T00:00:00",
          "2011-02-15T00:00:00",
          "2011-02-16T00:00:00",
          "2011-02-17T00:00:00",
          "2011-02-18T00:00:00",
          "2011-02-20T00:00:00",
          "2011-02-21T00:00:00",
          "2011-02-22T00:00:00",
          "2011-02-23T00:00:00",
          "2011-02-24T00:00:00",
          "2011-02-25T00:00:00",
          "2011-02-27T00:00:00",
          "2011-02-28T00:00:00",
          "2011-03-01T00:00:00",
          "2011-03-02T00:00:00",
          "2011-03-03T00:00:00",
          "2011-03-04T00:00:00",
          "2011-03-06T00:00:00",
          "2011-03-07T00:00:00",
          "2011-03-08T00:00:00",
          "2011-03-09T00:00:00",
          "2011-03-10T00:00:00",
          "2011-03-11T00:00:00",
          "2011-03-13T00:00:00",
          "2011-03-14T00:00:00",
          "2011-03-15T00:00:00",
          "2011-03-16T00:00:00",
          "2011-03-17T00:00:00",
          "2011-03-18T00:00:00",
          "2011-03-20T00:00:00",
          "2011-03-21T00:00:00",
          "2011-03-22T00:00:00",
          "2011-03-23T00:00:00",
          "2011-03-24T00:00:00",
          "2011-03-25T00:00:00",
          "2011-03-27T00:00:00",
          "2011-03-28T00:00:00",
          "2011-03-29T00:00:00",
          "2011-03-30T00:00:00",
          "2011-03-31T00:00:00",
          "2011-04-01T00:00:00",
          "2011-04-03T00:00:00",
          "2011-04-04T00:00:00",
          "2011-04-05T00:00:00",
          "2011-04-06T00:00:00",
          "2011-04-07T00:00:00",
          "2011-04-08T00:00:00",
          "2011-04-10T00:00:00",
          "2011-04-11T00:00:00",
          "2011-04-12T00:00:00",
          "2011-04-13T00:00:00",
          "2011-04-14T00:00:00",
          "2011-04-15T00:00:00",
          "2011-04-17T00:00:00",
          "2011-04-18T00:00:00",
          "2011-04-19T00:00:00",
          "2011-04-20T00:00:00",
          "2011-04-21T00:00:00",
          "2011-04-26T00:00:00",
          "2011-04-27T00:00:00",
          "2011-04-28T00:00:00",
          "2011-05-01T00:00:00",
          "2011-05-03T00:00:00",
          "2011-05-04T00:00:00",
          "2011-05-05T00:00:00",
          "2011-05-06T00:00:00",
          "2011-05-08T00:00:00",
          "2011-05-09T00:00:00",
          "2011-05-10T00:00:00",
          "2011-05-11T00:00:00",
          "2011-05-12T00:00:00",
          "2011-05-13T00:00:00",
          "2011-05-15T00:00:00",
          "2011-05-16T00:00:00",
          "2011-05-17T00:00:00",
          "2011-05-18T00:00:00",
          "2011-05-19T00:00:00",
          "2011-05-20T00:00:00",
          "2011-05-22T00:00:00",
          "2011-05-23T00:00:00",
          "2011-05-24T00:00:00",
          "2011-05-25T00:00:00",
          "2011-05-26T00:00:00",
          "2011-05-27T00:00:00",
          "2011-05-29T00:00:00",
          "2011-05-31T00:00:00",
          "2011-06-01T00:00:00",
          "2011-06-02T00:00:00",
          "2011-06-03T00:00:00",
          "2011-06-05T00:00:00",
          "2011-06-06T00:00:00",
          "2011-06-07T00:00:00",
          "2011-06-08T00:00:00",
          "2011-06-09T00:00:00",
          "2011-06-10T00:00:00",
          "2011-06-12T00:00:00",
          "2011-06-13T00:00:00",
          "2011-06-14T00:00:00",
          "2011-06-15T00:00:00",
          "2011-06-16T00:00:00",
          "2011-06-17T00:00:00",
          "2011-06-19T00:00:00",
          "2011-06-20T00:00:00",
          "2011-06-21T00:00:00",
          "2011-06-22T00:00:00",
          "2011-06-23T00:00:00",
          "2011-06-24T00:00:00",
          "2011-06-26T00:00:00",
          "2011-06-27T00:00:00",
          "2011-06-28T00:00:00",
          "2011-06-29T00:00:00",
          "2011-06-30T00:00:00",
          "2011-07-01T00:00:00",
          "2011-07-03T00:00:00",
          "2011-07-04T00:00:00",
          "2011-07-05T00:00:00",
          "2011-07-06T00:00:00",
          "2011-07-07T00:00:00",
          "2011-07-08T00:00:00",
          "2011-07-10T00:00:00",
          "2011-07-11T00:00:00",
          "2011-07-12T00:00:00",
          "2011-07-13T00:00:00",
          "2011-07-14T00:00:00",
          "2011-07-15T00:00:00",
          "2011-07-17T00:00:00",
          "2011-07-18T00:00:00",
          "2011-07-19T00:00:00",
          "2011-07-20T00:00:00",
          "2011-07-21T00:00:00",
          "2011-07-22T00:00:00",
          "2011-07-24T00:00:00",
          "2011-07-25T00:00:00",
          "2011-07-26T00:00:00",
          "2011-07-27T00:00:00",
          "2011-07-28T00:00:00",
          "2011-07-29T00:00:00",
          "2011-07-31T00:00:00",
          "2011-08-01T00:00:00",
          "2011-08-02T00:00:00",
          "2011-08-03T00:00:00",
          "2011-08-04T00:00:00",
          "2011-08-05T00:00:00",
          "2011-08-07T00:00:00",
          "2011-08-08T00:00:00",
          "2011-08-09T00:00:00",
          "2011-08-10T00:00:00",
          "2011-08-11T00:00:00",
          "2011-08-12T00:00:00",
          "2011-08-14T00:00:00",
          "2011-08-15T00:00:00",
          "2011-08-16T00:00:00",
          "2011-08-17T00:00:00",
          "2011-08-18T00:00:00",
          "2011-08-19T00:00:00",
          "2011-08-21T00:00:00",
          "2011-08-22T00:00:00",
          "2011-08-23T00:00:00",
          "2011-08-24T00:00:00",
          "2011-08-25T00:00:00",
          "2011-08-26T00:00:00",
          "2011-08-28T00:00:00",
          "2011-08-30T00:00:00",
          "2011-08-31T00:00:00",
          "2011-09-01T00:00:00",
          "2011-09-02T00:00:00",
          "2011-09-04T00:00:00",
          "2011-09-05T00:00:00",
          "2011-09-06T00:00:00",
          "2011-09-07T00:00:00",
          "2011-09-08T00:00:00",
          "2011-09-09T00:00:00",
          "2011-09-11T00:00:00",
          "2011-09-12T00:00:00",
          "2011-09-13T00:00:00",
          "2011-09-14T00:00:00",
          "2011-09-15T00:00:00",
          "2011-09-16T00:00:00",
          "2011-09-18T00:00:00",
          "2011-09-19T00:00:00",
          "2011-09-20T00:00:00",
          "2011-09-21T00:00:00",
          "2011-09-22T00:00:00",
          "2011-09-23T00:00:00",
          "2011-09-25T00:00:00",
          "2011-09-26T00:00:00",
          "2011-09-27T00:00:00",
          "2011-09-28T00:00:00",
          "2011-09-29T00:00:00",
          "2011-09-30T00:00:00",
          "2011-10-02T00:00:00",
          "2011-10-03T00:00:00",
          "2011-10-04T00:00:00",
          "2011-10-05T00:00:00",
          "2011-10-06T00:00:00",
          "2011-10-07T00:00:00",
          "2011-10-09T00:00:00",
          "2011-10-10T00:00:00",
          "2011-10-11T00:00:00",
          "2011-10-12T00:00:00",
          "2011-10-13T00:00:00",
          "2011-10-14T00:00:00",
          "2011-10-16T00:00:00",
          "2011-10-17T00:00:00",
          "2011-10-18T00:00:00",
          "2011-10-19T00:00:00",
          "2011-10-20T00:00:00",
          "2011-10-21T00:00:00",
          "2011-10-23T00:00:00",
          "2011-10-24T00:00:00",
          "2011-10-25T00:00:00",
          "2011-10-26T00:00:00",
          "2011-10-27T00:00:00",
          "2011-10-28T00:00:00",
          "2011-10-30T00:00:00",
          "2011-10-31T00:00:00",
          "2011-11-01T00:00:00",
          "2011-11-02T00:00:00",
          "2011-11-03T00:00:00",
          "2011-11-04T00:00:00",
          "2011-11-06T00:00:00",
          "2011-11-07T00:00:00",
          "2011-11-08T00:00:00",
          "2011-11-09T00:00:00",
          "2011-11-10T00:00:00",
          "2011-11-11T00:00:00",
          "2011-11-13T00:00:00",
          "2011-11-14T00:00:00",
          "2011-11-15T00:00:00",
          "2011-11-16T00:00:00",
          "2011-11-17T00:00:00",
          "2011-11-18T00:00:00",
          "2011-11-20T00:00:00",
          "2011-11-21T00:00:00",
          "2011-11-22T00:00:00",
          "2011-11-23T00:00:00",
          "2011-11-24T00:00:00",
          "2011-11-25T00:00:00",
          "2011-11-27T00:00:00",
          "2011-11-28T00:00:00",
          "2011-11-29T00:00:00",
          "2011-11-30T00:00:00",
          "2011-12-01T00:00:00",
          "2011-12-02T00:00:00",
          "2011-12-04T00:00:00",
          "2011-12-05T00:00:00",
          "2011-12-06T00:00:00",
          "2011-12-07T00:00:00",
          "2011-12-08T00:00:00",
          "2011-12-09T00:00:00"
         ],
         "xaxis": "x",
         "y": [
          383.27677685950414,
          345.3761313868613,
          419.6791228070175,
          365.1908045977011,
          332.08127659574467,
          757.6804225352113,
          353.592972972973,
          390.12142857142857,
          467.365,
          402.4597674418605,
          431.916875,
          362.0037037037037,
          433.02457142857145,
          433.8945132743363,
          364.4829090909091,
          412.07722222222225,
          392.43919999999997,
          590.8022222222222,
          349.0371428571429,
          332.2923529411765,
          346.44171428571434,
          600.0756250000001,
          746.9606521739131,
          506.33595744680855,
          328.71250000000003,
          451.37735294117647,
          1137.1467924528301,
          408.4271428571428,
          370.03195121951217,
          1040.3163157894735,
          289.68240000000003,
          360.8119565217391,
          2737.1596875,
          655.9630303030302,
          448.3744117647059,
          714.110588235294,
          385.19444444444446,
          400.7356818181818,
          408.80169491525425,
          330.0154716981132,
          443.14059999999995,
          466.85135135135135,
          275.65625,
          330.14175438596493,
          454.76724137931035,
          306.16482142857143,
          492.97777777777776,
          402.54022222222227,
          314.2827272727273,
          616.1844736842105,
          372.84289473684214,
          518.2947826086956,
          346.3051219512195,
          489.4594736842105,
          285.6815,
          638.9997222222223,
          712.9179245283019,
          379.0196774193549,
          321.3598181818182,
          413.2302857142857,
          370.18038461538464,
          993.9918181818183,
          583.2096,
          365.0579245283019,
          405.1488679245283,
          408.39311111111107,
          288.6818181818182,
          296.2160784313726,
          421.99767857142854,
          444.9283333333334,
          699.0436170212766,
          384.9437777777778,
          384.5161538461538,
          349.75310344827585,
          505.2411363636364,
          398.9386274509804,
          469.84076923076924,
          435.3333333333333,
          259.2575,
          541.859375,
          364.3031707317073,
          436.4132,
          571.9453571428571,
          449.9757692307693,
          352.36491228070173,
          334.39687499999997,
          464.9826829268293,
          365.74237288135595,
          539.6638235294117,
          525.0528846153846,
          297.56129032258065,
          344.91655172413795,
          743.8104,
          448.29424242424244,
          435.40016949152545,
          361.57088235294117,
          364.13157894736844,
          537.3661111111111,
          625.2036956521739,
          343.84648648648647,
          275.86508196721314,
          349.5493846153846,
          309.811875,
          342.10406779661014,
          400.39933333333335,
          408.0736666666667,
          435.39878048780486,
          439.5483170731707,
          302.98809523809524,
          705.0574193548387,
          355.7177358490566,
          414.8217741935484,
          391.6122535211268,
          365.8374576271186,
          386.7737704918033,
          387.69618181818186,
          387.42555555555555,
          490.00694915254235,
          444.06451612903226,
          307.715487804878,
          399.8272727272727,
          299.4825396825397,
          343.2446031746032,
          426.7242857142857,
          436.8178082191781,
          713.1138095238096,
          386.35567164179105,
          322.6683333333333,
          557.9171875,
          644.5290277777779,
          463.1390140845071,
          342.97293478260866,
          369.41536231884055,
          397.2309836065574,
          489.17953125,
          523.5883870967742,
          364.7488333333333,
          537.1209836065574,
          377.9164285714286,
          308.09583333333336,
          356.75784313725495,
          415.96999999999997,
          669.1561904761905,
          366.88439024390243,
          382.67970149253733,
          290.91035714285715,
          477.5811267605634,
          368.19670731707316,
          523.2973170731707,
          1323.7527272727273,
          328.216052631579,
          379.2136538461539,
          641.0475,
          901.5508,
          398.86135802469136,
          414.33108695652174,
          374.03633333333335,
          442.99542372881353,
          413.55541666666664,
          371.4108771929824,
          326.9102898550725,
          356.038,
          272.40346153846156,
          383.2057142857143,
          623.1095918367347,
          322.32384615384615,
          642.2006153846154,
          290.2211904761905,
          241.2956,
          837.437027027027,
          406.12906250000003,
          347.8860606060606,
          382.1049315068493,
          381.70217391304345,
          249.74458333333334,
          418.3339583333333,
          398.84866666666665,
          347.0151785714285,
          464.07115942028986,
          320.4675675675675,
          339.17199999999997,
          478.66,
          751.598064516129,
          510.88622641509437,
          434.21014285714284,
          395.5072972972973,
          470.12140350877195,
          371.45867924528307,
          375.9348043478261,
          519.4390909090909,
          694.8508974358974,
          278.07435483870967,
          814.4704878048781,
          507.90769230769234,
          494.5621951219512,
          429.31887096774193,
          785.8178481012658,
          381.2576923076923,
          261.2744827586207,
          519.9636842105263,
          648.928,
          461.89674418604653,
          849.78390625,
          390.6558695652174,
          228.7428,
          359.24937500000004,
          321.5568,
          956.2674509803921,
          807.206119402985,
          315.2652727272727,
          383.3378947368421,
          470.20920634920634,
          373.31850000000003,
          536.3473611111111,
          312.43458333333336,
          535.8142222222222,
          292.02783783783786,
          384.074347826087,
          489.0676190476191,
          491.71250000000003,
          473.39140625,
          347.0414285714285,
          532.8164179104477,
          417.96426229508194,
          477.5526086956522,
          322.0597222222222,
          433.48534482758623,
          473.4889333333333,
          417.7522388059702,
          764.4801587301587,
          338.89153846153846,
          911.3122784810126,
          505.4126086956522,
          583.1751851851851,
          675.4669565217391,
          1543.8180597014925,
          574.6725373134328,
          521.3455855855856,
          547.9499999999999,
          418.30214666666666,
          451.22832307692306,
          385.18894736842105,
          488.22362499999997,
          434.26572815533984,
          571.9062857142858,
          340.675,
          958.0915384615384,
          522.8405405405405,
          788.3875531914892,
          520.5844827586208,
          578.6784705882353,
          328.07394736842105,
          478.6702222222222,
          595.3432051282051,
          338.18743902439024,
          446.4754054054054,
          458.924,
          628.8845714285713,
          553.0028235294118,
          484.44675324675325,
          484.85090909090906,
          710.0472093023255,
          974.471935483871,
          293.7895238095238,
          538.5654794520548,
          503.2770833333333,
          374.2969565217391,
          536.8955769230769,
          573.7010769230769,
          360.1169791666667,
          524.5804761904761,
          383.32644736842104,
          466.6831325301205,
          606.7211,
          644.8188505747127,
          425.16178217821783,
          319.76933333333335,
          386.819393939394,
          521.0947457627119,
          564.10632,
          398.72440860215056,
          344.67204819277106,
          565.1702884615385,
          458.9326923076923,
          390.64322580645165,
          410.9213235294118,
          356.80825242718447,
          308.070612244898,
          472.22010416666666,
          382.0376153846154,
          553.6917692307692,
          353.9367889908257,
          360.46837837837836,
          308.94571428571425,
          454.6637719298245,
          387.71174603174603,
          419.00232323232325,
          377.4066949152542,
          392.225350877193,
          328.64451612903224,
          501.7431896551724,
          419.49127272727276,
          666.8674038461539,
          447.0744247787611,
          4496.323902439024
         ],
         "yaxis": "y"
        }
       ],
       "layout": {
        "legend": {
         "tracegroupgap": 0
        },
        "margin": {
         "t": 60
        },
        "paper_bgcolor": "lightgray",
        "plot_bgcolor": "lightblue",
        "template": {
         "data": {
          "bar": [
           {
            "error_x": {
             "color": "#2a3f5f"
            },
            "error_y": {
             "color": "#2a3f5f"
            },
            "marker": {
             "line": {
              "color": "#E5ECF6",
              "width": 0.5
             },
             "pattern": {
              "fillmode": "overlay",
              "size": 10,
              "solidity": 0.2
             }
            },
            "type": "bar"
           }
          ],
          "barpolar": [
           {
            "marker": {
             "line": {
              "color": "#E5ECF6",
              "width": 0.5
             },
             "pattern": {
              "fillmode": "overlay",
              "size": 10,
              "solidity": 0.2
             }
            },
            "type": "barpolar"
           }
          ],
          "carpet": [
           {
            "aaxis": {
             "endlinecolor": "#2a3f5f",
             "gridcolor": "white",
             "linecolor": "white",
             "minorgridcolor": "white",
             "startlinecolor": "#2a3f5f"
            },
            "baxis": {
             "endlinecolor": "#2a3f5f",
             "gridcolor": "white",
             "linecolor": "white",
             "minorgridcolor": "white",
             "startlinecolor": "#2a3f5f"
            },
            "type": "carpet"
           }
          ],
          "choropleth": [
           {
            "colorbar": {
             "outlinewidth": 0,
             "ticks": ""
            },
            "type": "choropleth"
           }
          ],
          "contour": [
           {
            "colorbar": {
             "outlinewidth": 0,
             "ticks": ""
            },
            "colorscale": [
             [
              0,
              "#0d0887"
             ],
             [
              0.1111111111111111,
              "#46039f"
             ],
             [
              0.2222222222222222,
              "#7201a8"
             ],
             [
              0.3333333333333333,
              "#9c179e"
             ],
             [
              0.4444444444444444,
              "#bd3786"
             ],
             [
              0.5555555555555556,
              "#d8576b"
             ],
             [
              0.6666666666666666,
              "#ed7953"
             ],
             [
              0.7777777777777778,
              "#fb9f3a"
             ],
             [
              0.8888888888888888,
              "#fdca26"
             ],
             [
              1,
              "#f0f921"
             ]
            ],
            "type": "contour"
           }
          ],
          "contourcarpet": [
           {
            "colorbar": {
             "outlinewidth": 0,
             "ticks": ""
            },
            "type": "contourcarpet"
           }
          ],
          "heatmap": [
           {
            "colorbar": {
             "outlinewidth": 0,
             "ticks": ""
            },
            "colorscale": [
             [
              0,
              "#0d0887"
             ],
             [
              0.1111111111111111,
              "#46039f"
             ],
             [
              0.2222222222222222,
              "#7201a8"
             ],
             [
              0.3333333333333333,
              "#9c179e"
             ],
             [
              0.4444444444444444,
              "#bd3786"
             ],
             [
              0.5555555555555556,
              "#d8576b"
             ],
             [
              0.6666666666666666,
              "#ed7953"
             ],
             [
              0.7777777777777778,
              "#fb9f3a"
             ],
             [
              0.8888888888888888,
              "#fdca26"
             ],
             [
              1,
              "#f0f921"
             ]
            ],
            "type": "heatmap"
           }
          ],
          "heatmapgl": [
           {
            "colorbar": {
             "outlinewidth": 0,
             "ticks": ""
            },
            "colorscale": [
             [
              0,
              "#0d0887"
             ],
             [
              0.1111111111111111,
              "#46039f"
             ],
             [
              0.2222222222222222,
              "#7201a8"
             ],
             [
              0.3333333333333333,
              "#9c179e"
             ],
             [
              0.4444444444444444,
              "#bd3786"
             ],
             [
              0.5555555555555556,
              "#d8576b"
             ],
             [
              0.6666666666666666,
              "#ed7953"
             ],
             [
              0.7777777777777778,
              "#fb9f3a"
             ],
             [
              0.8888888888888888,
              "#fdca26"
             ],
             [
              1,
              "#f0f921"
             ]
            ],
            "type": "heatmapgl"
           }
          ],
          "histogram": [
           {
            "marker": {
             "pattern": {
              "fillmode": "overlay",
              "size": 10,
              "solidity": 0.2
             }
            },
            "type": "histogram"
           }
          ],
          "histogram2d": [
           {
            "colorbar": {
             "outlinewidth": 0,
             "ticks": ""
            },
            "colorscale": [
             [
              0,
              "#0d0887"
             ],
             [
              0.1111111111111111,
              "#46039f"
             ],
             [
              0.2222222222222222,
              "#7201a8"
             ],
             [
              0.3333333333333333,
              "#9c179e"
             ],
             [
              0.4444444444444444,
              "#bd3786"
             ],
             [
              0.5555555555555556,
              "#d8576b"
             ],
             [
              0.6666666666666666,
              "#ed7953"
             ],
             [
              0.7777777777777778,
              "#fb9f3a"
             ],
             [
              0.8888888888888888,
              "#fdca26"
             ],
             [
              1,
              "#f0f921"
             ]
            ],
            "type": "histogram2d"
           }
          ],
          "histogram2dcontour": [
           {
            "colorbar": {
             "outlinewidth": 0,
             "ticks": ""
            },
            "colorscale": [
             [
              0,
              "#0d0887"
             ],
             [
              0.1111111111111111,
              "#46039f"
             ],
             [
              0.2222222222222222,
              "#7201a8"
             ],
             [
              0.3333333333333333,
              "#9c179e"
             ],
             [
              0.4444444444444444,
              "#bd3786"
             ],
             [
              0.5555555555555556,
              "#d8576b"
             ],
             [
              0.6666666666666666,
              "#ed7953"
             ],
             [
              0.7777777777777778,
              "#fb9f3a"
             ],
             [
              0.8888888888888888,
              "#fdca26"
             ],
             [
              1,
              "#f0f921"
             ]
            ],
            "type": "histogram2dcontour"
           }
          ],
          "mesh3d": [
           {
            "colorbar": {
             "outlinewidth": 0,
             "ticks": ""
            },
            "type": "mesh3d"
           }
          ],
          "parcoords": [
           {
            "line": {
             "colorbar": {
              "outlinewidth": 0,
              "ticks": ""
             }
            },
            "type": "parcoords"
           }
          ],
          "pie": [
           {
            "automargin": true,
            "type": "pie"
           }
          ],
          "scatter": [
           {
            "fillpattern": {
             "fillmode": "overlay",
             "size": 10,
             "solidity": 0.2
            },
            "type": "scatter"
           }
          ],
          "scatter3d": [
           {
            "line": {
             "colorbar": {
              "outlinewidth": 0,
              "ticks": ""
             }
            },
            "marker": {
             "colorbar": {
              "outlinewidth": 0,
              "ticks": ""
             }
            },
            "type": "scatter3d"
           }
          ],
          "scattercarpet": [
           {
            "marker": {
             "colorbar": {
              "outlinewidth": 0,
              "ticks": ""
             }
            },
            "type": "scattercarpet"
           }
          ],
          "scattergeo": [
           {
            "marker": {
             "colorbar": {
              "outlinewidth": 0,
              "ticks": ""
             }
            },
            "type": "scattergeo"
           }
          ],
          "scattergl": [
           {
            "marker": {
             "colorbar": {
              "outlinewidth": 0,
              "ticks": ""
             }
            },
            "type": "scattergl"
           }
          ],
          "scattermapbox": [
           {
            "marker": {
             "colorbar": {
              "outlinewidth": 0,
              "ticks": ""
             }
            },
            "type": "scattermapbox"
           }
          ],
          "scatterpolar": [
           {
            "marker": {
             "colorbar": {
              "outlinewidth": 0,
              "ticks": ""
             }
            },
            "type": "scatterpolar"
           }
          ],
          "scatterpolargl": [
           {
            "marker": {
             "colorbar": {
              "outlinewidth": 0,
              "ticks": ""
             }
            },
            "type": "scatterpolargl"
           }
          ],
          "scatterternary": [
           {
            "marker": {
             "colorbar": {
              "outlinewidth": 0,
              "ticks": ""
             }
            },
            "type": "scatterternary"
           }
          ],
          "surface": [
           {
            "colorbar": {
             "outlinewidth": 0,
             "ticks": ""
            },
            "colorscale": [
             [
              0,
              "#0d0887"
             ],
             [
              0.1111111111111111,
              "#46039f"
             ],
             [
              0.2222222222222222,
              "#7201a8"
             ],
             [
              0.3333333333333333,
              "#9c179e"
             ],
             [
              0.4444444444444444,
              "#bd3786"
             ],
             [
              0.5555555555555556,
              "#d8576b"
             ],
             [
              0.6666666666666666,
              "#ed7953"
             ],
             [
              0.7777777777777778,
              "#fb9f3a"
             ],
             [
              0.8888888888888888,
              "#fdca26"
             ],
             [
              1,
              "#f0f921"
             ]
            ],
            "type": "surface"
           }
          ],
          "table": [
           {
            "cells": {
             "fill": {
              "color": "#EBF0F8"
             },
             "line": {
              "color": "white"
             }
            },
            "header": {
             "fill": {
              "color": "#C8D4E3"
             },
             "line": {
              "color": "white"
             }
            },
            "type": "table"
           }
          ]
         },
         "layout": {
          "annotationdefaults": {
           "arrowcolor": "#2a3f5f",
           "arrowhead": 0,
           "arrowwidth": 1
          },
          "autotypenumbers": "strict",
          "coloraxis": {
           "colorbar": {
            "outlinewidth": 0,
            "ticks": ""
           }
          },
          "colorscale": {
           "diverging": [
            [
             0,
             "#8e0152"
            ],
            [
             0.1,
             "#c51b7d"
            ],
            [
             0.2,
             "#de77ae"
            ],
            [
             0.3,
             "#f1b6da"
            ],
            [
             0.4,
             "#fde0ef"
            ],
            [
             0.5,
             "#f7f7f7"
            ],
            [
             0.6,
             "#e6f5d0"
            ],
            [
             0.7,
             "#b8e186"
            ],
            [
             0.8,
             "#7fbc41"
            ],
            [
             0.9,
             "#4d9221"
            ],
            [
             1,
             "#276419"
            ]
           ],
           "sequential": [
            [
             0,
             "#0d0887"
            ],
            [
             0.1111111111111111,
             "#46039f"
            ],
            [
             0.2222222222222222,
             "#7201a8"
            ],
            [
             0.3333333333333333,
             "#9c179e"
            ],
            [
             0.4444444444444444,
             "#bd3786"
            ],
            [
             0.5555555555555556,
             "#d8576b"
            ],
            [
             0.6666666666666666,
             "#ed7953"
            ],
            [
             0.7777777777777778,
             "#fb9f3a"
            ],
            [
             0.8888888888888888,
             "#fdca26"
            ],
            [
             1,
             "#f0f921"
            ]
           ],
           "sequentialminus": [
            [
             0,
             "#0d0887"
            ],
            [
             0.1111111111111111,
             "#46039f"
            ],
            [
             0.2222222222222222,
             "#7201a8"
            ],
            [
             0.3333333333333333,
             "#9c179e"
            ],
            [
             0.4444444444444444,
             "#bd3786"
            ],
            [
             0.5555555555555556,
             "#d8576b"
            ],
            [
             0.6666666666666666,
             "#ed7953"
            ],
            [
             0.7777777777777778,
             "#fb9f3a"
            ],
            [
             0.8888888888888888,
             "#fdca26"
            ],
            [
             1,
             "#f0f921"
            ]
           ]
          },
          "colorway": [
           "#636efa",
           "#EF553B",
           "#00cc96",
           "#ab63fa",
           "#FFA15A",
           "#19d3f3",
           "#FF6692",
           "#B6E880",
           "#FF97FF",
           "#FECB52"
          ],
          "font": {
           "color": "#2a3f5f"
          },
          "geo": {
           "bgcolor": "white",
           "lakecolor": "white",
           "landcolor": "#E5ECF6",
           "showlakes": true,
           "showland": true,
           "subunitcolor": "white"
          },
          "hoverlabel": {
           "align": "left"
          },
          "hovermode": "closest",
          "mapbox": {
           "style": "light"
          },
          "paper_bgcolor": "white",
          "plot_bgcolor": "#E5ECF6",
          "polar": {
           "angularaxis": {
            "gridcolor": "white",
            "linecolor": "white",
            "ticks": ""
           },
           "bgcolor": "#E5ECF6",
           "radialaxis": {
            "gridcolor": "white",
            "linecolor": "white",
            "ticks": ""
           }
          },
          "scene": {
           "xaxis": {
            "backgroundcolor": "#E5ECF6",
            "gridcolor": "white",
            "gridwidth": 2,
            "linecolor": "white",
            "showbackground": true,
            "ticks": "",
            "zerolinecolor": "white"
           },
           "yaxis": {
            "backgroundcolor": "#E5ECF6",
            "gridcolor": "white",
            "gridwidth": 2,
            "linecolor": "white",
            "showbackground": true,
            "ticks": "",
            "zerolinecolor": "white"
           },
           "zaxis": {
            "backgroundcolor": "#E5ECF6",
            "gridcolor": "white",
            "gridwidth": 2,
            "linecolor": "white",
            "showbackground": true,
            "ticks": "",
            "zerolinecolor": "white"
           }
          },
          "shapedefaults": {
           "line": {
            "color": "#2a3f5f"
           }
          },
          "ternary": {
           "aaxis": {
            "gridcolor": "white",
            "linecolor": "white",
            "ticks": ""
           },
           "baxis": {
            "gridcolor": "white",
            "linecolor": "white",
            "ticks": ""
           },
           "bgcolor": "#E5ECF6",
           "caxis": {
            "gridcolor": "white",
            "linecolor": "white",
            "ticks": ""
           }
          },
          "title": {
           "x": 0.05
          },
          "xaxis": {
           "automargin": true,
           "gridcolor": "white",
           "linecolor": "white",
           "ticks": "",
           "title": {
            "standoff": 15
           },
           "zerolinecolor": "white",
           "zerolinewidth": 2
          },
          "yaxis": {
           "automargin": true,
           "gridcolor": "white",
           "linecolor": "white",
           "ticks": "",
           "title": {
            "standoff": 15
           },
           "zerolinecolor": "white",
           "zerolinewidth": 2
          }
         }
        },
        "title": {
         "text": "일별 주문단가"
        },
        "xaxis": {
         "anchor": "y",
         "domain": [
          0,
          1
         ],
         "title": {
          "text": "날짜"
         }
        },
        "yaxis": {
         "anchor": "x",
         "domain": [
          0,
          1
         ],
         "title": {
          "text": "주문단가"
         }
        }
       }
      }
     },
     "metadata": {},
     "output_type": "display_data"
    }
   ],
   "source": [
    "revenue_by_date_orders = df.groupby('date_ymd',as_index=False).agg({'amount':'sum','InvoiceNo':'nunique'}).rename(columns={'InvoiceNo':'주문건수'})\n",
    "revenue_by_date_orders['주문단가'] = revenue_by_date_orders['amount'] / revenue_by_date_orders['주문건수']\n",
    "fig = px.line(revenue_by_date_orders,x='date_ymd',\n",
    "        y='주문단가',hover_data={'date_ymd':'|%Y년 %m월 %d일'},labels={'date_ymd':'날짜'})\n",
    "fig.update_layout(title='일별 주문단가',plot_bgcolor='lightblue',paper_bgcolor='lightgray')\n",
    "fig.update_traces(line=dict(color='red'))"
   ]
  },
  {
   "cell_type": "code",
   "execution_count": 48,
   "metadata": {},
   "outputs": [
    {
     "data": {
      "text/html": [
       "<div>\n",
       "<style scoped>\n",
       "    .dataframe tbody tr th:only-of-type {\n",
       "        vertical-align: middle;\n",
       "    }\n",
       "\n",
       "    .dataframe tbody tr th {\n",
       "        vertical-align: top;\n",
       "    }\n",
       "\n",
       "    .dataframe thead th {\n",
       "        text-align: right;\n",
       "    }\n",
       "</style>\n",
       "<table border=\"1\" class=\"dataframe\">\n",
       "  <thead>\n",
       "    <tr style=\"text-align: right;\">\n",
       "      <th></th>\n",
       "      <th>date_ymd</th>\n",
       "      <th>amount</th>\n",
       "      <th>주문건수</th>\n",
       "      <th>주문단가</th>\n",
       "    </tr>\n",
       "  </thead>\n",
       "  <tbody>\n",
       "    <tr>\n",
       "      <th>0</th>\n",
       "      <td>2010-12-01</td>\n",
       "      <td>46376.49</td>\n",
       "      <td>121</td>\n",
       "      <td>383.276777</td>\n",
       "    </tr>\n",
       "    <tr>\n",
       "      <th>1</th>\n",
       "      <td>2010-12-02</td>\n",
       "      <td>47316.53</td>\n",
       "      <td>137</td>\n",
       "      <td>345.376131</td>\n",
       "    </tr>\n",
       "    <tr>\n",
       "      <th>2</th>\n",
       "      <td>2010-12-03</td>\n",
       "      <td>23921.71</td>\n",
       "      <td>57</td>\n",
       "      <td>419.679123</td>\n",
       "    </tr>\n",
       "    <tr>\n",
       "      <th>3</th>\n",
       "      <td>2010-12-05</td>\n",
       "      <td>31771.60</td>\n",
       "      <td>87</td>\n",
       "      <td>365.190805</td>\n",
       "    </tr>\n",
       "    <tr>\n",
       "      <th>4</th>\n",
       "      <td>2010-12-06</td>\n",
       "      <td>31215.64</td>\n",
       "      <td>94</td>\n",
       "      <td>332.081277</td>\n",
       "    </tr>\n",
       "    <tr>\n",
       "      <th>...</th>\n",
       "      <td>...</td>\n",
       "      <td>...</td>\n",
       "      <td>...</td>\n",
       "      <td>...</td>\n",
       "    </tr>\n",
       "    <tr>\n",
       "      <th>300</th>\n",
       "      <td>2011-12-05</td>\n",
       "      <td>58202.21</td>\n",
       "      <td>116</td>\n",
       "      <td>501.743190</td>\n",
       "    </tr>\n",
       "    <tr>\n",
       "      <th>301</th>\n",
       "      <td>2011-12-06</td>\n",
       "      <td>46144.04</td>\n",
       "      <td>110</td>\n",
       "      <td>419.491273</td>\n",
       "    </tr>\n",
       "    <tr>\n",
       "      <th>302</th>\n",
       "      <td>2011-12-07</td>\n",
       "      <td>69354.21</td>\n",
       "      <td>104</td>\n",
       "      <td>666.867404</td>\n",
       "    </tr>\n",
       "    <tr>\n",
       "      <th>303</th>\n",
       "      <td>2011-12-08</td>\n",
       "      <td>50519.41</td>\n",
       "      <td>113</td>\n",
       "      <td>447.074425</td>\n",
       "    </tr>\n",
       "    <tr>\n",
       "      <th>304</th>\n",
       "      <td>2011-12-09</td>\n",
       "      <td>184349.28</td>\n",
       "      <td>41</td>\n",
       "      <td>4496.323902</td>\n",
       "    </tr>\n",
       "  </tbody>\n",
       "</table>\n",
       "<p>305 rows × 4 columns</p>\n",
       "</div>"
      ],
      "text/plain": [
       "      date_ymd     amount  주문건수         주문단가\n",
       "0   2010-12-01   46376.49   121   383.276777\n",
       "1   2010-12-02   47316.53   137   345.376131\n",
       "2   2010-12-03   23921.71    57   419.679123\n",
       "3   2010-12-05   31771.60    87   365.190805\n",
       "4   2010-12-06   31215.64    94   332.081277\n",
       "..         ...        ...   ...          ...\n",
       "300 2011-12-05   58202.21   116   501.743190\n",
       "301 2011-12-06   46144.04   110   419.491273\n",
       "302 2011-12-07   69354.21   104   666.867404\n",
       "303 2011-12-08   50519.41   113   447.074425\n",
       "304 2011-12-09  184349.28    41  4496.323902\n",
       "\n",
       "[305 rows x 4 columns]"
      ]
     },
     "execution_count": 48,
     "metadata": {},
     "output_type": "execute_result"
    }
   ],
   "source": [
    "revenue_by_date_orders"
   ]
  },
  {
   "cell_type": "markdown",
   "metadata": {},
   "source": [
    "## 2.**리텐션분석**\n",
    "***\n",
    "- **월별로 고객은 얼마나 남고 얼마나 이탈했는가?**"
   ]
  },
  {
   "cell_type": "markdown",
   "metadata": {},
   "source": [
    "- 월별 RFM분석을 할 것이기 때문에 월별 칼럼을 만들어 준다"
   ]
  },
  {
   "cell_type": "code",
   "execution_count": 49,
   "metadata": {},
   "outputs": [
    {
     "data": {
      "text/html": [
       "<div>\n",
       "<style scoped>\n",
       "    .dataframe tbody tr th:only-of-type {\n",
       "        vertical-align: middle;\n",
       "    }\n",
       "\n",
       "    .dataframe tbody tr th {\n",
       "        vertical-align: top;\n",
       "    }\n",
       "\n",
       "    .dataframe thead th {\n",
       "        text-align: right;\n",
       "    }\n",
       "</style>\n",
       "<table border=\"1\" class=\"dataframe\">\n",
       "  <thead>\n",
       "    <tr style=\"text-align: right;\">\n",
       "      <th></th>\n",
       "      <th>InvoiceNo</th>\n",
       "      <th>StockCode</th>\n",
       "      <th>Description</th>\n",
       "      <th>Quantity</th>\n",
       "      <th>InvoiceDate</th>\n",
       "      <th>UnitPrice</th>\n",
       "      <th>CustomerID</th>\n",
       "      <th>Country</th>\n",
       "      <th>date_ymd</th>\n",
       "      <th>year</th>\n",
       "      <th>amount</th>\n",
       "      <th>date_ym</th>\n",
       "    </tr>\n",
       "  </thead>\n",
       "  <tbody>\n",
       "    <tr>\n",
       "      <th>0</th>\n",
       "      <td>536365</td>\n",
       "      <td>85123A</td>\n",
       "      <td>WHITE HANGING HEART T-LIGHT HOLDER</td>\n",
       "      <td>6</td>\n",
       "      <td>2010-12-01 08:26:00</td>\n",
       "      <td>2.55</td>\n",
       "      <td>17850</td>\n",
       "      <td>United Kingdom</td>\n",
       "      <td>2010-12-01</td>\n",
       "      <td>2010</td>\n",
       "      <td>15.30</td>\n",
       "      <td>2010-12</td>\n",
       "    </tr>\n",
       "    <tr>\n",
       "      <th>1</th>\n",
       "      <td>536365</td>\n",
       "      <td>71053</td>\n",
       "      <td>WHITE METAL LANTERN</td>\n",
       "      <td>6</td>\n",
       "      <td>2010-12-01 08:26:00</td>\n",
       "      <td>3.39</td>\n",
       "      <td>17850</td>\n",
       "      <td>United Kingdom</td>\n",
       "      <td>2010-12-01</td>\n",
       "      <td>2010</td>\n",
       "      <td>20.34</td>\n",
       "      <td>2010-12</td>\n",
       "    </tr>\n",
       "    <tr>\n",
       "      <th>2</th>\n",
       "      <td>536365</td>\n",
       "      <td>84406B</td>\n",
       "      <td>CREAM CUPID HEARTS COAT HANGER</td>\n",
       "      <td>8</td>\n",
       "      <td>2010-12-01 08:26:00</td>\n",
       "      <td>2.75</td>\n",
       "      <td>17850</td>\n",
       "      <td>United Kingdom</td>\n",
       "      <td>2010-12-01</td>\n",
       "      <td>2010</td>\n",
       "      <td>22.00</td>\n",
       "      <td>2010-12</td>\n",
       "    </tr>\n",
       "    <tr>\n",
       "      <th>3</th>\n",
       "      <td>536365</td>\n",
       "      <td>84029G</td>\n",
       "      <td>KNITTED UNION FLAG HOT WATER BOTTLE</td>\n",
       "      <td>6</td>\n",
       "      <td>2010-12-01 08:26:00</td>\n",
       "      <td>3.39</td>\n",
       "      <td>17850</td>\n",
       "      <td>United Kingdom</td>\n",
       "      <td>2010-12-01</td>\n",
       "      <td>2010</td>\n",
       "      <td>20.34</td>\n",
       "      <td>2010-12</td>\n",
       "    </tr>\n",
       "    <tr>\n",
       "      <th>4</th>\n",
       "      <td>536365</td>\n",
       "      <td>84029E</td>\n",
       "      <td>RED WOOLLY HOTTIE WHITE HEART.</td>\n",
       "      <td>6</td>\n",
       "      <td>2010-12-01 08:26:00</td>\n",
       "      <td>3.39</td>\n",
       "      <td>17850</td>\n",
       "      <td>United Kingdom</td>\n",
       "      <td>2010-12-01</td>\n",
       "      <td>2010</td>\n",
       "      <td>20.34</td>\n",
       "      <td>2010-12</td>\n",
       "    </tr>\n",
       "    <tr>\n",
       "      <th>...</th>\n",
       "      <td>...</td>\n",
       "      <td>...</td>\n",
       "      <td>...</td>\n",
       "      <td>...</td>\n",
       "      <td>...</td>\n",
       "      <td>...</td>\n",
       "      <td>...</td>\n",
       "      <td>...</td>\n",
       "      <td>...</td>\n",
       "      <td>...</td>\n",
       "      <td>...</td>\n",
       "      <td>...</td>\n",
       "    </tr>\n",
       "    <tr>\n",
       "      <th>541904</th>\n",
       "      <td>581587</td>\n",
       "      <td>22613</td>\n",
       "      <td>PACK OF 20 SPACEBOY NAPKINS</td>\n",
       "      <td>12</td>\n",
       "      <td>2011-12-09 12:50:00</td>\n",
       "      <td>0.85</td>\n",
       "      <td>12680</td>\n",
       "      <td>France</td>\n",
       "      <td>2011-12-09</td>\n",
       "      <td>2011</td>\n",
       "      <td>10.20</td>\n",
       "      <td>2011-12</td>\n",
       "    </tr>\n",
       "    <tr>\n",
       "      <th>541905</th>\n",
       "      <td>581587</td>\n",
       "      <td>22899</td>\n",
       "      <td>CHILDREN'S APRON DOLLY GIRL</td>\n",
       "      <td>6</td>\n",
       "      <td>2011-12-09 12:50:00</td>\n",
       "      <td>2.10</td>\n",
       "      <td>12680</td>\n",
       "      <td>France</td>\n",
       "      <td>2011-12-09</td>\n",
       "      <td>2011</td>\n",
       "      <td>12.60</td>\n",
       "      <td>2011-12</td>\n",
       "    </tr>\n",
       "    <tr>\n",
       "      <th>541906</th>\n",
       "      <td>581587</td>\n",
       "      <td>23254</td>\n",
       "      <td>CHILDRENS CUTLERY DOLLY GIRL</td>\n",
       "      <td>4</td>\n",
       "      <td>2011-12-09 12:50:00</td>\n",
       "      <td>4.15</td>\n",
       "      <td>12680</td>\n",
       "      <td>France</td>\n",
       "      <td>2011-12-09</td>\n",
       "      <td>2011</td>\n",
       "      <td>16.60</td>\n",
       "      <td>2011-12</td>\n",
       "    </tr>\n",
       "    <tr>\n",
       "      <th>541907</th>\n",
       "      <td>581587</td>\n",
       "      <td>23255</td>\n",
       "      <td>CHILDRENS CUTLERY CIRCUS PARADE</td>\n",
       "      <td>4</td>\n",
       "      <td>2011-12-09 12:50:00</td>\n",
       "      <td>4.15</td>\n",
       "      <td>12680</td>\n",
       "      <td>France</td>\n",
       "      <td>2011-12-09</td>\n",
       "      <td>2011</td>\n",
       "      <td>16.60</td>\n",
       "      <td>2011-12</td>\n",
       "    </tr>\n",
       "    <tr>\n",
       "      <th>541908</th>\n",
       "      <td>581587</td>\n",
       "      <td>22138</td>\n",
       "      <td>BAKING SET 9 PIECE RETROSPOT</td>\n",
       "      <td>3</td>\n",
       "      <td>2011-12-09 12:50:00</td>\n",
       "      <td>4.95</td>\n",
       "      <td>12680</td>\n",
       "      <td>France</td>\n",
       "      <td>2011-12-09</td>\n",
       "      <td>2011</td>\n",
       "      <td>14.85</td>\n",
       "      <td>2011-12</td>\n",
       "    </tr>\n",
       "  </tbody>\n",
       "</table>\n",
       "<p>397924 rows × 12 columns</p>\n",
       "</div>"
      ],
      "text/plain": [
       "       InvoiceNo StockCode                          Description  Quantity  \\\n",
       "0         536365    85123A   WHITE HANGING HEART T-LIGHT HOLDER         6   \n",
       "1         536365     71053                  WHITE METAL LANTERN         6   \n",
       "2         536365    84406B       CREAM CUPID HEARTS COAT HANGER         8   \n",
       "3         536365    84029G  KNITTED UNION FLAG HOT WATER BOTTLE         6   \n",
       "4         536365    84029E       RED WOOLLY HOTTIE WHITE HEART.         6   \n",
       "...          ...       ...                                  ...       ...   \n",
       "541904    581587     22613          PACK OF 20 SPACEBOY NAPKINS        12   \n",
       "541905    581587     22899         CHILDREN'S APRON DOLLY GIRL          6   \n",
       "541906    581587     23254        CHILDRENS CUTLERY DOLLY GIRL          4   \n",
       "541907    581587     23255      CHILDRENS CUTLERY CIRCUS PARADE         4   \n",
       "541908    581587     22138         BAKING SET 9 PIECE RETROSPOT         3   \n",
       "\n",
       "               InvoiceDate  UnitPrice CustomerID         Country   date_ymd  \\\n",
       "0      2010-12-01 08:26:00       2.55      17850  United Kingdom 2010-12-01   \n",
       "1      2010-12-01 08:26:00       3.39      17850  United Kingdom 2010-12-01   \n",
       "2      2010-12-01 08:26:00       2.75      17850  United Kingdom 2010-12-01   \n",
       "3      2010-12-01 08:26:00       3.39      17850  United Kingdom 2010-12-01   \n",
       "4      2010-12-01 08:26:00       3.39      17850  United Kingdom 2010-12-01   \n",
       "...                    ...        ...        ...             ...        ...   \n",
       "541904 2011-12-09 12:50:00       0.85      12680          France 2011-12-09   \n",
       "541905 2011-12-09 12:50:00       2.10      12680          France 2011-12-09   \n",
       "541906 2011-12-09 12:50:00       4.15      12680          France 2011-12-09   \n",
       "541907 2011-12-09 12:50:00       4.15      12680          France 2011-12-09   \n",
       "541908 2011-12-09 12:50:00       4.95      12680          France 2011-12-09   \n",
       "\n",
       "        year  amount  date_ym  \n",
       "0       2010   15.30  2010-12  \n",
       "1       2010   20.34  2010-12  \n",
       "2       2010   22.00  2010-12  \n",
       "3       2010   20.34  2010-12  \n",
       "4       2010   20.34  2010-12  \n",
       "...      ...     ...      ...  \n",
       "541904  2011   10.20  2011-12  \n",
       "541905  2011   12.60  2011-12  \n",
       "541906  2011   16.60  2011-12  \n",
       "541907  2011   16.60  2011-12  \n",
       "541908  2011   14.85  2011-12  \n",
       "\n",
       "[397924 rows x 12 columns]"
      ]
     },
     "execution_count": 49,
     "metadata": {},
     "output_type": "execute_result"
    }
   ],
   "source": [
    "df['date_ym'] = df['date_ymd'].dt.to_period('M')\n",
    "df"
   ]
  },
  {
   "cell_type": "code",
   "execution_count": 50,
   "metadata": {},
   "outputs": [
    {
     "name": "stdout",
     "output_type": "stream",
     "text": [
      "2011-12\n",
      "2010-12\n"
     ]
    }
   ],
   "source": [
    "print(max(df['date_ym']))\n",
    "print(min(df['date_ym']))"
   ]
  },
  {
   "cell_type": "markdown",
   "metadata": {},
   "source": [
    "- 2010년 12월부터 2011년 12월까지의 retention 분석을 할건데\n",
    "- 2011년 12월데이터를 시작일로 보면 당연히 매우 낮을 수밖에 없으니 input에서는 제외"
   ]
  },
  {
   "cell_type": "code",
   "execution_count": 51,
   "metadata": {},
   "outputs": [
    {
     "data": {
      "text/html": [
       "<div>\n",
       "<style scoped>\n",
       "    .dataframe tbody tr th:only-of-type {\n",
       "        vertical-align: middle;\n",
       "    }\n",
       "\n",
       "    .dataframe tbody tr th {\n",
       "        vertical-align: top;\n",
       "    }\n",
       "\n",
       "    .dataframe thead th {\n",
       "        text-align: right;\n",
       "    }\n",
       "</style>\n",
       "<table border=\"1\" class=\"dataframe\">\n",
       "  <thead>\n",
       "    <tr style=\"text-align: right;\">\n",
       "      <th></th>\n",
       "      <th>InvoiceNo</th>\n",
       "      <th>StockCode</th>\n",
       "      <th>Description</th>\n",
       "      <th>Quantity</th>\n",
       "      <th>InvoiceDate</th>\n",
       "      <th>UnitPrice</th>\n",
       "      <th>CustomerID</th>\n",
       "      <th>Country</th>\n",
       "      <th>date_ymd</th>\n",
       "      <th>year</th>\n",
       "      <th>amount</th>\n",
       "      <th>date_ym</th>\n",
       "    </tr>\n",
       "  </thead>\n",
       "  <tbody>\n",
       "    <tr>\n",
       "      <th>0</th>\n",
       "      <td>536365</td>\n",
       "      <td>85123A</td>\n",
       "      <td>WHITE HANGING HEART T-LIGHT HOLDER</td>\n",
       "      <td>6</td>\n",
       "      <td>2010-12-01 08:26:00</td>\n",
       "      <td>2.55</td>\n",
       "      <td>17850</td>\n",
       "      <td>United Kingdom</td>\n",
       "      <td>2010-12-01</td>\n",
       "      <td>2010</td>\n",
       "      <td>15.30</td>\n",
       "      <td>2010-12</td>\n",
       "    </tr>\n",
       "    <tr>\n",
       "      <th>1</th>\n",
       "      <td>536365</td>\n",
       "      <td>71053</td>\n",
       "      <td>WHITE METAL LANTERN</td>\n",
       "      <td>6</td>\n",
       "      <td>2010-12-01 08:26:00</td>\n",
       "      <td>3.39</td>\n",
       "      <td>17850</td>\n",
       "      <td>United Kingdom</td>\n",
       "      <td>2010-12-01</td>\n",
       "      <td>2010</td>\n",
       "      <td>20.34</td>\n",
       "      <td>2010-12</td>\n",
       "    </tr>\n",
       "    <tr>\n",
       "      <th>2</th>\n",
       "      <td>536365</td>\n",
       "      <td>84406B</td>\n",
       "      <td>CREAM CUPID HEARTS COAT HANGER</td>\n",
       "      <td>8</td>\n",
       "      <td>2010-12-01 08:26:00</td>\n",
       "      <td>2.75</td>\n",
       "      <td>17850</td>\n",
       "      <td>United Kingdom</td>\n",
       "      <td>2010-12-01</td>\n",
       "      <td>2010</td>\n",
       "      <td>22.00</td>\n",
       "      <td>2010-12</td>\n",
       "    </tr>\n",
       "    <tr>\n",
       "      <th>3</th>\n",
       "      <td>536365</td>\n",
       "      <td>84029G</td>\n",
       "      <td>KNITTED UNION FLAG HOT WATER BOTTLE</td>\n",
       "      <td>6</td>\n",
       "      <td>2010-12-01 08:26:00</td>\n",
       "      <td>3.39</td>\n",
       "      <td>17850</td>\n",
       "      <td>United Kingdom</td>\n",
       "      <td>2010-12-01</td>\n",
       "      <td>2010</td>\n",
       "      <td>20.34</td>\n",
       "      <td>2010-12</td>\n",
       "    </tr>\n",
       "    <tr>\n",
       "      <th>4</th>\n",
       "      <td>536365</td>\n",
       "      <td>84029E</td>\n",
       "      <td>RED WOOLLY HOTTIE WHITE HEART.</td>\n",
       "      <td>6</td>\n",
       "      <td>2010-12-01 08:26:00</td>\n",
       "      <td>3.39</td>\n",
       "      <td>17850</td>\n",
       "      <td>United Kingdom</td>\n",
       "      <td>2010-12-01</td>\n",
       "      <td>2010</td>\n",
       "      <td>20.34</td>\n",
       "      <td>2010-12</td>\n",
       "    </tr>\n",
       "    <tr>\n",
       "      <th>...</th>\n",
       "      <td>...</td>\n",
       "      <td>...</td>\n",
       "      <td>...</td>\n",
       "      <td>...</td>\n",
       "      <td>...</td>\n",
       "      <td>...</td>\n",
       "      <td>...</td>\n",
       "      <td>...</td>\n",
       "      <td>...</td>\n",
       "      <td>...</td>\n",
       "      <td>...</td>\n",
       "      <td>...</td>\n",
       "    </tr>\n",
       "    <tr>\n",
       "      <th>516364</th>\n",
       "      <td>579885</td>\n",
       "      <td>85034C</td>\n",
       "      <td>3 ROSE MORRIS BOXED CANDLES</td>\n",
       "      <td>4</td>\n",
       "      <td>2011-11-30 17:37:00</td>\n",
       "      <td>1.25</td>\n",
       "      <td>15444</td>\n",
       "      <td>United Kingdom</td>\n",
       "      <td>2011-11-30</td>\n",
       "      <td>2011</td>\n",
       "      <td>5.00</td>\n",
       "      <td>2011-11</td>\n",
       "    </tr>\n",
       "    <tr>\n",
       "      <th>516365</th>\n",
       "      <td>579885</td>\n",
       "      <td>21742</td>\n",
       "      <td>LARGE ROUND WICKER PLATTER</td>\n",
       "      <td>2</td>\n",
       "      <td>2011-11-30 17:37:00</td>\n",
       "      <td>5.95</td>\n",
       "      <td>15444</td>\n",
       "      <td>United Kingdom</td>\n",
       "      <td>2011-11-30</td>\n",
       "      <td>2011</td>\n",
       "      <td>11.90</td>\n",
       "      <td>2011-11</td>\n",
       "    </tr>\n",
       "    <tr>\n",
       "      <th>516366</th>\n",
       "      <td>579885</td>\n",
       "      <td>23084</td>\n",
       "      <td>RABBIT NIGHT LIGHT</td>\n",
       "      <td>6</td>\n",
       "      <td>2011-11-30 17:37:00</td>\n",
       "      <td>2.08</td>\n",
       "      <td>15444</td>\n",
       "      <td>United Kingdom</td>\n",
       "      <td>2011-11-30</td>\n",
       "      <td>2011</td>\n",
       "      <td>12.48</td>\n",
       "      <td>2011-11</td>\n",
       "    </tr>\n",
       "    <tr>\n",
       "      <th>516367</th>\n",
       "      <td>579885</td>\n",
       "      <td>21257</td>\n",
       "      <td>VICTORIAN SEWING BOX MEDIUM</td>\n",
       "      <td>1</td>\n",
       "      <td>2011-11-30 17:37:00</td>\n",
       "      <td>7.95</td>\n",
       "      <td>15444</td>\n",
       "      <td>United Kingdom</td>\n",
       "      <td>2011-11-30</td>\n",
       "      <td>2011</td>\n",
       "      <td>7.95</td>\n",
       "      <td>2011-11</td>\n",
       "    </tr>\n",
       "    <tr>\n",
       "      <th>516368</th>\n",
       "      <td>579885</td>\n",
       "      <td>21259</td>\n",
       "      <td>VICTORIAN SEWING BOX SMALL</td>\n",
       "      <td>1</td>\n",
       "      <td>2011-11-30 17:37:00</td>\n",
       "      <td>5.95</td>\n",
       "      <td>15444</td>\n",
       "      <td>United Kingdom</td>\n",
       "      <td>2011-11-30</td>\n",
       "      <td>2011</td>\n",
       "      <td>5.95</td>\n",
       "      <td>2011-11</td>\n",
       "    </tr>\n",
       "  </tbody>\n",
       "</table>\n",
       "<p>380620 rows × 12 columns</p>\n",
       "</div>"
      ],
      "text/plain": [
       "       InvoiceNo StockCode                          Description  Quantity  \\\n",
       "0         536365    85123A   WHITE HANGING HEART T-LIGHT HOLDER         6   \n",
       "1         536365     71053                  WHITE METAL LANTERN         6   \n",
       "2         536365    84406B       CREAM CUPID HEARTS COAT HANGER         8   \n",
       "3         536365    84029G  KNITTED UNION FLAG HOT WATER BOTTLE         6   \n",
       "4         536365    84029E       RED WOOLLY HOTTIE WHITE HEART.         6   \n",
       "...          ...       ...                                  ...       ...   \n",
       "516364    579885    85034C          3 ROSE MORRIS BOXED CANDLES         4   \n",
       "516365    579885     21742          LARGE ROUND WICKER PLATTER          2   \n",
       "516366    579885     23084                   RABBIT NIGHT LIGHT         6   \n",
       "516367    579885     21257          VICTORIAN SEWING BOX MEDIUM         1   \n",
       "516368    579885     21259          VICTORIAN SEWING BOX SMALL          1   \n",
       "\n",
       "               InvoiceDate  UnitPrice CustomerID         Country   date_ymd  \\\n",
       "0      2010-12-01 08:26:00       2.55      17850  United Kingdom 2010-12-01   \n",
       "1      2010-12-01 08:26:00       3.39      17850  United Kingdom 2010-12-01   \n",
       "2      2010-12-01 08:26:00       2.75      17850  United Kingdom 2010-12-01   \n",
       "3      2010-12-01 08:26:00       3.39      17850  United Kingdom 2010-12-01   \n",
       "4      2010-12-01 08:26:00       3.39      17850  United Kingdom 2010-12-01   \n",
       "...                    ...        ...        ...             ...        ...   \n",
       "516364 2011-11-30 17:37:00       1.25      15444  United Kingdom 2011-11-30   \n",
       "516365 2011-11-30 17:37:00       5.95      15444  United Kingdom 2011-11-30   \n",
       "516366 2011-11-30 17:37:00       2.08      15444  United Kingdom 2011-11-30   \n",
       "516367 2011-11-30 17:37:00       7.95      15444  United Kingdom 2011-11-30   \n",
       "516368 2011-11-30 17:37:00       5.95      15444  United Kingdom 2011-11-30   \n",
       "\n",
       "        year  amount  date_ym  \n",
       "0       2010   15.30  2010-12  \n",
       "1       2010   20.34  2010-12  \n",
       "2       2010   22.00  2010-12  \n",
       "3       2010   20.34  2010-12  \n",
       "4       2010   20.34  2010-12  \n",
       "...      ...     ...      ...  \n",
       "516364  2011    5.00  2011-11  \n",
       "516365  2011   11.90  2011-11  \n",
       "516366  2011   12.48  2011-11  \n",
       "516367  2011    7.95  2011-11  \n",
       "516368  2011    5.95  2011-11  \n",
       "\n",
       "[380620 rows x 12 columns]"
      ]
     },
     "execution_count": 51,
     "metadata": {},
     "output_type": "execute_result"
    }
   ],
   "source": [
    "retention_base = df[df['date_ym']<'2011-12']\n",
    "retention_base"
   ]
  },
  {
   "cell_type": "markdown",
   "metadata": {},
   "source": [
    "- 월별 고유한 날짜리스트를 만듬"
   ]
  },
  {
   "cell_type": "code",
   "execution_count": 52,
   "metadata": {},
   "outputs": [
    {
     "data": {
      "text/plain": [
       "[Period('2010-12', 'M'),\n",
       " Period('2011-01', 'M'),\n",
       " Period('2011-02', 'M'),\n",
       " Period('2011-03', 'M'),\n",
       " Period('2011-04', 'M'),\n",
       " Period('2011-05', 'M'),\n",
       " Period('2011-06', 'M'),\n",
       " Period('2011-07', 'M'),\n",
       " Period('2011-08', 'M'),\n",
       " Period('2011-09', 'M'),\n",
       " Period('2011-10', 'M'),\n",
       " Period('2011-11', 'M')]"
      ]
     },
     "execution_count": 52,
     "metadata": {},
     "output_type": "execute_result"
    }
   ],
   "source": [
    "month_list = sorted(retention_base['date_ym'].unique().tolist())\n",
    "month_list"
   ]
  },
  {
   "cell_type": "markdown",
   "metadata": {},
   "source": [
    "- 리텐션을 계산할 것임\n",
    "- 시작월 & 타겟월의 구매자의 unique한 값 구하고 교집합을 구할 것임\n",
    "- customerID,date_ym,invoiceNo의 Unique한 값만 남기기"
   ]
  },
  {
   "cell_type": "code",
   "execution_count": 53,
   "metadata": {},
   "outputs": [
    {
     "data": {
      "text/html": [
       "<div>\n",
       "<style scoped>\n",
       "    .dataframe tbody tr th:only-of-type {\n",
       "        vertical-align: middle;\n",
       "    }\n",
       "\n",
       "    .dataframe tbody tr th {\n",
       "        vertical-align: top;\n",
       "    }\n",
       "\n",
       "    .dataframe thead th {\n",
       "        text-align: right;\n",
       "    }\n",
       "</style>\n",
       "<table border=\"1\" class=\"dataframe\">\n",
       "  <thead>\n",
       "    <tr style=\"text-align: right;\">\n",
       "      <th></th>\n",
       "      <th>InvoiceNo</th>\n",
       "      <th>StockCode</th>\n",
       "      <th>Description</th>\n",
       "      <th>Quantity</th>\n",
       "      <th>InvoiceDate</th>\n",
       "      <th>UnitPrice</th>\n",
       "      <th>CustomerID</th>\n",
       "      <th>Country</th>\n",
       "      <th>date_ymd</th>\n",
       "      <th>year</th>\n",
       "      <th>amount</th>\n",
       "      <th>date_ym</th>\n",
       "    </tr>\n",
       "  </thead>\n",
       "  <tbody>\n",
       "    <tr>\n",
       "      <th>0</th>\n",
       "      <td>536365</td>\n",
       "      <td>85123A</td>\n",
       "      <td>WHITE HANGING HEART T-LIGHT HOLDER</td>\n",
       "      <td>6</td>\n",
       "      <td>2010-12-01 08:26:00</td>\n",
       "      <td>2.55</td>\n",
       "      <td>17850</td>\n",
       "      <td>United Kingdom</td>\n",
       "      <td>2010-12-01</td>\n",
       "      <td>2010</td>\n",
       "      <td>15.30</td>\n",
       "      <td>2010-12</td>\n",
       "    </tr>\n",
       "    <tr>\n",
       "      <th>9</th>\n",
       "      <td>536367</td>\n",
       "      <td>84879</td>\n",
       "      <td>ASSORTED COLOUR BIRD ORNAMENT</td>\n",
       "      <td>32</td>\n",
       "      <td>2010-12-01 08:34:00</td>\n",
       "      <td>1.69</td>\n",
       "      <td>13047</td>\n",
       "      <td>United Kingdom</td>\n",
       "      <td>2010-12-01</td>\n",
       "      <td>2010</td>\n",
       "      <td>54.08</td>\n",
       "      <td>2010-12</td>\n",
       "    </tr>\n",
       "    <tr>\n",
       "      <th>26</th>\n",
       "      <td>536370</td>\n",
       "      <td>22728</td>\n",
       "      <td>ALARM CLOCK BAKELIKE PINK</td>\n",
       "      <td>24</td>\n",
       "      <td>2010-12-01 08:45:00</td>\n",
       "      <td>3.75</td>\n",
       "      <td>12583</td>\n",
       "      <td>France</td>\n",
       "      <td>2010-12-01</td>\n",
       "      <td>2010</td>\n",
       "      <td>90.00</td>\n",
       "      <td>2010-12</td>\n",
       "    </tr>\n",
       "    <tr>\n",
       "      <th>46</th>\n",
       "      <td>536371</td>\n",
       "      <td>22086</td>\n",
       "      <td>PAPER CHAIN KIT 50'S CHRISTMAS</td>\n",
       "      <td>80</td>\n",
       "      <td>2010-12-01 09:00:00</td>\n",
       "      <td>2.55</td>\n",
       "      <td>13748</td>\n",
       "      <td>United Kingdom</td>\n",
       "      <td>2010-12-01</td>\n",
       "      <td>2010</td>\n",
       "      <td>204.00</td>\n",
       "      <td>2010-12</td>\n",
       "    </tr>\n",
       "    <tr>\n",
       "      <th>65</th>\n",
       "      <td>536374</td>\n",
       "      <td>21258</td>\n",
       "      <td>VICTORIAN SEWING BOX LARGE</td>\n",
       "      <td>32</td>\n",
       "      <td>2010-12-01 09:09:00</td>\n",
       "      <td>10.95</td>\n",
       "      <td>15100</td>\n",
       "      <td>United Kingdom</td>\n",
       "      <td>2010-12-01</td>\n",
       "      <td>2010</td>\n",
       "      <td>350.40</td>\n",
       "      <td>2010-12</td>\n",
       "    </tr>\n",
       "    <tr>\n",
       "      <th>...</th>\n",
       "      <td>...</td>\n",
       "      <td>...</td>\n",
       "      <td>...</td>\n",
       "      <td>...</td>\n",
       "      <td>...</td>\n",
       "      <td>...</td>\n",
       "      <td>...</td>\n",
       "      <td>...</td>\n",
       "      <td>...</td>\n",
       "      <td>...</td>\n",
       "      <td>...</td>\n",
       "      <td>...</td>\n",
       "    </tr>\n",
       "    <tr>\n",
       "      <th>516074</th>\n",
       "      <td>579865</td>\n",
       "      <td>23016</td>\n",
       "      <td>GLASS TWIST BON BON JAR</td>\n",
       "      <td>1</td>\n",
       "      <td>2011-11-30 16:39:00</td>\n",
       "      <td>7.85</td>\n",
       "      <td>16915</td>\n",
       "      <td>United Kingdom</td>\n",
       "      <td>2011-11-30</td>\n",
       "      <td>2011</td>\n",
       "      <td>7.85</td>\n",
       "      <td>2011-11</td>\n",
       "    </tr>\n",
       "    <tr>\n",
       "      <th>516083</th>\n",
       "      <td>579867</td>\n",
       "      <td>35970</td>\n",
       "      <td>ZINC FOLKART SLEIGH BELLS</td>\n",
       "      <td>12</td>\n",
       "      <td>2011-11-30 16:41:00</td>\n",
       "      <td>1.69</td>\n",
       "      <td>16265</td>\n",
       "      <td>United Kingdom</td>\n",
       "      <td>2011-11-30</td>\n",
       "      <td>2011</td>\n",
       "      <td>20.28</td>\n",
       "      <td>2011-11</td>\n",
       "    </tr>\n",
       "    <tr>\n",
       "      <th>516153</th>\n",
       "      <td>579872</td>\n",
       "      <td>23508</td>\n",
       "      <td>MINI PLAYING CARDS DOLLY GIRL</td>\n",
       "      <td>14</td>\n",
       "      <td>2011-11-30 16:54:00</td>\n",
       "      <td>0.42</td>\n",
       "      <td>14085</td>\n",
       "      <td>United Kingdom</td>\n",
       "      <td>2011-11-30</td>\n",
       "      <td>2011</td>\n",
       "      <td>5.88</td>\n",
       "      <td>2011-11</td>\n",
       "    </tr>\n",
       "    <tr>\n",
       "      <th>516190</th>\n",
       "      <td>579881</td>\n",
       "      <td>21616</td>\n",
       "      <td>4 PEAR BOTANICAL DINNER CANDLES</td>\n",
       "      <td>12</td>\n",
       "      <td>2011-11-30 17:22:00</td>\n",
       "      <td>1.25</td>\n",
       "      <td>12429</td>\n",
       "      <td>Denmark</td>\n",
       "      <td>2011-11-30</td>\n",
       "      <td>2011</td>\n",
       "      <td>15.00</td>\n",
       "      <td>2011-11</td>\n",
       "    </tr>\n",
       "    <tr>\n",
       "      <th>516222</th>\n",
       "      <td>579885</td>\n",
       "      <td>85199S</td>\n",
       "      <td>SMALL HANGING IVORY/RED WOOD BIRD</td>\n",
       "      <td>26</td>\n",
       "      <td>2011-11-30 17:37:00</td>\n",
       "      <td>0.42</td>\n",
       "      <td>15444</td>\n",
       "      <td>United Kingdom</td>\n",
       "      <td>2011-11-30</td>\n",
       "      <td>2011</td>\n",
       "      <td>10.92</td>\n",
       "      <td>2011-11</td>\n",
       "    </tr>\n",
       "  </tbody>\n",
       "</table>\n",
       "<p>12440 rows × 12 columns</p>\n",
       "</div>"
      ],
      "text/plain": [
       "       InvoiceNo StockCode                         Description  Quantity  \\\n",
       "0         536365    85123A  WHITE HANGING HEART T-LIGHT HOLDER         6   \n",
       "9         536367     84879       ASSORTED COLOUR BIRD ORNAMENT        32   \n",
       "26        536370     22728           ALARM CLOCK BAKELIKE PINK        24   \n",
       "46        536371     22086      PAPER CHAIN KIT 50'S CHRISTMAS        80   \n",
       "65        536374     21258          VICTORIAN SEWING BOX LARGE        32   \n",
       "...          ...       ...                                 ...       ...   \n",
       "516074    579865     23016             GLASS TWIST BON BON JAR         1   \n",
       "516083    579867     35970           ZINC FOLKART SLEIGH BELLS        12   \n",
       "516153    579872     23508      MINI PLAYING CARDS DOLLY GIRL         14   \n",
       "516190    579881     21616     4 PEAR BOTANICAL DINNER CANDLES        12   \n",
       "516222    579885    85199S   SMALL HANGING IVORY/RED WOOD BIRD        26   \n",
       "\n",
       "               InvoiceDate  UnitPrice CustomerID         Country   date_ymd  \\\n",
       "0      2010-12-01 08:26:00       2.55      17850  United Kingdom 2010-12-01   \n",
       "9      2010-12-01 08:34:00       1.69      13047  United Kingdom 2010-12-01   \n",
       "26     2010-12-01 08:45:00       3.75      12583          France 2010-12-01   \n",
       "46     2010-12-01 09:00:00       2.55      13748  United Kingdom 2010-12-01   \n",
       "65     2010-12-01 09:09:00      10.95      15100  United Kingdom 2010-12-01   \n",
       "...                    ...        ...        ...             ...        ...   \n",
       "516074 2011-11-30 16:39:00       7.85      16915  United Kingdom 2011-11-30   \n",
       "516083 2011-11-30 16:41:00       1.69      16265  United Kingdom 2011-11-30   \n",
       "516153 2011-11-30 16:54:00       0.42      14085  United Kingdom 2011-11-30   \n",
       "516190 2011-11-30 17:22:00       1.25      12429         Denmark 2011-11-30   \n",
       "516222 2011-11-30 17:37:00       0.42      15444  United Kingdom 2011-11-30   \n",
       "\n",
       "        year  amount  date_ym  \n",
       "0       2010   15.30  2010-12  \n",
       "9       2010   54.08  2010-12  \n",
       "26      2010   90.00  2010-12  \n",
       "46      2010  204.00  2010-12  \n",
       "65      2010  350.40  2010-12  \n",
       "...      ...     ...      ...  \n",
       "516074  2011    7.85  2011-11  \n",
       "516083  2011   20.28  2011-11  \n",
       "516153  2011    5.88  2011-11  \n",
       "516190  2011   15.00  2011-11  \n",
       "516222  2011   10.92  2011-11  \n",
       "\n",
       "[12440 rows x 12 columns]"
      ]
     },
     "execution_count": 53,
     "metadata": {},
     "output_type": "execute_result"
    }
   ],
   "source": [
    "retention_base = retention_base.drop_duplicates(subset=['CustomerID','date_ym'],keep='first')\n",
    "retention_base"
   ]
  },
  {
   "cell_type": "code",
   "execution_count": 54,
   "metadata": {},
   "outputs": [],
   "source": [
    "from tqdm.notebook import tqdm"
   ]
  },
  {
   "cell_type": "code",
   "execution_count": 55,
   "metadata": {},
   "outputs": [
    {
     "data": {
      "application/vnd.jupyter.widget-view+json": {
       "model_id": "ba5d9d82f0ee415d963123bcd4719708",
       "version_major": 2,
       "version_minor": 0
      },
      "text/plain": [
       "  0%|          | 0/12 [00:00<?, ?it/s]"
      ]
     },
     "metadata": {},
     "output_type": "display_data"
    },
    {
     "data": {
      "text/html": [
       "<div>\n",
       "<style scoped>\n",
       "    .dataframe tbody tr th:only-of-type {\n",
       "        vertical-align: middle;\n",
       "    }\n",
       "\n",
       "    .dataframe tbody tr th {\n",
       "        vertical-align: top;\n",
       "    }\n",
       "\n",
       "    .dataframe thead th {\n",
       "        text-align: right;\n",
       "    }\n",
       "</style>\n",
       "<table border=\"1\" class=\"dataframe\">\n",
       "  <thead>\n",
       "    <tr style=\"text-align: right;\">\n",
       "      <th></th>\n",
       "      <th>cohort</th>\n",
       "      <th>date_ym</th>\n",
       "      <th>retention_rate</th>\n",
       "    </tr>\n",
       "  </thead>\n",
       "  <tbody>\n",
       "    <tr>\n",
       "      <th>0</th>\n",
       "      <td>2010-12</td>\n",
       "      <td>2010-12</td>\n",
       "      <td>1.000000</td>\n",
       "    </tr>\n",
       "    <tr>\n",
       "      <th>0</th>\n",
       "      <td>2010-12</td>\n",
       "      <td>2011-01</td>\n",
       "      <td>0.366102</td>\n",
       "    </tr>\n",
       "    <tr>\n",
       "      <th>0</th>\n",
       "      <td>2010-12</td>\n",
       "      <td>2011-02</td>\n",
       "      <td>0.323164</td>\n",
       "    </tr>\n",
       "    <tr>\n",
       "      <th>0</th>\n",
       "      <td>2010-12</td>\n",
       "      <td>2011-03</td>\n",
       "      <td>0.384181</td>\n",
       "    </tr>\n",
       "    <tr>\n",
       "      <th>0</th>\n",
       "      <td>2010-12</td>\n",
       "      <td>2011-04</td>\n",
       "      <td>0.362712</td>\n",
       "    </tr>\n",
       "    <tr>\n",
       "      <th>...</th>\n",
       "      <td>...</td>\n",
       "      <td>...</td>\n",
       "      <td>...</td>\n",
       "    </tr>\n",
       "    <tr>\n",
       "      <th>0</th>\n",
       "      <td>2011-09</td>\n",
       "      <td>2011-10</td>\n",
       "      <td>0.386256</td>\n",
       "    </tr>\n",
       "    <tr>\n",
       "      <th>0</th>\n",
       "      <td>2011-09</td>\n",
       "      <td>2011-11</td>\n",
       "      <td>0.522117</td>\n",
       "    </tr>\n",
       "    <tr>\n",
       "      <th>0</th>\n",
       "      <td>2011-10</td>\n",
       "      <td>2011-10</td>\n",
       "      <td>1.000000</td>\n",
       "    </tr>\n",
       "    <tr>\n",
       "      <th>0</th>\n",
       "      <td>2011-10</td>\n",
       "      <td>2011-11</td>\n",
       "      <td>0.456012</td>\n",
       "    </tr>\n",
       "    <tr>\n",
       "      <th>0</th>\n",
       "      <td>2011-11</td>\n",
       "      <td>2011-11</td>\n",
       "      <td>1.000000</td>\n",
       "    </tr>\n",
       "  </tbody>\n",
       "</table>\n",
       "<p>78 rows × 3 columns</p>\n",
       "</div>"
      ],
      "text/plain": [
       "     cohort  date_ym  retention_rate\n",
       "0   2010-12  2010-12        1.000000\n",
       "0   2010-12  2011-01        0.366102\n",
       "0   2010-12  2011-02        0.323164\n",
       "0   2010-12  2011-03        0.384181\n",
       "0   2010-12  2011-04        0.362712\n",
       "..      ...      ...             ...\n",
       "0   2011-09  2011-10        0.386256\n",
       "0   2011-09  2011-11        0.522117\n",
       "0   2011-10  2011-10        1.000000\n",
       "0   2011-10  2011-11        0.456012\n",
       "0   2011-11  2011-11        1.000000\n",
       "\n",
       "[78 rows x 3 columns]"
      ]
     },
     "execution_count": 55,
     "metadata": {},
     "output_type": "execute_result"
    }
   ],
   "source": [
    "retention_rate_df = pd.DataFrame()\n",
    "for i in tqdm(month_list):\n",
    "    for j in month_list:\n",
    "        start = i\n",
    "        end = j\n",
    "        if start <= end:\n",
    "\n",
    "            base = set(retention_base.query('date_ym == @start')['CustomerID'])\n",
    "            target = set(retention_base.query('date_ym == @end')['CustomerID'])\n",
    "            retention = base.intersection(target)\n",
    "            retention_rate = len(retention)/len(base)\n",
    "            retention_df = pd.DataFrame({'cohort':[start],'date_ym':[end],'retention_rate':[retention_rate]})\n",
    "            retention_rate_df = pd.concat([retention_rate_df,retention_df],axis=0)\n",
    "\n",
    "retention_rate_df"
   ]
  },
  {
   "cell_type": "code",
   "execution_count": 56,
   "metadata": {},
   "outputs": [],
   "source": [
    "retention_rate_df['cohort_size'] = (retention_rate_df['date_ym'] - retention_rate_df['cohort']).apply(lambda x: x.n)\n",
    "retention_rate_df[['cohort','date_ym']] = retention_rate_df[['cohort','date_ym']].apply(lambda x: x.astype('str'))"
   ]
  },
  {
   "cell_type": "code",
   "execution_count": 57,
   "metadata": {},
   "outputs": [
    {
     "data": {
      "text/html": [
       "<div>\n",
       "<style scoped>\n",
       "    .dataframe tbody tr th:only-of-type {\n",
       "        vertical-align: middle;\n",
       "    }\n",
       "\n",
       "    .dataframe tbody tr th {\n",
       "        vertical-align: top;\n",
       "    }\n",
       "\n",
       "    .dataframe thead th {\n",
       "        text-align: right;\n",
       "    }\n",
       "</style>\n",
       "<table border=\"1\" class=\"dataframe\">\n",
       "  <thead>\n",
       "    <tr style=\"text-align: right;\">\n",
       "      <th>cohort_size</th>\n",
       "      <th>0</th>\n",
       "      <th>1</th>\n",
       "      <th>2</th>\n",
       "      <th>3</th>\n",
       "      <th>4</th>\n",
       "      <th>5</th>\n",
       "      <th>6</th>\n",
       "      <th>7</th>\n",
       "      <th>8</th>\n",
       "      <th>9</th>\n",
       "      <th>10</th>\n",
       "      <th>11</th>\n",
       "    </tr>\n",
       "    <tr>\n",
       "      <th>cohort</th>\n",
       "      <th></th>\n",
       "      <th></th>\n",
       "      <th></th>\n",
       "      <th></th>\n",
       "      <th></th>\n",
       "      <th></th>\n",
       "      <th></th>\n",
       "      <th></th>\n",
       "      <th></th>\n",
       "      <th></th>\n",
       "      <th></th>\n",
       "      <th></th>\n",
       "    </tr>\n",
       "  </thead>\n",
       "  <tbody>\n",
       "    <tr>\n",
       "      <th>2010-12</th>\n",
       "      <td>1.0</td>\n",
       "      <td>0.366102</td>\n",
       "      <td>0.323164</td>\n",
       "      <td>0.384181</td>\n",
       "      <td>0.362712</td>\n",
       "      <td>0.397740</td>\n",
       "      <td>0.362712</td>\n",
       "      <td>0.349153</td>\n",
       "      <td>0.353672</td>\n",
       "      <td>0.395480</td>\n",
       "      <td>0.374011</td>\n",
       "      <td>0.502825</td>\n",
       "    </tr>\n",
       "    <tr>\n",
       "      <th>2011-01</th>\n",
       "      <td>1.0</td>\n",
       "      <td>0.353576</td>\n",
       "      <td>0.430499</td>\n",
       "      <td>0.383266</td>\n",
       "      <td>0.457490</td>\n",
       "      <td>0.419703</td>\n",
       "      <td>0.391363</td>\n",
       "      <td>0.384615</td>\n",
       "      <td>0.438596</td>\n",
       "      <td>0.417004</td>\n",
       "      <td>0.514170</td>\n",
       "      <td>NaN</td>\n",
       "    </tr>\n",
       "    <tr>\n",
       "      <th>2011-02</th>\n",
       "      <td>1.0</td>\n",
       "      <td>0.382586</td>\n",
       "      <td>0.375989</td>\n",
       "      <td>0.468338</td>\n",
       "      <td>0.428760</td>\n",
       "      <td>0.405013</td>\n",
       "      <td>0.402375</td>\n",
       "      <td>0.440633</td>\n",
       "      <td>0.414248</td>\n",
       "      <td>0.485488</td>\n",
       "      <td>NaN</td>\n",
       "      <td>NaN</td>\n",
       "    </tr>\n",
       "    <tr>\n",
       "      <th>2011-03</th>\n",
       "      <td>1.0</td>\n",
       "      <td>0.312115</td>\n",
       "      <td>0.441478</td>\n",
       "      <td>0.401437</td>\n",
       "      <td>0.377823</td>\n",
       "      <td>0.360370</td>\n",
       "      <td>0.421971</td>\n",
       "      <td>0.390144</td>\n",
       "      <td>0.474333</td>\n",
       "      <td>NaN</td>\n",
       "      <td>NaN</td>\n",
       "      <td>NaN</td>\n",
       "    </tr>\n",
       "    <tr>\n",
       "      <th>2011-04</th>\n",
       "      <td>1.0</td>\n",
       "      <td>0.429907</td>\n",
       "      <td>0.419393</td>\n",
       "      <td>0.407710</td>\n",
       "      <td>0.387850</td>\n",
       "      <td>0.450935</td>\n",
       "      <td>0.417056</td>\n",
       "      <td>0.491822</td>\n",
       "      <td>NaN</td>\n",
       "      <td>NaN</td>\n",
       "      <td>NaN</td>\n",
       "      <td>NaN</td>\n",
       "    </tr>\n",
       "    <tr>\n",
       "      <th>2011-05</th>\n",
       "      <td>1.0</td>\n",
       "      <td>0.388258</td>\n",
       "      <td>0.407197</td>\n",
       "      <td>0.405303</td>\n",
       "      <td>0.442235</td>\n",
       "      <td>0.416667</td>\n",
       "      <td>0.501894</td>\n",
       "      <td>NaN</td>\n",
       "      <td>NaN</td>\n",
       "      <td>NaN</td>\n",
       "      <td>NaN</td>\n",
       "      <td>NaN</td>\n",
       "    </tr>\n",
       "    <tr>\n",
       "      <th>2011-06</th>\n",
       "      <td>1.0</td>\n",
       "      <td>0.368315</td>\n",
       "      <td>0.409687</td>\n",
       "      <td>0.467205</td>\n",
       "      <td>0.435923</td>\n",
       "      <td>0.517659</td>\n",
       "      <td>NaN</td>\n",
       "      <td>NaN</td>\n",
       "      <td>NaN</td>\n",
       "      <td>NaN</td>\n",
       "      <td>NaN</td>\n",
       "      <td>NaN</td>\n",
       "    </tr>\n",
       "    <tr>\n",
       "      <th>2011-07</th>\n",
       "      <td>1.0</td>\n",
       "      <td>0.408851</td>\n",
       "      <td>0.457323</td>\n",
       "      <td>0.457323</td>\n",
       "      <td>0.521602</td>\n",
       "      <td>NaN</td>\n",
       "      <td>NaN</td>\n",
       "      <td>NaN</td>\n",
       "      <td>NaN</td>\n",
       "      <td>NaN</td>\n",
       "      <td>NaN</td>\n",
       "      <td>NaN</td>\n",
       "    </tr>\n",
       "    <tr>\n",
       "      <th>2011-08</th>\n",
       "      <td>1.0</td>\n",
       "      <td>0.454545</td>\n",
       "      <td>0.449198</td>\n",
       "      <td>0.534759</td>\n",
       "      <td>NaN</td>\n",
       "      <td>NaN</td>\n",
       "      <td>NaN</td>\n",
       "      <td>NaN</td>\n",
       "      <td>NaN</td>\n",
       "      <td>NaN</td>\n",
       "      <td>NaN</td>\n",
       "      <td>NaN</td>\n",
       "    </tr>\n",
       "    <tr>\n",
       "      <th>2011-09</th>\n",
       "      <td>1.0</td>\n",
       "      <td>0.386256</td>\n",
       "      <td>0.522117</td>\n",
       "      <td>NaN</td>\n",
       "      <td>NaN</td>\n",
       "      <td>NaN</td>\n",
       "      <td>NaN</td>\n",
       "      <td>NaN</td>\n",
       "      <td>NaN</td>\n",
       "      <td>NaN</td>\n",
       "      <td>NaN</td>\n",
       "      <td>NaN</td>\n",
       "    </tr>\n",
       "    <tr>\n",
       "      <th>2011-10</th>\n",
       "      <td>1.0</td>\n",
       "      <td>0.456012</td>\n",
       "      <td>NaN</td>\n",
       "      <td>NaN</td>\n",
       "      <td>NaN</td>\n",
       "      <td>NaN</td>\n",
       "      <td>NaN</td>\n",
       "      <td>NaN</td>\n",
       "      <td>NaN</td>\n",
       "      <td>NaN</td>\n",
       "      <td>NaN</td>\n",
       "      <td>NaN</td>\n",
       "    </tr>\n",
       "    <tr>\n",
       "      <th>2011-11</th>\n",
       "      <td>1.0</td>\n",
       "      <td>NaN</td>\n",
       "      <td>NaN</td>\n",
       "      <td>NaN</td>\n",
       "      <td>NaN</td>\n",
       "      <td>NaN</td>\n",
       "      <td>NaN</td>\n",
       "      <td>NaN</td>\n",
       "      <td>NaN</td>\n",
       "      <td>NaN</td>\n",
       "      <td>NaN</td>\n",
       "      <td>NaN</td>\n",
       "    </tr>\n",
       "  </tbody>\n",
       "</table>\n",
       "</div>"
      ],
      "text/plain": [
       "cohort_size   0         1         2         3         4         5         6   \\\n",
       "cohort                                                                         \n",
       "2010-12      1.0  0.366102  0.323164  0.384181  0.362712  0.397740  0.362712   \n",
       "2011-01      1.0  0.353576  0.430499  0.383266  0.457490  0.419703  0.391363   \n",
       "2011-02      1.0  0.382586  0.375989  0.468338  0.428760  0.405013  0.402375   \n",
       "2011-03      1.0  0.312115  0.441478  0.401437  0.377823  0.360370  0.421971   \n",
       "2011-04      1.0  0.429907  0.419393  0.407710  0.387850  0.450935  0.417056   \n",
       "2011-05      1.0  0.388258  0.407197  0.405303  0.442235  0.416667  0.501894   \n",
       "2011-06      1.0  0.368315  0.409687  0.467205  0.435923  0.517659       NaN   \n",
       "2011-07      1.0  0.408851  0.457323  0.457323  0.521602       NaN       NaN   \n",
       "2011-08      1.0  0.454545  0.449198  0.534759       NaN       NaN       NaN   \n",
       "2011-09      1.0  0.386256  0.522117       NaN       NaN       NaN       NaN   \n",
       "2011-10      1.0  0.456012       NaN       NaN       NaN       NaN       NaN   \n",
       "2011-11      1.0       NaN       NaN       NaN       NaN       NaN       NaN   \n",
       "\n",
       "cohort_size        7         8         9         10        11  \n",
       "cohort                                                         \n",
       "2010-12      0.349153  0.353672  0.395480  0.374011  0.502825  \n",
       "2011-01      0.384615  0.438596  0.417004  0.514170       NaN  \n",
       "2011-02      0.440633  0.414248  0.485488       NaN       NaN  \n",
       "2011-03      0.390144  0.474333       NaN       NaN       NaN  \n",
       "2011-04      0.491822       NaN       NaN       NaN       NaN  \n",
       "2011-05           NaN       NaN       NaN       NaN       NaN  \n",
       "2011-06           NaN       NaN       NaN       NaN       NaN  \n",
       "2011-07           NaN       NaN       NaN       NaN       NaN  \n",
       "2011-08           NaN       NaN       NaN       NaN       NaN  \n",
       "2011-09           NaN       NaN       NaN       NaN       NaN  \n",
       "2011-10           NaN       NaN       NaN       NaN       NaN  \n",
       "2011-11           NaN       NaN       NaN       NaN       NaN  "
      ]
     },
     "execution_count": 57,
     "metadata": {},
     "output_type": "execute_result"
    }
   ],
   "source": [
    "retention_final = pd.pivot_table(retention_rate_df,values='retention_rate',index='cohort',columns='cohort_size')\n",
    "retention_final"
   ]
  },
  {
   "cell_type": "code",
   "execution_count": 58,
   "metadata": {},
   "outputs": [
    {
     "data": {
      "application/vnd.plotly.v1+json": {
       "config": {
        "plotlyServerURL": "https://plot.ly"
       },
       "data": [
        {
         "coloraxis": "coloraxis",
         "hovertemplate": "cohort_size: %{x}<br>cohort: %{y}<br>color: %{z}<extra></extra>",
         "name": "0",
         "texttemplate": "%{z:.2%}",
         "type": "heatmap",
         "x": [
          0,
          1,
          2,
          3,
          4,
          5,
          6,
          7,
          8,
          9,
          10,
          11
         ],
         "xaxis": "x",
         "y": [
          "2010-12",
          "2011-01",
          "2011-02",
          "2011-03",
          "2011-04",
          "2011-05",
          "2011-06",
          "2011-07",
          "2011-08",
          "2011-09",
          "2011-10",
          "2011-11"
         ],
         "yaxis": "y",
         "z": [
          [
           1,
           0.36610169491525424,
           0.3231638418079096,
           0.384180790960452,
           0.36271186440677966,
           0.3977401129943503,
           0.36271186440677966,
           0.34915254237288135,
           0.3536723163841808,
           0.3954802259887006,
           0.37401129943502825,
           0.5028248587570622
          ],
          [
           1,
           0.3535762483130904,
           0.43049932523616735,
           0.3832658569500675,
           0.4574898785425101,
           0.41970310391363025,
           0.3913630229419703,
           0.38461538461538464,
           0.43859649122807015,
           0.41700404858299595,
           0.5141700404858299,
           null
          ],
          [
           1,
           0.38258575197889183,
           0.3759894459102902,
           0.4683377308707124,
           0.4287598944591029,
           0.4050131926121372,
           0.4023746701846966,
           0.44063324538258575,
           0.41424802110817943,
           0.48548812664907653,
           null,
           null
          ],
          [
           1,
           0.31211498973305957,
           0.4414784394250513,
           0.40143737166324434,
           0.37782340862423,
           0.3603696098562628,
           0.4219712525667351,
           0.39014373716632444,
           0.47433264887063653,
           null,
           null,
           null
          ],
          [
           1,
           0.42990654205607476,
           0.41939252336448596,
           0.4077102803738318,
           0.3878504672897196,
           0.45093457943925236,
           0.41705607476635514,
           0.49182242990654207,
           null,
           null,
           null,
           null
          ],
          [
           1,
           0.38825757575757575,
           0.4071969696969697,
           0.4053030303030303,
           0.4422348484848485,
           0.4166666666666667,
           0.5018939393939394,
           null,
           null,
           null,
           null,
           null
          ],
          [
           1,
           0.3683148335015136,
           0.40968718466195764,
           0.467204843592331,
           0.43592330978809285,
           0.5176589303733602,
           null,
           null,
           null,
           null,
           null,
           null
          ],
          [
           1,
           0.4088514225500527,
           0.45732349841938885,
           0.45732349841938885,
           0.5216016859852476,
           null,
           null,
           null,
           null,
           null,
           null,
           null
          ],
          [
           1,
           0.45454545454545453,
           0.44919786096256686,
           0.5347593582887701,
           null,
           null,
           null,
           null,
           null,
           null,
           null,
           null
          ],
          [
           1,
           0.3862559241706161,
           0.5221169036334913,
           null,
           null,
           null,
           null,
           null,
           null,
           null,
           null,
           null
          ],
          [
           1,
           0.4560117302052786,
           null,
           null,
           null,
           null,
           null,
           null,
           null,
           null,
           null,
           null
          ],
          [
           1,
           null,
           null,
           null,
           null,
           null,
           null,
           null,
           null,
           null,
           null,
           null
          ]
         ]
        }
       ],
       "layout": {
        "coloraxis": {
         "colorscale": [
          [
           0,
           "rgb(255,245,240)"
          ],
          [
           0.125,
           "rgb(254,224,210)"
          ],
          [
           0.25,
           "rgb(252,187,161)"
          ],
          [
           0.375,
           "rgb(252,146,114)"
          ],
          [
           0.5,
           "rgb(251,106,74)"
          ],
          [
           0.625,
           "rgb(239,59,44)"
          ],
          [
           0.75,
           "rgb(203,24,29)"
          ],
          [
           0.875,
           "rgb(165,15,21)"
          ],
          [
           1,
           "rgb(103,0,13)"
          ]
         ]
        },
        "margin": {
         "t": 60
        },
        "template": {
         "data": {
          "bar": [
           {
            "error_x": {
             "color": "#2a3f5f"
            },
            "error_y": {
             "color": "#2a3f5f"
            },
            "marker": {
             "line": {
              "color": "#E5ECF6",
              "width": 0.5
             },
             "pattern": {
              "fillmode": "overlay",
              "size": 10,
              "solidity": 0.2
             }
            },
            "type": "bar"
           }
          ],
          "barpolar": [
           {
            "marker": {
             "line": {
              "color": "#E5ECF6",
              "width": 0.5
             },
             "pattern": {
              "fillmode": "overlay",
              "size": 10,
              "solidity": 0.2
             }
            },
            "type": "barpolar"
           }
          ],
          "carpet": [
           {
            "aaxis": {
             "endlinecolor": "#2a3f5f",
             "gridcolor": "white",
             "linecolor": "white",
             "minorgridcolor": "white",
             "startlinecolor": "#2a3f5f"
            },
            "baxis": {
             "endlinecolor": "#2a3f5f",
             "gridcolor": "white",
             "linecolor": "white",
             "minorgridcolor": "white",
             "startlinecolor": "#2a3f5f"
            },
            "type": "carpet"
           }
          ],
          "choropleth": [
           {
            "colorbar": {
             "outlinewidth": 0,
             "ticks": ""
            },
            "type": "choropleth"
           }
          ],
          "contour": [
           {
            "colorbar": {
             "outlinewidth": 0,
             "ticks": ""
            },
            "colorscale": [
             [
              0,
              "#0d0887"
             ],
             [
              0.1111111111111111,
              "#46039f"
             ],
             [
              0.2222222222222222,
              "#7201a8"
             ],
             [
              0.3333333333333333,
              "#9c179e"
             ],
             [
              0.4444444444444444,
              "#bd3786"
             ],
             [
              0.5555555555555556,
              "#d8576b"
             ],
             [
              0.6666666666666666,
              "#ed7953"
             ],
             [
              0.7777777777777778,
              "#fb9f3a"
             ],
             [
              0.8888888888888888,
              "#fdca26"
             ],
             [
              1,
              "#f0f921"
             ]
            ],
            "type": "contour"
           }
          ],
          "contourcarpet": [
           {
            "colorbar": {
             "outlinewidth": 0,
             "ticks": ""
            },
            "type": "contourcarpet"
           }
          ],
          "heatmap": [
           {
            "colorbar": {
             "outlinewidth": 0,
             "ticks": ""
            },
            "colorscale": [
             [
              0,
              "#0d0887"
             ],
             [
              0.1111111111111111,
              "#46039f"
             ],
             [
              0.2222222222222222,
              "#7201a8"
             ],
             [
              0.3333333333333333,
              "#9c179e"
             ],
             [
              0.4444444444444444,
              "#bd3786"
             ],
             [
              0.5555555555555556,
              "#d8576b"
             ],
             [
              0.6666666666666666,
              "#ed7953"
             ],
             [
              0.7777777777777778,
              "#fb9f3a"
             ],
             [
              0.8888888888888888,
              "#fdca26"
             ],
             [
              1,
              "#f0f921"
             ]
            ],
            "type": "heatmap"
           }
          ],
          "heatmapgl": [
           {
            "colorbar": {
             "outlinewidth": 0,
             "ticks": ""
            },
            "colorscale": [
             [
              0,
              "#0d0887"
             ],
             [
              0.1111111111111111,
              "#46039f"
             ],
             [
              0.2222222222222222,
              "#7201a8"
             ],
             [
              0.3333333333333333,
              "#9c179e"
             ],
             [
              0.4444444444444444,
              "#bd3786"
             ],
             [
              0.5555555555555556,
              "#d8576b"
             ],
             [
              0.6666666666666666,
              "#ed7953"
             ],
             [
              0.7777777777777778,
              "#fb9f3a"
             ],
             [
              0.8888888888888888,
              "#fdca26"
             ],
             [
              1,
              "#f0f921"
             ]
            ],
            "type": "heatmapgl"
           }
          ],
          "histogram": [
           {
            "marker": {
             "pattern": {
              "fillmode": "overlay",
              "size": 10,
              "solidity": 0.2
             }
            },
            "type": "histogram"
           }
          ],
          "histogram2d": [
           {
            "colorbar": {
             "outlinewidth": 0,
             "ticks": ""
            },
            "colorscale": [
             [
              0,
              "#0d0887"
             ],
             [
              0.1111111111111111,
              "#46039f"
             ],
             [
              0.2222222222222222,
              "#7201a8"
             ],
             [
              0.3333333333333333,
              "#9c179e"
             ],
             [
              0.4444444444444444,
              "#bd3786"
             ],
             [
              0.5555555555555556,
              "#d8576b"
             ],
             [
              0.6666666666666666,
              "#ed7953"
             ],
             [
              0.7777777777777778,
              "#fb9f3a"
             ],
             [
              0.8888888888888888,
              "#fdca26"
             ],
             [
              1,
              "#f0f921"
             ]
            ],
            "type": "histogram2d"
           }
          ],
          "histogram2dcontour": [
           {
            "colorbar": {
             "outlinewidth": 0,
             "ticks": ""
            },
            "colorscale": [
             [
              0,
              "#0d0887"
             ],
             [
              0.1111111111111111,
              "#46039f"
             ],
             [
              0.2222222222222222,
              "#7201a8"
             ],
             [
              0.3333333333333333,
              "#9c179e"
             ],
             [
              0.4444444444444444,
              "#bd3786"
             ],
             [
              0.5555555555555556,
              "#d8576b"
             ],
             [
              0.6666666666666666,
              "#ed7953"
             ],
             [
              0.7777777777777778,
              "#fb9f3a"
             ],
             [
              0.8888888888888888,
              "#fdca26"
             ],
             [
              1,
              "#f0f921"
             ]
            ],
            "type": "histogram2dcontour"
           }
          ],
          "mesh3d": [
           {
            "colorbar": {
             "outlinewidth": 0,
             "ticks": ""
            },
            "type": "mesh3d"
           }
          ],
          "parcoords": [
           {
            "line": {
             "colorbar": {
              "outlinewidth": 0,
              "ticks": ""
             }
            },
            "type": "parcoords"
           }
          ],
          "pie": [
           {
            "automargin": true,
            "type": "pie"
           }
          ],
          "scatter": [
           {
            "fillpattern": {
             "fillmode": "overlay",
             "size": 10,
             "solidity": 0.2
            },
            "type": "scatter"
           }
          ],
          "scatter3d": [
           {
            "line": {
             "colorbar": {
              "outlinewidth": 0,
              "ticks": ""
             }
            },
            "marker": {
             "colorbar": {
              "outlinewidth": 0,
              "ticks": ""
             }
            },
            "type": "scatter3d"
           }
          ],
          "scattercarpet": [
           {
            "marker": {
             "colorbar": {
              "outlinewidth": 0,
              "ticks": ""
             }
            },
            "type": "scattercarpet"
           }
          ],
          "scattergeo": [
           {
            "marker": {
             "colorbar": {
              "outlinewidth": 0,
              "ticks": ""
             }
            },
            "type": "scattergeo"
           }
          ],
          "scattergl": [
           {
            "marker": {
             "colorbar": {
              "outlinewidth": 0,
              "ticks": ""
             }
            },
            "type": "scattergl"
           }
          ],
          "scattermapbox": [
           {
            "marker": {
             "colorbar": {
              "outlinewidth": 0,
              "ticks": ""
             }
            },
            "type": "scattermapbox"
           }
          ],
          "scatterpolar": [
           {
            "marker": {
             "colorbar": {
              "outlinewidth": 0,
              "ticks": ""
             }
            },
            "type": "scatterpolar"
           }
          ],
          "scatterpolargl": [
           {
            "marker": {
             "colorbar": {
              "outlinewidth": 0,
              "ticks": ""
             }
            },
            "type": "scatterpolargl"
           }
          ],
          "scatterternary": [
           {
            "marker": {
             "colorbar": {
              "outlinewidth": 0,
              "ticks": ""
             }
            },
            "type": "scatterternary"
           }
          ],
          "surface": [
           {
            "colorbar": {
             "outlinewidth": 0,
             "ticks": ""
            },
            "colorscale": [
             [
              0,
              "#0d0887"
             ],
             [
              0.1111111111111111,
              "#46039f"
             ],
             [
              0.2222222222222222,
              "#7201a8"
             ],
             [
              0.3333333333333333,
              "#9c179e"
             ],
             [
              0.4444444444444444,
              "#bd3786"
             ],
             [
              0.5555555555555556,
              "#d8576b"
             ],
             [
              0.6666666666666666,
              "#ed7953"
             ],
             [
              0.7777777777777778,
              "#fb9f3a"
             ],
             [
              0.8888888888888888,
              "#fdca26"
             ],
             [
              1,
              "#f0f921"
             ]
            ],
            "type": "surface"
           }
          ],
          "table": [
           {
            "cells": {
             "fill": {
              "color": "#EBF0F8"
             },
             "line": {
              "color": "white"
             }
            },
            "header": {
             "fill": {
              "color": "#C8D4E3"
             },
             "line": {
              "color": "white"
             }
            },
            "type": "table"
           }
          ]
         },
         "layout": {
          "annotationdefaults": {
           "arrowcolor": "#2a3f5f",
           "arrowhead": 0,
           "arrowwidth": 1
          },
          "autotypenumbers": "strict",
          "coloraxis": {
           "colorbar": {
            "outlinewidth": 0,
            "ticks": ""
           }
          },
          "colorscale": {
           "diverging": [
            [
             0,
             "#8e0152"
            ],
            [
             0.1,
             "#c51b7d"
            ],
            [
             0.2,
             "#de77ae"
            ],
            [
             0.3,
             "#f1b6da"
            ],
            [
             0.4,
             "#fde0ef"
            ],
            [
             0.5,
             "#f7f7f7"
            ],
            [
             0.6,
             "#e6f5d0"
            ],
            [
             0.7,
             "#b8e186"
            ],
            [
             0.8,
             "#7fbc41"
            ],
            [
             0.9,
             "#4d9221"
            ],
            [
             1,
             "#276419"
            ]
           ],
           "sequential": [
            [
             0,
             "#0d0887"
            ],
            [
             0.1111111111111111,
             "#46039f"
            ],
            [
             0.2222222222222222,
             "#7201a8"
            ],
            [
             0.3333333333333333,
             "#9c179e"
            ],
            [
             0.4444444444444444,
             "#bd3786"
            ],
            [
             0.5555555555555556,
             "#d8576b"
            ],
            [
             0.6666666666666666,
             "#ed7953"
            ],
            [
             0.7777777777777778,
             "#fb9f3a"
            ],
            [
             0.8888888888888888,
             "#fdca26"
            ],
            [
             1,
             "#f0f921"
            ]
           ],
           "sequentialminus": [
            [
             0,
             "#0d0887"
            ],
            [
             0.1111111111111111,
             "#46039f"
            ],
            [
             0.2222222222222222,
             "#7201a8"
            ],
            [
             0.3333333333333333,
             "#9c179e"
            ],
            [
             0.4444444444444444,
             "#bd3786"
            ],
            [
             0.5555555555555556,
             "#d8576b"
            ],
            [
             0.6666666666666666,
             "#ed7953"
            ],
            [
             0.7777777777777778,
             "#fb9f3a"
            ],
            [
             0.8888888888888888,
             "#fdca26"
            ],
            [
             1,
             "#f0f921"
            ]
           ]
          },
          "colorway": [
           "#636efa",
           "#EF553B",
           "#00cc96",
           "#ab63fa",
           "#FFA15A",
           "#19d3f3",
           "#FF6692",
           "#B6E880",
           "#FF97FF",
           "#FECB52"
          ],
          "font": {
           "color": "#2a3f5f"
          },
          "geo": {
           "bgcolor": "white",
           "lakecolor": "white",
           "landcolor": "#E5ECF6",
           "showlakes": true,
           "showland": true,
           "subunitcolor": "white"
          },
          "hoverlabel": {
           "align": "left"
          },
          "hovermode": "closest",
          "mapbox": {
           "style": "light"
          },
          "paper_bgcolor": "white",
          "plot_bgcolor": "#E5ECF6",
          "polar": {
           "angularaxis": {
            "gridcolor": "white",
            "linecolor": "white",
            "ticks": ""
           },
           "bgcolor": "#E5ECF6",
           "radialaxis": {
            "gridcolor": "white",
            "linecolor": "white",
            "ticks": ""
           }
          },
          "scene": {
           "xaxis": {
            "backgroundcolor": "#E5ECF6",
            "gridcolor": "white",
            "gridwidth": 2,
            "linecolor": "white",
            "showbackground": true,
            "ticks": "",
            "zerolinecolor": "white"
           },
           "yaxis": {
            "backgroundcolor": "#E5ECF6",
            "gridcolor": "white",
            "gridwidth": 2,
            "linecolor": "white",
            "showbackground": true,
            "ticks": "",
            "zerolinecolor": "white"
           },
           "zaxis": {
            "backgroundcolor": "#E5ECF6",
            "gridcolor": "white",
            "gridwidth": 2,
            "linecolor": "white",
            "showbackground": true,
            "ticks": "",
            "zerolinecolor": "white"
           }
          },
          "shapedefaults": {
           "line": {
            "color": "#2a3f5f"
           }
          },
          "ternary": {
           "aaxis": {
            "gridcolor": "white",
            "linecolor": "white",
            "ticks": ""
           },
           "baxis": {
            "gridcolor": "white",
            "linecolor": "white",
            "ticks": ""
           },
           "bgcolor": "#E5ECF6",
           "caxis": {
            "gridcolor": "white",
            "linecolor": "white",
            "ticks": ""
           }
          },
          "title": {
           "x": 0.05
          },
          "xaxis": {
           "automargin": true,
           "gridcolor": "white",
           "linecolor": "white",
           "ticks": "",
           "title": {
            "standoff": 15
           },
           "zerolinecolor": "white",
           "zerolinewidth": 2
          },
          "yaxis": {
           "automargin": true,
           "gridcolor": "white",
           "linecolor": "white",
           "ticks": "",
           "title": {
            "standoff": 15
           },
           "zerolinecolor": "white",
           "zerolinewidth": 2
          }
         }
        },
        "xaxis": {
         "anchor": "y",
         "constrain": "domain",
         "domain": [
          0,
          1
         ],
         "scaleanchor": "y",
         "title": {
          "text": "cohort_size"
         }
        },
        "yaxis": {
         "anchor": "x",
         "autorange": "reversed",
         "constrain": "domain",
         "domain": [
          0,
          1
         ],
         "title": {
          "text": "cohort"
         }
        }
       }
      }
     },
     "metadata": {},
     "output_type": "display_data"
    }
   ],
   "source": [
    "fig = px.imshow(retention_final,text_auto='.2%',color_continuous_scale='reds')\n",
    "fig"
   ]
  },
  {
   "cell_type": "markdown",
   "metadata": {},
   "source": [
    "## **리텐션 분석결과**\n",
    "***\n",
    "- 최근으로 올수록 리텐션 비율이 오르는 고무적인 모습\n",
    "- 2011년 11월에 많은 고객이 복귀함"
   ]
  },
  {
   "cell_type": "markdown",
   "metadata": {},
   "source": [
    "- 리텐션 커브(코호트 사이즈별 리텐션 비율의 평균을 내는 것)"
   ]
  },
  {
   "cell_type": "code",
   "execution_count": 59,
   "metadata": {},
   "outputs": [],
   "source": [
    "retention_curve = retention_rate_df.groupby('cohort_size').agg({'retention_rate':'mean'})\n",
    "retention_curve = retention_curve.reset_index(drop=False)"
   ]
  },
  {
   "cell_type": "code",
   "execution_count": 60,
   "metadata": {},
   "outputs": [
    {
     "data": {
      "application/vnd.plotly.v1+json": {
       "config": {
        "plotlyServerURL": "https://plot.ly"
       },
       "data": [
        {
         "hovertemplate": "cohort_size=%{x}<br>retention_rate=%{y}<extra></extra>",
         "legendgroup": "",
         "line": {
          "color": "red",
          "dash": "solid"
         },
         "marker": {
          "symbol": "circle"
         },
         "mode": "lines",
         "name": "",
         "orientation": "v",
         "showlegend": false,
         "type": "scatter",
         "x": [
          0,
          1,
          2,
          3,
          4,
          5,
          6,
          7,
          8,
          9,
          10,
          11
         ],
         "xaxis": "x",
         "y": [
          1,
          0.3915020152478965,
          0.4236045993118279,
          0.4343914179357587,
          0.4267994196975664,
          0.42401231369366565,
          0.41622847071007935,
          0.41127346788874364,
          0.42021236939776674,
          0.43265746707359104,
          0.4440906699604291,
          0.5028248587570622
         ],
         "yaxis": "y"
        }
       ],
       "layout": {
        "legend": {
         "tracegroupgap": 0
        },
        "margin": {
         "t": 60
        },
        "paper_bgcolor": "lightgray",
        "plot_bgcolor": "lightblue",
        "template": {
         "data": {
          "bar": [
           {
            "error_x": {
             "color": "#2a3f5f"
            },
            "error_y": {
             "color": "#2a3f5f"
            },
            "marker": {
             "line": {
              "color": "#E5ECF6",
              "width": 0.5
             },
             "pattern": {
              "fillmode": "overlay",
              "size": 10,
              "solidity": 0.2
             }
            },
            "type": "bar"
           }
          ],
          "barpolar": [
           {
            "marker": {
             "line": {
              "color": "#E5ECF6",
              "width": 0.5
             },
             "pattern": {
              "fillmode": "overlay",
              "size": 10,
              "solidity": 0.2
             }
            },
            "type": "barpolar"
           }
          ],
          "carpet": [
           {
            "aaxis": {
             "endlinecolor": "#2a3f5f",
             "gridcolor": "white",
             "linecolor": "white",
             "minorgridcolor": "white",
             "startlinecolor": "#2a3f5f"
            },
            "baxis": {
             "endlinecolor": "#2a3f5f",
             "gridcolor": "white",
             "linecolor": "white",
             "minorgridcolor": "white",
             "startlinecolor": "#2a3f5f"
            },
            "type": "carpet"
           }
          ],
          "choropleth": [
           {
            "colorbar": {
             "outlinewidth": 0,
             "ticks": ""
            },
            "type": "choropleth"
           }
          ],
          "contour": [
           {
            "colorbar": {
             "outlinewidth": 0,
             "ticks": ""
            },
            "colorscale": [
             [
              0,
              "#0d0887"
             ],
             [
              0.1111111111111111,
              "#46039f"
             ],
             [
              0.2222222222222222,
              "#7201a8"
             ],
             [
              0.3333333333333333,
              "#9c179e"
             ],
             [
              0.4444444444444444,
              "#bd3786"
             ],
             [
              0.5555555555555556,
              "#d8576b"
             ],
             [
              0.6666666666666666,
              "#ed7953"
             ],
             [
              0.7777777777777778,
              "#fb9f3a"
             ],
             [
              0.8888888888888888,
              "#fdca26"
             ],
             [
              1,
              "#f0f921"
             ]
            ],
            "type": "contour"
           }
          ],
          "contourcarpet": [
           {
            "colorbar": {
             "outlinewidth": 0,
             "ticks": ""
            },
            "type": "contourcarpet"
           }
          ],
          "heatmap": [
           {
            "colorbar": {
             "outlinewidth": 0,
             "ticks": ""
            },
            "colorscale": [
             [
              0,
              "#0d0887"
             ],
             [
              0.1111111111111111,
              "#46039f"
             ],
             [
              0.2222222222222222,
              "#7201a8"
             ],
             [
              0.3333333333333333,
              "#9c179e"
             ],
             [
              0.4444444444444444,
              "#bd3786"
             ],
             [
              0.5555555555555556,
              "#d8576b"
             ],
             [
              0.6666666666666666,
              "#ed7953"
             ],
             [
              0.7777777777777778,
              "#fb9f3a"
             ],
             [
              0.8888888888888888,
              "#fdca26"
             ],
             [
              1,
              "#f0f921"
             ]
            ],
            "type": "heatmap"
           }
          ],
          "heatmapgl": [
           {
            "colorbar": {
             "outlinewidth": 0,
             "ticks": ""
            },
            "colorscale": [
             [
              0,
              "#0d0887"
             ],
             [
              0.1111111111111111,
              "#46039f"
             ],
             [
              0.2222222222222222,
              "#7201a8"
             ],
             [
              0.3333333333333333,
              "#9c179e"
             ],
             [
              0.4444444444444444,
              "#bd3786"
             ],
             [
              0.5555555555555556,
              "#d8576b"
             ],
             [
              0.6666666666666666,
              "#ed7953"
             ],
             [
              0.7777777777777778,
              "#fb9f3a"
             ],
             [
              0.8888888888888888,
              "#fdca26"
             ],
             [
              1,
              "#f0f921"
             ]
            ],
            "type": "heatmapgl"
           }
          ],
          "histogram": [
           {
            "marker": {
             "pattern": {
              "fillmode": "overlay",
              "size": 10,
              "solidity": 0.2
             }
            },
            "type": "histogram"
           }
          ],
          "histogram2d": [
           {
            "colorbar": {
             "outlinewidth": 0,
             "ticks": ""
            },
            "colorscale": [
             [
              0,
              "#0d0887"
             ],
             [
              0.1111111111111111,
              "#46039f"
             ],
             [
              0.2222222222222222,
              "#7201a8"
             ],
             [
              0.3333333333333333,
              "#9c179e"
             ],
             [
              0.4444444444444444,
              "#bd3786"
             ],
             [
              0.5555555555555556,
              "#d8576b"
             ],
             [
              0.6666666666666666,
              "#ed7953"
             ],
             [
              0.7777777777777778,
              "#fb9f3a"
             ],
             [
              0.8888888888888888,
              "#fdca26"
             ],
             [
              1,
              "#f0f921"
             ]
            ],
            "type": "histogram2d"
           }
          ],
          "histogram2dcontour": [
           {
            "colorbar": {
             "outlinewidth": 0,
             "ticks": ""
            },
            "colorscale": [
             [
              0,
              "#0d0887"
             ],
             [
              0.1111111111111111,
              "#46039f"
             ],
             [
              0.2222222222222222,
              "#7201a8"
             ],
             [
              0.3333333333333333,
              "#9c179e"
             ],
             [
              0.4444444444444444,
              "#bd3786"
             ],
             [
              0.5555555555555556,
              "#d8576b"
             ],
             [
              0.6666666666666666,
              "#ed7953"
             ],
             [
              0.7777777777777778,
              "#fb9f3a"
             ],
             [
              0.8888888888888888,
              "#fdca26"
             ],
             [
              1,
              "#f0f921"
             ]
            ],
            "type": "histogram2dcontour"
           }
          ],
          "mesh3d": [
           {
            "colorbar": {
             "outlinewidth": 0,
             "ticks": ""
            },
            "type": "mesh3d"
           }
          ],
          "parcoords": [
           {
            "line": {
             "colorbar": {
              "outlinewidth": 0,
              "ticks": ""
             }
            },
            "type": "parcoords"
           }
          ],
          "pie": [
           {
            "automargin": true,
            "type": "pie"
           }
          ],
          "scatter": [
           {
            "fillpattern": {
             "fillmode": "overlay",
             "size": 10,
             "solidity": 0.2
            },
            "type": "scatter"
           }
          ],
          "scatter3d": [
           {
            "line": {
             "colorbar": {
              "outlinewidth": 0,
              "ticks": ""
             }
            },
            "marker": {
             "colorbar": {
              "outlinewidth": 0,
              "ticks": ""
             }
            },
            "type": "scatter3d"
           }
          ],
          "scattercarpet": [
           {
            "marker": {
             "colorbar": {
              "outlinewidth": 0,
              "ticks": ""
             }
            },
            "type": "scattercarpet"
           }
          ],
          "scattergeo": [
           {
            "marker": {
             "colorbar": {
              "outlinewidth": 0,
              "ticks": ""
             }
            },
            "type": "scattergeo"
           }
          ],
          "scattergl": [
           {
            "marker": {
             "colorbar": {
              "outlinewidth": 0,
              "ticks": ""
             }
            },
            "type": "scattergl"
           }
          ],
          "scattermapbox": [
           {
            "marker": {
             "colorbar": {
              "outlinewidth": 0,
              "ticks": ""
             }
            },
            "type": "scattermapbox"
           }
          ],
          "scatterpolar": [
           {
            "marker": {
             "colorbar": {
              "outlinewidth": 0,
              "ticks": ""
             }
            },
            "type": "scatterpolar"
           }
          ],
          "scatterpolargl": [
           {
            "marker": {
             "colorbar": {
              "outlinewidth": 0,
              "ticks": ""
             }
            },
            "type": "scatterpolargl"
           }
          ],
          "scatterternary": [
           {
            "marker": {
             "colorbar": {
              "outlinewidth": 0,
              "ticks": ""
             }
            },
            "type": "scatterternary"
           }
          ],
          "surface": [
           {
            "colorbar": {
             "outlinewidth": 0,
             "ticks": ""
            },
            "colorscale": [
             [
              0,
              "#0d0887"
             ],
             [
              0.1111111111111111,
              "#46039f"
             ],
             [
              0.2222222222222222,
              "#7201a8"
             ],
             [
              0.3333333333333333,
              "#9c179e"
             ],
             [
              0.4444444444444444,
              "#bd3786"
             ],
             [
              0.5555555555555556,
              "#d8576b"
             ],
             [
              0.6666666666666666,
              "#ed7953"
             ],
             [
              0.7777777777777778,
              "#fb9f3a"
             ],
             [
              0.8888888888888888,
              "#fdca26"
             ],
             [
              1,
              "#f0f921"
             ]
            ],
            "type": "surface"
           }
          ],
          "table": [
           {
            "cells": {
             "fill": {
              "color": "#EBF0F8"
             },
             "line": {
              "color": "white"
             }
            },
            "header": {
             "fill": {
              "color": "#C8D4E3"
             },
             "line": {
              "color": "white"
             }
            },
            "type": "table"
           }
          ]
         },
         "layout": {
          "annotationdefaults": {
           "arrowcolor": "#2a3f5f",
           "arrowhead": 0,
           "arrowwidth": 1
          },
          "autotypenumbers": "strict",
          "coloraxis": {
           "colorbar": {
            "outlinewidth": 0,
            "ticks": ""
           }
          },
          "colorscale": {
           "diverging": [
            [
             0,
             "#8e0152"
            ],
            [
             0.1,
             "#c51b7d"
            ],
            [
             0.2,
             "#de77ae"
            ],
            [
             0.3,
             "#f1b6da"
            ],
            [
             0.4,
             "#fde0ef"
            ],
            [
             0.5,
             "#f7f7f7"
            ],
            [
             0.6,
             "#e6f5d0"
            ],
            [
             0.7,
             "#b8e186"
            ],
            [
             0.8,
             "#7fbc41"
            ],
            [
             0.9,
             "#4d9221"
            ],
            [
             1,
             "#276419"
            ]
           ],
           "sequential": [
            [
             0,
             "#0d0887"
            ],
            [
             0.1111111111111111,
             "#46039f"
            ],
            [
             0.2222222222222222,
             "#7201a8"
            ],
            [
             0.3333333333333333,
             "#9c179e"
            ],
            [
             0.4444444444444444,
             "#bd3786"
            ],
            [
             0.5555555555555556,
             "#d8576b"
            ],
            [
             0.6666666666666666,
             "#ed7953"
            ],
            [
             0.7777777777777778,
             "#fb9f3a"
            ],
            [
             0.8888888888888888,
             "#fdca26"
            ],
            [
             1,
             "#f0f921"
            ]
           ],
           "sequentialminus": [
            [
             0,
             "#0d0887"
            ],
            [
             0.1111111111111111,
             "#46039f"
            ],
            [
             0.2222222222222222,
             "#7201a8"
            ],
            [
             0.3333333333333333,
             "#9c179e"
            ],
            [
             0.4444444444444444,
             "#bd3786"
            ],
            [
             0.5555555555555556,
             "#d8576b"
            ],
            [
             0.6666666666666666,
             "#ed7953"
            ],
            [
             0.7777777777777778,
             "#fb9f3a"
            ],
            [
             0.8888888888888888,
             "#fdca26"
            ],
            [
             1,
             "#f0f921"
            ]
           ]
          },
          "colorway": [
           "#636efa",
           "#EF553B",
           "#00cc96",
           "#ab63fa",
           "#FFA15A",
           "#19d3f3",
           "#FF6692",
           "#B6E880",
           "#FF97FF",
           "#FECB52"
          ],
          "font": {
           "color": "#2a3f5f"
          },
          "geo": {
           "bgcolor": "white",
           "lakecolor": "white",
           "landcolor": "#E5ECF6",
           "showlakes": true,
           "showland": true,
           "subunitcolor": "white"
          },
          "hoverlabel": {
           "align": "left"
          },
          "hovermode": "closest",
          "mapbox": {
           "style": "light"
          },
          "paper_bgcolor": "white",
          "plot_bgcolor": "#E5ECF6",
          "polar": {
           "angularaxis": {
            "gridcolor": "white",
            "linecolor": "white",
            "ticks": ""
           },
           "bgcolor": "#E5ECF6",
           "radialaxis": {
            "gridcolor": "white",
            "linecolor": "white",
            "ticks": ""
           }
          },
          "scene": {
           "xaxis": {
            "backgroundcolor": "#E5ECF6",
            "gridcolor": "white",
            "gridwidth": 2,
            "linecolor": "white",
            "showbackground": true,
            "ticks": "",
            "zerolinecolor": "white"
           },
           "yaxis": {
            "backgroundcolor": "#E5ECF6",
            "gridcolor": "white",
            "gridwidth": 2,
            "linecolor": "white",
            "showbackground": true,
            "ticks": "",
            "zerolinecolor": "white"
           },
           "zaxis": {
            "backgroundcolor": "#E5ECF6",
            "gridcolor": "white",
            "gridwidth": 2,
            "linecolor": "white",
            "showbackground": true,
            "ticks": "",
            "zerolinecolor": "white"
           }
          },
          "shapedefaults": {
           "line": {
            "color": "#2a3f5f"
           }
          },
          "ternary": {
           "aaxis": {
            "gridcolor": "white",
            "linecolor": "white",
            "ticks": ""
           },
           "baxis": {
            "gridcolor": "white",
            "linecolor": "white",
            "ticks": ""
           },
           "bgcolor": "#E5ECF6",
           "caxis": {
            "gridcolor": "white",
            "linecolor": "white",
            "ticks": ""
           }
          },
          "title": {
           "x": 0.05
          },
          "xaxis": {
           "automargin": true,
           "gridcolor": "white",
           "linecolor": "white",
           "ticks": "",
           "title": {
            "standoff": 15
           },
           "zerolinecolor": "white",
           "zerolinewidth": 2
          },
          "yaxis": {
           "automargin": true,
           "gridcolor": "white",
           "linecolor": "white",
           "ticks": "",
           "title": {
            "standoff": 15
           },
           "zerolinecolor": "white",
           "zerolinewidth": 2
          }
         }
        },
        "title": {
         "text": "코호트 사이즈별 리텐션 비율의 평균"
        },
        "xaxis": {
         "anchor": "y",
         "domain": [
          0,
          1
         ],
         "title": {
          "text": "cohort_size"
         }
        },
        "yaxis": {
         "anchor": "x",
         "domain": [
          0,
          1
         ],
         "tickformat": ".2%",
         "title": {
          "text": "retention_rate"
         }
        }
       }
      }
     },
     "metadata": {},
     "output_type": "display_data"
    }
   ],
   "source": [
    "fig = px.line(data_frame=retention_curve,x='cohort_size',y='retention_rate')\n",
    "fig.update_layout(title='코호트 사이즈별 리텐션 비율의 평균',paper_bgcolor='lightgray',plot_bgcolor='lightblue')\n",
    "fig.update_yaxes(tickformat='.2%')\n",
    "fig.update_traces(line=dict(color='red'))"
   ]
  },
  {
   "cell_type": "markdown",
   "metadata": {},
   "source": [
    "# **RFM분석**\n",
    "***"
   ]
  },
  {
   "cell_type": "markdown",
   "metadata": {},
   "source": [
    "- RFM분석이란?\n",
    "- Recency, Frequency, Monetary를 기준으로 고객을 유형화 하는 방법\n",
    "    - Recency(최근성): 고객이 얼마나 최근에 구매 했는지\n",
    "    - Frequency(빈도): 고객이 얼마나 자주 구매 했는지\n",
    "    - Monetary(금액): 고객이 얼마를 지출했는지\n",
    "- **고객유형을 세분화하여 맞춤형 전략을 구상할 수 있다.**\n",
    "- **이번 분석에서는 Recency와 Monetary를 기반으로 RM 분석을 해볼 예정**"
   ]
  },
  {
   "cell_type": "code",
   "execution_count": 61,
   "metadata": {},
   "outputs": [
    {
     "data": {
      "text/html": [
       "<div>\n",
       "<style scoped>\n",
       "    .dataframe tbody tr th:only-of-type {\n",
       "        vertical-align: middle;\n",
       "    }\n",
       "\n",
       "    .dataframe tbody tr th {\n",
       "        vertical-align: top;\n",
       "    }\n",
       "\n",
       "    .dataframe thead th {\n",
       "        text-align: right;\n",
       "    }\n",
       "</style>\n",
       "<table border=\"1\" class=\"dataframe\">\n",
       "  <thead>\n",
       "    <tr style=\"text-align: right;\">\n",
       "      <th></th>\n",
       "      <th>InvoiceNo</th>\n",
       "      <th>StockCode</th>\n",
       "      <th>Description</th>\n",
       "      <th>Quantity</th>\n",
       "      <th>InvoiceDate</th>\n",
       "      <th>UnitPrice</th>\n",
       "      <th>CustomerID</th>\n",
       "      <th>Country</th>\n",
       "      <th>date_ymd</th>\n",
       "      <th>year</th>\n",
       "      <th>amount</th>\n",
       "      <th>date_ym</th>\n",
       "    </tr>\n",
       "  </thead>\n",
       "  <tbody>\n",
       "    <tr>\n",
       "      <th>0</th>\n",
       "      <td>536365</td>\n",
       "      <td>85123A</td>\n",
       "      <td>WHITE HANGING HEART T-LIGHT HOLDER</td>\n",
       "      <td>6</td>\n",
       "      <td>2010-12-01 08:26:00</td>\n",
       "      <td>2.55</td>\n",
       "      <td>17850</td>\n",
       "      <td>United Kingdom</td>\n",
       "      <td>2010-12-01</td>\n",
       "      <td>2010</td>\n",
       "      <td>15.30</td>\n",
       "      <td>2010-12</td>\n",
       "    </tr>\n",
       "    <tr>\n",
       "      <th>1</th>\n",
       "      <td>536365</td>\n",
       "      <td>71053</td>\n",
       "      <td>WHITE METAL LANTERN</td>\n",
       "      <td>6</td>\n",
       "      <td>2010-12-01 08:26:00</td>\n",
       "      <td>3.39</td>\n",
       "      <td>17850</td>\n",
       "      <td>United Kingdom</td>\n",
       "      <td>2010-12-01</td>\n",
       "      <td>2010</td>\n",
       "      <td>20.34</td>\n",
       "      <td>2010-12</td>\n",
       "    </tr>\n",
       "    <tr>\n",
       "      <th>2</th>\n",
       "      <td>536365</td>\n",
       "      <td>84406B</td>\n",
       "      <td>CREAM CUPID HEARTS COAT HANGER</td>\n",
       "      <td>8</td>\n",
       "      <td>2010-12-01 08:26:00</td>\n",
       "      <td>2.75</td>\n",
       "      <td>17850</td>\n",
       "      <td>United Kingdom</td>\n",
       "      <td>2010-12-01</td>\n",
       "      <td>2010</td>\n",
       "      <td>22.00</td>\n",
       "      <td>2010-12</td>\n",
       "    </tr>\n",
       "    <tr>\n",
       "      <th>3</th>\n",
       "      <td>536365</td>\n",
       "      <td>84029G</td>\n",
       "      <td>KNITTED UNION FLAG HOT WATER BOTTLE</td>\n",
       "      <td>6</td>\n",
       "      <td>2010-12-01 08:26:00</td>\n",
       "      <td>3.39</td>\n",
       "      <td>17850</td>\n",
       "      <td>United Kingdom</td>\n",
       "      <td>2010-12-01</td>\n",
       "      <td>2010</td>\n",
       "      <td>20.34</td>\n",
       "      <td>2010-12</td>\n",
       "    </tr>\n",
       "    <tr>\n",
       "      <th>4</th>\n",
       "      <td>536365</td>\n",
       "      <td>84029E</td>\n",
       "      <td>RED WOOLLY HOTTIE WHITE HEART.</td>\n",
       "      <td>6</td>\n",
       "      <td>2010-12-01 08:26:00</td>\n",
       "      <td>3.39</td>\n",
       "      <td>17850</td>\n",
       "      <td>United Kingdom</td>\n",
       "      <td>2010-12-01</td>\n",
       "      <td>2010</td>\n",
       "      <td>20.34</td>\n",
       "      <td>2010-12</td>\n",
       "    </tr>\n",
       "    <tr>\n",
       "      <th>...</th>\n",
       "      <td>...</td>\n",
       "      <td>...</td>\n",
       "      <td>...</td>\n",
       "      <td>...</td>\n",
       "      <td>...</td>\n",
       "      <td>...</td>\n",
       "      <td>...</td>\n",
       "      <td>...</td>\n",
       "      <td>...</td>\n",
       "      <td>...</td>\n",
       "      <td>...</td>\n",
       "      <td>...</td>\n",
       "    </tr>\n",
       "    <tr>\n",
       "      <th>541904</th>\n",
       "      <td>581587</td>\n",
       "      <td>22613</td>\n",
       "      <td>PACK OF 20 SPACEBOY NAPKINS</td>\n",
       "      <td>12</td>\n",
       "      <td>2011-12-09 12:50:00</td>\n",
       "      <td>0.85</td>\n",
       "      <td>12680</td>\n",
       "      <td>France</td>\n",
       "      <td>2011-12-09</td>\n",
       "      <td>2011</td>\n",
       "      <td>10.20</td>\n",
       "      <td>2011-12</td>\n",
       "    </tr>\n",
       "    <tr>\n",
       "      <th>541905</th>\n",
       "      <td>581587</td>\n",
       "      <td>22899</td>\n",
       "      <td>CHILDREN'S APRON DOLLY GIRL</td>\n",
       "      <td>6</td>\n",
       "      <td>2011-12-09 12:50:00</td>\n",
       "      <td>2.10</td>\n",
       "      <td>12680</td>\n",
       "      <td>France</td>\n",
       "      <td>2011-12-09</td>\n",
       "      <td>2011</td>\n",
       "      <td>12.60</td>\n",
       "      <td>2011-12</td>\n",
       "    </tr>\n",
       "    <tr>\n",
       "      <th>541906</th>\n",
       "      <td>581587</td>\n",
       "      <td>23254</td>\n",
       "      <td>CHILDRENS CUTLERY DOLLY GIRL</td>\n",
       "      <td>4</td>\n",
       "      <td>2011-12-09 12:50:00</td>\n",
       "      <td>4.15</td>\n",
       "      <td>12680</td>\n",
       "      <td>France</td>\n",
       "      <td>2011-12-09</td>\n",
       "      <td>2011</td>\n",
       "      <td>16.60</td>\n",
       "      <td>2011-12</td>\n",
       "    </tr>\n",
       "    <tr>\n",
       "      <th>541907</th>\n",
       "      <td>581587</td>\n",
       "      <td>23255</td>\n",
       "      <td>CHILDRENS CUTLERY CIRCUS PARADE</td>\n",
       "      <td>4</td>\n",
       "      <td>2011-12-09 12:50:00</td>\n",
       "      <td>4.15</td>\n",
       "      <td>12680</td>\n",
       "      <td>France</td>\n",
       "      <td>2011-12-09</td>\n",
       "      <td>2011</td>\n",
       "      <td>16.60</td>\n",
       "      <td>2011-12</td>\n",
       "    </tr>\n",
       "    <tr>\n",
       "      <th>541908</th>\n",
       "      <td>581587</td>\n",
       "      <td>22138</td>\n",
       "      <td>BAKING SET 9 PIECE RETROSPOT</td>\n",
       "      <td>3</td>\n",
       "      <td>2011-12-09 12:50:00</td>\n",
       "      <td>4.95</td>\n",
       "      <td>12680</td>\n",
       "      <td>France</td>\n",
       "      <td>2011-12-09</td>\n",
       "      <td>2011</td>\n",
       "      <td>14.85</td>\n",
       "      <td>2011-12</td>\n",
       "    </tr>\n",
       "  </tbody>\n",
       "</table>\n",
       "<p>397924 rows × 12 columns</p>\n",
       "</div>"
      ],
      "text/plain": [
       "       InvoiceNo StockCode                          Description  Quantity  \\\n",
       "0         536365    85123A   WHITE HANGING HEART T-LIGHT HOLDER         6   \n",
       "1         536365     71053                  WHITE METAL LANTERN         6   \n",
       "2         536365    84406B       CREAM CUPID HEARTS COAT HANGER         8   \n",
       "3         536365    84029G  KNITTED UNION FLAG HOT WATER BOTTLE         6   \n",
       "4         536365    84029E       RED WOOLLY HOTTIE WHITE HEART.         6   \n",
       "...          ...       ...                                  ...       ...   \n",
       "541904    581587     22613          PACK OF 20 SPACEBOY NAPKINS        12   \n",
       "541905    581587     22899         CHILDREN'S APRON DOLLY GIRL          6   \n",
       "541906    581587     23254        CHILDRENS CUTLERY DOLLY GIRL          4   \n",
       "541907    581587     23255      CHILDRENS CUTLERY CIRCUS PARADE         4   \n",
       "541908    581587     22138         BAKING SET 9 PIECE RETROSPOT         3   \n",
       "\n",
       "               InvoiceDate  UnitPrice CustomerID         Country   date_ymd  \\\n",
       "0      2010-12-01 08:26:00       2.55      17850  United Kingdom 2010-12-01   \n",
       "1      2010-12-01 08:26:00       3.39      17850  United Kingdom 2010-12-01   \n",
       "2      2010-12-01 08:26:00       2.75      17850  United Kingdom 2010-12-01   \n",
       "3      2010-12-01 08:26:00       3.39      17850  United Kingdom 2010-12-01   \n",
       "4      2010-12-01 08:26:00       3.39      17850  United Kingdom 2010-12-01   \n",
       "...                    ...        ...        ...             ...        ...   \n",
       "541904 2011-12-09 12:50:00       0.85      12680          France 2011-12-09   \n",
       "541905 2011-12-09 12:50:00       2.10      12680          France 2011-12-09   \n",
       "541906 2011-12-09 12:50:00       4.15      12680          France 2011-12-09   \n",
       "541907 2011-12-09 12:50:00       4.15      12680          France 2011-12-09   \n",
       "541908 2011-12-09 12:50:00       4.95      12680          France 2011-12-09   \n",
       "\n",
       "        year  amount  date_ym  \n",
       "0       2010   15.30  2010-12  \n",
       "1       2010   20.34  2010-12  \n",
       "2       2010   22.00  2010-12  \n",
       "3       2010   20.34  2010-12  \n",
       "4       2010   20.34  2010-12  \n",
       "...      ...     ...      ...  \n",
       "541904  2011   10.20  2011-12  \n",
       "541905  2011   12.60  2011-12  \n",
       "541906  2011   16.60  2011-12  \n",
       "541907  2011   16.60  2011-12  \n",
       "541908  2011   14.85  2011-12  \n",
       "\n",
       "[397924 rows x 12 columns]"
      ]
     },
     "execution_count": 61,
     "metadata": {},
     "output_type": "execute_result"
    }
   ],
   "source": [
    "df"
   ]
  },
  {
   "cell_type": "markdown",
   "metadata": {},
   "source": [
    "### **CustomerID별로 RM을 구하기**\n",
    "***"
   ]
  },
  {
   "cell_type": "code",
   "execution_count": 77,
   "metadata": {},
   "outputs": [
    {
     "data": {
      "text/html": [
       "<div>\n",
       "<style scoped>\n",
       "    .dataframe tbody tr th:only-of-type {\n",
       "        vertical-align: middle;\n",
       "    }\n",
       "\n",
       "    .dataframe tbody tr th {\n",
       "        vertical-align: top;\n",
       "    }\n",
       "\n",
       "    .dataframe thead th {\n",
       "        text-align: right;\n",
       "    }\n",
       "</style>\n",
       "<table border=\"1\" class=\"dataframe\">\n",
       "  <thead>\n",
       "    <tr style=\"text-align: right;\">\n",
       "      <th></th>\n",
       "      <th>CustomerID</th>\n",
       "      <th>date_ymd</th>\n",
       "      <th>amount</th>\n",
       "    </tr>\n",
       "  </thead>\n",
       "  <tbody>\n",
       "    <tr>\n",
       "      <th>0</th>\n",
       "      <td>12346</td>\n",
       "      <td>2011-01-18</td>\n",
       "      <td>77183.60</td>\n",
       "    </tr>\n",
       "    <tr>\n",
       "      <th>1</th>\n",
       "      <td>12347</td>\n",
       "      <td>2011-12-07</td>\n",
       "      <td>4310.00</td>\n",
       "    </tr>\n",
       "    <tr>\n",
       "      <th>2</th>\n",
       "      <td>12348</td>\n",
       "      <td>2011-09-25</td>\n",
       "      <td>1797.24</td>\n",
       "    </tr>\n",
       "    <tr>\n",
       "      <th>3</th>\n",
       "      <td>12349</td>\n",
       "      <td>2011-11-21</td>\n",
       "      <td>1757.55</td>\n",
       "    </tr>\n",
       "    <tr>\n",
       "      <th>4</th>\n",
       "      <td>12350</td>\n",
       "      <td>2011-02-02</td>\n",
       "      <td>334.40</td>\n",
       "    </tr>\n",
       "    <tr>\n",
       "      <th>...</th>\n",
       "      <td>...</td>\n",
       "      <td>...</td>\n",
       "      <td>...</td>\n",
       "    </tr>\n",
       "    <tr>\n",
       "      <th>4334</th>\n",
       "      <td>18280</td>\n",
       "      <td>2011-03-07</td>\n",
       "      <td>180.60</td>\n",
       "    </tr>\n",
       "    <tr>\n",
       "      <th>4335</th>\n",
       "      <td>18281</td>\n",
       "      <td>2011-06-12</td>\n",
       "      <td>80.82</td>\n",
       "    </tr>\n",
       "    <tr>\n",
       "      <th>4336</th>\n",
       "      <td>18282</td>\n",
       "      <td>2011-12-02</td>\n",
       "      <td>178.05</td>\n",
       "    </tr>\n",
       "    <tr>\n",
       "      <th>4337</th>\n",
       "      <td>18283</td>\n",
       "      <td>2011-12-06</td>\n",
       "      <td>2094.88</td>\n",
       "    </tr>\n",
       "    <tr>\n",
       "      <th>4338</th>\n",
       "      <td>18287</td>\n",
       "      <td>2011-10-28</td>\n",
       "      <td>1837.28</td>\n",
       "    </tr>\n",
       "  </tbody>\n",
       "</table>\n",
       "<p>4339 rows × 3 columns</p>\n",
       "</div>"
      ],
      "text/plain": [
       "     CustomerID   date_ymd    amount\n",
       "0         12346 2011-01-18  77183.60\n",
       "1         12347 2011-12-07   4310.00\n",
       "2         12348 2011-09-25   1797.24\n",
       "3         12349 2011-11-21   1757.55\n",
       "4         12350 2011-02-02    334.40\n",
       "...         ...        ...       ...\n",
       "4334      18280 2011-03-07    180.60\n",
       "4335      18281 2011-06-12     80.82\n",
       "4336      18282 2011-12-02    178.05\n",
       "4337      18283 2011-12-06   2094.88\n",
       "4338      18287 2011-10-28   1837.28\n",
       "\n",
       "[4339 rows x 3 columns]"
      ]
     },
     "execution_count": 77,
     "metadata": {},
     "output_type": "execute_result"
    }
   ],
   "source": [
    "rm_df = df.groupby('CustomerID',as_index=False).agg({'date_ymd':lambda x: max(x),\n",
    "                              'amount':lambda x:sum(x)})\n",
    "rm_df"
   ]
  },
  {
   "cell_type": "markdown",
   "metadata": {},
   "source": [
    "### **pd.qcut을 이용하여 Recency를 5등급으로 나누기**\n",
    "***\n",
    "    - pd.qcut은 각 n분위수에 기반하여 cut해주는 함수"
   ]
  },
  {
   "cell_type": "markdown",
   "metadata": {},
   "source": [
    "### **Recency와 Monetary점수를 3등급으로 각각 나누기**\n",
    "***"
   ]
  },
  {
   "cell_type": "code",
   "execution_count": 78,
   "metadata": {},
   "outputs": [
    {
     "data": {
      "text/html": [
       "<div>\n",
       "<style scoped>\n",
       "    .dataframe tbody tr th:only-of-type {\n",
       "        vertical-align: middle;\n",
       "    }\n",
       "\n",
       "    .dataframe tbody tr th {\n",
       "        vertical-align: top;\n",
       "    }\n",
       "\n",
       "    .dataframe thead th {\n",
       "        text-align: right;\n",
       "    }\n",
       "</style>\n",
       "<table border=\"1\" class=\"dataframe\">\n",
       "  <thead>\n",
       "    <tr style=\"text-align: right;\">\n",
       "      <th></th>\n",
       "      <th>CustomerID</th>\n",
       "      <th>date_ymd</th>\n",
       "      <th>amount</th>\n",
       "    </tr>\n",
       "  </thead>\n",
       "  <tbody>\n",
       "    <tr>\n",
       "      <th>0</th>\n",
       "      <td>12346</td>\n",
       "      <td>2011-01-18</td>\n",
       "      <td>77183.60</td>\n",
       "    </tr>\n",
       "    <tr>\n",
       "      <th>1</th>\n",
       "      <td>12347</td>\n",
       "      <td>2011-12-07</td>\n",
       "      <td>4310.00</td>\n",
       "    </tr>\n",
       "    <tr>\n",
       "      <th>2</th>\n",
       "      <td>12348</td>\n",
       "      <td>2011-09-25</td>\n",
       "      <td>1797.24</td>\n",
       "    </tr>\n",
       "    <tr>\n",
       "      <th>3</th>\n",
       "      <td>12349</td>\n",
       "      <td>2011-11-21</td>\n",
       "      <td>1757.55</td>\n",
       "    </tr>\n",
       "    <tr>\n",
       "      <th>4</th>\n",
       "      <td>12350</td>\n",
       "      <td>2011-02-02</td>\n",
       "      <td>334.40</td>\n",
       "    </tr>\n",
       "    <tr>\n",
       "      <th>...</th>\n",
       "      <td>...</td>\n",
       "      <td>...</td>\n",
       "      <td>...</td>\n",
       "    </tr>\n",
       "    <tr>\n",
       "      <th>4334</th>\n",
       "      <td>18280</td>\n",
       "      <td>2011-03-07</td>\n",
       "      <td>180.60</td>\n",
       "    </tr>\n",
       "    <tr>\n",
       "      <th>4335</th>\n",
       "      <td>18281</td>\n",
       "      <td>2011-06-12</td>\n",
       "      <td>80.82</td>\n",
       "    </tr>\n",
       "    <tr>\n",
       "      <th>4336</th>\n",
       "      <td>18282</td>\n",
       "      <td>2011-12-02</td>\n",
       "      <td>178.05</td>\n",
       "    </tr>\n",
       "    <tr>\n",
       "      <th>4337</th>\n",
       "      <td>18283</td>\n",
       "      <td>2011-12-06</td>\n",
       "      <td>2094.88</td>\n",
       "    </tr>\n",
       "    <tr>\n",
       "      <th>4338</th>\n",
       "      <td>18287</td>\n",
       "      <td>2011-10-28</td>\n",
       "      <td>1837.28</td>\n",
       "    </tr>\n",
       "  </tbody>\n",
       "</table>\n",
       "<p>4339 rows × 3 columns</p>\n",
       "</div>"
      ],
      "text/plain": [
       "     CustomerID   date_ymd    amount\n",
       "0         12346 2011-01-18  77183.60\n",
       "1         12347 2011-12-07   4310.00\n",
       "2         12348 2011-09-25   1797.24\n",
       "3         12349 2011-11-21   1757.55\n",
       "4         12350 2011-02-02    334.40\n",
       "...         ...        ...       ...\n",
       "4334      18280 2011-03-07    180.60\n",
       "4335      18281 2011-06-12     80.82\n",
       "4336      18282 2011-12-02    178.05\n",
       "4337      18283 2011-12-06   2094.88\n",
       "4338      18287 2011-10-28   1837.28\n",
       "\n",
       "[4339 rows x 3 columns]"
      ]
     },
     "execution_count": 78,
     "metadata": {},
     "output_type": "execute_result"
    }
   ],
   "source": [
    "rm_df"
   ]
  },
  {
   "cell_type": "code",
   "execution_count": 79,
   "metadata": {},
   "outputs": [
    {
     "data": {
      "text/html": [
       "<div>\n",
       "<style scoped>\n",
       "    .dataframe tbody tr th:only-of-type {\n",
       "        vertical-align: middle;\n",
       "    }\n",
       "\n",
       "    .dataframe tbody tr th {\n",
       "        vertical-align: top;\n",
       "    }\n",
       "\n",
       "    .dataframe thead th {\n",
       "        text-align: right;\n",
       "    }\n",
       "</style>\n",
       "<table border=\"1\" class=\"dataframe\">\n",
       "  <thead>\n",
       "    <tr style=\"text-align: right;\">\n",
       "      <th></th>\n",
       "      <th>CustomerID</th>\n",
       "      <th>date_ymd</th>\n",
       "      <th>amount</th>\n",
       "      <th>Recency</th>\n",
       "      <th>Monetary</th>\n",
       "    </tr>\n",
       "  </thead>\n",
       "  <tbody>\n",
       "    <tr>\n",
       "      <th>0</th>\n",
       "      <td>12346</td>\n",
       "      <td>2011-01-18</td>\n",
       "      <td>77183.60</td>\n",
       "      <td>C</td>\n",
       "      <td>A</td>\n",
       "    </tr>\n",
       "    <tr>\n",
       "      <th>1</th>\n",
       "      <td>12347</td>\n",
       "      <td>2011-12-07</td>\n",
       "      <td>4310.00</td>\n",
       "      <td>A</td>\n",
       "      <td>A</td>\n",
       "    </tr>\n",
       "    <tr>\n",
       "      <th>2</th>\n",
       "      <td>12348</td>\n",
       "      <td>2011-09-25</td>\n",
       "      <td>1797.24</td>\n",
       "      <td>B</td>\n",
       "      <td>A</td>\n",
       "    </tr>\n",
       "    <tr>\n",
       "      <th>3</th>\n",
       "      <td>12349</td>\n",
       "      <td>2011-11-21</td>\n",
       "      <td>1757.55</td>\n",
       "      <td>A</td>\n",
       "      <td>A</td>\n",
       "    </tr>\n",
       "    <tr>\n",
       "      <th>4</th>\n",
       "      <td>12350</td>\n",
       "      <td>2011-02-02</td>\n",
       "      <td>334.40</td>\n",
       "      <td>C</td>\n",
       "      <td>C</td>\n",
       "    </tr>\n",
       "    <tr>\n",
       "      <th>...</th>\n",
       "      <td>...</td>\n",
       "      <td>...</td>\n",
       "      <td>...</td>\n",
       "      <td>...</td>\n",
       "      <td>...</td>\n",
       "    </tr>\n",
       "    <tr>\n",
       "      <th>4334</th>\n",
       "      <td>18280</td>\n",
       "      <td>2011-03-07</td>\n",
       "      <td>180.60</td>\n",
       "      <td>C</td>\n",
       "      <td>C</td>\n",
       "    </tr>\n",
       "    <tr>\n",
       "      <th>4335</th>\n",
       "      <td>18281</td>\n",
       "      <td>2011-06-12</td>\n",
       "      <td>80.82</td>\n",
       "      <td>C</td>\n",
       "      <td>C</td>\n",
       "    </tr>\n",
       "    <tr>\n",
       "      <th>4336</th>\n",
       "      <td>18282</td>\n",
       "      <td>2011-12-02</td>\n",
       "      <td>178.05</td>\n",
       "      <td>A</td>\n",
       "      <td>C</td>\n",
       "    </tr>\n",
       "    <tr>\n",
       "      <th>4337</th>\n",
       "      <td>18283</td>\n",
       "      <td>2011-12-06</td>\n",
       "      <td>2094.88</td>\n",
       "      <td>A</td>\n",
       "      <td>A</td>\n",
       "    </tr>\n",
       "    <tr>\n",
       "      <th>4338</th>\n",
       "      <td>18287</td>\n",
       "      <td>2011-10-28</td>\n",
       "      <td>1837.28</td>\n",
       "      <td>B</td>\n",
       "      <td>A</td>\n",
       "    </tr>\n",
       "  </tbody>\n",
       "</table>\n",
       "<p>4339 rows × 5 columns</p>\n",
       "</div>"
      ],
      "text/plain": [
       "     CustomerID   date_ymd    amount Recency Monetary\n",
       "0         12346 2011-01-18  77183.60       C        A\n",
       "1         12347 2011-12-07   4310.00       A        A\n",
       "2         12348 2011-09-25   1797.24       B        A\n",
       "3         12349 2011-11-21   1757.55       A        A\n",
       "4         12350 2011-02-02    334.40       C        C\n",
       "...         ...        ...       ...     ...      ...\n",
       "4334      18280 2011-03-07    180.60       C        C\n",
       "4335      18281 2011-06-12     80.82       C        C\n",
       "4336      18282 2011-12-02    178.05       A        C\n",
       "4337      18283 2011-12-06   2094.88       A        A\n",
       "4338      18287 2011-10-28   1837.28       B        A\n",
       "\n",
       "[4339 rows x 5 columns]"
      ]
     },
     "execution_count": 79,
     "metadata": {},
     "output_type": "execute_result"
    }
   ],
   "source": [
    "rm_df['Recency'] = pd.qcut(x=rm_df['date_ymd'],q=3,labels=['C','B','A'])\n",
    "rm_df['Monetary'] = pd.qcut(x=rm_df['amount'],q=3,labels=['C','B','A'])\n",
    "rm_df"
   ]
  },
  {
   "cell_type": "markdown",
   "metadata": {},
   "source": [
    "### **Recency와 Monetary 스코어를 모두 표시한 칼럼 추가**\n",
    "***"
   ]
  },
  {
   "cell_type": "code",
   "execution_count": 80,
   "metadata": {},
   "outputs": [
    {
     "data": {
      "text/html": [
       "<div>\n",
       "<style scoped>\n",
       "    .dataframe tbody tr th:only-of-type {\n",
       "        vertical-align: middle;\n",
       "    }\n",
       "\n",
       "    .dataframe tbody tr th {\n",
       "        vertical-align: top;\n",
       "    }\n",
       "\n",
       "    .dataframe thead th {\n",
       "        text-align: right;\n",
       "    }\n",
       "</style>\n",
       "<table border=\"1\" class=\"dataframe\">\n",
       "  <thead>\n",
       "    <tr style=\"text-align: right;\">\n",
       "      <th></th>\n",
       "      <th>CustomerID</th>\n",
       "      <th>date_ymd</th>\n",
       "      <th>amount</th>\n",
       "      <th>Recency</th>\n",
       "      <th>Monetary</th>\n",
       "      <th>RM_Score</th>\n",
       "    </tr>\n",
       "  </thead>\n",
       "  <tbody>\n",
       "    <tr>\n",
       "      <th>0</th>\n",
       "      <td>12346</td>\n",
       "      <td>2011-01-18</td>\n",
       "      <td>77183.60</td>\n",
       "      <td>C</td>\n",
       "      <td>A</td>\n",
       "      <td>CA</td>\n",
       "    </tr>\n",
       "    <tr>\n",
       "      <th>1</th>\n",
       "      <td>12347</td>\n",
       "      <td>2011-12-07</td>\n",
       "      <td>4310.00</td>\n",
       "      <td>A</td>\n",
       "      <td>A</td>\n",
       "      <td>AA</td>\n",
       "    </tr>\n",
       "    <tr>\n",
       "      <th>2</th>\n",
       "      <td>12348</td>\n",
       "      <td>2011-09-25</td>\n",
       "      <td>1797.24</td>\n",
       "      <td>B</td>\n",
       "      <td>A</td>\n",
       "      <td>BA</td>\n",
       "    </tr>\n",
       "    <tr>\n",
       "      <th>3</th>\n",
       "      <td>12349</td>\n",
       "      <td>2011-11-21</td>\n",
       "      <td>1757.55</td>\n",
       "      <td>A</td>\n",
       "      <td>A</td>\n",
       "      <td>AA</td>\n",
       "    </tr>\n",
       "    <tr>\n",
       "      <th>4</th>\n",
       "      <td>12350</td>\n",
       "      <td>2011-02-02</td>\n",
       "      <td>334.40</td>\n",
       "      <td>C</td>\n",
       "      <td>C</td>\n",
       "      <td>CC</td>\n",
       "    </tr>\n",
       "    <tr>\n",
       "      <th>...</th>\n",
       "      <td>...</td>\n",
       "      <td>...</td>\n",
       "      <td>...</td>\n",
       "      <td>...</td>\n",
       "      <td>...</td>\n",
       "      <td>...</td>\n",
       "    </tr>\n",
       "    <tr>\n",
       "      <th>4334</th>\n",
       "      <td>18280</td>\n",
       "      <td>2011-03-07</td>\n",
       "      <td>180.60</td>\n",
       "      <td>C</td>\n",
       "      <td>C</td>\n",
       "      <td>CC</td>\n",
       "    </tr>\n",
       "    <tr>\n",
       "      <th>4335</th>\n",
       "      <td>18281</td>\n",
       "      <td>2011-06-12</td>\n",
       "      <td>80.82</td>\n",
       "      <td>C</td>\n",
       "      <td>C</td>\n",
       "      <td>CC</td>\n",
       "    </tr>\n",
       "    <tr>\n",
       "      <th>4336</th>\n",
       "      <td>18282</td>\n",
       "      <td>2011-12-02</td>\n",
       "      <td>178.05</td>\n",
       "      <td>A</td>\n",
       "      <td>C</td>\n",
       "      <td>AC</td>\n",
       "    </tr>\n",
       "    <tr>\n",
       "      <th>4337</th>\n",
       "      <td>18283</td>\n",
       "      <td>2011-12-06</td>\n",
       "      <td>2094.88</td>\n",
       "      <td>A</td>\n",
       "      <td>A</td>\n",
       "      <td>AA</td>\n",
       "    </tr>\n",
       "    <tr>\n",
       "      <th>4338</th>\n",
       "      <td>18287</td>\n",
       "      <td>2011-10-28</td>\n",
       "      <td>1837.28</td>\n",
       "      <td>B</td>\n",
       "      <td>A</td>\n",
       "      <td>BA</td>\n",
       "    </tr>\n",
       "  </tbody>\n",
       "</table>\n",
       "<p>4339 rows × 6 columns</p>\n",
       "</div>"
      ],
      "text/plain": [
       "     CustomerID   date_ymd    amount Recency Monetary RM_Score\n",
       "0         12346 2011-01-18  77183.60       C        A       CA\n",
       "1         12347 2011-12-07   4310.00       A        A       AA\n",
       "2         12348 2011-09-25   1797.24       B        A       BA\n",
       "3         12349 2011-11-21   1757.55       A        A       AA\n",
       "4         12350 2011-02-02    334.40       C        C       CC\n",
       "...         ...        ...       ...     ...      ...      ...\n",
       "4334      18280 2011-03-07    180.60       C        C       CC\n",
       "4335      18281 2011-06-12     80.82       C        C       CC\n",
       "4336      18282 2011-12-02    178.05       A        C       AC\n",
       "4337      18283 2011-12-06   2094.88       A        A       AA\n",
       "4338      18287 2011-10-28   1837.28       B        A       BA\n",
       "\n",
       "[4339 rows x 6 columns]"
      ]
     },
     "execution_count": 80,
     "metadata": {},
     "output_type": "execute_result"
    }
   ],
   "source": [
    "rm_df['RM_Score'] = rm_df['Recency'].astype('str') + rm_df['Monetary'].astype('str')\n",
    "rm_df"
   ]
  },
  {
   "cell_type": "markdown",
   "metadata": {},
   "source": [
    "### **고객 등급을 Recency, Monetary에 기반하여 분류하기**\n",
    "***"
   ]
  },
  {
   "cell_type": "code",
   "execution_count": 81,
   "metadata": {},
   "outputs": [],
   "source": [
    "import numpy as np"
   ]
  },
  {
   "cell_type": "code",
   "execution_count": 84,
   "metadata": {},
   "outputs": [
    {
     "name": "stdout",
     "output_type": "stream",
     "text": [
      "<class 'pandas.core.frame.DataFrame'>\n",
      "RangeIndex: 4339 entries, 0 to 4338\n",
      "Data columns (total 6 columns):\n",
      " #   Column      Non-Null Count  Dtype         \n",
      "---  ------      --------------  -----         \n",
      " 0   CustomerID  4339 non-null   object        \n",
      " 1   date_ymd    4339 non-null   datetime64[ns]\n",
      " 2   amount      4339 non-null   float64       \n",
      " 3   Recency     4339 non-null   category      \n",
      " 4   Monetary    4339 non-null   category      \n",
      " 5   RM_Score    4339 non-null   object        \n",
      "dtypes: category(2), datetime64[ns](1), float64(1), object(2)\n",
      "memory usage: 144.5+ KB\n"
     ]
    }
   ],
   "source": [
    "rm_df.info()"
   ]
  },
  {
   "cell_type": "markdown",
   "metadata": {},
   "source": [
    "### **각 등급별 unique한 고객의 수 보기**\n",
    "***"
   ]
  },
  {
   "cell_type": "code",
   "execution_count": 83,
   "metadata": {},
   "outputs": [
    {
     "data": {
      "text/html": [
       "<div>\n",
       "<style scoped>\n",
       "    .dataframe tbody tr th:only-of-type {\n",
       "        vertical-align: middle;\n",
       "    }\n",
       "\n",
       "    .dataframe tbody tr th {\n",
       "        vertical-align: top;\n",
       "    }\n",
       "\n",
       "    .dataframe thead th {\n",
       "        text-align: right;\n",
       "    }\n",
       "</style>\n",
       "<table border=\"1\" class=\"dataframe\">\n",
       "  <thead>\n",
       "    <tr style=\"text-align: right;\">\n",
       "      <th></th>\n",
       "      <th>CustomerID</th>\n",
       "    </tr>\n",
       "    <tr>\n",
       "      <th>RM_Score</th>\n",
       "      <th></th>\n",
       "    </tr>\n",
       "  </thead>\n",
       "  <tbody>\n",
       "    <tr>\n",
       "      <th>AA</th>\n",
       "      <td>800</td>\n",
       "    </tr>\n",
       "    <tr>\n",
       "      <th>AB</th>\n",
       "      <td>407</td>\n",
       "    </tr>\n",
       "    <tr>\n",
       "      <th>AC</th>\n",
       "      <td>235</td>\n",
       "    </tr>\n",
       "    <tr>\n",
       "      <th>BA</th>\n",
       "      <td>475</td>\n",
       "    </tr>\n",
       "    <tr>\n",
       "      <th>BB</th>\n",
       "      <td>554</td>\n",
       "    </tr>\n",
       "    <tr>\n",
       "      <th>BC</th>\n",
       "      <td>419</td>\n",
       "    </tr>\n",
       "    <tr>\n",
       "      <th>CA</th>\n",
       "      <td>171</td>\n",
       "    </tr>\n",
       "    <tr>\n",
       "      <th>CB</th>\n",
       "      <td>485</td>\n",
       "    </tr>\n",
       "    <tr>\n",
       "      <th>CC</th>\n",
       "      <td>793</td>\n",
       "    </tr>\n",
       "  </tbody>\n",
       "</table>\n",
       "</div>"
      ],
      "text/plain": [
       "          CustomerID\n",
       "RM_Score            \n",
       "AA               800\n",
       "AB               407\n",
       "AC               235\n",
       "BA               475\n",
       "BB               554\n",
       "BC               419\n",
       "CA               171\n",
       "CB               485\n",
       "CC               793"
      ]
     },
     "execution_count": 83,
     "metadata": {},
     "output_type": "execute_result"
    }
   ],
   "source": [
    "rm_df.groupby('RM_Score')[['CustomerID']].nunique()"
   ]
  },
  {
   "cell_type": "code",
   "execution_count": 89,
   "metadata": {},
   "outputs": [
    {
     "data": {
      "text/html": [
       "<div>\n",
       "<style scoped>\n",
       "    .dataframe tbody tr th:only-of-type {\n",
       "        vertical-align: middle;\n",
       "    }\n",
       "\n",
       "    .dataframe tbody tr th {\n",
       "        vertical-align: top;\n",
       "    }\n",
       "\n",
       "    .dataframe thead th {\n",
       "        text-align: right;\n",
       "    }\n",
       "</style>\n",
       "<table border=\"1\" class=\"dataframe\">\n",
       "  <thead>\n",
       "    <tr style=\"text-align: right;\">\n",
       "      <th></th>\n",
       "      <th>CustomerID</th>\n",
       "      <th>date_ymd</th>\n",
       "      <th>amount</th>\n",
       "      <th>Recency</th>\n",
       "      <th>Monetary</th>\n",
       "      <th>RM_Score</th>\n",
       "      <th>고객등급</th>\n",
       "    </tr>\n",
       "  </thead>\n",
       "  <tbody>\n",
       "    <tr>\n",
       "      <th>0</th>\n",
       "      <td>12346</td>\n",
       "      <td>2011-01-18</td>\n",
       "      <td>77183.60</td>\n",
       "      <td>C</td>\n",
       "      <td>A</td>\n",
       "      <td>CA</td>\n",
       "      <td>이탈방지</td>\n",
       "    </tr>\n",
       "    <tr>\n",
       "      <th>1</th>\n",
       "      <td>12347</td>\n",
       "      <td>2011-12-07</td>\n",
       "      <td>4310.00</td>\n",
       "      <td>A</td>\n",
       "      <td>A</td>\n",
       "      <td>AA</td>\n",
       "      <td>최우수고객</td>\n",
       "    </tr>\n",
       "    <tr>\n",
       "      <th>2</th>\n",
       "      <td>12348</td>\n",
       "      <td>2011-09-25</td>\n",
       "      <td>1797.24</td>\n",
       "      <td>B</td>\n",
       "      <td>A</td>\n",
       "      <td>BA</td>\n",
       "      <td>우수고객</td>\n",
       "    </tr>\n",
       "    <tr>\n",
       "      <th>3</th>\n",
       "      <td>12349</td>\n",
       "      <td>2011-11-21</td>\n",
       "      <td>1757.55</td>\n",
       "      <td>A</td>\n",
       "      <td>A</td>\n",
       "      <td>AA</td>\n",
       "      <td>최우수고객</td>\n",
       "    </tr>\n",
       "    <tr>\n",
       "      <th>4</th>\n",
       "      <td>12350</td>\n",
       "      <td>2011-02-02</td>\n",
       "      <td>334.40</td>\n",
       "      <td>C</td>\n",
       "      <td>C</td>\n",
       "      <td>CC</td>\n",
       "      <td>휴면</td>\n",
       "    </tr>\n",
       "    <tr>\n",
       "      <th>...</th>\n",
       "      <td>...</td>\n",
       "      <td>...</td>\n",
       "      <td>...</td>\n",
       "      <td>...</td>\n",
       "      <td>...</td>\n",
       "      <td>...</td>\n",
       "      <td>...</td>\n",
       "    </tr>\n",
       "    <tr>\n",
       "      <th>4334</th>\n",
       "      <td>18280</td>\n",
       "      <td>2011-03-07</td>\n",
       "      <td>180.60</td>\n",
       "      <td>C</td>\n",
       "      <td>C</td>\n",
       "      <td>CC</td>\n",
       "      <td>휴면</td>\n",
       "    </tr>\n",
       "    <tr>\n",
       "      <th>4335</th>\n",
       "      <td>18281</td>\n",
       "      <td>2011-06-12</td>\n",
       "      <td>80.82</td>\n",
       "      <td>C</td>\n",
       "      <td>C</td>\n",
       "      <td>CC</td>\n",
       "      <td>휴면</td>\n",
       "    </tr>\n",
       "    <tr>\n",
       "      <th>4336</th>\n",
       "      <td>18282</td>\n",
       "      <td>2011-12-02</td>\n",
       "      <td>178.05</td>\n",
       "      <td>A</td>\n",
       "      <td>C</td>\n",
       "      <td>AC</td>\n",
       "      <td>구매유도</td>\n",
       "    </tr>\n",
       "    <tr>\n",
       "      <th>4337</th>\n",
       "      <td>18283</td>\n",
       "      <td>2011-12-06</td>\n",
       "      <td>2094.88</td>\n",
       "      <td>A</td>\n",
       "      <td>A</td>\n",
       "      <td>AA</td>\n",
       "      <td>최우수고객</td>\n",
       "    </tr>\n",
       "    <tr>\n",
       "      <th>4338</th>\n",
       "      <td>18287</td>\n",
       "      <td>2011-10-28</td>\n",
       "      <td>1837.28</td>\n",
       "      <td>B</td>\n",
       "      <td>A</td>\n",
       "      <td>BA</td>\n",
       "      <td>우수고객</td>\n",
       "    </tr>\n",
       "  </tbody>\n",
       "</table>\n",
       "<p>4339 rows × 7 columns</p>\n",
       "</div>"
      ],
      "text/plain": [
       "     CustomerID   date_ymd    amount Recency Monetary RM_Score   고객등급\n",
       "0         12346 2011-01-18  77183.60       C        A       CA   이탈방지\n",
       "1         12347 2011-12-07   4310.00       A        A       AA  최우수고객\n",
       "2         12348 2011-09-25   1797.24       B        A       BA   우수고객\n",
       "3         12349 2011-11-21   1757.55       A        A       AA  최우수고객\n",
       "4         12350 2011-02-02    334.40       C        C       CC     휴면\n",
       "...         ...        ...       ...     ...      ...      ...    ...\n",
       "4334      18280 2011-03-07    180.60       C        C       CC     휴면\n",
       "4335      18281 2011-06-12     80.82       C        C       CC     휴면\n",
       "4336      18282 2011-12-02    178.05       A        C       AC   구매유도\n",
       "4337      18283 2011-12-06   2094.88       A        A       AA  최우수고객\n",
       "4338      18287 2011-10-28   1837.28       B        A       BA   우수고객\n",
       "\n",
       "[4339 rows x 7 columns]"
      ]
     },
     "execution_count": 89,
     "metadata": {},
     "output_type": "execute_result"
    }
   ],
   "source": [
    "rm_df['고객등급'] = np.where(rm_df['RM_Score'] == 'AA','최우수고객', #Recency와 Monetary 모두 매우 높음\n",
    "                         np.where((rm_df['RM_Score'] == 'AB')|(rm_df['RM_Score'] == 'BA')|(rm_df['RM_Score'] == 'BB'),'우수고객', #Recency와 Monetary 모두 높은 편\n",
    "                         np.where((rm_df['RM_Score'] == 'BC')|(rm_df['RM_Score'] == 'AC'),'구매유도', #Recency는 높으나 Monetary가 낮아서 높은 가격의 프리미엄 상품의 구매를 더 유도해야함\n",
    "                         np.where((rm_df['RM_Score'] == 'CA')|(rm_df['RM_Score'] == 'CB'),'이탈방지', #Monetary는 높으나 Recency가 낮아서 복귀유도를 해야함\n",
    "                                   '휴면')))) # Recency와 Monetary 모두 낮아 휴면상태인 고객들  Recency와 Monetary모두 높여야함\n",
    "rm_df"
   ]
  },
  {
   "cell_type": "code",
   "execution_count": 114,
   "metadata": {},
   "outputs": [
    {
     "name": "stderr",
     "output_type": "stream",
     "text": [
      "c:\\Users\\kd010\\miniconda3\\envs\\rapids\\Lib\\site-packages\\plotly\\express\\_core.py:1979: FutureWarning:\n",
      "\n",
      "When grouping with a length-1 list-like, you will need to pass a length-1 tuple to get_group in a future version of pandas. Pass `(name,)` instead of `name` to silence this warning.\n",
      "\n"
     ]
    },
    {
     "data": {
      "application/vnd.plotly.v1+json": {
       "config": {
        "plotlyServerURL": "https://plot.ly"
       },
       "data": [
        {
         "hovertemplate": "고객수=%{y}<br>고객등급=%{x}<extra></extra>",
         "legendgroup": "654",
         "marker": {
          "color": "#636efa"
         },
         "name": "654",
         "orientation": "v",
         "showlegend": true,
         "type": "funnel",
         "x": [
          "구매유도"
         ],
         "xaxis": "x",
         "y": [
          654
         ],
         "yaxis": "y"
        },
        {
         "hovertemplate": "고객수=%{y}<br>고객등급=%{x}<extra></extra>",
         "legendgroup": "1436",
         "marker": {
          "color": "#EF553B"
         },
         "name": "1436",
         "orientation": "v",
         "showlegend": true,
         "type": "funnel",
         "x": [
          "우수고객"
         ],
         "xaxis": "x",
         "y": [
          1436
         ],
         "yaxis": "y"
        },
        {
         "hovertemplate": "고객수=%{y}<br>고객등급=%{x}<extra></extra>",
         "legendgroup": "656",
         "marker": {
          "color": "#00cc96"
         },
         "name": "656",
         "orientation": "v",
         "showlegend": true,
         "type": "funnel",
         "x": [
          "이탈방지"
         ],
         "xaxis": "x",
         "y": [
          656
         ],
         "yaxis": "y"
        },
        {
         "hovertemplate": "고객수=%{y}<br>고객등급=%{x}<extra></extra>",
         "legendgroup": "800",
         "marker": {
          "color": "#ab63fa"
         },
         "name": "800",
         "orientation": "v",
         "showlegend": true,
         "type": "funnel",
         "x": [
          "최우수고객"
         ],
         "xaxis": "x",
         "y": [
          800
         ],
         "yaxis": "y"
        },
        {
         "hovertemplate": "고객수=%{y}<br>고객등급=%{x}<extra></extra>",
         "legendgroup": "793",
         "marker": {
          "color": "#FFA15A"
         },
         "name": "793",
         "orientation": "v",
         "showlegend": true,
         "type": "funnel",
         "x": [
          "휴면"
         ],
         "xaxis": "x",
         "y": [
          793
         ],
         "yaxis": "y"
        }
       ],
       "layout": {
        "legend": {
         "title": {
          "text": "고객수"
         },
         "tracegroupgap": 0
        },
        "template": {
         "data": {
          "bar": [
           {
            "error_x": {
             "color": "#2a3f5f"
            },
            "error_y": {
             "color": "#2a3f5f"
            },
            "marker": {
             "line": {
              "color": "#E5ECF6",
              "width": 0.5
             },
             "pattern": {
              "fillmode": "overlay",
              "size": 10,
              "solidity": 0.2
             }
            },
            "type": "bar"
           }
          ],
          "barpolar": [
           {
            "marker": {
             "line": {
              "color": "#E5ECF6",
              "width": 0.5
             },
             "pattern": {
              "fillmode": "overlay",
              "size": 10,
              "solidity": 0.2
             }
            },
            "type": "barpolar"
           }
          ],
          "carpet": [
           {
            "aaxis": {
             "endlinecolor": "#2a3f5f",
             "gridcolor": "white",
             "linecolor": "white",
             "minorgridcolor": "white",
             "startlinecolor": "#2a3f5f"
            },
            "baxis": {
             "endlinecolor": "#2a3f5f",
             "gridcolor": "white",
             "linecolor": "white",
             "minorgridcolor": "white",
             "startlinecolor": "#2a3f5f"
            },
            "type": "carpet"
           }
          ],
          "choropleth": [
           {
            "colorbar": {
             "outlinewidth": 0,
             "ticks": ""
            },
            "type": "choropleth"
           }
          ],
          "contour": [
           {
            "colorbar": {
             "outlinewidth": 0,
             "ticks": ""
            },
            "colorscale": [
             [
              0,
              "#0d0887"
             ],
             [
              0.1111111111111111,
              "#46039f"
             ],
             [
              0.2222222222222222,
              "#7201a8"
             ],
             [
              0.3333333333333333,
              "#9c179e"
             ],
             [
              0.4444444444444444,
              "#bd3786"
             ],
             [
              0.5555555555555556,
              "#d8576b"
             ],
             [
              0.6666666666666666,
              "#ed7953"
             ],
             [
              0.7777777777777778,
              "#fb9f3a"
             ],
             [
              0.8888888888888888,
              "#fdca26"
             ],
             [
              1,
              "#f0f921"
             ]
            ],
            "type": "contour"
           }
          ],
          "contourcarpet": [
           {
            "colorbar": {
             "outlinewidth": 0,
             "ticks": ""
            },
            "type": "contourcarpet"
           }
          ],
          "heatmap": [
           {
            "colorbar": {
             "outlinewidth": 0,
             "ticks": ""
            },
            "colorscale": [
             [
              0,
              "#0d0887"
             ],
             [
              0.1111111111111111,
              "#46039f"
             ],
             [
              0.2222222222222222,
              "#7201a8"
             ],
             [
              0.3333333333333333,
              "#9c179e"
             ],
             [
              0.4444444444444444,
              "#bd3786"
             ],
             [
              0.5555555555555556,
              "#d8576b"
             ],
             [
              0.6666666666666666,
              "#ed7953"
             ],
             [
              0.7777777777777778,
              "#fb9f3a"
             ],
             [
              0.8888888888888888,
              "#fdca26"
             ],
             [
              1,
              "#f0f921"
             ]
            ],
            "type": "heatmap"
           }
          ],
          "heatmapgl": [
           {
            "colorbar": {
             "outlinewidth": 0,
             "ticks": ""
            },
            "colorscale": [
             [
              0,
              "#0d0887"
             ],
             [
              0.1111111111111111,
              "#46039f"
             ],
             [
              0.2222222222222222,
              "#7201a8"
             ],
             [
              0.3333333333333333,
              "#9c179e"
             ],
             [
              0.4444444444444444,
              "#bd3786"
             ],
             [
              0.5555555555555556,
              "#d8576b"
             ],
             [
              0.6666666666666666,
              "#ed7953"
             ],
             [
              0.7777777777777778,
              "#fb9f3a"
             ],
             [
              0.8888888888888888,
              "#fdca26"
             ],
             [
              1,
              "#f0f921"
             ]
            ],
            "type": "heatmapgl"
           }
          ],
          "histogram": [
           {
            "marker": {
             "pattern": {
              "fillmode": "overlay",
              "size": 10,
              "solidity": 0.2
             }
            },
            "type": "histogram"
           }
          ],
          "histogram2d": [
           {
            "colorbar": {
             "outlinewidth": 0,
             "ticks": ""
            },
            "colorscale": [
             [
              0,
              "#0d0887"
             ],
             [
              0.1111111111111111,
              "#46039f"
             ],
             [
              0.2222222222222222,
              "#7201a8"
             ],
             [
              0.3333333333333333,
              "#9c179e"
             ],
             [
              0.4444444444444444,
              "#bd3786"
             ],
             [
              0.5555555555555556,
              "#d8576b"
             ],
             [
              0.6666666666666666,
              "#ed7953"
             ],
             [
              0.7777777777777778,
              "#fb9f3a"
             ],
             [
              0.8888888888888888,
              "#fdca26"
             ],
             [
              1,
              "#f0f921"
             ]
            ],
            "type": "histogram2d"
           }
          ],
          "histogram2dcontour": [
           {
            "colorbar": {
             "outlinewidth": 0,
             "ticks": ""
            },
            "colorscale": [
             [
              0,
              "#0d0887"
             ],
             [
              0.1111111111111111,
              "#46039f"
             ],
             [
              0.2222222222222222,
              "#7201a8"
             ],
             [
              0.3333333333333333,
              "#9c179e"
             ],
             [
              0.4444444444444444,
              "#bd3786"
             ],
             [
              0.5555555555555556,
              "#d8576b"
             ],
             [
              0.6666666666666666,
              "#ed7953"
             ],
             [
              0.7777777777777778,
              "#fb9f3a"
             ],
             [
              0.8888888888888888,
              "#fdca26"
             ],
             [
              1,
              "#f0f921"
             ]
            ],
            "type": "histogram2dcontour"
           }
          ],
          "mesh3d": [
           {
            "colorbar": {
             "outlinewidth": 0,
             "ticks": ""
            },
            "type": "mesh3d"
           }
          ],
          "parcoords": [
           {
            "line": {
             "colorbar": {
              "outlinewidth": 0,
              "ticks": ""
             }
            },
            "type": "parcoords"
           }
          ],
          "pie": [
           {
            "automargin": true,
            "type": "pie"
           }
          ],
          "scatter": [
           {
            "fillpattern": {
             "fillmode": "overlay",
             "size": 10,
             "solidity": 0.2
            },
            "type": "scatter"
           }
          ],
          "scatter3d": [
           {
            "line": {
             "colorbar": {
              "outlinewidth": 0,
              "ticks": ""
             }
            },
            "marker": {
             "colorbar": {
              "outlinewidth": 0,
              "ticks": ""
             }
            },
            "type": "scatter3d"
           }
          ],
          "scattercarpet": [
           {
            "marker": {
             "colorbar": {
              "outlinewidth": 0,
              "ticks": ""
             }
            },
            "type": "scattercarpet"
           }
          ],
          "scattergeo": [
           {
            "marker": {
             "colorbar": {
              "outlinewidth": 0,
              "ticks": ""
             }
            },
            "type": "scattergeo"
           }
          ],
          "scattergl": [
           {
            "marker": {
             "colorbar": {
              "outlinewidth": 0,
              "ticks": ""
             }
            },
            "type": "scattergl"
           }
          ],
          "scattermapbox": [
           {
            "marker": {
             "colorbar": {
              "outlinewidth": 0,
              "ticks": ""
             }
            },
            "type": "scattermapbox"
           }
          ],
          "scatterpolar": [
           {
            "marker": {
             "colorbar": {
              "outlinewidth": 0,
              "ticks": ""
             }
            },
            "type": "scatterpolar"
           }
          ],
          "scatterpolargl": [
           {
            "marker": {
             "colorbar": {
              "outlinewidth": 0,
              "ticks": ""
             }
            },
            "type": "scatterpolargl"
           }
          ],
          "scatterternary": [
           {
            "marker": {
             "colorbar": {
              "outlinewidth": 0,
              "ticks": ""
             }
            },
            "type": "scatterternary"
           }
          ],
          "surface": [
           {
            "colorbar": {
             "outlinewidth": 0,
             "ticks": ""
            },
            "colorscale": [
             [
              0,
              "#0d0887"
             ],
             [
              0.1111111111111111,
              "#46039f"
             ],
             [
              0.2222222222222222,
              "#7201a8"
             ],
             [
              0.3333333333333333,
              "#9c179e"
             ],
             [
              0.4444444444444444,
              "#bd3786"
             ],
             [
              0.5555555555555556,
              "#d8576b"
             ],
             [
              0.6666666666666666,
              "#ed7953"
             ],
             [
              0.7777777777777778,
              "#fb9f3a"
             ],
             [
              0.8888888888888888,
              "#fdca26"
             ],
             [
              1,
              "#f0f921"
             ]
            ],
            "type": "surface"
           }
          ],
          "table": [
           {
            "cells": {
             "fill": {
              "color": "#EBF0F8"
             },
             "line": {
              "color": "white"
             }
            },
            "header": {
             "fill": {
              "color": "#C8D4E3"
             },
             "line": {
              "color": "white"
             }
            },
            "type": "table"
           }
          ]
         },
         "layout": {
          "annotationdefaults": {
           "arrowcolor": "#2a3f5f",
           "arrowhead": 0,
           "arrowwidth": 1
          },
          "autotypenumbers": "strict",
          "coloraxis": {
           "colorbar": {
            "outlinewidth": 0,
            "ticks": ""
           }
          },
          "colorscale": {
           "diverging": [
            [
             0,
             "#8e0152"
            ],
            [
             0.1,
             "#c51b7d"
            ],
            [
             0.2,
             "#de77ae"
            ],
            [
             0.3,
             "#f1b6da"
            ],
            [
             0.4,
             "#fde0ef"
            ],
            [
             0.5,
             "#f7f7f7"
            ],
            [
             0.6,
             "#e6f5d0"
            ],
            [
             0.7,
             "#b8e186"
            ],
            [
             0.8,
             "#7fbc41"
            ],
            [
             0.9,
             "#4d9221"
            ],
            [
             1,
             "#276419"
            ]
           ],
           "sequential": [
            [
             0,
             "#0d0887"
            ],
            [
             0.1111111111111111,
             "#46039f"
            ],
            [
             0.2222222222222222,
             "#7201a8"
            ],
            [
             0.3333333333333333,
             "#9c179e"
            ],
            [
             0.4444444444444444,
             "#bd3786"
            ],
            [
             0.5555555555555556,
             "#d8576b"
            ],
            [
             0.6666666666666666,
             "#ed7953"
            ],
            [
             0.7777777777777778,
             "#fb9f3a"
            ],
            [
             0.8888888888888888,
             "#fdca26"
            ],
            [
             1,
             "#f0f921"
            ]
           ],
           "sequentialminus": [
            [
             0,
             "#0d0887"
            ],
            [
             0.1111111111111111,
             "#46039f"
            ],
            [
             0.2222222222222222,
             "#7201a8"
            ],
            [
             0.3333333333333333,
             "#9c179e"
            ],
            [
             0.4444444444444444,
             "#bd3786"
            ],
            [
             0.5555555555555556,
             "#d8576b"
            ],
            [
             0.6666666666666666,
             "#ed7953"
            ],
            [
             0.7777777777777778,
             "#fb9f3a"
            ],
            [
             0.8888888888888888,
             "#fdca26"
            ],
            [
             1,
             "#f0f921"
            ]
           ]
          },
          "colorway": [
           "#636efa",
           "#EF553B",
           "#00cc96",
           "#ab63fa",
           "#FFA15A",
           "#19d3f3",
           "#FF6692",
           "#B6E880",
           "#FF97FF",
           "#FECB52"
          ],
          "font": {
           "color": "#2a3f5f"
          },
          "geo": {
           "bgcolor": "white",
           "lakecolor": "white",
           "landcolor": "#E5ECF6",
           "showlakes": true,
           "showland": true,
           "subunitcolor": "white"
          },
          "hoverlabel": {
           "align": "left"
          },
          "hovermode": "closest",
          "mapbox": {
           "style": "light"
          },
          "paper_bgcolor": "white",
          "plot_bgcolor": "#E5ECF6",
          "polar": {
           "angularaxis": {
            "gridcolor": "white",
            "linecolor": "white",
            "ticks": ""
           },
           "bgcolor": "#E5ECF6",
           "radialaxis": {
            "gridcolor": "white",
            "linecolor": "white",
            "ticks": ""
           }
          },
          "scene": {
           "xaxis": {
            "backgroundcolor": "#E5ECF6",
            "gridcolor": "white",
            "gridwidth": 2,
            "linecolor": "white",
            "showbackground": true,
            "ticks": "",
            "zerolinecolor": "white"
           },
           "yaxis": {
            "backgroundcolor": "#E5ECF6",
            "gridcolor": "white",
            "gridwidth": 2,
            "linecolor": "white",
            "showbackground": true,
            "ticks": "",
            "zerolinecolor": "white"
           },
           "zaxis": {
            "backgroundcolor": "#E5ECF6",
            "gridcolor": "white",
            "gridwidth": 2,
            "linecolor": "white",
            "showbackground": true,
            "ticks": "",
            "zerolinecolor": "white"
           }
          },
          "shapedefaults": {
           "line": {
            "color": "#2a3f5f"
           }
          },
          "ternary": {
           "aaxis": {
            "gridcolor": "white",
            "linecolor": "white",
            "ticks": ""
           },
           "baxis": {
            "gridcolor": "white",
            "linecolor": "white",
            "ticks": ""
           },
           "bgcolor": "#E5ECF6",
           "caxis": {
            "gridcolor": "white",
            "linecolor": "white",
            "ticks": ""
           }
          },
          "title": {
           "x": 0.05
          },
          "xaxis": {
           "automargin": true,
           "gridcolor": "white",
           "linecolor": "white",
           "ticks": "",
           "title": {
            "standoff": 15
           },
           "zerolinecolor": "white",
           "zerolinewidth": 2
          },
          "yaxis": {
           "automargin": true,
           "gridcolor": "white",
           "linecolor": "white",
           "ticks": "",
           "title": {
            "standoff": 15
           },
           "zerolinecolor": "white",
           "zerolinewidth": 2
          }
         }
        },
        "title": {
         "text": "등급별 고객수"
        },
        "xaxis": {
         "anchor": "y",
         "domain": [
          0,
          1
         ],
         "title": {
          "text": "고객등급"
         }
        },
        "yaxis": {
         "anchor": "x",
         "categoryarray": [
          793,
          800,
          656,
          1436,
          654
         ],
         "categoryorder": "array",
         "domain": [
          0,
          1
         ],
         "title": {
          "text": "고객수"
         }
        }
       }
      }
     },
     "metadata": {},
     "output_type": "display_data"
    }
   ],
   "source": [
    "customer_grades = rm_df.groupby(by=['고객등급'],as_index=False)[['CustomerID']].nunique()\n",
    "fig = px.funnel(data_frame=customer_grades,x='고객등급',y='CustomerID',color='CustomerID',\n",
    "                labels={'CustomerID':'고객수'},title='등급별 고객수')\n",
    "fig.update_layout(xaxis_title='고객등급',yaxis_title='고객수')\n",
    "fig\n"
   ]
  },
  {
   "cell_type": "markdown",
   "metadata": {},
   "source": [
    "## RFM 분석 by 김동윤"
   ]
  },
  {
   "cell_type": "code",
   "execution_count": null,
   "metadata": {},
   "outputs": [],
   "source": []
  },
  {
   "cell_type": "code",
   "execution_count": null,
   "metadata": {},
   "outputs": [],
   "source": []
  },
  {
   "cell_type": "code",
   "execution_count": null,
   "metadata": {},
   "outputs": [],
   "source": []
  },
  {
   "cell_type": "code",
   "execution_count": null,
   "metadata": {},
   "outputs": [],
   "source": []
  },
  {
   "cell_type": "code",
   "execution_count": null,
   "metadata": {},
   "outputs": [],
   "source": []
  },
  {
   "cell_type": "code",
   "execution_count": null,
   "metadata": {},
   "outputs": [],
   "source": []
  },
  {
   "cell_type": "code",
   "execution_count": null,
   "metadata": {},
   "outputs": [],
   "source": []
  }
 ],
 "metadata": {
  "kernelspec": {
   "display_name": "dl_pj",
   "language": "python",
   "name": "python3"
  },
  "language_info": {
   "codemirror_mode": {
    "name": "ipython",
    "version": 3
   },
   "file_extension": ".py",
   "mimetype": "text/x-python",
   "name": "python",
   "nbconvert_exporter": "python",
   "pygments_lexer": "ipython3",
   "version": "3.11.8"
  }
 },
 "nbformat": 4,
 "nbformat_minor": 2
}
